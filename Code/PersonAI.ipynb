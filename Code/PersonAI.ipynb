{
  "cells": [
    {
      "cell_type": "code",
      "execution_count": 1,
      "metadata": {
        "colab": {
          "base_uri": "https://localhost:8080/"
        },
        "id": "5JDMD2uJol-J",
        "outputId": "acad58e9-2943-4ecb-9ad7-a9b37a47bd12"
      },
      "outputs": [
        {
          "output_type": "stream",
          "name": "stdout",
          "text": [
            "Downloading mbti-type, 25621004 bytes compressed\n",
            "[==================================================] 25621004 bytes downloaded\n",
            "Downloaded and uncompressed: mbti-type\n",
            "Downloading mbti-cleaned, 13977487 bytes compressed\n",
            "[==================================================] 13977487 bytes downloaded\n",
            "Downloaded and uncompressed: mbti-cleaned\n",
            "Downloading mbti-longerseq, 14653998 bytes compressed\n",
            "[==================================================] 14653998 bytes downloaded\n",
            "Downloaded and uncompressed: mbti-longerseq\n",
            "Data source import complete.\n"
          ]
        }
      ],
      "source": [
        "\n",
        "# IMPORTANT: RUN THIS CELL IN ORDER TO IMPORT YOUR KAGGLE DATA SOURCES\n",
        "# TO THE CORRECT LOCATION (/kaggle/input) IN YOUR NOTEBOOK,\n",
        "# THEN FEEL FREE TO DELETE THIS CELL.\n",
        "# NOTE: THIS NOTEBOOK ENVIRONMENT DIFFERS FROM KAGGLE'S PYTHON\n",
        "# ENVIRONMENT SO THERE MAY BE MISSING LIBRARIES USED BY YOUR\n",
        "# NOTEBOOK.\n",
        "\n",
        "import os\n",
        "import sys\n",
        "from tempfile import NamedTemporaryFile\n",
        "from urllib.request import urlopen\n",
        "from urllib.parse import unquote, urlparse\n",
        "from urllib.error import HTTPError\n",
        "from zipfile import ZipFile\n",
        "import tarfile\n",
        "import shutil\n",
        "\n",
        "CHUNK_SIZE = 40960\n",
        "DATA_SOURCE_MAPPING = 'mbti-type:https%3A%2F%2Fstorage.googleapis.com%2Fkaggle-data-sets%2F2637%2F4381%2Fbundle%2Farchive.zip%3FX-Goog-Algorithm%3DGOOG4-RSA-SHA256%26X-Goog-Credential%3Dgcp-kaggle-com%2540kaggle-161607.iam.gserviceaccount.com%252F20240504%252Fauto%252Fstorage%252Fgoog4_request%26X-Goog-Date%3D20240504T032507Z%26X-Goog-Expires%3D259200%26X-Goog-SignedHeaders%3Dhost%26X-Goog-Signature%3D37d9ed1b5e003ccbe84d50710678c5460ff2e8b2cc9693fb6bccfd78afea16e9496fa158a5f94532f8dbf89258ad9e08dbc6cce06974a4a740375f43813ef6d829c313f5f91c682c1a9369a78714d1dcd16f4bbb793d1d884ae500e1a518ed48e94cdc7b829b34d9518f69455b66a75091f82049c083ada47de449791bf0b7ad9761c84a3cf968b2fc0b7ec0135b90f3937c7bc30b851acb6d165fe45c317759a17844755ab70fa3f4f53dafc7f039f11e6f5132ad01cf3e5a07ddb5709c1bd4547b0171ce319c46d31e86f9cfbaba4ca4964876164455f465b456578ef363103bbce5a90fdca483f9aee81d6bf677256be3aa902bae7ca0677f8e4dbe94fa3b,mbti-cleaned:https%3A%2F%2Fstorage.googleapis.com%2Fkaggle-data-sets%2F4913541%2F8274858%2Fbundle%2Farchive.zip%3FX-Goog-Algorithm%3DGOOG4-RSA-SHA256%26X-Goog-Credential%3Dgcp-kaggle-com%2540kaggle-161607.iam.gserviceaccount.com%252F20240504%252Fauto%252Fstorage%252Fgoog4_request%26X-Goog-Date%3D20240504T032508Z%26X-Goog-Expires%3D259200%26X-Goog-SignedHeaders%3Dhost%26X-Goog-Signature%3D6892b2a8d87b1c9afe6b84bcc8a70fa15013d7d710aafc98d71e3b3e024d70b87bda245440d6d71e6dcb7021f2c8a08b6cbd7bf57cb81a9ee0e3e41ce08e616efa465c760732f519110dbbc23b032dd75fcc537fe0d23ed01b0d32ea9e47d9c0bef4006a9de8e6f0d6ef78148a4375884aedc1ceee1059254ea18313608ff2e23e0eba2b8d1cf735fcb261bd8cf7b4af28b4eb7e63f6099e0f1758829cf81258862688a351437b89646b5fa4fa064c4b84d9a055c8111ad0fc1043e01dfdc95b9f61de96e9fc0fd734ff7bc17e15585868fb02ee9e42a6872130e52639c1677bf9ccca089d565062bf0680aa5e5798524fde7a58e585d50600c474712e82c8eb,mbti-longerseq:https%3A%2F%2Fstorage.googleapis.com%2Fkaggle-data-sets%2F4934535%2F8307557%2Fbundle%2Farchive.zip%3FX-Goog-Algorithm%3DGOOG4-RSA-SHA256%26X-Goog-Credential%3Dgcp-kaggle-com%2540kaggle-161607.iam.gserviceaccount.com%252F20240504%252Fauto%252Fstorage%252Fgoog4_request%26X-Goog-Date%3D20240504T032508Z%26X-Goog-Expires%3D259200%26X-Goog-SignedHeaders%3Dhost%26X-Goog-Signature%3D607a8843ba72b678916478f17520356a2a3433ef266eada7f36bbfbac84b590b91c2429b270226dac795f032ecb65a9a115f10811c7f1113ce69e0976065751d82ba1ad7f20bb82d95fbe9ce6412788416ec3566e314a431b84ee8097b59bb26be6e450dd96e2da2f504a63531e2cfebdeb6700cdec9a8588792938e2369c9f8401254ee378d0b9d6f543e70bac886dc79b09e4c52752f07212d71c6dd0da6a7b4602290cb26f9fc8ce6403810ee1f46b62e2dc3048d0ee15715d119053843b5a0f28c9e33ec454f562e1c0ee65f9604e3a42ce25e63616e1e14879e6f17c6baa17adcfa054ff51534c10a4cdb039e31e0fa89f8729db6a29cf82ba0f28387da'\n",
        "\n",
        "KAGGLE_INPUT_PATH='/kaggle/input'\n",
        "KAGGLE_WORKING_PATH='/kaggle/working'\n",
        "KAGGLE_SYMLINK='kaggle'\n",
        "\n",
        "!umount /kaggle/input/ 2> /dev/null\n",
        "shutil.rmtree('/kaggle/input', ignore_errors=True)\n",
        "os.makedirs(KAGGLE_INPUT_PATH, 0o777, exist_ok=True)\n",
        "os.makedirs(KAGGLE_WORKING_PATH, 0o777, exist_ok=True)\n",
        "\n",
        "try:\n",
        "  os.symlink(KAGGLE_INPUT_PATH, os.path.join(\"..\", 'input'), target_is_directory=True)\n",
        "except FileExistsError:\n",
        "  pass\n",
        "try:\n",
        "  os.symlink(KAGGLE_WORKING_PATH, os.path.join(\"..\", 'working'), target_is_directory=True)\n",
        "except FileExistsError:\n",
        "  pass\n",
        "\n",
        "for data_source_mapping in DATA_SOURCE_MAPPING.split(','):\n",
        "    directory, download_url_encoded = data_source_mapping.split(':')\n",
        "    download_url = unquote(download_url_encoded)\n",
        "    filename = urlparse(download_url).path\n",
        "    destination_path = os.path.join(KAGGLE_INPUT_PATH, directory)\n",
        "    try:\n",
        "        with urlopen(download_url) as fileres, NamedTemporaryFile() as tfile:\n",
        "            total_length = fileres.headers['content-length']\n",
        "            print(f'Downloading {directory}, {total_length} bytes compressed')\n",
        "            dl = 0\n",
        "            data = fileres.read(CHUNK_SIZE)\n",
        "            while len(data) > 0:\n",
        "                dl += len(data)\n",
        "                tfile.write(data)\n",
        "                done = int(50 * dl / int(total_length))\n",
        "                sys.stdout.write(f\"\\r[{'=' * done}{' ' * (50-done)}] {dl} bytes downloaded\")\n",
        "                sys.stdout.flush()\n",
        "                data = fileres.read(CHUNK_SIZE)\n",
        "            if filename.endswith('.zip'):\n",
        "              with ZipFile(tfile) as zfile:\n",
        "                zfile.extractall(destination_path)\n",
        "            else:\n",
        "              with tarfile.open(tfile.name) as tarfile:\n",
        "                tarfile.extractall(destination_path)\n",
        "            print(f'\\nDownloaded and uncompressed: {directory}')\n",
        "    except HTTPError as e:\n",
        "        print(f'Failed to load (likely expired) {download_url} to path {destination_path}')\n",
        "        continue\n",
        "    except OSError as e:\n",
        "        print(f'Failed to load {download_url} to path {destination_path}')\n",
        "        continue\n",
        "\n",
        "print('Data source import complete.')\n"
      ]
    },
    {
      "cell_type": "code",
      "execution_count": 31,
      "metadata": {
        "colab": {
          "base_uri": "https://localhost:8080/"
        },
        "id": "3ktcwr1fol-S",
        "outputId": "3b6ba8a4-b387-40f0-e0d1-d9f6963dafb8"
      },
      "outputs": [
        {
          "output_type": "stream",
          "name": "stdout",
          "text": [
            "Requirement already satisfied: emoji in /usr/local/lib/python3.10/dist-packages (2.11.1)\n"
          ]
        }
      ],
      "source": [
        "!pip install emoji"
      ]
    },
    {
      "cell_type": "markdown",
      "metadata": {
        "id": "DheS1XULlLoX"
      },
      "source": [
        "### Importing Libraries"
      ]
    },
    {
      "cell_type": "code",
      "execution_count": 2,
      "metadata": {
        "id": "3Fq1y1W1AISM"
      },
      "outputs": [],
      "source": [
        "import random\n",
        "import numpy as np\n",
        "import pandas as pd\n",
        "from emoji import demojize\n",
        "\n",
        "import matplotlib.pyplot as plt\n",
        "import plotly.graph_objects as go\n",
        "import plotly.express as px\n",
        "\n",
        "import re\n",
        "import json\n",
        "\n",
        "import nltk\n",
        "from nltk.corpus import stopwords\n",
        "\n",
        "from sklearn.model_selection import train_test_split\n",
        "from sklearn.metrics import roc_curve, auc\n",
        "\n",
        "import tensorflow as tf\n",
        "import keras\n",
        "from tensorflow.keras.preprocessing.text import Tokenizer, tokenizer_from_json\n",
        "from tensorflow.keras.preprocessing.sequence import pad_sequences\n",
        "from tensorflow.keras.layers import Dropout, Bidirectional, GRU\n",
        "from tensorflow.keras.optimizers import Adam\n"
      ]
    },
    {
      "cell_type": "code",
      "source": [
        "tf.random.set_seed(999)"
      ],
      "metadata": {
        "id": "xW6bVDvcdR70"
      },
      "execution_count": 3,
      "outputs": []
    },
    {
      "cell_type": "code",
      "execution_count": 4,
      "metadata": {
        "colab": {
          "base_uri": "https://localhost:8080/"
        },
        "id": "liqiPLB-lLoY",
        "outputId": "035a8bcd-849e-4746-9a65-a01e9c6947df"
      },
      "outputs": [
        {
          "output_type": "stream",
          "name": "stderr",
          "text": [
            "[nltk_data] Downloading package stopwords to /root/nltk_data...\n",
            "[nltk_data]   Package stopwords is already up-to-date!\n",
            "[nltk_data] Downloading package punkt to /root/nltk_data...\n",
            "[nltk_data]   Package punkt is already up-to-date!\n"
          ]
        },
        {
          "output_type": "execute_result",
          "data": {
            "text/plain": [
              "True"
            ]
          },
          "metadata": {},
          "execution_count": 4
        }
      ],
      "source": [
        "nltk.download(\"stopwords\")\n",
        "nltk.download(\"punkt\")"
      ]
    },
    {
      "cell_type": "code",
      "execution_count": 5,
      "metadata": {
        "colab": {
          "base_uri": "https://localhost:8080/"
        },
        "id": "bvmD2VOfpBKy",
        "outputId": "c935c285-bac9-4a0a-9083-6eb2bf161645"
      },
      "outputs": [
        {
          "output_type": "stream",
          "name": "stdout",
          "text": [
            "Drive already mounted at /content/drive; to attempt to forcibly remount, call drive.mount(\"/content/drive\", force_remount=True).\n"
          ]
        }
      ],
      "source": [
        "from google.colab import drive\n",
        "drive.mount('/content/drive')"
      ]
    },
    {
      "cell_type": "markdown",
      "metadata": {
        "id": "Y1wCD_whlLoY"
      },
      "source": [
        "### Helper Functions"
      ]
    },
    {
      "cell_type": "code",
      "execution_count": 6,
      "metadata": {
        "id": "EmJr0SgFlatv"
      },
      "outputs": [],
      "source": [
        "def clean_tweet(tweet):\n",
        "    \"\"\"\n",
        "    Cleans a tweet by performing the following steps:\n",
        "    1. Converts the tweet to lowercase.\n",
        "    2. Converts any emojis in the tweet to their corresponding text representation.\n",
        "    3. Replaces any URLs in the tweet with the word \"url\".\n",
        "    4. Replaces any mentions (words starting with '@') in the tweet with the word \"mention\".\n",
        "    5. Removes any non-alphanumeric characters from the tweet.\n",
        "\n",
        "    Args:\n",
        "        tweet (str): The tweet to be cleaned.\n",
        "\n",
        "    Returns:\n",
        "        str: The cleaned tweet.\n",
        "    \"\"\"\n",
        "    tweet = tweet.lower()\n",
        "    tweet = demojize(tweet)\n",
        "    tweet = re.sub('https?://[^\\s<>\"]+|www\\.[^\\s<>\"]+',\"url\",tweet)\n",
        "    tweet = re.sub(r\"@\\w+\", \"mention\",tweet)\n",
        "    tweet = re.sub(r'[^a-z0-9]',\" \",tweet)\n",
        "    return tweet.strip()"
      ]
    },
    {
      "cell_type": "code",
      "execution_count": 7,
      "metadata": {
        "id": "HZMmtsgVol-Y"
      },
      "outputs": [],
      "source": [
        "def distribute_plot(df, feat_0, feat_1, letter):\n",
        "    \"\"\"\n",
        "    Generate a pie chart to visualize the distribution of a binary feature in a DataFrame.\n",
        "\n",
        "    Parameters:\n",
        "    - df (pandas.DataFrame): The DataFrame containing the data.\n",
        "    - feat_0 (str): The name of the feature representing the value 0.\n",
        "    - feat_1 (str): The name of the feature representing the value 1.\n",
        "    - letter (str): The letter to check for in the 'type' column of the DataFrame.\n",
        "\n",
        "    Returns:\n",
        "    None\n",
        "    \"\"\"\n",
        "    df[feat_1] = df['type'].apply(lambda x: int(letter in x))\n",
        "    counts = df[feat_1].value_counts()\n",
        "    fig = go.Figure(data=go.Pie(labels=[feat_1,feat_0], values=counts))\n",
        "    fig.update_layout(title_text=f'{feat_0} (0) – {feat_1} (1)')\n",
        "    fig.show()"
      ]
    },
    {
      "cell_type": "code",
      "execution_count": 8,
      "metadata": {
        "id": "AfppB4NPol-a"
      },
      "outputs": [],
      "source": [
        "def tokenize_pad_inputs(df, vl=10000):\n",
        "    \"\"\"\n",
        "    Tokenizes and pads the input texts in the given DataFrame.\n",
        "\n",
        "    Args:\n",
        "        df (pandas.DataFrame): The DataFrame containing the input texts.\n",
        "        vl (int, optional): The maximum number of words to keep based on word frequency. Defaults to 10000.\n",
        "\n",
        "    Returns:\n",
        "        tuple: A tuple containing the tokenized and padded texts, the maximum sequence length, and the vocabulary size.\n",
        "    \"\"\"\n",
        "\n",
        "    texts = df[\"tweet\"].copy()\n",
        "\n",
        "    stop_words = stopwords.words(\"english\")\n",
        "    texts = [text.split() for text in texts]\n",
        "    texts = [[word for word in text if word not in stop_words] for text in texts]\n",
        "\n",
        "    tokenizer = Tokenizer(num_words=vl)\n",
        "    tokenizer.fit_on_texts(texts)\n",
        "\n",
        "    texts = tokenizer.texts_to_sequences(texts)\n",
        "    max_seq_length = np.max([len(text) for text in texts])\n",
        "    texts = pad_sequences(texts, maxlen=max_seq_length, padding=\"post\")\n",
        "\n",
        "    tokenizer_json = tokenizer.to_json()\n",
        "    with open(\"./tokenizer.json\", \"w\", encoding=\"utf-8\") as f:\n",
        "        f.write(json.dumps(tokenizer_json, ensure_ascii=False))\n",
        "\n",
        "    return texts, max_seq_length, vl\n"
      ]
    },
    {
      "cell_type": "code",
      "execution_count": 9,
      "metadata": {
        "id": "w3s9sVNwwSgK"
      },
      "outputs": [],
      "source": [
        "def plot_history(history):\n",
        "    \"\"\"\n",
        "    Plots the training and validation accuracy as well as the training and validation loss values.\n",
        "\n",
        "    Args:\n",
        "        history (keras.callbacks.History): The history object returned by the `fit` method of a Keras model.\n",
        "\n",
        "    Returns:\n",
        "        None\n",
        "    \"\"\"\n",
        "\n",
        "    # Plot training & validation accuracy values\n",
        "    plt.figure(figsize=(12, 4))\n",
        "    plt.subplot(1, 2, 1)\n",
        "    plt.plot(history.history['accuracy'])\n",
        "    plt.plot(history.history['val_accuracy'])\n",
        "    plt.title('Model accuracy')\n",
        "    plt.ylabel('Accuracy')\n",
        "    plt.xlabel('Epoch')\n",
        "    plt.legend(['Train', 'Test'], loc='upper left')\n",
        "\n",
        "    # Plot training & validation loss values\n",
        "    plt.subplot(1, 2, 2)\n",
        "    plt.plot(history.history['loss'])\n",
        "    plt.plot(history.history['val_loss'])\n",
        "    plt.title('Model loss')\n",
        "    plt.ylabel('Loss')\n",
        "    plt.xlabel('Epoch')\n",
        "    plt.legend(['Train', 'Test'], loc='upper left')\n",
        "\n",
        "    plt.tight_layout()\n",
        "    plt.show()"
      ]
    },
    {
      "cell_type": "code",
      "execution_count": 10,
      "metadata": {
        "id": "LEeneD0IoYVH"
      },
      "outputs": [],
      "source": [
        "def plot_auc(model, name, texts_test, labels_test):\n",
        "    \"\"\"\n",
        "    Plots the Receiver Operating Characteristic (ROC) curve for a given model.\n",
        "\n",
        "    Parameters:\n",
        "    - model: The trained model used for prediction.\n",
        "    - name: The name of the model.\n",
        "    - texts_test: The test data used for prediction.\n",
        "    - labels_test: The true labels corresponding to the test data.\n",
        "\n",
        "    Returns:\n",
        "    None\n",
        "    \"\"\"\n",
        "    # Get model's prediction probabilities\n",
        "    y_pred = model.predict(texts_test).ravel()\n",
        "\n",
        "    # Compute ROC curve and AUC\n",
        "    fpr, tpr, thresholds = roc_curve(labels_test, y_pred)\n",
        "    auc_value = auc(fpr, tpr)\n",
        "\n",
        "    # Plot ROC curve\n",
        "    plt.figure(1)\n",
        "    plt.plot([0, 1], [0, 1], 'k--')\n",
        "    plt.plot(fpr, tpr, label='{} (AUC = {:.3f})'.format(name, auc_value))\n",
        "    plt.xlabel('False positive rate')\n",
        "    plt.ylabel('True positive rate')\n",
        "    plt.title('ROC curve')\n",
        "    plt.legend(loc='best')\n",
        "    plt.show()\n"
      ]
    },
    {
      "cell_type": "markdown",
      "metadata": {
        "id": "_PT5ZQwGlLoZ"
      },
      "source": [
        "### Data Sample"
      ]
    },
    {
      "cell_type": "code",
      "execution_count": 11,
      "metadata": {
        "id": "V0PlJYD-AISO"
      },
      "outputs": [],
      "source": [
        "df = pd.read_csv(\"/kaggle/input/mbti-type/mbti_1.csv\")"
      ]
    },
    {
      "cell_type": "code",
      "execution_count": 12,
      "metadata": {
        "colab": {
          "base_uri": "https://localhost:8080/"
        },
        "id": "HnVW7Botp-Cs",
        "outputId": "3c25781b-d00a-4aaa-ed27-31dc3c887a11"
      },
      "outputs": [
        {
          "output_type": "stream",
          "name": "stdout",
          "text": [
            "/content\n"
          ]
        }
      ],
      "source": [
        "!pwd"
      ]
    },
    {
      "cell_type": "code",
      "execution_count": 13,
      "metadata": {
        "colab": {
          "base_uri": "https://localhost:8080/"
        },
        "id": "leCGL3D4p76_",
        "outputId": "17b2a352-59b3-47a7-c859-d97c89d66eaf"
      },
      "outputs": [
        {
          "output_type": "stream",
          "name": "stdout",
          "text": [
            "/content/drive/MyDrive/PersonAI\n"
          ]
        }
      ],
      "source": [
        "%cd drive/MyDrive/PersonAI"
      ]
    },
    {
      "cell_type": "code",
      "execution_count": 14,
      "metadata": {
        "colab": {
          "base_uri": "https://localhost:8080/",
          "height": 423
        },
        "id": "Rk61qMwBAISO",
        "outputId": "a9c03a4a-77bc-4604-ec80-eadfcb6e6e2e"
      },
      "outputs": [
        {
          "output_type": "execute_result",
          "data": {
            "text/plain": [
              "      type                                              posts\n",
              "0     INFJ  'http://www.youtube.com/watch?v=qsXHcwe3krw|||...\n",
              "1     ENTP  'I'm finding the lack of me in these posts ver...\n",
              "2     INTP  'Good one  _____   https://www.youtube.com/wat...\n",
              "3     INTJ  'Dear INTP,   I enjoyed our conversation the o...\n",
              "4     ENTJ  'You're fired.|||That's another silly misconce...\n",
              "...    ...                                                ...\n",
              "8670  ISFP  'https://www.youtube.com/watch?v=t8edHB_h908||...\n",
              "8671  ENFP  'So...if this thread already exists someplace ...\n",
              "8672  INTP  'So many questions when i do these things.  I ...\n",
              "8673  INFP  'I am very conflicted right now when it comes ...\n",
              "8674  INFP  'It has been too long since I have been on per...\n",
              "\n",
              "[8675 rows x 2 columns]"
            ],
            "text/html": [
              "\n",
              "  <div id=\"df-d5af27d0-83aa-4b0d-9dae-1b85df103e87\" class=\"colab-df-container\">\n",
              "    <div>\n",
              "<style scoped>\n",
              "    .dataframe tbody tr th:only-of-type {\n",
              "        vertical-align: middle;\n",
              "    }\n",
              "\n",
              "    .dataframe tbody tr th {\n",
              "        vertical-align: top;\n",
              "    }\n",
              "\n",
              "    .dataframe thead th {\n",
              "        text-align: right;\n",
              "    }\n",
              "</style>\n",
              "<table border=\"1\" class=\"dataframe\">\n",
              "  <thead>\n",
              "    <tr style=\"text-align: right;\">\n",
              "      <th></th>\n",
              "      <th>type</th>\n",
              "      <th>posts</th>\n",
              "    </tr>\n",
              "  </thead>\n",
              "  <tbody>\n",
              "    <tr>\n",
              "      <th>0</th>\n",
              "      <td>INFJ</td>\n",
              "      <td>'http://www.youtube.com/watch?v=qsXHcwe3krw|||...</td>\n",
              "    </tr>\n",
              "    <tr>\n",
              "      <th>1</th>\n",
              "      <td>ENTP</td>\n",
              "      <td>'I'm finding the lack of me in these posts ver...</td>\n",
              "    </tr>\n",
              "    <tr>\n",
              "      <th>2</th>\n",
              "      <td>INTP</td>\n",
              "      <td>'Good one  _____   https://www.youtube.com/wat...</td>\n",
              "    </tr>\n",
              "    <tr>\n",
              "      <th>3</th>\n",
              "      <td>INTJ</td>\n",
              "      <td>'Dear INTP,   I enjoyed our conversation the o...</td>\n",
              "    </tr>\n",
              "    <tr>\n",
              "      <th>4</th>\n",
              "      <td>ENTJ</td>\n",
              "      <td>'You're fired.|||That's another silly misconce...</td>\n",
              "    </tr>\n",
              "    <tr>\n",
              "      <th>...</th>\n",
              "      <td>...</td>\n",
              "      <td>...</td>\n",
              "    </tr>\n",
              "    <tr>\n",
              "      <th>8670</th>\n",
              "      <td>ISFP</td>\n",
              "      <td>'https://www.youtube.com/watch?v=t8edHB_h908||...</td>\n",
              "    </tr>\n",
              "    <tr>\n",
              "      <th>8671</th>\n",
              "      <td>ENFP</td>\n",
              "      <td>'So...if this thread already exists someplace ...</td>\n",
              "    </tr>\n",
              "    <tr>\n",
              "      <th>8672</th>\n",
              "      <td>INTP</td>\n",
              "      <td>'So many questions when i do these things.  I ...</td>\n",
              "    </tr>\n",
              "    <tr>\n",
              "      <th>8673</th>\n",
              "      <td>INFP</td>\n",
              "      <td>'I am very conflicted right now when it comes ...</td>\n",
              "    </tr>\n",
              "    <tr>\n",
              "      <th>8674</th>\n",
              "      <td>INFP</td>\n",
              "      <td>'It has been too long since I have been on per...</td>\n",
              "    </tr>\n",
              "  </tbody>\n",
              "</table>\n",
              "<p>8675 rows × 2 columns</p>\n",
              "</div>\n",
              "    <div class=\"colab-df-buttons\">\n",
              "\n",
              "  <div class=\"colab-df-container\">\n",
              "    <button class=\"colab-df-convert\" onclick=\"convertToInteractive('df-d5af27d0-83aa-4b0d-9dae-1b85df103e87')\"\n",
              "            title=\"Convert this dataframe to an interactive table.\"\n",
              "            style=\"display:none;\">\n",
              "\n",
              "  <svg xmlns=\"http://www.w3.org/2000/svg\" height=\"24px\" viewBox=\"0 -960 960 960\">\n",
              "    <path d=\"M120-120v-720h720v720H120Zm60-500h600v-160H180v160Zm220 220h160v-160H400v160Zm0 220h160v-160H400v160ZM180-400h160v-160H180v160Zm440 0h160v-160H620v160ZM180-180h160v-160H180v160Zm440 0h160v-160H620v160Z\"/>\n",
              "  </svg>\n",
              "    </button>\n",
              "\n",
              "  <style>\n",
              "    .colab-df-container {\n",
              "      display:flex;\n",
              "      gap: 12px;\n",
              "    }\n",
              "\n",
              "    .colab-df-convert {\n",
              "      background-color: #E8F0FE;\n",
              "      border: none;\n",
              "      border-radius: 50%;\n",
              "      cursor: pointer;\n",
              "      display: none;\n",
              "      fill: #1967D2;\n",
              "      height: 32px;\n",
              "      padding: 0 0 0 0;\n",
              "      width: 32px;\n",
              "    }\n",
              "\n",
              "    .colab-df-convert:hover {\n",
              "      background-color: #E2EBFA;\n",
              "      box-shadow: 0px 1px 2px rgba(60, 64, 67, 0.3), 0px 1px 3px 1px rgba(60, 64, 67, 0.15);\n",
              "      fill: #174EA6;\n",
              "    }\n",
              "\n",
              "    .colab-df-buttons div {\n",
              "      margin-bottom: 4px;\n",
              "    }\n",
              "\n",
              "    [theme=dark] .colab-df-convert {\n",
              "      background-color: #3B4455;\n",
              "      fill: #D2E3FC;\n",
              "    }\n",
              "\n",
              "    [theme=dark] .colab-df-convert:hover {\n",
              "      background-color: #434B5C;\n",
              "      box-shadow: 0px 1px 3px 1px rgba(0, 0, 0, 0.15);\n",
              "      filter: drop-shadow(0px 1px 2px rgba(0, 0, 0, 0.3));\n",
              "      fill: #FFFFFF;\n",
              "    }\n",
              "  </style>\n",
              "\n",
              "    <script>\n",
              "      const buttonEl =\n",
              "        document.querySelector('#df-d5af27d0-83aa-4b0d-9dae-1b85df103e87 button.colab-df-convert');\n",
              "      buttonEl.style.display =\n",
              "        google.colab.kernel.accessAllowed ? 'block' : 'none';\n",
              "\n",
              "      async function convertToInteractive(key) {\n",
              "        const element = document.querySelector('#df-d5af27d0-83aa-4b0d-9dae-1b85df103e87');\n",
              "        const dataTable =\n",
              "          await google.colab.kernel.invokeFunction('convertToInteractive',\n",
              "                                                    [key], {});\n",
              "        if (!dataTable) return;\n",
              "\n",
              "        const docLinkHtml = 'Like what you see? Visit the ' +\n",
              "          '<a target=\"_blank\" href=https://colab.research.google.com/notebooks/data_table.ipynb>data table notebook</a>'\n",
              "          + ' to learn more about interactive tables.';\n",
              "        element.innerHTML = '';\n",
              "        dataTable['output_type'] = 'display_data';\n",
              "        await google.colab.output.renderOutput(dataTable, element);\n",
              "        const docLink = document.createElement('div');\n",
              "        docLink.innerHTML = docLinkHtml;\n",
              "        element.appendChild(docLink);\n",
              "      }\n",
              "    </script>\n",
              "  </div>\n",
              "\n",
              "\n",
              "<div id=\"df-853ab3f9-962a-4aa5-bef3-1029e6a6a472\">\n",
              "  <button class=\"colab-df-quickchart\" onclick=\"quickchart('df-853ab3f9-962a-4aa5-bef3-1029e6a6a472')\"\n",
              "            title=\"Suggest charts\"\n",
              "            style=\"display:none;\">\n",
              "\n",
              "<svg xmlns=\"http://www.w3.org/2000/svg\" height=\"24px\"viewBox=\"0 0 24 24\"\n",
              "     width=\"24px\">\n",
              "    <g>\n",
              "        <path d=\"M19 3H5c-1.1 0-2 .9-2 2v14c0 1.1.9 2 2 2h14c1.1 0 2-.9 2-2V5c0-1.1-.9-2-2-2zM9 17H7v-7h2v7zm4 0h-2V7h2v10zm4 0h-2v-4h2v4z\"/>\n",
              "    </g>\n",
              "</svg>\n",
              "  </button>\n",
              "\n",
              "<style>\n",
              "  .colab-df-quickchart {\n",
              "      --bg-color: #E8F0FE;\n",
              "      --fill-color: #1967D2;\n",
              "      --hover-bg-color: #E2EBFA;\n",
              "      --hover-fill-color: #174EA6;\n",
              "      --disabled-fill-color: #AAA;\n",
              "      --disabled-bg-color: #DDD;\n",
              "  }\n",
              "\n",
              "  [theme=dark] .colab-df-quickchart {\n",
              "      --bg-color: #3B4455;\n",
              "      --fill-color: #D2E3FC;\n",
              "      --hover-bg-color: #434B5C;\n",
              "      --hover-fill-color: #FFFFFF;\n",
              "      --disabled-bg-color: #3B4455;\n",
              "      --disabled-fill-color: #666;\n",
              "  }\n",
              "\n",
              "  .colab-df-quickchart {\n",
              "    background-color: var(--bg-color);\n",
              "    border: none;\n",
              "    border-radius: 50%;\n",
              "    cursor: pointer;\n",
              "    display: none;\n",
              "    fill: var(--fill-color);\n",
              "    height: 32px;\n",
              "    padding: 0;\n",
              "    width: 32px;\n",
              "  }\n",
              "\n",
              "  .colab-df-quickchart:hover {\n",
              "    background-color: var(--hover-bg-color);\n",
              "    box-shadow: 0 1px 2px rgba(60, 64, 67, 0.3), 0 1px 3px 1px rgba(60, 64, 67, 0.15);\n",
              "    fill: var(--button-hover-fill-color);\n",
              "  }\n",
              "\n",
              "  .colab-df-quickchart-complete:disabled,\n",
              "  .colab-df-quickchart-complete:disabled:hover {\n",
              "    background-color: var(--disabled-bg-color);\n",
              "    fill: var(--disabled-fill-color);\n",
              "    box-shadow: none;\n",
              "  }\n",
              "\n",
              "  .colab-df-spinner {\n",
              "    border: 2px solid var(--fill-color);\n",
              "    border-color: transparent;\n",
              "    border-bottom-color: var(--fill-color);\n",
              "    animation:\n",
              "      spin 1s steps(1) infinite;\n",
              "  }\n",
              "\n",
              "  @keyframes spin {\n",
              "    0% {\n",
              "      border-color: transparent;\n",
              "      border-bottom-color: var(--fill-color);\n",
              "      border-left-color: var(--fill-color);\n",
              "    }\n",
              "    20% {\n",
              "      border-color: transparent;\n",
              "      border-left-color: var(--fill-color);\n",
              "      border-top-color: var(--fill-color);\n",
              "    }\n",
              "    30% {\n",
              "      border-color: transparent;\n",
              "      border-left-color: var(--fill-color);\n",
              "      border-top-color: var(--fill-color);\n",
              "      border-right-color: var(--fill-color);\n",
              "    }\n",
              "    40% {\n",
              "      border-color: transparent;\n",
              "      border-right-color: var(--fill-color);\n",
              "      border-top-color: var(--fill-color);\n",
              "    }\n",
              "    60% {\n",
              "      border-color: transparent;\n",
              "      border-right-color: var(--fill-color);\n",
              "    }\n",
              "    80% {\n",
              "      border-color: transparent;\n",
              "      border-right-color: var(--fill-color);\n",
              "      border-bottom-color: var(--fill-color);\n",
              "    }\n",
              "    90% {\n",
              "      border-color: transparent;\n",
              "      border-bottom-color: var(--fill-color);\n",
              "    }\n",
              "  }\n",
              "</style>\n",
              "\n",
              "  <script>\n",
              "    async function quickchart(key) {\n",
              "      const quickchartButtonEl =\n",
              "        document.querySelector('#' + key + ' button');\n",
              "      quickchartButtonEl.disabled = true;  // To prevent multiple clicks.\n",
              "      quickchartButtonEl.classList.add('colab-df-spinner');\n",
              "      try {\n",
              "        const charts = await google.colab.kernel.invokeFunction(\n",
              "            'suggestCharts', [key], {});\n",
              "      } catch (error) {\n",
              "        console.error('Error during call to suggestCharts:', error);\n",
              "      }\n",
              "      quickchartButtonEl.classList.remove('colab-df-spinner');\n",
              "      quickchartButtonEl.classList.add('colab-df-quickchart-complete');\n",
              "    }\n",
              "    (() => {\n",
              "      let quickchartButtonEl =\n",
              "        document.querySelector('#df-853ab3f9-962a-4aa5-bef3-1029e6a6a472 button');\n",
              "      quickchartButtonEl.style.display =\n",
              "        google.colab.kernel.accessAllowed ? 'block' : 'none';\n",
              "    })();\n",
              "  </script>\n",
              "</div>\n",
              "\n",
              "  <div id=\"id_d60d4eba-7c44-4efa-8a09-2dbb08b42f70\">\n",
              "    <style>\n",
              "      .colab-df-generate {\n",
              "        background-color: #E8F0FE;\n",
              "        border: none;\n",
              "        border-radius: 50%;\n",
              "        cursor: pointer;\n",
              "        display: none;\n",
              "        fill: #1967D2;\n",
              "        height: 32px;\n",
              "        padding: 0 0 0 0;\n",
              "        width: 32px;\n",
              "      }\n",
              "\n",
              "      .colab-df-generate:hover {\n",
              "        background-color: #E2EBFA;\n",
              "        box-shadow: 0px 1px 2px rgba(60, 64, 67, 0.3), 0px 1px 3px 1px rgba(60, 64, 67, 0.15);\n",
              "        fill: #174EA6;\n",
              "      }\n",
              "\n",
              "      [theme=dark] .colab-df-generate {\n",
              "        background-color: #3B4455;\n",
              "        fill: #D2E3FC;\n",
              "      }\n",
              "\n",
              "      [theme=dark] .colab-df-generate:hover {\n",
              "        background-color: #434B5C;\n",
              "        box-shadow: 0px 1px 3px 1px rgba(0, 0, 0, 0.15);\n",
              "        filter: drop-shadow(0px 1px 2px rgba(0, 0, 0, 0.3));\n",
              "        fill: #FFFFFF;\n",
              "      }\n",
              "    </style>\n",
              "    <button class=\"colab-df-generate\" onclick=\"generateWithVariable('df')\"\n",
              "            title=\"Generate code using this dataframe.\"\n",
              "            style=\"display:none;\">\n",
              "\n",
              "  <svg xmlns=\"http://www.w3.org/2000/svg\" height=\"24px\"viewBox=\"0 0 24 24\"\n",
              "       width=\"24px\">\n",
              "    <path d=\"M7,19H8.4L18.45,9,17,7.55,7,17.6ZM5,21V16.75L18.45,3.32a2,2,0,0,1,2.83,0l1.4,1.43a1.91,1.91,0,0,1,.58,1.4,1.91,1.91,0,0,1-.58,1.4L9.25,21ZM18.45,9,17,7.55Zm-12,3A5.31,5.31,0,0,0,4.9,8.1,5.31,5.31,0,0,0,1,6.5,5.31,5.31,0,0,0,4.9,4.9,5.31,5.31,0,0,0,6.5,1,5.31,5.31,0,0,0,8.1,4.9,5.31,5.31,0,0,0,12,6.5,5.46,5.46,0,0,0,6.5,12Z\"/>\n",
              "  </svg>\n",
              "    </button>\n",
              "    <script>\n",
              "      (() => {\n",
              "      const buttonEl =\n",
              "        document.querySelector('#id_d60d4eba-7c44-4efa-8a09-2dbb08b42f70 button.colab-df-generate');\n",
              "      buttonEl.style.display =\n",
              "        google.colab.kernel.accessAllowed ? 'block' : 'none';\n",
              "\n",
              "      buttonEl.onclick = () => {\n",
              "        google.colab.notebook.generateWithVariable('df');\n",
              "      }\n",
              "      })();\n",
              "    </script>\n",
              "  </div>\n",
              "\n",
              "    </div>\n",
              "  </div>\n"
            ],
            "application/vnd.google.colaboratory.intrinsic+json": {
              "type": "dataframe",
              "variable_name": "df",
              "summary": "{\n  \"name\": \"df\",\n  \"rows\": 8675,\n  \"fields\": [\n    {\n      \"column\": \"type\",\n      \"properties\": {\n        \"dtype\": \"category\",\n        \"num_unique_values\": 16,\n        \"samples\": [\n          \"INFJ\",\n          \"ENTP\",\n          \"ENFJ\"\n        ],\n        \"semantic_type\": \"\",\n        \"description\": \"\"\n      }\n    },\n    {\n      \"column\": \"posts\",\n      \"properties\": {\n        \"dtype\": \"string\",\n        \"num_unique_values\": 8675,\n        \"samples\": [\n          \"'This. When I lie it's to avoid an unreasonable response for something I did that was completely justifiable to me but if I was to try to justify to someone else they'd be too hung up on what I did. I...|||Your IQ (SD15): 128|||I typically have very difficult times maintaining friends I've come to realize. I've had people I talk to for years and I still don't want to talk to them... I DID, but then I just got bored of them,...|||An INTJ friend of mine told me she really hates eating because it's so repetitive. As an INTP I don't really feel bothered, I don't really register eating I just do it while I'm thinking about...|||Similar Minds Advanced Test|||INTP 9 sx/so I have a lot of friends but I only have one I speak about how I actually feel with and only 1 other that I talk about what I am actually thinking about - with regards to...|||Getting close to someone and end up wanting to be infinitely close to them and end up merging every damn time.|||Interesting topic, I know two ENFP's, 1 is strange, as an INTP I view some of the stuff she does as 'coming onto me'?  - sort of. She gets really close and is very open to me, just what ENFP's do,...|||As far as I'm aware this is normal in all people, it's not so much your pessimistic self but just that humans are social creatures and you will feel better after socializing for that reason. Being...|||Vajrayaksa  How dare you use Lelouch as an INTP! He is an INTJ I say!|||I normally think about doing this stuff but don't actually do it.|||You'll probably find that commenting on their nihilistic thoughts logically would make them more open. Dismissing ideas will merely make them agree with that idea more as they'll feel a need to...|||Don't worry, calling me thinker is the same.|||INTJ - Winter - Coldest ENTJ - Summer - Actually doing things ENTP - Spring - Bringing out the fun in people INTP - Autumn - No one ever notices this season|||I've known a couple ENTP's, one ENTJ and an INTJ and it kind of went ENTP>ENTJ>ENTP>INTJ I love being able to constantly talk with ENTP's but also they need to know when to stop talking, if an ENTP...|||If you mean actually 1v1ing yourself I also have done this, maybe I'm wrong but I find it pretty easy to think about the most logical move the player I am playing should make with the information...|||Gender: female Age: 19-29 Intelligence: gifted Idea adoption: early-adopter MBTI personality profile: ESFP Closest alternative we found: ESFJ  I think I killed it when it told me to write...|||I'm fine with them, I'm more on shortage of people I'd ever want to do them with but that's on the grounds that any socialising that could be done could just as well be done over skype without the...|||I used to use pencils then I was told that my teachers wanted me to use pens only - so I used pens only. I haven't used a pencil - excluding my games of naughts and crosses earlier - in a couple...|||I'd love to own either a calm house out somewhere distant with a porch and a log cabin aesthetic - fuck it, I want a log cabin. OR I'd actually really like the idea of being in one of those smokey...|||Yeah I enjoy listening to lyrics but it doesn't make much of a difference if they're present or not, if they are there they're just another part of the instrumental I don't necessarily listen to...|||More often then not someone is only going to be fully entering my world if they invite me into theirs first and it's similar or we're friends on the internet - because then there are few...|||What did you get me today?  My head = Shit, shit, shit what did I miss, is it your birthday? Was I supposed to get you something? Are we that good friends that I should be buying you stuff? I...|||I frequently say it as an off hand thing, someone does something really awesome and I say fuck yeah I love you man or something like that. If I was to say it in a genuine way then it'd feel really...|||So something strange has been happening recently, my interest was drawn to naughts and crosses and how I could make it more enjoyable to play. I started by increasing the grid size and tried...|||You could tell them your thoughts. You could not tell them your thoughts and continue to brew over it. I think that there's no reason to be ashamed or annoyed about anything and if you don't...|||loudly, whilst he drew his|||and the baby platypi quivered|||particularly in the higher regions|||Starting with a lingering feeling|||What's the point of stopping? Why does it matter what they're called? Guilty pleasures are pleasures for a reason, does it matter that much?|||their own god dam story|||post multiple times to do|||It's impressive how people would|||Maximum of five words per line, feel free to say other stuff in the most but make sure it's clear which is the five words.     Once upon a time in|||someone who appreciates c.c. Fuck yeah!|||Yeezus can't we come to a reasonable conclusion without you picking a fight? It's not being open minded.|||More often then not I judge them purely by how they judge me, I have a dark sense of humor that I'm not exactly secretive about, I get along with most people on the grounds that I'm just friendly to...|||I chose my avatar as it's an awesome art work of Kaneki from Tokyo Ghoul and by god I loved the manga, love tragedies. Name is a slightly altered version of my name, George - Georgius. Liked the Halo...|||Violence in this situation would probably be a faster way to get things done for both parties involved and especially on the receiving end, trying to talk sense into someone who just said something...|||But surely the point that everyone would be worse off initially isn't relevant? Rebuilding a system would obviously have it's issues here and there.  I'm not crying revolution and I'm not being...|||We'd call it Diagon Alley!|||I'm with you, I make a pretty big point of not being a person for people to expect feelings from, I want to be that person but I just feel wrong, someones crying their eyes out and here I am lying...|||Good call but that's just how I read it ^^'|||What about a four dimensional plane.|||Why airplane why not aeroplane?|||Hit them for having the expectation that you should live up to their expectations which is infuriating in and of itself probably.|||It's just because hitting a women is politically incorrect and some women will use that to their advantage.|||What he's saying is that they should assume that if they say something worthy of being hit for, that they should be grateful when they're not hit for it, not expect not to be hit just on the basis...|||Is it particularly common amongst INTP's and other types to just acknowledge another sides point of view even though socially you shouldn't. What I mean by this is I can't have conversation with...'\",\n          \"'I said zero flexibility and little time for dating. Going around sifting through dates to find one that clicks isn't going to be as viable.  That has nothing to do with maintaining a relationship I...|||How you've come to the conclusion I have nothing to offer  merely because I am busy is beyond me.       No not really. Again, more made up stuff.|||okay, this isn't cool.  you're specifically looking to get into a relationship because you're about to enter a life phase where you will not have any resources to give to a relationship?   that is...|||I do take it slow (that's why I'm still single), but I'm not interested in making friends. I  have friends. Enough for my liking. I'm interested in going on dates with the intent of entering a...|||Absolutely not for me. I find the idea repugnant, actually.|||People could have been polite. Maybe average is a more conservative bet. And I'm not claiming I'm a social butterfly. I'm just a normal guy who is introverted but not a social doofus.  I don't...|||I'm probably giving up the online thing here when my next subscription runs out. After that I really don't know where to look. Bars are a definite no. I don't understand where people meet their...|||I've tried both ways, actually. The last few women I have gone out with have gotten really weird and/or ignored my backhanded compliments. I don't know what to do anymore. Seems I get screwed either...|||I'm actually pretty healthy.     Sorry you feel that way. Not sure which ones you met, but assholes exist everywhere. The number isn't anywhere near 99% though.|||If anything I err on the side of being indifferent. Definitely not overeager.|||Yeah my close friends don't live near me anymore.  The issue is that I have been meeting people, a good amount, and nothing works. I want to know why it is that deformed, infirm, mentally unstable,...|||My friends are in worse positions than I am. Asking them isn't going to help.   As far as feedback, not really because that seems like an extraordinarily awkward thing to ask someone you barely...|||So, I'm a 26 year old male who has been striking out time and time again when it comes to relationships. I've been in one relationship my entire life that lasted like 1.5 years and ended when I was...|||I don't think this sort of dating method is very reasonable, and at best, it is counterproductive. Being friends first just throws a wrench in what is normally a smooth dating process. When you fear...|||Never was a kiss.|||I appreciate the feedback. I think I'm just going to tell her we shouldn't hang out unless she can dedicate a decent amount of time to it. What is happening right now is dragging things out and...|||I don't know. After thinking more, I'm on the verge of giving up. It has nothing to do with seeing her infrequently, or not making it official or what have you. It's that she keeps things...|||I don't know. I'm not a model or anything but I'm decent looking. She's drop dead gorgeous and nice and smart. Guys are always after her it seems. But I'm also smarter and have better career...|||I like your answer, but maybe I'm just being optimistic. It is basically, what I've been doing. I can't shake the feeling that she wouldn't be giving me any of her time if she weren't interested and...|||How am I supposed to know if an INFJ just wants to be friends? Things have been very weird with an INFJ I've been seeing. I've been very upfront about my intentions and she essentially told me she...|||Interesting. I find it unusual INFJs are known for taking forever to open up and trust people yet all the responses so far have indicated kissing in 3 or fewer dates....|||My INFJ friend has been with an INTJ, and i don't want to bust your confidence but even though she liked him at first, she soon found out that he was putting her down and felt caged. I can see that...|||Enlighten us infjs. Also indicate your gender and if you initiated.|||Well there was more than that. She also said she was basically trying to figure out if I'm trustworthy and decent.|||Those two things seem at odds. How can you be simultaneously not saying things that need to be said but also being proactively aggressive?|||Pretty much yeah. Women just do not enjoy my company on any level. I'm in the same situation. Never had any female friends, dated one person in my life and it lasted a little less than two years. The...|||I don't think that is going to help me dig myself out of the very clingy seeming hole I dug myself. I basically asked her if she knew I was romantically interested and she responded of course lol...|||I should have just let things proceed at a natural pace. Pretty pissed at myself. About zero chance she speaks to me again.|||I read through most of that thread. From what I can tell I never did anything egregious. Good chance she lost interest after my bluntness though lol.|||I broke that off shortly after my post. I felt like a slime ball. I only did it because people were telling me she's a lost cause and I should see other people. BTW I have a very well developed...|||Update on this. Told her I liked her and got no reassurance she liked me or even that she wasn't interested. Those who said she was ambivalent were right. I'm pretty much calling it off at this point...|||Yeah so I told her and didn't get an affirmation she liked me nor that she didn't. She basically said she had known for a while I like her. Pretty much what I expected. Probably going to call it...|||Is the crystal ball reference supposed to mean your guess is as good as mine or what? Edit: guess not :p|||So I've gone on six or so dates with an INFJ over a 3 month period (she's pretty busy, and me too) and recently I feel like progress has been a little glacial. For a bit I thought she was warming up...|||She hates texting.  And yeah, she told me how picky she was about people recently and that normally she wouldn't give anyone the time of day.|||You would literally have to have an autism spectrum disorder. I would know.  Not to mention you don't tell someone who is just friends how much you like them. That would be more than bizarre.|||It's kind of hard to get to the point of officially dating when you have no idea what is going on in her head. For all I know an attempt to kiss her would result in abject horror and assault...|||Spoke to her last night, she essentially said she likes me a lot and would normally never make any time for people unless she was obligated to. But she also indirectly used the word friend but it...|||So I met an INFJ female a while back, and we've been out like five or so times on a date. They go well, we get along, everything seems nice. I find her very attractive and we have quite a bit in...|||'  I don't know, I kind of have a rule that I don't compliment a female on her appearance until she trusts me. I did compliment her personality a few times.  She is extremely cautious from what I...|||Well, now I have a new question. Went on a second date a few days ago and it went well and she said she wanted to meet up again. The problem is, there hasn't been an ounce of flirting or touching...|||She started initiating with me and asked if I'm free soon. -_-    If there is anything to be learned it is don't play the analysis game. You will lose.|||Expectations of....?|||I don't know. I can't really fault a strong introvert for being wary about someone she doesn't really know. Number 2 is cruel, but it is how modern dating works.    Pretty sure this isn't the...|||I don't know. I can't really fault a strong introvert for being wary about someone she doesn't really know. Number 2 is cruel, but it is how modern dating works.    Pretty sure this isn't the...|||Thanks, option 1 seems most likely. It seems whenever I finally get her to open up there is like a cascade of good conversation that finally ensues, but it is like pulling teeth initially. Then I...|||I'm socially retarded and would know that if a random stranger asked for my contact info then asked me out for drinks or lunch then the person probably isn't interested in just being friends.|||So I shouldn't be deterred by the fact she doesn't really ever reach out to me? I don't enjoy appearing like someone who can't take a hint or who puts someone else in an awkward situation. I worry...|||No this seems to fit her pretty well.|||Thanks for the advice everyone. I appreciate your taking the time to respond.'\",\n          \"'This has to be written with bias or something, I'm not sure how you could even say that truthfully. For some reason you put subjectivity for both God and man? It says nothing.    That makes no...|||??? How?  The main priority of the church is written throughout it's texts for the past nearly 2000 years and reverberated throughout the church's dialogues both before and after the incident about...|||That's an annoying phrasing, as it's just obtuse and confusing to newcomers. I don't blame you for your response there.    Why must the revealed knowledge not speak truth but contain a bias...|||There are no priestly desk jobs. The closest thing you have to being a priest that gets you away from people is being a monk and that in itself is very different.  I am telling you they did it out...|||No, you really won't. You can't just go to an INTP and assume their intelligence level. That would end in failure. Don't be afraid to ask big questions when musing with the INTP and just try to...|||Heresy is, like, the core reason most all Christian in-fighting occurs. Everything else is minor disputes about theological opinions.|||That's exceedingly subjective. See what they're interested in, strike up a conversation about it. Definitely ask them their thoughts.|||To dismiss my concept of it is to dismiss all history on the topic, dismiss what the apostles taught, and literally all sects of Christianity. But fine, whatever.|||Do cool shit, discuss ideas, have patience, don't try to judge personally too quickly or control them. ALSO, make the first move to show you're interested in talking with them.|||I used to feel about the same until I read the book Self-Made Man, where a lesbian 'butch' woman dressed like a man and tried to live as one. She noticed herself being considered a feminine man quite...|||I'm not sure what the hell is going on in this thread but I would like to say I know no ENTJs personally, I don't think. It'd be neat, though.|||All churches are forms of political institutions. Catholic and Orthodox ones have the benefit of being centralized. All sects have declared doctrine in one way or another.  You're speaking against...|||And here is the most boring post in the whole thread.|||What part? If it's the idea of a teaching authority, you have a problem with all church until the 13th century. If it's the idea of a group being guided by the Holy Spirit in their decisions on...|||For Catholics, the church has a dual meaning. The whole of the believers (the Body of Christ) and the political institution. For Catholicism, their teachings of Christ are said to be protected by...|||Priests were relocated to other parishes so they may quiet down the criticism of the time and handle thing themselves. Again, poor decision but that was their decision.  The church's first priority...|||Well sure then. Yes, the church did protect child offenders. The church's reasoning was the image of the church itself and the their leadership's own ignorance of the size of the problem. The church...|||Edit: Based double post|||No, it really isn't. The Bible itself is the canon collection of texts. The Bible was established once the theological and historical work was done to establish the canon and it was not modified...|||Yes, nevermind it because the two claims do not contradict each other at all. I could work through how there is no contradiction if you're struggling.    I wouldn't say all, no. That's a...|||? There's no way to tell? But many of them depend on logic and/or history that contradicts or ruins their claims? Granted there are a few cases of we're yet to be able to know but many of it can...|||The problem of induction is a grand way of humbling yourself about scientific findings when you're younger. It brings into question if what we know is what we could call true.|||Rubix cubes.|||Pantheism makes no sense. I'd advise otherwise. Atheism and Abrahamic Theism are the only two rational choices.|||You, motherfucker.|||What is the meaning of everything? The universe exists. We are to learn to love in it.|||Disappointed 24 year old reporting in.  Good luck, OP.|||This is exceedingly naive. The early church, before scripture, applied their teaching to better society. After scripture, it was held in high esteem as a basis to properly better society. Most work...|||From the Catholic Catechism (list of official teaching) here is how we are to read the Bible:  III. THE HOLY SPIRIT, INTERPRETER OF SCRIPTURE   109 In Sacred Scripture, God speaks to man in a...|||I never liked people pointing to the Scandinavian model for the success of their economic system and not their incredible oil and natural resource supply compared to their small populations.|||While shit just got stupid for a moment. Lets try to get back on track.|||You're pretty smart, you know that?  Look at this fucker, she thinks I'm smart. Pfft.|||Exceedingly poor.|||I've just been told I'm bright, but I'm sure most everyone else says the same to the kids.|||And what of you?|||The most efficient way to remove self-doubt is to stop doubting yourself so much. Faith and trust, nigga.|||You suspect wrongly. I like the chatter and I'm being friendly with you. I seriously do hope you have a good day too.|||Indeed you do. Feel free to ask/argue/chat/or bullshit with me if you want. Have a good one, man.|||I'd say that's a stretch to say. Catholics believe the bible was inspired by God but written by men. Orthodox do too. As they assembled the biblical canon I'd have to say they have the greatest say...|||Edit: Welp.|||I see the arguments for inconsistencies. Sometimes they aren't actually inconsistencies. Sometimes they are. I find the simplest example of a true one being the rabbit that is apparently chewing...|||Sorry to take so long to get back to you, my internet has been screwing up horribly.  As for the answer, there was a considerable amount of things that got me off the atheist train but if I were to...|||The believing portion was a long and arduous process for me. I researched culture as a hobby and eventually I rolled around to religion. It was an interesting topic for me and I eventually began to...|||To your first statement... just... what. Where did that even come from? Of course they can know love, though with God they can know it fully, I'd argue.  As for Hell, it's taken a variety of...|||I'm very mixed on him. His criticism of Christianity (and envy, now that I've seen the video) is, while popular, piss poor and Max Scheler did a wonderful job making an argument otherwise on his...|||People believing in something as incontrovertibly true is what gets people into a murderous rage? Why just the incontrovertibly true? Why not the empirically true? Why not just majority opinion? To...|||Sure thing. Sounds sorta similar to the Epicurean Paradox.  Suffering/free will exists to strengthen the good. If you create a people so they may know love they cannot sincerely know love if they...|||Yo. Christian INTP here.  Anything you want?|||It's not we can make healthy children! it's we only let the healthy babies live! which is the issue. It's a moral issue about the innate value of life.|||249210'\"\n        ],\n        \"semantic_type\": \"\",\n        \"description\": \"\"\n      }\n    }\n  ]\n}"
            }
          },
          "metadata": {},
          "execution_count": 14
        }
      ],
      "source": [
        "df"
      ]
    },
    {
      "cell_type": "code",
      "execution_count": 15,
      "metadata": {
        "colab": {
          "base_uri": "https://localhost:8080/"
        },
        "id": "Rt-OiocvAISQ",
        "outputId": "4705bf77-84e5-45c7-bcca-7957f65a783d"
      },
      "outputs": [
        {
          "output_type": "stream",
          "name": "stdout",
          "text": [
            "<class 'pandas.core.frame.DataFrame'>\n",
            "RangeIndex: 8675 entries, 0 to 8674\n",
            "Data columns (total 2 columns):\n",
            " #   Column  Non-Null Count  Dtype \n",
            "---  ------  --------------  ----- \n",
            " 0   type    8675 non-null   object\n",
            " 1   posts   8675 non-null   object\n",
            "dtypes: object(2)\n",
            "memory usage: 135.7+ KB\n"
          ]
        }
      ],
      "source": [
        "df.info()"
      ]
    },
    {
      "cell_type": "code",
      "execution_count": 16,
      "metadata": {
        "colab": {
          "base_uri": "https://localhost:8080/"
        },
        "id": "U9bZTJXCAISQ",
        "outputId": "7feee857-dd19-490b-f56c-1167e4ba8f55"
      },
      "outputs": [
        {
          "output_type": "execute_result",
          "data": {
            "text/plain": [
              "array(['INFJ', 'ENTP', 'INTP', 'INTJ', 'ENTJ', 'ENFJ', 'INFP', 'ENFP',\n",
              "       'ISFP', 'ISTP', 'ISFJ', 'ISTJ', 'ESTP', 'ESFP', 'ESTJ', 'ESFJ'],\n",
              "      dtype=object)"
            ]
          },
          "metadata": {},
          "execution_count": 16
        }
      ],
      "source": [
        "df[\"type\"].unique()"
      ]
    },
    {
      "cell_type": "markdown",
      "metadata": {
        "id": "lgChkIWHlLoa"
      },
      "source": [
        "### Data Preparation"
      ]
    },
    {
      "cell_type": "code",
      "execution_count": 17,
      "metadata": {
        "id": "WLS0f6kblLoa"
      },
      "outputs": [],
      "source": [
        "df[\"tweet\"] = df[\"posts\"].str.replace(\"|||\",\"\")"
      ]
    },
    {
      "cell_type": "code",
      "execution_count": 18,
      "metadata": {
        "colab": {
          "base_uri": "https://localhost:8080/",
          "height": 597
        },
        "id": "ooa2BaWEol-i",
        "outputId": "4ff06c10-0741-41fb-e1e6-4cff79dc522a"
      },
      "outputs": [
        {
          "output_type": "execute_result",
          "data": {
            "text/plain": [
              "      type                                              posts  \\\n",
              "0     INFJ  'http://www.youtube.com/watch?v=qsXHcwe3krw|||...   \n",
              "1     ENTP  'I'm finding the lack of me in these posts ver...   \n",
              "2     INTP  'Good one  _____   https://www.youtube.com/wat...   \n",
              "3     INTJ  'Dear INTP,   I enjoyed our conversation the o...   \n",
              "4     ENTJ  'You're fired.|||That's another silly misconce...   \n",
              "...    ...                                                ...   \n",
              "8670  ISFP  'https://www.youtube.com/watch?v=t8edHB_h908||...   \n",
              "8671  ENFP  'So...if this thread already exists someplace ...   \n",
              "8672  INTP  'So many questions when i do these things.  I ...   \n",
              "8673  INFP  'I am very conflicted right now when it comes ...   \n",
              "8674  INFP  'It has been too long since I have been on per...   \n",
              "\n",
              "                                                  tweet  \n",
              "0     'http://www.youtube.com/watch?v=qsXHcwe3krwhtt...  \n",
              "1     'I'm finding the lack of me in these posts ver...  \n",
              "2     'Good one  _____   https://www.youtube.com/wat...  \n",
              "3     'Dear INTP,   I enjoyed our conversation the o...  \n",
              "4     'You're fired.That's another silly misconcepti...  \n",
              "...                                                 ...  \n",
              "8670  'https://www.youtube.com/watch?v=t8edHB_h908Ix...  \n",
              "8671  'So...if this thread already exists someplace ...  \n",
              "8672  'So many questions when i do these things.  I ...  \n",
              "8673  'I am very conflicted right now when it comes ...  \n",
              "8674  'It has been too long since I have been on per...  \n",
              "\n",
              "[8675 rows x 3 columns]"
            ],
            "text/html": [
              "\n",
              "  <div id=\"df-77b39620-46f1-48db-a525-8bd0188b569b\" class=\"colab-df-container\">\n",
              "    <div>\n",
              "<style scoped>\n",
              "    .dataframe tbody tr th:only-of-type {\n",
              "        vertical-align: middle;\n",
              "    }\n",
              "\n",
              "    .dataframe tbody tr th {\n",
              "        vertical-align: top;\n",
              "    }\n",
              "\n",
              "    .dataframe thead th {\n",
              "        text-align: right;\n",
              "    }\n",
              "</style>\n",
              "<table border=\"1\" class=\"dataframe\">\n",
              "  <thead>\n",
              "    <tr style=\"text-align: right;\">\n",
              "      <th></th>\n",
              "      <th>type</th>\n",
              "      <th>posts</th>\n",
              "      <th>tweet</th>\n",
              "    </tr>\n",
              "  </thead>\n",
              "  <tbody>\n",
              "    <tr>\n",
              "      <th>0</th>\n",
              "      <td>INFJ</td>\n",
              "      <td>'http://www.youtube.com/watch?v=qsXHcwe3krw|||...</td>\n",
              "      <td>'http://www.youtube.com/watch?v=qsXHcwe3krwhtt...</td>\n",
              "    </tr>\n",
              "    <tr>\n",
              "      <th>1</th>\n",
              "      <td>ENTP</td>\n",
              "      <td>'I'm finding the lack of me in these posts ver...</td>\n",
              "      <td>'I'm finding the lack of me in these posts ver...</td>\n",
              "    </tr>\n",
              "    <tr>\n",
              "      <th>2</th>\n",
              "      <td>INTP</td>\n",
              "      <td>'Good one  _____   https://www.youtube.com/wat...</td>\n",
              "      <td>'Good one  _____   https://www.youtube.com/wat...</td>\n",
              "    </tr>\n",
              "    <tr>\n",
              "      <th>3</th>\n",
              "      <td>INTJ</td>\n",
              "      <td>'Dear INTP,   I enjoyed our conversation the o...</td>\n",
              "      <td>'Dear INTP,   I enjoyed our conversation the o...</td>\n",
              "    </tr>\n",
              "    <tr>\n",
              "      <th>4</th>\n",
              "      <td>ENTJ</td>\n",
              "      <td>'You're fired.|||That's another silly misconce...</td>\n",
              "      <td>'You're fired.That's another silly misconcepti...</td>\n",
              "    </tr>\n",
              "    <tr>\n",
              "      <th>...</th>\n",
              "      <td>...</td>\n",
              "      <td>...</td>\n",
              "      <td>...</td>\n",
              "    </tr>\n",
              "    <tr>\n",
              "      <th>8670</th>\n",
              "      <td>ISFP</td>\n",
              "      <td>'https://www.youtube.com/watch?v=t8edHB_h908||...</td>\n",
              "      <td>'https://www.youtube.com/watch?v=t8edHB_h908Ix...</td>\n",
              "    </tr>\n",
              "    <tr>\n",
              "      <th>8671</th>\n",
              "      <td>ENFP</td>\n",
              "      <td>'So...if this thread already exists someplace ...</td>\n",
              "      <td>'So...if this thread already exists someplace ...</td>\n",
              "    </tr>\n",
              "    <tr>\n",
              "      <th>8672</th>\n",
              "      <td>INTP</td>\n",
              "      <td>'So many questions when i do these things.  I ...</td>\n",
              "      <td>'So many questions when i do these things.  I ...</td>\n",
              "    </tr>\n",
              "    <tr>\n",
              "      <th>8673</th>\n",
              "      <td>INFP</td>\n",
              "      <td>'I am very conflicted right now when it comes ...</td>\n",
              "      <td>'I am very conflicted right now when it comes ...</td>\n",
              "    </tr>\n",
              "    <tr>\n",
              "      <th>8674</th>\n",
              "      <td>INFP</td>\n",
              "      <td>'It has been too long since I have been on per...</td>\n",
              "      <td>'It has been too long since I have been on per...</td>\n",
              "    </tr>\n",
              "  </tbody>\n",
              "</table>\n",
              "<p>8675 rows × 3 columns</p>\n",
              "</div>\n",
              "    <div class=\"colab-df-buttons\">\n",
              "\n",
              "  <div class=\"colab-df-container\">\n",
              "    <button class=\"colab-df-convert\" onclick=\"convertToInteractive('df-77b39620-46f1-48db-a525-8bd0188b569b')\"\n",
              "            title=\"Convert this dataframe to an interactive table.\"\n",
              "            style=\"display:none;\">\n",
              "\n",
              "  <svg xmlns=\"http://www.w3.org/2000/svg\" height=\"24px\" viewBox=\"0 -960 960 960\">\n",
              "    <path d=\"M120-120v-720h720v720H120Zm60-500h600v-160H180v160Zm220 220h160v-160H400v160Zm0 220h160v-160H400v160ZM180-400h160v-160H180v160Zm440 0h160v-160H620v160ZM180-180h160v-160H180v160Zm440 0h160v-160H620v160Z\"/>\n",
              "  </svg>\n",
              "    </button>\n",
              "\n",
              "  <style>\n",
              "    .colab-df-container {\n",
              "      display:flex;\n",
              "      gap: 12px;\n",
              "    }\n",
              "\n",
              "    .colab-df-convert {\n",
              "      background-color: #E8F0FE;\n",
              "      border: none;\n",
              "      border-radius: 50%;\n",
              "      cursor: pointer;\n",
              "      display: none;\n",
              "      fill: #1967D2;\n",
              "      height: 32px;\n",
              "      padding: 0 0 0 0;\n",
              "      width: 32px;\n",
              "    }\n",
              "\n",
              "    .colab-df-convert:hover {\n",
              "      background-color: #E2EBFA;\n",
              "      box-shadow: 0px 1px 2px rgba(60, 64, 67, 0.3), 0px 1px 3px 1px rgba(60, 64, 67, 0.15);\n",
              "      fill: #174EA6;\n",
              "    }\n",
              "\n",
              "    .colab-df-buttons div {\n",
              "      margin-bottom: 4px;\n",
              "    }\n",
              "\n",
              "    [theme=dark] .colab-df-convert {\n",
              "      background-color: #3B4455;\n",
              "      fill: #D2E3FC;\n",
              "    }\n",
              "\n",
              "    [theme=dark] .colab-df-convert:hover {\n",
              "      background-color: #434B5C;\n",
              "      box-shadow: 0px 1px 3px 1px rgba(0, 0, 0, 0.15);\n",
              "      filter: drop-shadow(0px 1px 2px rgba(0, 0, 0, 0.3));\n",
              "      fill: #FFFFFF;\n",
              "    }\n",
              "  </style>\n",
              "\n",
              "    <script>\n",
              "      const buttonEl =\n",
              "        document.querySelector('#df-77b39620-46f1-48db-a525-8bd0188b569b button.colab-df-convert');\n",
              "      buttonEl.style.display =\n",
              "        google.colab.kernel.accessAllowed ? 'block' : 'none';\n",
              "\n",
              "      async function convertToInteractive(key) {\n",
              "        const element = document.querySelector('#df-77b39620-46f1-48db-a525-8bd0188b569b');\n",
              "        const dataTable =\n",
              "          await google.colab.kernel.invokeFunction('convertToInteractive',\n",
              "                                                    [key], {});\n",
              "        if (!dataTable) return;\n",
              "\n",
              "        const docLinkHtml = 'Like what you see? Visit the ' +\n",
              "          '<a target=\"_blank\" href=https://colab.research.google.com/notebooks/data_table.ipynb>data table notebook</a>'\n",
              "          + ' to learn more about interactive tables.';\n",
              "        element.innerHTML = '';\n",
              "        dataTable['output_type'] = 'display_data';\n",
              "        await google.colab.output.renderOutput(dataTable, element);\n",
              "        const docLink = document.createElement('div');\n",
              "        docLink.innerHTML = docLinkHtml;\n",
              "        element.appendChild(docLink);\n",
              "      }\n",
              "    </script>\n",
              "  </div>\n",
              "\n",
              "\n",
              "<div id=\"df-137eb73a-26bb-4e02-98f1-6ef45eb11b53\">\n",
              "  <button class=\"colab-df-quickchart\" onclick=\"quickchart('df-137eb73a-26bb-4e02-98f1-6ef45eb11b53')\"\n",
              "            title=\"Suggest charts\"\n",
              "            style=\"display:none;\">\n",
              "\n",
              "<svg xmlns=\"http://www.w3.org/2000/svg\" height=\"24px\"viewBox=\"0 0 24 24\"\n",
              "     width=\"24px\">\n",
              "    <g>\n",
              "        <path d=\"M19 3H5c-1.1 0-2 .9-2 2v14c0 1.1.9 2 2 2h14c1.1 0 2-.9 2-2V5c0-1.1-.9-2-2-2zM9 17H7v-7h2v7zm4 0h-2V7h2v10zm4 0h-2v-4h2v4z\"/>\n",
              "    </g>\n",
              "</svg>\n",
              "  </button>\n",
              "\n",
              "<style>\n",
              "  .colab-df-quickchart {\n",
              "      --bg-color: #E8F0FE;\n",
              "      --fill-color: #1967D2;\n",
              "      --hover-bg-color: #E2EBFA;\n",
              "      --hover-fill-color: #174EA6;\n",
              "      --disabled-fill-color: #AAA;\n",
              "      --disabled-bg-color: #DDD;\n",
              "  }\n",
              "\n",
              "  [theme=dark] .colab-df-quickchart {\n",
              "      --bg-color: #3B4455;\n",
              "      --fill-color: #D2E3FC;\n",
              "      --hover-bg-color: #434B5C;\n",
              "      --hover-fill-color: #FFFFFF;\n",
              "      --disabled-bg-color: #3B4455;\n",
              "      --disabled-fill-color: #666;\n",
              "  }\n",
              "\n",
              "  .colab-df-quickchart {\n",
              "    background-color: var(--bg-color);\n",
              "    border: none;\n",
              "    border-radius: 50%;\n",
              "    cursor: pointer;\n",
              "    display: none;\n",
              "    fill: var(--fill-color);\n",
              "    height: 32px;\n",
              "    padding: 0;\n",
              "    width: 32px;\n",
              "  }\n",
              "\n",
              "  .colab-df-quickchart:hover {\n",
              "    background-color: var(--hover-bg-color);\n",
              "    box-shadow: 0 1px 2px rgba(60, 64, 67, 0.3), 0 1px 3px 1px rgba(60, 64, 67, 0.15);\n",
              "    fill: var(--button-hover-fill-color);\n",
              "  }\n",
              "\n",
              "  .colab-df-quickchart-complete:disabled,\n",
              "  .colab-df-quickchart-complete:disabled:hover {\n",
              "    background-color: var(--disabled-bg-color);\n",
              "    fill: var(--disabled-fill-color);\n",
              "    box-shadow: none;\n",
              "  }\n",
              "\n",
              "  .colab-df-spinner {\n",
              "    border: 2px solid var(--fill-color);\n",
              "    border-color: transparent;\n",
              "    border-bottom-color: var(--fill-color);\n",
              "    animation:\n",
              "      spin 1s steps(1) infinite;\n",
              "  }\n",
              "\n",
              "  @keyframes spin {\n",
              "    0% {\n",
              "      border-color: transparent;\n",
              "      border-bottom-color: var(--fill-color);\n",
              "      border-left-color: var(--fill-color);\n",
              "    }\n",
              "    20% {\n",
              "      border-color: transparent;\n",
              "      border-left-color: var(--fill-color);\n",
              "      border-top-color: var(--fill-color);\n",
              "    }\n",
              "    30% {\n",
              "      border-color: transparent;\n",
              "      border-left-color: var(--fill-color);\n",
              "      border-top-color: var(--fill-color);\n",
              "      border-right-color: var(--fill-color);\n",
              "    }\n",
              "    40% {\n",
              "      border-color: transparent;\n",
              "      border-right-color: var(--fill-color);\n",
              "      border-top-color: var(--fill-color);\n",
              "    }\n",
              "    60% {\n",
              "      border-color: transparent;\n",
              "      border-right-color: var(--fill-color);\n",
              "    }\n",
              "    80% {\n",
              "      border-color: transparent;\n",
              "      border-right-color: var(--fill-color);\n",
              "      border-bottom-color: var(--fill-color);\n",
              "    }\n",
              "    90% {\n",
              "      border-color: transparent;\n",
              "      border-bottom-color: var(--fill-color);\n",
              "    }\n",
              "  }\n",
              "</style>\n",
              "\n",
              "  <script>\n",
              "    async function quickchart(key) {\n",
              "      const quickchartButtonEl =\n",
              "        document.querySelector('#' + key + ' button');\n",
              "      quickchartButtonEl.disabled = true;  // To prevent multiple clicks.\n",
              "      quickchartButtonEl.classList.add('colab-df-spinner');\n",
              "      try {\n",
              "        const charts = await google.colab.kernel.invokeFunction(\n",
              "            'suggestCharts', [key], {});\n",
              "      } catch (error) {\n",
              "        console.error('Error during call to suggestCharts:', error);\n",
              "      }\n",
              "      quickchartButtonEl.classList.remove('colab-df-spinner');\n",
              "      quickchartButtonEl.classList.add('colab-df-quickchart-complete');\n",
              "    }\n",
              "    (() => {\n",
              "      let quickchartButtonEl =\n",
              "        document.querySelector('#df-137eb73a-26bb-4e02-98f1-6ef45eb11b53 button');\n",
              "      quickchartButtonEl.style.display =\n",
              "        google.colab.kernel.accessAllowed ? 'block' : 'none';\n",
              "    })();\n",
              "  </script>\n",
              "</div>\n",
              "\n",
              "  <div id=\"id_17a8a76a-d498-4dfa-b323-06a2dd2c6305\">\n",
              "    <style>\n",
              "      .colab-df-generate {\n",
              "        background-color: #E8F0FE;\n",
              "        border: none;\n",
              "        border-radius: 50%;\n",
              "        cursor: pointer;\n",
              "        display: none;\n",
              "        fill: #1967D2;\n",
              "        height: 32px;\n",
              "        padding: 0 0 0 0;\n",
              "        width: 32px;\n",
              "      }\n",
              "\n",
              "      .colab-df-generate:hover {\n",
              "        background-color: #E2EBFA;\n",
              "        box-shadow: 0px 1px 2px rgba(60, 64, 67, 0.3), 0px 1px 3px 1px rgba(60, 64, 67, 0.15);\n",
              "        fill: #174EA6;\n",
              "      }\n",
              "\n",
              "      [theme=dark] .colab-df-generate {\n",
              "        background-color: #3B4455;\n",
              "        fill: #D2E3FC;\n",
              "      }\n",
              "\n",
              "      [theme=dark] .colab-df-generate:hover {\n",
              "        background-color: #434B5C;\n",
              "        box-shadow: 0px 1px 3px 1px rgba(0, 0, 0, 0.15);\n",
              "        filter: drop-shadow(0px 1px 2px rgba(0, 0, 0, 0.3));\n",
              "        fill: #FFFFFF;\n",
              "      }\n",
              "    </style>\n",
              "    <button class=\"colab-df-generate\" onclick=\"generateWithVariable('df')\"\n",
              "            title=\"Generate code using this dataframe.\"\n",
              "            style=\"display:none;\">\n",
              "\n",
              "  <svg xmlns=\"http://www.w3.org/2000/svg\" height=\"24px\"viewBox=\"0 0 24 24\"\n",
              "       width=\"24px\">\n",
              "    <path d=\"M7,19H8.4L18.45,9,17,7.55,7,17.6ZM5,21V16.75L18.45,3.32a2,2,0,0,1,2.83,0l1.4,1.43a1.91,1.91,0,0,1,.58,1.4,1.91,1.91,0,0,1-.58,1.4L9.25,21ZM18.45,9,17,7.55Zm-12,3A5.31,5.31,0,0,0,4.9,8.1,5.31,5.31,0,0,0,1,6.5,5.31,5.31,0,0,0,4.9,4.9,5.31,5.31,0,0,0,6.5,1,5.31,5.31,0,0,0,8.1,4.9,5.31,5.31,0,0,0,12,6.5,5.46,5.46,0,0,0,6.5,12Z\"/>\n",
              "  </svg>\n",
              "    </button>\n",
              "    <script>\n",
              "      (() => {\n",
              "      const buttonEl =\n",
              "        document.querySelector('#id_17a8a76a-d498-4dfa-b323-06a2dd2c6305 button.colab-df-generate');\n",
              "      buttonEl.style.display =\n",
              "        google.colab.kernel.accessAllowed ? 'block' : 'none';\n",
              "\n",
              "      buttonEl.onclick = () => {\n",
              "        google.colab.notebook.generateWithVariable('df');\n",
              "      }\n",
              "      })();\n",
              "    </script>\n",
              "  </div>\n",
              "\n",
              "    </div>\n",
              "  </div>\n"
            ],
            "application/vnd.google.colaboratory.intrinsic+json": {
              "type": "dataframe",
              "variable_name": "df",
              "summary": "{\n  \"name\": \"df\",\n  \"rows\": 8675,\n  \"fields\": [\n    {\n      \"column\": \"type\",\n      \"properties\": {\n        \"dtype\": \"category\",\n        \"num_unique_values\": 16,\n        \"samples\": [\n          \"INFJ\",\n          \"ENTP\",\n          \"ENFJ\"\n        ],\n        \"semantic_type\": \"\",\n        \"description\": \"\"\n      }\n    },\n    {\n      \"column\": \"posts\",\n      \"properties\": {\n        \"dtype\": \"string\",\n        \"num_unique_values\": 8675,\n        \"samples\": [\n          \"'This. When I lie it's to avoid an unreasonable response for something I did that was completely justifiable to me but if I was to try to justify to someone else they'd be too hung up on what I did. I...|||Your IQ (SD15): 128|||I typically have very difficult times maintaining friends I've come to realize. I've had people I talk to for years and I still don't want to talk to them... I DID, but then I just got bored of them,...|||An INTJ friend of mine told me she really hates eating because it's so repetitive. As an INTP I don't really feel bothered, I don't really register eating I just do it while I'm thinking about...|||Similar Minds Advanced Test|||INTP 9 sx/so I have a lot of friends but I only have one I speak about how I actually feel with and only 1 other that I talk about what I am actually thinking about - with regards to...|||Getting close to someone and end up wanting to be infinitely close to them and end up merging every damn time.|||Interesting topic, I know two ENFP's, 1 is strange, as an INTP I view some of the stuff she does as 'coming onto me'?  - sort of. She gets really close and is very open to me, just what ENFP's do,...|||As far as I'm aware this is normal in all people, it's not so much your pessimistic self but just that humans are social creatures and you will feel better after socializing for that reason. Being...|||Vajrayaksa  How dare you use Lelouch as an INTP! He is an INTJ I say!|||I normally think about doing this stuff but don't actually do it.|||You'll probably find that commenting on their nihilistic thoughts logically would make them more open. Dismissing ideas will merely make them agree with that idea more as they'll feel a need to...|||Don't worry, calling me thinker is the same.|||INTJ - Winter - Coldest ENTJ - Summer - Actually doing things ENTP - Spring - Bringing out the fun in people INTP - Autumn - No one ever notices this season|||I've known a couple ENTP's, one ENTJ and an INTJ and it kind of went ENTP>ENTJ>ENTP>INTJ I love being able to constantly talk with ENTP's but also they need to know when to stop talking, if an ENTP...|||If you mean actually 1v1ing yourself I also have done this, maybe I'm wrong but I find it pretty easy to think about the most logical move the player I am playing should make with the information...|||Gender: female Age: 19-29 Intelligence: gifted Idea adoption: early-adopter MBTI personality profile: ESFP Closest alternative we found: ESFJ  I think I killed it when it told me to write...|||I'm fine with them, I'm more on shortage of people I'd ever want to do them with but that's on the grounds that any socialising that could be done could just as well be done over skype without the...|||I used to use pencils then I was told that my teachers wanted me to use pens only - so I used pens only. I haven't used a pencil - excluding my games of naughts and crosses earlier - in a couple...|||I'd love to own either a calm house out somewhere distant with a porch and a log cabin aesthetic - fuck it, I want a log cabin. OR I'd actually really like the idea of being in one of those smokey...|||Yeah I enjoy listening to lyrics but it doesn't make much of a difference if they're present or not, if they are there they're just another part of the instrumental I don't necessarily listen to...|||More often then not someone is only going to be fully entering my world if they invite me into theirs first and it's similar or we're friends on the internet - because then there are few...|||What did you get me today?  My head = Shit, shit, shit what did I miss, is it your birthday? Was I supposed to get you something? Are we that good friends that I should be buying you stuff? I...|||I frequently say it as an off hand thing, someone does something really awesome and I say fuck yeah I love you man or something like that. If I was to say it in a genuine way then it'd feel really...|||So something strange has been happening recently, my interest was drawn to naughts and crosses and how I could make it more enjoyable to play. I started by increasing the grid size and tried...|||You could tell them your thoughts. You could not tell them your thoughts and continue to brew over it. I think that there's no reason to be ashamed or annoyed about anything and if you don't...|||loudly, whilst he drew his|||and the baby platypi quivered|||particularly in the higher regions|||Starting with a lingering feeling|||What's the point of stopping? Why does it matter what they're called? Guilty pleasures are pleasures for a reason, does it matter that much?|||their own god dam story|||post multiple times to do|||It's impressive how people would|||Maximum of five words per line, feel free to say other stuff in the most but make sure it's clear which is the five words.     Once upon a time in|||someone who appreciates c.c. Fuck yeah!|||Yeezus can't we come to a reasonable conclusion without you picking a fight? It's not being open minded.|||More often then not I judge them purely by how they judge me, I have a dark sense of humor that I'm not exactly secretive about, I get along with most people on the grounds that I'm just friendly to...|||I chose my avatar as it's an awesome art work of Kaneki from Tokyo Ghoul and by god I loved the manga, love tragedies. Name is a slightly altered version of my name, George - Georgius. Liked the Halo...|||Violence in this situation would probably be a faster way to get things done for both parties involved and especially on the receiving end, trying to talk sense into someone who just said something...|||But surely the point that everyone would be worse off initially isn't relevant? Rebuilding a system would obviously have it's issues here and there.  I'm not crying revolution and I'm not being...|||We'd call it Diagon Alley!|||I'm with you, I make a pretty big point of not being a person for people to expect feelings from, I want to be that person but I just feel wrong, someones crying their eyes out and here I am lying...|||Good call but that's just how I read it ^^'|||What about a four dimensional plane.|||Why airplane why not aeroplane?|||Hit them for having the expectation that you should live up to their expectations which is infuriating in and of itself probably.|||It's just because hitting a women is politically incorrect and some women will use that to their advantage.|||What he's saying is that they should assume that if they say something worthy of being hit for, that they should be grateful when they're not hit for it, not expect not to be hit just on the basis...|||Is it particularly common amongst INTP's and other types to just acknowledge another sides point of view even though socially you shouldn't. What I mean by this is I can't have conversation with...'\",\n          \"'I said zero flexibility and little time for dating. Going around sifting through dates to find one that clicks isn't going to be as viable.  That has nothing to do with maintaining a relationship I...|||How you've come to the conclusion I have nothing to offer  merely because I am busy is beyond me.       No not really. Again, more made up stuff.|||okay, this isn't cool.  you're specifically looking to get into a relationship because you're about to enter a life phase where you will not have any resources to give to a relationship?   that is...|||I do take it slow (that's why I'm still single), but I'm not interested in making friends. I  have friends. Enough for my liking. I'm interested in going on dates with the intent of entering a...|||Absolutely not for me. I find the idea repugnant, actually.|||People could have been polite. Maybe average is a more conservative bet. And I'm not claiming I'm a social butterfly. I'm just a normal guy who is introverted but not a social doofus.  I don't...|||I'm probably giving up the online thing here when my next subscription runs out. After that I really don't know where to look. Bars are a definite no. I don't understand where people meet their...|||I've tried both ways, actually. The last few women I have gone out with have gotten really weird and/or ignored my backhanded compliments. I don't know what to do anymore. Seems I get screwed either...|||I'm actually pretty healthy.     Sorry you feel that way. Not sure which ones you met, but assholes exist everywhere. The number isn't anywhere near 99% though.|||If anything I err on the side of being indifferent. Definitely not overeager.|||Yeah my close friends don't live near me anymore.  The issue is that I have been meeting people, a good amount, and nothing works. I want to know why it is that deformed, infirm, mentally unstable,...|||My friends are in worse positions than I am. Asking them isn't going to help.   As far as feedback, not really because that seems like an extraordinarily awkward thing to ask someone you barely...|||So, I'm a 26 year old male who has been striking out time and time again when it comes to relationships. I've been in one relationship my entire life that lasted like 1.5 years and ended when I was...|||I don't think this sort of dating method is very reasonable, and at best, it is counterproductive. Being friends first just throws a wrench in what is normally a smooth dating process. When you fear...|||Never was a kiss.|||I appreciate the feedback. I think I'm just going to tell her we shouldn't hang out unless she can dedicate a decent amount of time to it. What is happening right now is dragging things out and...|||I don't know. After thinking more, I'm on the verge of giving up. It has nothing to do with seeing her infrequently, or not making it official or what have you. It's that she keeps things...|||I don't know. I'm not a model or anything but I'm decent looking. She's drop dead gorgeous and nice and smart. Guys are always after her it seems. But I'm also smarter and have better career...|||I like your answer, but maybe I'm just being optimistic. It is basically, what I've been doing. I can't shake the feeling that she wouldn't be giving me any of her time if she weren't interested and...|||How am I supposed to know if an INFJ just wants to be friends? Things have been very weird with an INFJ I've been seeing. I've been very upfront about my intentions and she essentially told me she...|||Interesting. I find it unusual INFJs are known for taking forever to open up and trust people yet all the responses so far have indicated kissing in 3 or fewer dates....|||My INFJ friend has been with an INTJ, and i don't want to bust your confidence but even though she liked him at first, she soon found out that he was putting her down and felt caged. I can see that...|||Enlighten us infjs. Also indicate your gender and if you initiated.|||Well there was more than that. She also said she was basically trying to figure out if I'm trustworthy and decent.|||Those two things seem at odds. How can you be simultaneously not saying things that need to be said but also being proactively aggressive?|||Pretty much yeah. Women just do not enjoy my company on any level. I'm in the same situation. Never had any female friends, dated one person in my life and it lasted a little less than two years. The...|||I don't think that is going to help me dig myself out of the very clingy seeming hole I dug myself. I basically asked her if she knew I was romantically interested and she responded of course lol...|||I should have just let things proceed at a natural pace. Pretty pissed at myself. About zero chance she speaks to me again.|||I read through most of that thread. From what I can tell I never did anything egregious. Good chance she lost interest after my bluntness though lol.|||I broke that off shortly after my post. I felt like a slime ball. I only did it because people were telling me she's a lost cause and I should see other people. BTW I have a very well developed...|||Update on this. Told her I liked her and got no reassurance she liked me or even that she wasn't interested. Those who said she was ambivalent were right. I'm pretty much calling it off at this point...|||Yeah so I told her and didn't get an affirmation she liked me nor that she didn't. She basically said she had known for a while I like her. Pretty much what I expected. Probably going to call it...|||Is the crystal ball reference supposed to mean your guess is as good as mine or what? Edit: guess not :p|||So I've gone on six or so dates with an INFJ over a 3 month period (she's pretty busy, and me too) and recently I feel like progress has been a little glacial. For a bit I thought she was warming up...|||She hates texting.  And yeah, she told me how picky she was about people recently and that normally she wouldn't give anyone the time of day.|||You would literally have to have an autism spectrum disorder. I would know.  Not to mention you don't tell someone who is just friends how much you like them. That would be more than bizarre.|||It's kind of hard to get to the point of officially dating when you have no idea what is going on in her head. For all I know an attempt to kiss her would result in abject horror and assault...|||Spoke to her last night, she essentially said she likes me a lot and would normally never make any time for people unless she was obligated to. But she also indirectly used the word friend but it...|||So I met an INFJ female a while back, and we've been out like five or so times on a date. They go well, we get along, everything seems nice. I find her very attractive and we have quite a bit in...|||'  I don't know, I kind of have a rule that I don't compliment a female on her appearance until she trusts me. I did compliment her personality a few times.  She is extremely cautious from what I...|||Well, now I have a new question. Went on a second date a few days ago and it went well and she said she wanted to meet up again. The problem is, there hasn't been an ounce of flirting or touching...|||She started initiating with me and asked if I'm free soon. -_-    If there is anything to be learned it is don't play the analysis game. You will lose.|||Expectations of....?|||I don't know. I can't really fault a strong introvert for being wary about someone she doesn't really know. Number 2 is cruel, but it is how modern dating works.    Pretty sure this isn't the...|||I don't know. I can't really fault a strong introvert for being wary about someone she doesn't really know. Number 2 is cruel, but it is how modern dating works.    Pretty sure this isn't the...|||Thanks, option 1 seems most likely. It seems whenever I finally get her to open up there is like a cascade of good conversation that finally ensues, but it is like pulling teeth initially. Then I...|||I'm socially retarded and would know that if a random stranger asked for my contact info then asked me out for drinks or lunch then the person probably isn't interested in just being friends.|||So I shouldn't be deterred by the fact she doesn't really ever reach out to me? I don't enjoy appearing like someone who can't take a hint or who puts someone else in an awkward situation. I worry...|||No this seems to fit her pretty well.|||Thanks for the advice everyone. I appreciate your taking the time to respond.'\",\n          \"'This has to be written with bias or something, I'm not sure how you could even say that truthfully. For some reason you put subjectivity for both God and man? It says nothing.    That makes no...|||??? How?  The main priority of the church is written throughout it's texts for the past nearly 2000 years and reverberated throughout the church's dialogues both before and after the incident about...|||That's an annoying phrasing, as it's just obtuse and confusing to newcomers. I don't blame you for your response there.    Why must the revealed knowledge not speak truth but contain a bias...|||There are no priestly desk jobs. The closest thing you have to being a priest that gets you away from people is being a monk and that in itself is very different.  I am telling you they did it out...|||No, you really won't. You can't just go to an INTP and assume their intelligence level. That would end in failure. Don't be afraid to ask big questions when musing with the INTP and just try to...|||Heresy is, like, the core reason most all Christian in-fighting occurs. Everything else is minor disputes about theological opinions.|||That's exceedingly subjective. See what they're interested in, strike up a conversation about it. Definitely ask them their thoughts.|||To dismiss my concept of it is to dismiss all history on the topic, dismiss what the apostles taught, and literally all sects of Christianity. But fine, whatever.|||Do cool shit, discuss ideas, have patience, don't try to judge personally too quickly or control them. ALSO, make the first move to show you're interested in talking with them.|||I used to feel about the same until I read the book Self-Made Man, where a lesbian 'butch' woman dressed like a man and tried to live as one. She noticed herself being considered a feminine man quite...|||I'm not sure what the hell is going on in this thread but I would like to say I know no ENTJs personally, I don't think. It'd be neat, though.|||All churches are forms of political institutions. Catholic and Orthodox ones have the benefit of being centralized. All sects have declared doctrine in one way or another.  You're speaking against...|||And here is the most boring post in the whole thread.|||What part? If it's the idea of a teaching authority, you have a problem with all church until the 13th century. If it's the idea of a group being guided by the Holy Spirit in their decisions on...|||For Catholics, the church has a dual meaning. The whole of the believers (the Body of Christ) and the political institution. For Catholicism, their teachings of Christ are said to be protected by...|||Priests were relocated to other parishes so they may quiet down the criticism of the time and handle thing themselves. Again, poor decision but that was their decision.  The church's first priority...|||Well sure then. Yes, the church did protect child offenders. The church's reasoning was the image of the church itself and the their leadership's own ignorance of the size of the problem. The church...|||Edit: Based double post|||No, it really isn't. The Bible itself is the canon collection of texts. The Bible was established once the theological and historical work was done to establish the canon and it was not modified...|||Yes, nevermind it because the two claims do not contradict each other at all. I could work through how there is no contradiction if you're struggling.    I wouldn't say all, no. That's a...|||? There's no way to tell? But many of them depend on logic and/or history that contradicts or ruins their claims? Granted there are a few cases of we're yet to be able to know but many of it can...|||The problem of induction is a grand way of humbling yourself about scientific findings when you're younger. It brings into question if what we know is what we could call true.|||Rubix cubes.|||Pantheism makes no sense. I'd advise otherwise. Atheism and Abrahamic Theism are the only two rational choices.|||You, motherfucker.|||What is the meaning of everything? The universe exists. We are to learn to love in it.|||Disappointed 24 year old reporting in.  Good luck, OP.|||This is exceedingly naive. The early church, before scripture, applied their teaching to better society. After scripture, it was held in high esteem as a basis to properly better society. Most work...|||From the Catholic Catechism (list of official teaching) here is how we are to read the Bible:  III. THE HOLY SPIRIT, INTERPRETER OF SCRIPTURE   109 In Sacred Scripture, God speaks to man in a...|||I never liked people pointing to the Scandinavian model for the success of their economic system and not their incredible oil and natural resource supply compared to their small populations.|||While shit just got stupid for a moment. Lets try to get back on track.|||You're pretty smart, you know that?  Look at this fucker, she thinks I'm smart. Pfft.|||Exceedingly poor.|||I've just been told I'm bright, but I'm sure most everyone else says the same to the kids.|||And what of you?|||The most efficient way to remove self-doubt is to stop doubting yourself so much. Faith and trust, nigga.|||You suspect wrongly. I like the chatter and I'm being friendly with you. I seriously do hope you have a good day too.|||Indeed you do. Feel free to ask/argue/chat/or bullshit with me if you want. Have a good one, man.|||I'd say that's a stretch to say. Catholics believe the bible was inspired by God but written by men. Orthodox do too. As they assembled the biblical canon I'd have to say they have the greatest say...|||Edit: Welp.|||I see the arguments for inconsistencies. Sometimes they aren't actually inconsistencies. Sometimes they are. I find the simplest example of a true one being the rabbit that is apparently chewing...|||Sorry to take so long to get back to you, my internet has been screwing up horribly.  As for the answer, there was a considerable amount of things that got me off the atheist train but if I were to...|||The believing portion was a long and arduous process for me. I researched culture as a hobby and eventually I rolled around to religion. It was an interesting topic for me and I eventually began to...|||To your first statement... just... what. Where did that even come from? Of course they can know love, though with God they can know it fully, I'd argue.  As for Hell, it's taken a variety of...|||I'm very mixed on him. His criticism of Christianity (and envy, now that I've seen the video) is, while popular, piss poor and Max Scheler did a wonderful job making an argument otherwise on his...|||People believing in something as incontrovertibly true is what gets people into a murderous rage? Why just the incontrovertibly true? Why not the empirically true? Why not just majority opinion? To...|||Sure thing. Sounds sorta similar to the Epicurean Paradox.  Suffering/free will exists to strengthen the good. If you create a people so they may know love they cannot sincerely know love if they...|||Yo. Christian INTP here.  Anything you want?|||It's not we can make healthy children! it's we only let the healthy babies live! which is the issue. It's a moral issue about the innate value of life.|||249210'\"\n        ],\n        \"semantic_type\": \"\",\n        \"description\": \"\"\n      }\n    },\n    {\n      \"column\": \"tweet\",\n      \"properties\": {\n        \"dtype\": \"string\",\n        \"num_unique_values\": 8675,\n        \"samples\": [\n          \"'This. When I lie it's to avoid an unreasonable response for something I did that was completely justifiable to me but if I was to try to justify to someone else they'd be too hung up on what I did. I...Your IQ (SD15): 128I typically have very difficult times maintaining friends I've come to realize. I've had people I talk to for years and I still don't want to talk to them... I DID, but then I just got bored of them,...An INTJ friend of mine told me she really hates eating because it's so repetitive. As an INTP I don't really feel bothered, I don't really register eating I just do it while I'm thinking about...Similar Minds Advanced TestINTP 9 sx/so I have a lot of friends but I only have one I speak about how I actually feel with and only 1 other that I talk about what I am actually thinking about - with regards to...Getting close to someone and end up wanting to be infinitely close to them and end up merging every damn time.Interesting topic, I know two ENFP's, 1 is strange, as an INTP I view some of the stuff she does as 'coming onto me'?  - sort of. She gets really close and is very open to me, just what ENFP's do,...As far as I'm aware this is normal in all people, it's not so much your pessimistic self but just that humans are social creatures and you will feel better after socializing for that reason. Being...Vajrayaksa  How dare you use Lelouch as an INTP! He is an INTJ I say!I normally think about doing this stuff but don't actually do it.You'll probably find that commenting on their nihilistic thoughts logically would make them more open. Dismissing ideas will merely make them agree with that idea more as they'll feel a need to...Don't worry, calling me thinker is the same.INTJ - Winter - Coldest ENTJ - Summer - Actually doing things ENTP - Spring - Bringing out the fun in people INTP - Autumn - No one ever notices this seasonI've known a couple ENTP's, one ENTJ and an INTJ and it kind of went ENTP>ENTJ>ENTP>INTJ I love being able to constantly talk with ENTP's but also they need to know when to stop talking, if an ENTP...If you mean actually 1v1ing yourself I also have done this, maybe I'm wrong but I find it pretty easy to think about the most logical move the player I am playing should make with the information...Gender: female Age: 19-29 Intelligence: gifted Idea adoption: early-adopter MBTI personality profile: ESFP Closest alternative we found: ESFJ  I think I killed it when it told me to write...I'm fine with them, I'm more on shortage of people I'd ever want to do them with but that's on the grounds that any socialising that could be done could just as well be done over skype without the...I used to use pencils then I was told that my teachers wanted me to use pens only - so I used pens only. I haven't used a pencil - excluding my games of naughts and crosses earlier - in a couple...I'd love to own either a calm house out somewhere distant with a porch and a log cabin aesthetic - fuck it, I want a log cabin. OR I'd actually really like the idea of being in one of those smokey...Yeah I enjoy listening to lyrics but it doesn't make much of a difference if they're present or not, if they are there they're just another part of the instrumental I don't necessarily listen to...More often then not someone is only going to be fully entering my world if they invite me into theirs first and it's similar or we're friends on the internet - because then there are few...What did you get me today?  My head = Shit, shit, shit what did I miss, is it your birthday? Was I supposed to get you something? Are we that good friends that I should be buying you stuff? I...I frequently say it as an off hand thing, someone does something really awesome and I say fuck yeah I love you man or something like that. If I was to say it in a genuine way then it'd feel really...So something strange has been happening recently, my interest was drawn to naughts and crosses and how I could make it more enjoyable to play. I started by increasing the grid size and tried...You could tell them your thoughts. You could not tell them your thoughts and continue to brew over it. I think that there's no reason to be ashamed or annoyed about anything and if you don't...loudly, whilst he drew hisand the baby platypi quiveredparticularly in the higher regionsStarting with a lingering feelingWhat's the point of stopping? Why does it matter what they're called? Guilty pleasures are pleasures for a reason, does it matter that much?their own god dam storypost multiple times to doIt's impressive how people wouldMaximum of five words per line, feel free to say other stuff in the most but make sure it's clear which is the five words.     Once upon a time insomeone who appreciates c.c. Fuck yeah!Yeezus can't we come to a reasonable conclusion without you picking a fight? It's not being open minded.More often then not I judge them purely by how they judge me, I have a dark sense of humor that I'm not exactly secretive about, I get along with most people on the grounds that I'm just friendly to...I chose my avatar as it's an awesome art work of Kaneki from Tokyo Ghoul and by god I loved the manga, love tragedies. Name is a slightly altered version of my name, George - Georgius. Liked the Halo...Violence in this situation would probably be a faster way to get things done for both parties involved and especially on the receiving end, trying to talk sense into someone who just said something...But surely the point that everyone would be worse off initially isn't relevant? Rebuilding a system would obviously have it's issues here and there.  I'm not crying revolution and I'm not being...We'd call it Diagon Alley!I'm with you, I make a pretty big point of not being a person for people to expect feelings from, I want to be that person but I just feel wrong, someones crying their eyes out and here I am lying...Good call but that's just how I read it ^^'What about a four dimensional plane.Why airplane why not aeroplane?Hit them for having the expectation that you should live up to their expectations which is infuriating in and of itself probably.It's just because hitting a women is politically incorrect and some women will use that to their advantage.What he's saying is that they should assume that if they say something worthy of being hit for, that they should be grateful when they're not hit for it, not expect not to be hit just on the basis...Is it particularly common amongst INTP's and other types to just acknowledge another sides point of view even though socially you shouldn't. What I mean by this is I can't have conversation with...'\",\n          \"'I said zero flexibility and little time for dating. Going around sifting through dates to find one that clicks isn't going to be as viable.  That has nothing to do with maintaining a relationship I...How you've come to the conclusion I have nothing to offer  merely because I am busy is beyond me.       No not really. Again, more made up stuff.okay, this isn't cool.  you're specifically looking to get into a relationship because you're about to enter a life phase where you will not have any resources to give to a relationship?   that is...I do take it slow (that's why I'm still single), but I'm not interested in making friends. I  have friends. Enough for my liking. I'm interested in going on dates with the intent of entering a...Absolutely not for me. I find the idea repugnant, actually.People could have been polite. Maybe average is a more conservative bet. And I'm not claiming I'm a social butterfly. I'm just a normal guy who is introverted but not a social doofus.  I don't...I'm probably giving up the online thing here when my next subscription runs out. After that I really don't know where to look. Bars are a definite no. I don't understand where people meet their...I've tried both ways, actually. The last few women I have gone out with have gotten really weird and/or ignored my backhanded compliments. I don't know what to do anymore. Seems I get screwed either...I'm actually pretty healthy.     Sorry you feel that way. Not sure which ones you met, but assholes exist everywhere. The number isn't anywhere near 99% though.If anything I err on the side of being indifferent. Definitely not overeager.Yeah my close friends don't live near me anymore.  The issue is that I have been meeting people, a good amount, and nothing works. I want to know why it is that deformed, infirm, mentally unstable,...My friends are in worse positions than I am. Asking them isn't going to help.   As far as feedback, not really because that seems like an extraordinarily awkward thing to ask someone you barely...So, I'm a 26 year old male who has been striking out time and time again when it comes to relationships. I've been in one relationship my entire life that lasted like 1.5 years and ended when I was...I don't think this sort of dating method is very reasonable, and at best, it is counterproductive. Being friends first just throws a wrench in what is normally a smooth dating process. When you fear...Never was a kiss.I appreciate the feedback. I think I'm just going to tell her we shouldn't hang out unless she can dedicate a decent amount of time to it. What is happening right now is dragging things out and...I don't know. After thinking more, I'm on the verge of giving up. It has nothing to do with seeing her infrequently, or not making it official or what have you. It's that she keeps things...I don't know. I'm not a model or anything but I'm decent looking. She's drop dead gorgeous and nice and smart. Guys are always after her it seems. But I'm also smarter and have better career...I like your answer, but maybe I'm just being optimistic. It is basically, what I've been doing. I can't shake the feeling that she wouldn't be giving me any of her time if she weren't interested and...How am I supposed to know if an INFJ just wants to be friends? Things have been very weird with an INFJ I've been seeing. I've been very upfront about my intentions and she essentially told me she...Interesting. I find it unusual INFJs are known for taking forever to open up and trust people yet all the responses so far have indicated kissing in 3 or fewer dates....My INFJ friend has been with an INTJ, and i don't want to bust your confidence but even though she liked him at first, she soon found out that he was putting her down and felt caged. I can see that...Enlighten us infjs. Also indicate your gender and if you initiated.Well there was more than that. She also said she was basically trying to figure out if I'm trustworthy and decent.Those two things seem at odds. How can you be simultaneously not saying things that need to be said but also being proactively aggressive?Pretty much yeah. Women just do not enjoy my company on any level. I'm in the same situation. Never had any female friends, dated one person in my life and it lasted a little less than two years. The...I don't think that is going to help me dig myself out of the very clingy seeming hole I dug myself. I basically asked her if she knew I was romantically interested and she responded of course lol...I should have just let things proceed at a natural pace. Pretty pissed at myself. About zero chance she speaks to me again.I read through most of that thread. From what I can tell I never did anything egregious. Good chance she lost interest after my bluntness though lol.I broke that off shortly after my post. I felt like a slime ball. I only did it because people were telling me she's a lost cause and I should see other people. BTW I have a very well developed...Update on this. Told her I liked her and got no reassurance she liked me or even that she wasn't interested. Those who said she was ambivalent were right. I'm pretty much calling it off at this point...Yeah so I told her and didn't get an affirmation she liked me nor that she didn't. She basically said she had known for a while I like her. Pretty much what I expected. Probably going to call it...Is the crystal ball reference supposed to mean your guess is as good as mine or what? Edit: guess not :pSo I've gone on six or so dates with an INFJ over a 3 month period (she's pretty busy, and me too) and recently I feel like progress has been a little glacial. For a bit I thought she was warming up...She hates texting.  And yeah, she told me how picky she was about people recently and that normally she wouldn't give anyone the time of day.You would literally have to have an autism spectrum disorder. I would know.  Not to mention you don't tell someone who is just friends how much you like them. That would be more than bizarre.It's kind of hard to get to the point of officially dating when you have no idea what is going on in her head. For all I know an attempt to kiss her would result in abject horror and assault...Spoke to her last night, she essentially said she likes me a lot and would normally never make any time for people unless she was obligated to. But she also indirectly used the word friend but it...So I met an INFJ female a while back, and we've been out like five or so times on a date. They go well, we get along, everything seems nice. I find her very attractive and we have quite a bit in...'  I don't know, I kind of have a rule that I don't compliment a female on her appearance until she trusts me. I did compliment her personality a few times.  She is extremely cautious from what I...Well, now I have a new question. Went on a second date a few days ago and it went well and she said she wanted to meet up again. The problem is, there hasn't been an ounce of flirting or touching...She started initiating with me and asked if I'm free soon. -_-    If there is anything to be learned it is don't play the analysis game. You will lose.Expectations of....?I don't know. I can't really fault a strong introvert for being wary about someone she doesn't really know. Number 2 is cruel, but it is how modern dating works.    Pretty sure this isn't the...I don't know. I can't really fault a strong introvert for being wary about someone she doesn't really know. Number 2 is cruel, but it is how modern dating works.    Pretty sure this isn't the...Thanks, option 1 seems most likely. It seems whenever I finally get her to open up there is like a cascade of good conversation that finally ensues, but it is like pulling teeth initially. Then I...I'm socially retarded and would know that if a random stranger asked for my contact info then asked me out for drinks or lunch then the person probably isn't interested in just being friends.So I shouldn't be deterred by the fact she doesn't really ever reach out to me? I don't enjoy appearing like someone who can't take a hint or who puts someone else in an awkward situation. I worry...No this seems to fit her pretty well.Thanks for the advice everyone. I appreciate your taking the time to respond.'\",\n          \"'This has to be written with bias or something, I'm not sure how you could even say that truthfully. For some reason you put subjectivity for both God and man? It says nothing.    That makes no...??? How?  The main priority of the church is written throughout it's texts for the past nearly 2000 years and reverberated throughout the church's dialogues both before and after the incident about...That's an annoying phrasing, as it's just obtuse and confusing to newcomers. I don't blame you for your response there.    Why must the revealed knowledge not speak truth but contain a bias...There are no priestly desk jobs. The closest thing you have to being a priest that gets you away from people is being a monk and that in itself is very different.  I am telling you they did it out...No, you really won't. You can't just go to an INTP and assume their intelligence level. That would end in failure. Don't be afraid to ask big questions when musing with the INTP and just try to...Heresy is, like, the core reason most all Christian in-fighting occurs. Everything else is minor disputes about theological opinions.That's exceedingly subjective. See what they're interested in, strike up a conversation about it. Definitely ask them their thoughts.To dismiss my concept of it is to dismiss all history on the topic, dismiss what the apostles taught, and literally all sects of Christianity. But fine, whatever.Do cool shit, discuss ideas, have patience, don't try to judge personally too quickly or control them. ALSO, make the first move to show you're interested in talking with them.I used to feel about the same until I read the book Self-Made Man, where a lesbian 'butch' woman dressed like a man and tried to live as one. She noticed herself being considered a feminine man quite...I'm not sure what the hell is going on in this thread but I would like to say I know no ENTJs personally, I don't think. It'd be neat, though.All churches are forms of political institutions. Catholic and Orthodox ones have the benefit of being centralized. All sects have declared doctrine in one way or another.  You're speaking against...And here is the most boring post in the whole thread.What part? If it's the idea of a teaching authority, you have a problem with all church until the 13th century. If it's the idea of a group being guided by the Holy Spirit in their decisions on...For Catholics, the church has a dual meaning. The whole of the believers (the Body of Christ) and the political institution. For Catholicism, their teachings of Christ are said to be protected by...Priests were relocated to other parishes so they may quiet down the criticism of the time and handle thing themselves. Again, poor decision but that was their decision.  The church's first priority...Well sure then. Yes, the church did protect child offenders. The church's reasoning was the image of the church itself and the their leadership's own ignorance of the size of the problem. The church...Edit: Based double postNo, it really isn't. The Bible itself is the canon collection of texts. The Bible was established once the theological and historical work was done to establish the canon and it was not modified...Yes, nevermind it because the two claims do not contradict each other at all. I could work through how there is no contradiction if you're struggling.    I wouldn't say all, no. That's a...? There's no way to tell? But many of them depend on logic and/or history that contradicts or ruins their claims? Granted there are a few cases of we're yet to be able to know but many of it can...The problem of induction is a grand way of humbling yourself about scientific findings when you're younger. It brings into question if what we know is what we could call true.Rubix cubes.Pantheism makes no sense. I'd advise otherwise. Atheism and Abrahamic Theism are the only two rational choices.You, motherfucker.What is the meaning of everything? The universe exists. We are to learn to love in it.Disappointed 24 year old reporting in.  Good luck, OP.This is exceedingly naive. The early church, before scripture, applied their teaching to better society. After scripture, it was held in high esteem as a basis to properly better society. Most work...From the Catholic Catechism (list of official teaching) here is how we are to read the Bible:  III. THE HOLY SPIRIT, INTERPRETER OF SCRIPTURE   109 In Sacred Scripture, God speaks to man in a...I never liked people pointing to the Scandinavian model for the success of their economic system and not their incredible oil and natural resource supply compared to their small populations.While shit just got stupid for a moment. Lets try to get back on track.You're pretty smart, you know that?  Look at this fucker, she thinks I'm smart. Pfft.Exceedingly poor.I've just been told I'm bright, but I'm sure most everyone else says the same to the kids.And what of you?The most efficient way to remove self-doubt is to stop doubting yourself so much. Faith and trust, nigga.You suspect wrongly. I like the chatter and I'm being friendly with you. I seriously do hope you have a good day too.Indeed you do. Feel free to ask/argue/chat/or bullshit with me if you want. Have a good one, man.I'd say that's a stretch to say. Catholics believe the bible was inspired by God but written by men. Orthodox do too. As they assembled the biblical canon I'd have to say they have the greatest say...Edit: Welp.I see the arguments for inconsistencies. Sometimes they aren't actually inconsistencies. Sometimes they are. I find the simplest example of a true one being the rabbit that is apparently chewing...Sorry to take so long to get back to you, my internet has been screwing up horribly.  As for the answer, there was a considerable amount of things that got me off the atheist train but if I were to...The believing portion was a long and arduous process for me. I researched culture as a hobby and eventually I rolled around to religion. It was an interesting topic for me and I eventually began to...To your first statement... just... what. Where did that even come from? Of course they can know love, though with God they can know it fully, I'd argue.  As for Hell, it's taken a variety of...I'm very mixed on him. His criticism of Christianity (and envy, now that I've seen the video) is, while popular, piss poor and Max Scheler did a wonderful job making an argument otherwise on his...People believing in something as incontrovertibly true is what gets people into a murderous rage? Why just the incontrovertibly true? Why not the empirically true? Why not just majority opinion? To...Sure thing. Sounds sorta similar to the Epicurean Paradox.  Suffering/free will exists to strengthen the good. If you create a people so they may know love they cannot sincerely know love if they...Yo. Christian INTP here.  Anything you want?It's not we can make healthy children! it's we only let the healthy babies live! which is the issue. It's a moral issue about the innate value of life.249210'\"\n        ],\n        \"semantic_type\": \"\",\n        \"description\": \"\"\n      }\n    }\n  ]\n}"
            }
          },
          "metadata": {},
          "execution_count": 18
        }
      ],
      "source": [
        "df"
      ]
    },
    {
      "cell_type": "code",
      "execution_count": 19,
      "metadata": {
        "id": "xZudg6BwlLob"
      },
      "outputs": [],
      "source": [
        "df[\"tweet\"] = df[\"tweet\"].apply(clean_tweet)"
      ]
    },
    {
      "cell_type": "code",
      "execution_count": 20,
      "metadata": {
        "colab": {
          "base_uri": "https://localhost:8080/",
          "height": 597
        },
        "id": "LLh1ZMLmol-j",
        "outputId": "b18b4553-5888-4966-b48e-6e1e6b8f0ba6"
      },
      "outputs": [
        {
          "output_type": "execute_result",
          "data": {
            "text/plain": [
              "      type                                              posts  \\\n",
              "0     INFJ  'http://www.youtube.com/watch?v=qsXHcwe3krw|||...   \n",
              "1     ENTP  'I'm finding the lack of me in these posts ver...   \n",
              "2     INTP  'Good one  _____   https://www.youtube.com/wat...   \n",
              "3     INTJ  'Dear INTP,   I enjoyed our conversation the o...   \n",
              "4     ENTJ  'You're fired.|||That's another silly misconce...   \n",
              "...    ...                                                ...   \n",
              "8670  ISFP  'https://www.youtube.com/watch?v=t8edHB_h908||...   \n",
              "8671  ENFP  'So...if this thread already exists someplace ...   \n",
              "8672  INTP  'So many questions when i do these things.  I ...   \n",
              "8673  INFP  'I am very conflicted right now when it comes ...   \n",
              "8674  INFP  'It has been too long since I have been on per...   \n",
              "\n",
              "                                                  tweet  \n",
              "0     url and intj moments  url  sportscenter not to...  \n",
              "1     i m finding the lack of me in these posts very...  \n",
              "2     good one          url course  to which i say i...  \n",
              "3     dear intp    i enjoyed our conversation the ot...  \n",
              "4     you re fired that s another silly misconceptio...  \n",
              "...                                                 ...  \n",
              "8670  url just because i always think of cats as fi ...  \n",
              "8671  so   if this thread already exists someplace e...  \n",
              "8672  so many questions when i do these things   i w...  \n",
              "8673  i am very conflicted right now when it comes t...  \n",
              "8674  it has been too long since i have been on pers...  \n",
              "\n",
              "[8675 rows x 3 columns]"
            ],
            "text/html": [
              "\n",
              "  <div id=\"df-53b056c4-9220-446f-8435-afd012f7c33d\" class=\"colab-df-container\">\n",
              "    <div>\n",
              "<style scoped>\n",
              "    .dataframe tbody tr th:only-of-type {\n",
              "        vertical-align: middle;\n",
              "    }\n",
              "\n",
              "    .dataframe tbody tr th {\n",
              "        vertical-align: top;\n",
              "    }\n",
              "\n",
              "    .dataframe thead th {\n",
              "        text-align: right;\n",
              "    }\n",
              "</style>\n",
              "<table border=\"1\" class=\"dataframe\">\n",
              "  <thead>\n",
              "    <tr style=\"text-align: right;\">\n",
              "      <th></th>\n",
              "      <th>type</th>\n",
              "      <th>posts</th>\n",
              "      <th>tweet</th>\n",
              "    </tr>\n",
              "  </thead>\n",
              "  <tbody>\n",
              "    <tr>\n",
              "      <th>0</th>\n",
              "      <td>INFJ</td>\n",
              "      <td>'http://www.youtube.com/watch?v=qsXHcwe3krw|||...</td>\n",
              "      <td>url and intj moments  url  sportscenter not to...</td>\n",
              "    </tr>\n",
              "    <tr>\n",
              "      <th>1</th>\n",
              "      <td>ENTP</td>\n",
              "      <td>'I'm finding the lack of me in these posts ver...</td>\n",
              "      <td>i m finding the lack of me in these posts very...</td>\n",
              "    </tr>\n",
              "    <tr>\n",
              "      <th>2</th>\n",
              "      <td>INTP</td>\n",
              "      <td>'Good one  _____   https://www.youtube.com/wat...</td>\n",
              "      <td>good one          url course  to which i say i...</td>\n",
              "    </tr>\n",
              "    <tr>\n",
              "      <th>3</th>\n",
              "      <td>INTJ</td>\n",
              "      <td>'Dear INTP,   I enjoyed our conversation the o...</td>\n",
              "      <td>dear intp    i enjoyed our conversation the ot...</td>\n",
              "    </tr>\n",
              "    <tr>\n",
              "      <th>4</th>\n",
              "      <td>ENTJ</td>\n",
              "      <td>'You're fired.|||That's another silly misconce...</td>\n",
              "      <td>you re fired that s another silly misconceptio...</td>\n",
              "    </tr>\n",
              "    <tr>\n",
              "      <th>...</th>\n",
              "      <td>...</td>\n",
              "      <td>...</td>\n",
              "      <td>...</td>\n",
              "    </tr>\n",
              "    <tr>\n",
              "      <th>8670</th>\n",
              "      <td>ISFP</td>\n",
              "      <td>'https://www.youtube.com/watch?v=t8edHB_h908||...</td>\n",
              "      <td>url just because i always think of cats as fi ...</td>\n",
              "    </tr>\n",
              "    <tr>\n",
              "      <th>8671</th>\n",
              "      <td>ENFP</td>\n",
              "      <td>'So...if this thread already exists someplace ...</td>\n",
              "      <td>so   if this thread already exists someplace e...</td>\n",
              "    </tr>\n",
              "    <tr>\n",
              "      <th>8672</th>\n",
              "      <td>INTP</td>\n",
              "      <td>'So many questions when i do these things.  I ...</td>\n",
              "      <td>so many questions when i do these things   i w...</td>\n",
              "    </tr>\n",
              "    <tr>\n",
              "      <th>8673</th>\n",
              "      <td>INFP</td>\n",
              "      <td>'I am very conflicted right now when it comes ...</td>\n",
              "      <td>i am very conflicted right now when it comes t...</td>\n",
              "    </tr>\n",
              "    <tr>\n",
              "      <th>8674</th>\n",
              "      <td>INFP</td>\n",
              "      <td>'It has been too long since I have been on per...</td>\n",
              "      <td>it has been too long since i have been on pers...</td>\n",
              "    </tr>\n",
              "  </tbody>\n",
              "</table>\n",
              "<p>8675 rows × 3 columns</p>\n",
              "</div>\n",
              "    <div class=\"colab-df-buttons\">\n",
              "\n",
              "  <div class=\"colab-df-container\">\n",
              "    <button class=\"colab-df-convert\" onclick=\"convertToInteractive('df-53b056c4-9220-446f-8435-afd012f7c33d')\"\n",
              "            title=\"Convert this dataframe to an interactive table.\"\n",
              "            style=\"display:none;\">\n",
              "\n",
              "  <svg xmlns=\"http://www.w3.org/2000/svg\" height=\"24px\" viewBox=\"0 -960 960 960\">\n",
              "    <path d=\"M120-120v-720h720v720H120Zm60-500h600v-160H180v160Zm220 220h160v-160H400v160Zm0 220h160v-160H400v160ZM180-400h160v-160H180v160Zm440 0h160v-160H620v160ZM180-180h160v-160H180v160Zm440 0h160v-160H620v160Z\"/>\n",
              "  </svg>\n",
              "    </button>\n",
              "\n",
              "  <style>\n",
              "    .colab-df-container {\n",
              "      display:flex;\n",
              "      gap: 12px;\n",
              "    }\n",
              "\n",
              "    .colab-df-convert {\n",
              "      background-color: #E8F0FE;\n",
              "      border: none;\n",
              "      border-radius: 50%;\n",
              "      cursor: pointer;\n",
              "      display: none;\n",
              "      fill: #1967D2;\n",
              "      height: 32px;\n",
              "      padding: 0 0 0 0;\n",
              "      width: 32px;\n",
              "    }\n",
              "\n",
              "    .colab-df-convert:hover {\n",
              "      background-color: #E2EBFA;\n",
              "      box-shadow: 0px 1px 2px rgba(60, 64, 67, 0.3), 0px 1px 3px 1px rgba(60, 64, 67, 0.15);\n",
              "      fill: #174EA6;\n",
              "    }\n",
              "\n",
              "    .colab-df-buttons div {\n",
              "      margin-bottom: 4px;\n",
              "    }\n",
              "\n",
              "    [theme=dark] .colab-df-convert {\n",
              "      background-color: #3B4455;\n",
              "      fill: #D2E3FC;\n",
              "    }\n",
              "\n",
              "    [theme=dark] .colab-df-convert:hover {\n",
              "      background-color: #434B5C;\n",
              "      box-shadow: 0px 1px 3px 1px rgba(0, 0, 0, 0.15);\n",
              "      filter: drop-shadow(0px 1px 2px rgba(0, 0, 0, 0.3));\n",
              "      fill: #FFFFFF;\n",
              "    }\n",
              "  </style>\n",
              "\n",
              "    <script>\n",
              "      const buttonEl =\n",
              "        document.querySelector('#df-53b056c4-9220-446f-8435-afd012f7c33d button.colab-df-convert');\n",
              "      buttonEl.style.display =\n",
              "        google.colab.kernel.accessAllowed ? 'block' : 'none';\n",
              "\n",
              "      async function convertToInteractive(key) {\n",
              "        const element = document.querySelector('#df-53b056c4-9220-446f-8435-afd012f7c33d');\n",
              "        const dataTable =\n",
              "          await google.colab.kernel.invokeFunction('convertToInteractive',\n",
              "                                                    [key], {});\n",
              "        if (!dataTable) return;\n",
              "\n",
              "        const docLinkHtml = 'Like what you see? Visit the ' +\n",
              "          '<a target=\"_blank\" href=https://colab.research.google.com/notebooks/data_table.ipynb>data table notebook</a>'\n",
              "          + ' to learn more about interactive tables.';\n",
              "        element.innerHTML = '';\n",
              "        dataTable['output_type'] = 'display_data';\n",
              "        await google.colab.output.renderOutput(dataTable, element);\n",
              "        const docLink = document.createElement('div');\n",
              "        docLink.innerHTML = docLinkHtml;\n",
              "        element.appendChild(docLink);\n",
              "      }\n",
              "    </script>\n",
              "  </div>\n",
              "\n",
              "\n",
              "<div id=\"df-22717409-7519-4f23-8943-f6adaf0c019d\">\n",
              "  <button class=\"colab-df-quickchart\" onclick=\"quickchart('df-22717409-7519-4f23-8943-f6adaf0c019d')\"\n",
              "            title=\"Suggest charts\"\n",
              "            style=\"display:none;\">\n",
              "\n",
              "<svg xmlns=\"http://www.w3.org/2000/svg\" height=\"24px\"viewBox=\"0 0 24 24\"\n",
              "     width=\"24px\">\n",
              "    <g>\n",
              "        <path d=\"M19 3H5c-1.1 0-2 .9-2 2v14c0 1.1.9 2 2 2h14c1.1 0 2-.9 2-2V5c0-1.1-.9-2-2-2zM9 17H7v-7h2v7zm4 0h-2V7h2v10zm4 0h-2v-4h2v4z\"/>\n",
              "    </g>\n",
              "</svg>\n",
              "  </button>\n",
              "\n",
              "<style>\n",
              "  .colab-df-quickchart {\n",
              "      --bg-color: #E8F0FE;\n",
              "      --fill-color: #1967D2;\n",
              "      --hover-bg-color: #E2EBFA;\n",
              "      --hover-fill-color: #174EA6;\n",
              "      --disabled-fill-color: #AAA;\n",
              "      --disabled-bg-color: #DDD;\n",
              "  }\n",
              "\n",
              "  [theme=dark] .colab-df-quickchart {\n",
              "      --bg-color: #3B4455;\n",
              "      --fill-color: #D2E3FC;\n",
              "      --hover-bg-color: #434B5C;\n",
              "      --hover-fill-color: #FFFFFF;\n",
              "      --disabled-bg-color: #3B4455;\n",
              "      --disabled-fill-color: #666;\n",
              "  }\n",
              "\n",
              "  .colab-df-quickchart {\n",
              "    background-color: var(--bg-color);\n",
              "    border: none;\n",
              "    border-radius: 50%;\n",
              "    cursor: pointer;\n",
              "    display: none;\n",
              "    fill: var(--fill-color);\n",
              "    height: 32px;\n",
              "    padding: 0;\n",
              "    width: 32px;\n",
              "  }\n",
              "\n",
              "  .colab-df-quickchart:hover {\n",
              "    background-color: var(--hover-bg-color);\n",
              "    box-shadow: 0 1px 2px rgba(60, 64, 67, 0.3), 0 1px 3px 1px rgba(60, 64, 67, 0.15);\n",
              "    fill: var(--button-hover-fill-color);\n",
              "  }\n",
              "\n",
              "  .colab-df-quickchart-complete:disabled,\n",
              "  .colab-df-quickchart-complete:disabled:hover {\n",
              "    background-color: var(--disabled-bg-color);\n",
              "    fill: var(--disabled-fill-color);\n",
              "    box-shadow: none;\n",
              "  }\n",
              "\n",
              "  .colab-df-spinner {\n",
              "    border: 2px solid var(--fill-color);\n",
              "    border-color: transparent;\n",
              "    border-bottom-color: var(--fill-color);\n",
              "    animation:\n",
              "      spin 1s steps(1) infinite;\n",
              "  }\n",
              "\n",
              "  @keyframes spin {\n",
              "    0% {\n",
              "      border-color: transparent;\n",
              "      border-bottom-color: var(--fill-color);\n",
              "      border-left-color: var(--fill-color);\n",
              "    }\n",
              "    20% {\n",
              "      border-color: transparent;\n",
              "      border-left-color: var(--fill-color);\n",
              "      border-top-color: var(--fill-color);\n",
              "    }\n",
              "    30% {\n",
              "      border-color: transparent;\n",
              "      border-left-color: var(--fill-color);\n",
              "      border-top-color: var(--fill-color);\n",
              "      border-right-color: var(--fill-color);\n",
              "    }\n",
              "    40% {\n",
              "      border-color: transparent;\n",
              "      border-right-color: var(--fill-color);\n",
              "      border-top-color: var(--fill-color);\n",
              "    }\n",
              "    60% {\n",
              "      border-color: transparent;\n",
              "      border-right-color: var(--fill-color);\n",
              "    }\n",
              "    80% {\n",
              "      border-color: transparent;\n",
              "      border-right-color: var(--fill-color);\n",
              "      border-bottom-color: var(--fill-color);\n",
              "    }\n",
              "    90% {\n",
              "      border-color: transparent;\n",
              "      border-bottom-color: var(--fill-color);\n",
              "    }\n",
              "  }\n",
              "</style>\n",
              "\n",
              "  <script>\n",
              "    async function quickchart(key) {\n",
              "      const quickchartButtonEl =\n",
              "        document.querySelector('#' + key + ' button');\n",
              "      quickchartButtonEl.disabled = true;  // To prevent multiple clicks.\n",
              "      quickchartButtonEl.classList.add('colab-df-spinner');\n",
              "      try {\n",
              "        const charts = await google.colab.kernel.invokeFunction(\n",
              "            'suggestCharts', [key], {});\n",
              "      } catch (error) {\n",
              "        console.error('Error during call to suggestCharts:', error);\n",
              "      }\n",
              "      quickchartButtonEl.classList.remove('colab-df-spinner');\n",
              "      quickchartButtonEl.classList.add('colab-df-quickchart-complete');\n",
              "    }\n",
              "    (() => {\n",
              "      let quickchartButtonEl =\n",
              "        document.querySelector('#df-22717409-7519-4f23-8943-f6adaf0c019d button');\n",
              "      quickchartButtonEl.style.display =\n",
              "        google.colab.kernel.accessAllowed ? 'block' : 'none';\n",
              "    })();\n",
              "  </script>\n",
              "</div>\n",
              "\n",
              "  <div id=\"id_c8228de1-2483-4d63-a094-0a542e6b81f2\">\n",
              "    <style>\n",
              "      .colab-df-generate {\n",
              "        background-color: #E8F0FE;\n",
              "        border: none;\n",
              "        border-radius: 50%;\n",
              "        cursor: pointer;\n",
              "        display: none;\n",
              "        fill: #1967D2;\n",
              "        height: 32px;\n",
              "        padding: 0 0 0 0;\n",
              "        width: 32px;\n",
              "      }\n",
              "\n",
              "      .colab-df-generate:hover {\n",
              "        background-color: #E2EBFA;\n",
              "        box-shadow: 0px 1px 2px rgba(60, 64, 67, 0.3), 0px 1px 3px 1px rgba(60, 64, 67, 0.15);\n",
              "        fill: #174EA6;\n",
              "      }\n",
              "\n",
              "      [theme=dark] .colab-df-generate {\n",
              "        background-color: #3B4455;\n",
              "        fill: #D2E3FC;\n",
              "      }\n",
              "\n",
              "      [theme=dark] .colab-df-generate:hover {\n",
              "        background-color: #434B5C;\n",
              "        box-shadow: 0px 1px 3px 1px rgba(0, 0, 0, 0.15);\n",
              "        filter: drop-shadow(0px 1px 2px rgba(0, 0, 0, 0.3));\n",
              "        fill: #FFFFFF;\n",
              "      }\n",
              "    </style>\n",
              "    <button class=\"colab-df-generate\" onclick=\"generateWithVariable('df')\"\n",
              "            title=\"Generate code using this dataframe.\"\n",
              "            style=\"display:none;\">\n",
              "\n",
              "  <svg xmlns=\"http://www.w3.org/2000/svg\" height=\"24px\"viewBox=\"0 0 24 24\"\n",
              "       width=\"24px\">\n",
              "    <path d=\"M7,19H8.4L18.45,9,17,7.55,7,17.6ZM5,21V16.75L18.45,3.32a2,2,0,0,1,2.83,0l1.4,1.43a1.91,1.91,0,0,1,.58,1.4,1.91,1.91,0,0,1-.58,1.4L9.25,21ZM18.45,9,17,7.55Zm-12,3A5.31,5.31,0,0,0,4.9,8.1,5.31,5.31,0,0,0,1,6.5,5.31,5.31,0,0,0,4.9,4.9,5.31,5.31,0,0,0,6.5,1,5.31,5.31,0,0,0,8.1,4.9,5.31,5.31,0,0,0,12,6.5,5.46,5.46,0,0,0,6.5,12Z\"/>\n",
              "  </svg>\n",
              "    </button>\n",
              "    <script>\n",
              "      (() => {\n",
              "      const buttonEl =\n",
              "        document.querySelector('#id_c8228de1-2483-4d63-a094-0a542e6b81f2 button.colab-df-generate');\n",
              "      buttonEl.style.display =\n",
              "        google.colab.kernel.accessAllowed ? 'block' : 'none';\n",
              "\n",
              "      buttonEl.onclick = () => {\n",
              "        google.colab.notebook.generateWithVariable('df');\n",
              "      }\n",
              "      })();\n",
              "    </script>\n",
              "  </div>\n",
              "\n",
              "    </div>\n",
              "  </div>\n"
            ],
            "application/vnd.google.colaboratory.intrinsic+json": {
              "type": "dataframe",
              "variable_name": "df",
              "summary": "{\n  \"name\": \"df\",\n  \"rows\": 8675,\n  \"fields\": [\n    {\n      \"column\": \"type\",\n      \"properties\": {\n        \"dtype\": \"category\",\n        \"num_unique_values\": 16,\n        \"samples\": [\n          \"INFJ\",\n          \"ENTP\",\n          \"ENFJ\"\n        ],\n        \"semantic_type\": \"\",\n        \"description\": \"\"\n      }\n    },\n    {\n      \"column\": \"posts\",\n      \"properties\": {\n        \"dtype\": \"string\",\n        \"num_unique_values\": 8675,\n        \"samples\": [\n          \"'This. When I lie it's to avoid an unreasonable response for something I did that was completely justifiable to me but if I was to try to justify to someone else they'd be too hung up on what I did. I...|||Your IQ (SD15): 128|||I typically have very difficult times maintaining friends I've come to realize. I've had people I talk to for years and I still don't want to talk to them... I DID, but then I just got bored of them,...|||An INTJ friend of mine told me she really hates eating because it's so repetitive. As an INTP I don't really feel bothered, I don't really register eating I just do it while I'm thinking about...|||Similar Minds Advanced Test|||INTP 9 sx/so I have a lot of friends but I only have one I speak about how I actually feel with and only 1 other that I talk about what I am actually thinking about - with regards to...|||Getting close to someone and end up wanting to be infinitely close to them and end up merging every damn time.|||Interesting topic, I know two ENFP's, 1 is strange, as an INTP I view some of the stuff she does as 'coming onto me'?  - sort of. She gets really close and is very open to me, just what ENFP's do,...|||As far as I'm aware this is normal in all people, it's not so much your pessimistic self but just that humans are social creatures and you will feel better after socializing for that reason. Being...|||Vajrayaksa  How dare you use Lelouch as an INTP! He is an INTJ I say!|||I normally think about doing this stuff but don't actually do it.|||You'll probably find that commenting on their nihilistic thoughts logically would make them more open. Dismissing ideas will merely make them agree with that idea more as they'll feel a need to...|||Don't worry, calling me thinker is the same.|||INTJ - Winter - Coldest ENTJ - Summer - Actually doing things ENTP - Spring - Bringing out the fun in people INTP - Autumn - No one ever notices this season|||I've known a couple ENTP's, one ENTJ and an INTJ and it kind of went ENTP>ENTJ>ENTP>INTJ I love being able to constantly talk with ENTP's but also they need to know when to stop talking, if an ENTP...|||If you mean actually 1v1ing yourself I also have done this, maybe I'm wrong but I find it pretty easy to think about the most logical move the player I am playing should make with the information...|||Gender: female Age: 19-29 Intelligence: gifted Idea adoption: early-adopter MBTI personality profile: ESFP Closest alternative we found: ESFJ  I think I killed it when it told me to write...|||I'm fine with them, I'm more on shortage of people I'd ever want to do them with but that's on the grounds that any socialising that could be done could just as well be done over skype without the...|||I used to use pencils then I was told that my teachers wanted me to use pens only - so I used pens only. I haven't used a pencil - excluding my games of naughts and crosses earlier - in a couple...|||I'd love to own either a calm house out somewhere distant with a porch and a log cabin aesthetic - fuck it, I want a log cabin. OR I'd actually really like the idea of being in one of those smokey...|||Yeah I enjoy listening to lyrics but it doesn't make much of a difference if they're present or not, if they are there they're just another part of the instrumental I don't necessarily listen to...|||More often then not someone is only going to be fully entering my world if they invite me into theirs first and it's similar or we're friends on the internet - because then there are few...|||What did you get me today?  My head = Shit, shit, shit what did I miss, is it your birthday? Was I supposed to get you something? Are we that good friends that I should be buying you stuff? I...|||I frequently say it as an off hand thing, someone does something really awesome and I say fuck yeah I love you man or something like that. If I was to say it in a genuine way then it'd feel really...|||So something strange has been happening recently, my interest was drawn to naughts and crosses and how I could make it more enjoyable to play. I started by increasing the grid size and tried...|||You could tell them your thoughts. You could not tell them your thoughts and continue to brew over it. I think that there's no reason to be ashamed or annoyed about anything and if you don't...|||loudly, whilst he drew his|||and the baby platypi quivered|||particularly in the higher regions|||Starting with a lingering feeling|||What's the point of stopping? Why does it matter what they're called? Guilty pleasures are pleasures for a reason, does it matter that much?|||their own god dam story|||post multiple times to do|||It's impressive how people would|||Maximum of five words per line, feel free to say other stuff in the most but make sure it's clear which is the five words.     Once upon a time in|||someone who appreciates c.c. Fuck yeah!|||Yeezus can't we come to a reasonable conclusion without you picking a fight? It's not being open minded.|||More often then not I judge them purely by how they judge me, I have a dark sense of humor that I'm not exactly secretive about, I get along with most people on the grounds that I'm just friendly to...|||I chose my avatar as it's an awesome art work of Kaneki from Tokyo Ghoul and by god I loved the manga, love tragedies. Name is a slightly altered version of my name, George - Georgius. Liked the Halo...|||Violence in this situation would probably be a faster way to get things done for both parties involved and especially on the receiving end, trying to talk sense into someone who just said something...|||But surely the point that everyone would be worse off initially isn't relevant? Rebuilding a system would obviously have it's issues here and there.  I'm not crying revolution and I'm not being...|||We'd call it Diagon Alley!|||I'm with you, I make a pretty big point of not being a person for people to expect feelings from, I want to be that person but I just feel wrong, someones crying their eyes out and here I am lying...|||Good call but that's just how I read it ^^'|||What about a four dimensional plane.|||Why airplane why not aeroplane?|||Hit them for having the expectation that you should live up to their expectations which is infuriating in and of itself probably.|||It's just because hitting a women is politically incorrect and some women will use that to their advantage.|||What he's saying is that they should assume that if they say something worthy of being hit for, that they should be grateful when they're not hit for it, not expect not to be hit just on the basis...|||Is it particularly common amongst INTP's and other types to just acknowledge another sides point of view even though socially you shouldn't. What I mean by this is I can't have conversation with...'\",\n          \"'I said zero flexibility and little time for dating. Going around sifting through dates to find one that clicks isn't going to be as viable.  That has nothing to do with maintaining a relationship I...|||How you've come to the conclusion I have nothing to offer  merely because I am busy is beyond me.       No not really. Again, more made up stuff.|||okay, this isn't cool.  you're specifically looking to get into a relationship because you're about to enter a life phase where you will not have any resources to give to a relationship?   that is...|||I do take it slow (that's why I'm still single), but I'm not interested in making friends. I  have friends. Enough for my liking. I'm interested in going on dates with the intent of entering a...|||Absolutely not for me. I find the idea repugnant, actually.|||People could have been polite. Maybe average is a more conservative bet. And I'm not claiming I'm a social butterfly. I'm just a normal guy who is introverted but not a social doofus.  I don't...|||I'm probably giving up the online thing here when my next subscription runs out. After that I really don't know where to look. Bars are a definite no. I don't understand where people meet their...|||I've tried both ways, actually. The last few women I have gone out with have gotten really weird and/or ignored my backhanded compliments. I don't know what to do anymore. Seems I get screwed either...|||I'm actually pretty healthy.     Sorry you feel that way. Not sure which ones you met, but assholes exist everywhere. The number isn't anywhere near 99% though.|||If anything I err on the side of being indifferent. Definitely not overeager.|||Yeah my close friends don't live near me anymore.  The issue is that I have been meeting people, a good amount, and nothing works. I want to know why it is that deformed, infirm, mentally unstable,...|||My friends are in worse positions than I am. Asking them isn't going to help.   As far as feedback, not really because that seems like an extraordinarily awkward thing to ask someone you barely...|||So, I'm a 26 year old male who has been striking out time and time again when it comes to relationships. I've been in one relationship my entire life that lasted like 1.5 years and ended when I was...|||I don't think this sort of dating method is very reasonable, and at best, it is counterproductive. Being friends first just throws a wrench in what is normally a smooth dating process. When you fear...|||Never was a kiss.|||I appreciate the feedback. I think I'm just going to tell her we shouldn't hang out unless she can dedicate a decent amount of time to it. What is happening right now is dragging things out and...|||I don't know. After thinking more, I'm on the verge of giving up. It has nothing to do with seeing her infrequently, or not making it official or what have you. It's that she keeps things...|||I don't know. I'm not a model or anything but I'm decent looking. She's drop dead gorgeous and nice and smart. Guys are always after her it seems. But I'm also smarter and have better career...|||I like your answer, but maybe I'm just being optimistic. It is basically, what I've been doing. I can't shake the feeling that she wouldn't be giving me any of her time if she weren't interested and...|||How am I supposed to know if an INFJ just wants to be friends? Things have been very weird with an INFJ I've been seeing. I've been very upfront about my intentions and she essentially told me she...|||Interesting. I find it unusual INFJs are known for taking forever to open up and trust people yet all the responses so far have indicated kissing in 3 or fewer dates....|||My INFJ friend has been with an INTJ, and i don't want to bust your confidence but even though she liked him at first, she soon found out that he was putting her down and felt caged. I can see that...|||Enlighten us infjs. Also indicate your gender and if you initiated.|||Well there was more than that. She also said she was basically trying to figure out if I'm trustworthy and decent.|||Those two things seem at odds. How can you be simultaneously not saying things that need to be said but also being proactively aggressive?|||Pretty much yeah. Women just do not enjoy my company on any level. I'm in the same situation. Never had any female friends, dated one person in my life and it lasted a little less than two years. The...|||I don't think that is going to help me dig myself out of the very clingy seeming hole I dug myself. I basically asked her if she knew I was romantically interested and she responded of course lol...|||I should have just let things proceed at a natural pace. Pretty pissed at myself. About zero chance she speaks to me again.|||I read through most of that thread. From what I can tell I never did anything egregious. Good chance she lost interest after my bluntness though lol.|||I broke that off shortly after my post. I felt like a slime ball. I only did it because people were telling me she's a lost cause and I should see other people. BTW I have a very well developed...|||Update on this. Told her I liked her and got no reassurance she liked me or even that she wasn't interested. Those who said she was ambivalent were right. I'm pretty much calling it off at this point...|||Yeah so I told her and didn't get an affirmation she liked me nor that she didn't. She basically said she had known for a while I like her. Pretty much what I expected. Probably going to call it...|||Is the crystal ball reference supposed to mean your guess is as good as mine or what? Edit: guess not :p|||So I've gone on six or so dates with an INFJ over a 3 month period (she's pretty busy, and me too) and recently I feel like progress has been a little glacial. For a bit I thought she was warming up...|||She hates texting.  And yeah, she told me how picky she was about people recently and that normally she wouldn't give anyone the time of day.|||You would literally have to have an autism spectrum disorder. I would know.  Not to mention you don't tell someone who is just friends how much you like them. That would be more than bizarre.|||It's kind of hard to get to the point of officially dating when you have no idea what is going on in her head. For all I know an attempt to kiss her would result in abject horror and assault...|||Spoke to her last night, she essentially said she likes me a lot and would normally never make any time for people unless she was obligated to. But she also indirectly used the word friend but it...|||So I met an INFJ female a while back, and we've been out like five or so times on a date. They go well, we get along, everything seems nice. I find her very attractive and we have quite a bit in...|||'  I don't know, I kind of have a rule that I don't compliment a female on her appearance until she trusts me. I did compliment her personality a few times.  She is extremely cautious from what I...|||Well, now I have a new question. Went on a second date a few days ago and it went well and she said she wanted to meet up again. The problem is, there hasn't been an ounce of flirting or touching...|||She started initiating with me and asked if I'm free soon. -_-    If there is anything to be learned it is don't play the analysis game. You will lose.|||Expectations of....?|||I don't know. I can't really fault a strong introvert for being wary about someone she doesn't really know. Number 2 is cruel, but it is how modern dating works.    Pretty sure this isn't the...|||I don't know. I can't really fault a strong introvert for being wary about someone she doesn't really know. Number 2 is cruel, but it is how modern dating works.    Pretty sure this isn't the...|||Thanks, option 1 seems most likely. It seems whenever I finally get her to open up there is like a cascade of good conversation that finally ensues, but it is like pulling teeth initially. Then I...|||I'm socially retarded and would know that if a random stranger asked for my contact info then asked me out for drinks or lunch then the person probably isn't interested in just being friends.|||So I shouldn't be deterred by the fact she doesn't really ever reach out to me? I don't enjoy appearing like someone who can't take a hint or who puts someone else in an awkward situation. I worry...|||No this seems to fit her pretty well.|||Thanks for the advice everyone. I appreciate your taking the time to respond.'\",\n          \"'This has to be written with bias or something, I'm not sure how you could even say that truthfully. For some reason you put subjectivity for both God and man? It says nothing.    That makes no...|||??? How?  The main priority of the church is written throughout it's texts for the past nearly 2000 years and reverberated throughout the church's dialogues both before and after the incident about...|||That's an annoying phrasing, as it's just obtuse and confusing to newcomers. I don't blame you for your response there.    Why must the revealed knowledge not speak truth but contain a bias...|||There are no priestly desk jobs. The closest thing you have to being a priest that gets you away from people is being a monk and that in itself is very different.  I am telling you they did it out...|||No, you really won't. You can't just go to an INTP and assume their intelligence level. That would end in failure. Don't be afraid to ask big questions when musing with the INTP and just try to...|||Heresy is, like, the core reason most all Christian in-fighting occurs. Everything else is minor disputes about theological opinions.|||That's exceedingly subjective. See what they're interested in, strike up a conversation about it. Definitely ask them their thoughts.|||To dismiss my concept of it is to dismiss all history on the topic, dismiss what the apostles taught, and literally all sects of Christianity. But fine, whatever.|||Do cool shit, discuss ideas, have patience, don't try to judge personally too quickly or control them. ALSO, make the first move to show you're interested in talking with them.|||I used to feel about the same until I read the book Self-Made Man, where a lesbian 'butch' woman dressed like a man and tried to live as one. She noticed herself being considered a feminine man quite...|||I'm not sure what the hell is going on in this thread but I would like to say I know no ENTJs personally, I don't think. It'd be neat, though.|||All churches are forms of political institutions. Catholic and Orthodox ones have the benefit of being centralized. All sects have declared doctrine in one way or another.  You're speaking against...|||And here is the most boring post in the whole thread.|||What part? If it's the idea of a teaching authority, you have a problem with all church until the 13th century. If it's the idea of a group being guided by the Holy Spirit in their decisions on...|||For Catholics, the church has a dual meaning. The whole of the believers (the Body of Christ) and the political institution. For Catholicism, their teachings of Christ are said to be protected by...|||Priests were relocated to other parishes so they may quiet down the criticism of the time and handle thing themselves. Again, poor decision but that was their decision.  The church's first priority...|||Well sure then. Yes, the church did protect child offenders. The church's reasoning was the image of the church itself and the their leadership's own ignorance of the size of the problem. The church...|||Edit: Based double post|||No, it really isn't. The Bible itself is the canon collection of texts. The Bible was established once the theological and historical work was done to establish the canon and it was not modified...|||Yes, nevermind it because the two claims do not contradict each other at all. I could work through how there is no contradiction if you're struggling.    I wouldn't say all, no. That's a...|||? There's no way to tell? But many of them depend on logic and/or history that contradicts or ruins their claims? Granted there are a few cases of we're yet to be able to know but many of it can...|||The problem of induction is a grand way of humbling yourself about scientific findings when you're younger. It brings into question if what we know is what we could call true.|||Rubix cubes.|||Pantheism makes no sense. I'd advise otherwise. Atheism and Abrahamic Theism are the only two rational choices.|||You, motherfucker.|||What is the meaning of everything? The universe exists. We are to learn to love in it.|||Disappointed 24 year old reporting in.  Good luck, OP.|||This is exceedingly naive. The early church, before scripture, applied their teaching to better society. After scripture, it was held in high esteem as a basis to properly better society. Most work...|||From the Catholic Catechism (list of official teaching) here is how we are to read the Bible:  III. THE HOLY SPIRIT, INTERPRETER OF SCRIPTURE   109 In Sacred Scripture, God speaks to man in a...|||I never liked people pointing to the Scandinavian model for the success of their economic system and not their incredible oil and natural resource supply compared to their small populations.|||While shit just got stupid for a moment. Lets try to get back on track.|||You're pretty smart, you know that?  Look at this fucker, she thinks I'm smart. Pfft.|||Exceedingly poor.|||I've just been told I'm bright, but I'm sure most everyone else says the same to the kids.|||And what of you?|||The most efficient way to remove self-doubt is to stop doubting yourself so much. Faith and trust, nigga.|||You suspect wrongly. I like the chatter and I'm being friendly with you. I seriously do hope you have a good day too.|||Indeed you do. Feel free to ask/argue/chat/or bullshit with me if you want. Have a good one, man.|||I'd say that's a stretch to say. Catholics believe the bible was inspired by God but written by men. Orthodox do too. As they assembled the biblical canon I'd have to say they have the greatest say...|||Edit: Welp.|||I see the arguments for inconsistencies. Sometimes they aren't actually inconsistencies. Sometimes they are. I find the simplest example of a true one being the rabbit that is apparently chewing...|||Sorry to take so long to get back to you, my internet has been screwing up horribly.  As for the answer, there was a considerable amount of things that got me off the atheist train but if I were to...|||The believing portion was a long and arduous process for me. I researched culture as a hobby and eventually I rolled around to religion. It was an interesting topic for me and I eventually began to...|||To your first statement... just... what. Where did that even come from? Of course they can know love, though with God they can know it fully, I'd argue.  As for Hell, it's taken a variety of...|||I'm very mixed on him. His criticism of Christianity (and envy, now that I've seen the video) is, while popular, piss poor and Max Scheler did a wonderful job making an argument otherwise on his...|||People believing in something as incontrovertibly true is what gets people into a murderous rage? Why just the incontrovertibly true? Why not the empirically true? Why not just majority opinion? To...|||Sure thing. Sounds sorta similar to the Epicurean Paradox.  Suffering/free will exists to strengthen the good. If you create a people so they may know love they cannot sincerely know love if they...|||Yo. Christian INTP here.  Anything you want?|||It's not we can make healthy children! it's we only let the healthy babies live! which is the issue. It's a moral issue about the innate value of life.|||249210'\"\n        ],\n        \"semantic_type\": \"\",\n        \"description\": \"\"\n      }\n    },\n    {\n      \"column\": \"tweet\",\n      \"properties\": {\n        \"dtype\": \"string\",\n        \"num_unique_values\": 8675,\n        \"samples\": [\n          \"this  when i lie it s to avoid an unreasonable response for something i did that was completely justifiable to me but if i was to try to justify to someone else they d be too hung up on what i did  i   your iq  sd15   128i typically have very difficult times maintaining friends i ve come to realize  i ve had people i talk to for years and i still don t want to talk to them    i did  but then i just got bored of them    an intj friend of mine told me she really hates eating because it s so repetitive  as an intp i don t really feel bothered  i don t really register eating i just do it while i m thinking about   similar minds advanced testintp 9 sx so i have a lot of friends but i only have one i speak about how i actually feel with and only 1 other that i talk about what i am actually thinking about   with regards to   getting close to someone and end up wanting to be infinitely close to them and end up merging every damn time interesting topic  i know two enfp s  1 is strange  as an intp i view some of the stuff she does as  coming onto me      sort of  she gets really close and is very open to me  just what enfp s do    as far as i m aware this is normal in all people  it s not so much your pessimistic self but just that humans are social creatures and you will feel better after socializing for that reason  being   vajrayaksa  how dare you use lelouch as an intp  he is an intj i say i normally think about doing this stuff but don t actually do it you ll probably find that commenting on their nihilistic thoughts logically would make them more open  dismissing ideas will merely make them agree with that idea more as they ll feel a need to   don t worry  calling me thinker is the same intj   winter   coldest entj   summer   actually doing things entp   spring   bringing out the fun in people intp   autumn   no one ever notices this seasoni ve known a couple entp s  one entj and an intj and it kind of went entp entj entp intj i love being able to constantly talk with entp s but also they need to know when to stop talking  if an entp   if you mean actually 1v1ing yourself i also have done this  maybe i m wrong but i find it pretty easy to think about the most logical move the player i am playing should make with the information   gender  female age  19 29 intelligence  gifted idea adoption  early adopter mbti personality profile  esfp closest alternative we found  esfj  i think i killed it when it told me to write   i m fine with them  i m more on shortage of people i d ever want to do them with but that s on the grounds that any socialising that could be done could just as well be done over skype without the   i used to use pencils then i was told that my teachers wanted me to use pens only   so i used pens only  i haven t used a pencil   excluding my games of naughts and crosses earlier   in a couple   i d love to own either a calm house out somewhere distant with a porch and a log cabin aesthetic   fuck it  i want a log cabin  or i d actually really like the idea of being in one of those smokey   yeah i enjoy listening to lyrics but it doesn t make much of a difference if they re present or not  if they are there they re just another part of the instrumental i don t necessarily listen to   more often then not someone is only going to be fully entering my world if they invite me into theirs first and it s similar or we re friends on the internet   because then there are few   what did you get me today   my head   shit  shit  shit what did i miss  is it your birthday  was i supposed to get you something  are we that good friends that i should be buying you stuff  i   i frequently say it as an off hand thing  someone does something really awesome and i say fuck yeah i love you man or something like that  if i was to say it in a genuine way then it d feel really   so something strange has been happening recently  my interest was drawn to naughts and crosses and how i could make it more enjoyable to play  i started by increasing the grid size and tried   you could tell them your thoughts  you could not tell them your thoughts and continue to brew over it  i think that there s no reason to be ashamed or annoyed about anything and if you don t   loudly  whilst he drew hisand the baby platypi quiveredparticularly in the higher regionsstarting with a lingering feelingwhat s the point of stopping  why does it matter what they re called  guilty pleasures are pleasures for a reason  does it matter that much their own god dam storypost multiple times to doit s impressive how people wouldmaximum of five words per line  feel free to say other stuff in the most but make sure it s clear which is the five words      once upon a time insomeone who appreciates c c  fuck yeah yeezus can t we come to a reasonable conclusion without you picking a fight  it s not being open minded more often then not i judge them purely by how they judge me  i have a dark sense of humor that i m not exactly secretive about  i get along with most people on the grounds that i m just friendly to   i chose my avatar as it s an awesome art work of kaneki from tokyo ghoul and by god i loved the manga  love tragedies  name is a slightly altered version of my name  george   georgius  liked the halo   violence in this situation would probably be a faster way to get things done for both parties involved and especially on the receiving end  trying to talk sense into someone who just said something   but surely the point that everyone would be worse off initially isn t relevant  rebuilding a system would obviously have it s issues here and there   i m not crying revolution and i m not being   we d call it diagon alley i m with you  i make a pretty big point of not being a person for people to expect feelings from  i want to be that person but i just feel wrong  someones crying their eyes out and here i am lying   good call but that s just how i read it    what about a four dimensional plane why airplane why not aeroplane hit them for having the expectation that you should live up to their expectations which is infuriating in and of itself probably it s just because hitting a women is politically incorrect and some women will use that to their advantage what he s saying is that they should assume that if they say something worthy of being hit for  that they should be grateful when they re not hit for it  not expect not to be hit just on the basis   is it particularly common amongst intp s and other types to just acknowledge another sides point of view even though socially you shouldn t  what i mean by this is i can t have conversation with\",\n          \"i said zero flexibility and little time for dating  going around sifting through dates to find one that clicks isn t going to be as viable   that has nothing to do with maintaining a relationship i   how you ve come to the conclusion i have nothing to offer  merely because i am busy is beyond me        no not really  again  more made up stuff okay  this isn t cool   you re specifically looking to get into a relationship because you re about to enter a life phase where you will not have any resources to give to a relationship    that is   i do take it slow  that s why i m still single   but i m not interested in making friends  i  have friends  enough for my liking  i m interested in going on dates with the intent of entering a   absolutely not for me  i find the idea repugnant  actually people could have been polite  maybe average is a more conservative bet  and i m not claiming i m a social butterfly  i m just a normal guy who is introverted but not a social doofus   i don t   i m probably giving up the online thing here when my next subscription runs out  after that i really don t know where to look  bars are a definite no  i don t understand where people meet their   i ve tried both ways  actually  the last few women i have gone out with have gotten really weird and or ignored my backhanded compliments  i don t know what to do anymore  seems i get screwed either   i m actually pretty healthy      sorry you feel that way  not sure which ones you met  but assholes exist everywhere  the number isn t anywhere near 99  though if anything i err on the side of being indifferent  definitely not overeager yeah my close friends don t live near me anymore   the issue is that i have been meeting people  a good amount  and nothing works  i want to know why it is that deformed  infirm  mentally unstable    my friends are in worse positions than i am  asking them isn t going to help    as far as feedback  not really because that seems like an extraordinarily awkward thing to ask someone you barely   so  i m a 26 year old male who has been striking out time and time again when it comes to relationships  i ve been in one relationship my entire life that lasted like 1 5 years and ended when i was   i don t think this sort of dating method is very reasonable  and at best  it is counterproductive  being friends first just throws a wrench in what is normally a smooth dating process  when you fear   never was a kiss i appreciate the feedback  i think i m just going to tell her we shouldn t hang out unless she can dedicate a decent amount of time to it  what is happening right now is dragging things out and   i don t know  after thinking more  i m on the verge of giving up  it has nothing to do with seeing her infrequently  or not making it official or what have you  it s that she keeps things   i don t know  i m not a model or anything but i m decent looking  she s drop dead gorgeous and nice and smart  guys are always after her it seems  but i m also smarter and have better career   i like your answer  but maybe i m just being optimistic  it is basically  what i ve been doing  i can t shake the feeling that she wouldn t be giving me any of her time if she weren t interested and   how am i supposed to know if an infj just wants to be friends  things have been very weird with an infj i ve been seeing  i ve been very upfront about my intentions and she essentially told me she   interesting  i find it unusual infjs are known for taking forever to open up and trust people yet all the responses so far have indicated kissing in 3 or fewer dates    my infj friend has been with an intj  and i don t want to bust your confidence but even though she liked him at first  she soon found out that he was putting her down and felt caged  i can see that   enlighten us infjs  also indicate your gender and if you initiated well there was more than that  she also said she was basically trying to figure out if i m trustworthy and decent those two things seem at odds  how can you be simultaneously not saying things that need to be said but also being proactively aggressive pretty much yeah  women just do not enjoy my company on any level  i m in the same situation  never had any female friends  dated one person in my life and it lasted a little less than two years  the   i don t think that is going to help me dig myself out of the very clingy seeming hole i dug myself  i basically asked her if she knew i was romantically interested and she responded of course lol   i should have just let things proceed at a natural pace  pretty pissed at myself  about zero chance she speaks to me again i read through most of that thread  from what i can tell i never did anything egregious  good chance she lost interest after my bluntness though lol i broke that off shortly after my post  i felt like a slime ball  i only did it because people were telling me she s a lost cause and i should see other people  btw i have a very well developed   update on this  told her i liked her and got no reassurance she liked me or even that she wasn t interested  those who said she was ambivalent were right  i m pretty much calling it off at this point   yeah so i told her and didn t get an affirmation she liked me nor that she didn t  she basically said she had known for a while i like her  pretty much what i expected  probably going to call it   is the crystal ball reference supposed to mean your guess is as good as mine or what  edit  guess not  pso i ve gone on six or so dates with an infj over a 3 month period  she s pretty busy  and me too  and recently i feel like progress has been a little glacial  for a bit i thought she was warming up   she hates texting   and yeah  she told me how picky she was about people recently and that normally she wouldn t give anyone the time of day you would literally have to have an autism spectrum disorder  i would know   not to mention you don t tell someone who is just friends how much you like them  that would be more than bizarre it s kind of hard to get to the point of officially dating when you have no idea what is going on in her head  for all i know an attempt to kiss her would result in abject horror and assault   spoke to her last night  she essentially said she likes me a lot and would normally never make any time for people unless she was obligated to  but she also indirectly used the word friend but it   so i met an infj female a while back  and we ve been out like five or so times on a date  they go well  we get along  everything seems nice  i find her very attractive and we have quite a bit in      i don t know  i kind of have a rule that i don t compliment a female on her appearance until she trusts me  i did compliment her personality a few times   she is extremely cautious from what i   well  now i have a new question  went on a second date a few days ago and it went well and she said she wanted to meet up again  the problem is  there hasn t been an ounce of flirting or touching   she started initiating with me and asked if i m free soon         if there is anything to be learned it is don t play the analysis game  you will lose expectations of     i don t know  i can t really fault a strong introvert for being wary about someone she doesn t really know  number 2 is cruel  but it is how modern dating works     pretty sure this isn t the   i don t know  i can t really fault a strong introvert for being wary about someone she doesn t really know  number 2 is cruel  but it is how modern dating works     pretty sure this isn t the   thanks  option 1 seems most likely  it seems whenever i finally get her to open up there is like a cascade of good conversation that finally ensues  but it is like pulling teeth initially  then i   i m socially retarded and would know that if a random stranger asked for my contact info then asked me out for drinks or lunch then the person probably isn t interested in just being friends so i shouldn t be deterred by the fact she doesn t really ever reach out to me  i don t enjoy appearing like someone who can t take a hint or who puts someone else in an awkward situation  i worry   no this seems to fit her pretty well thanks for the advice everyone  i appreciate your taking the time to respond\",\n          \"this has to be written with bias or something  i m not sure how you could even say that truthfully  for some reason you put subjectivity for both god and man  it says nothing     that makes no       how   the main priority of the church is written throughout it s texts for the past nearly 2000 years and reverberated throughout the church s dialogues both before and after the incident about   that s an annoying phrasing  as it s just obtuse and confusing to newcomers  i don t blame you for your response there     why must the revealed knowledge not speak truth but contain a bias   there are no priestly desk jobs  the closest thing you have to being a priest that gets you away from people is being a monk and that in itself is very different   i am telling you they did it out   no  you really won t  you can t just go to an intp and assume their intelligence level  that would end in failure  don t be afraid to ask big questions when musing with the intp and just try to   heresy is  like  the core reason most all christian in fighting occurs  everything else is minor disputes about theological opinions that s exceedingly subjective  see what they re interested in  strike up a conversation about it  definitely ask them their thoughts to dismiss my concept of it is to dismiss all history on the topic  dismiss what the apostles taught  and literally all sects of christianity  but fine  whatever do cool shit  discuss ideas  have patience  don t try to judge personally too quickly or control them  also  make the first move to show you re interested in talking with them i used to feel about the same until i read the book self made man  where a lesbian  butch  woman dressed like a man and tried to live as one  she noticed herself being considered a feminine man quite   i m not sure what the hell is going on in this thread but i would like to say i know no entjs personally  i don t think  it d be neat  though all churches are forms of political institutions  catholic and orthodox ones have the benefit of being centralized  all sects have declared doctrine in one way or another   you re speaking against   and here is the most boring post in the whole thread what part  if it s the idea of a teaching authority  you have a problem with all church until the 13th century  if it s the idea of a group being guided by the holy spirit in their decisions on   for catholics  the church has a dual meaning  the whole of the believers  the body of christ  and the political institution  for catholicism  their teachings of christ are said to be protected by   priests were relocated to other parishes so they may quiet down the criticism of the time and handle thing themselves  again  poor decision but that was their decision   the church s first priority   well sure then  yes  the church did protect child offenders  the church s reasoning was the image of the church itself and the their leadership s own ignorance of the size of the problem  the church   edit  based double postno  it really isn t  the bible itself is the canon collection of texts  the bible was established once the theological and historical work was done to establish the canon and it was not modified   yes  nevermind it because the two claims do not contradict each other at all  i could work through how there is no contradiction if you re struggling     i wouldn t say all  no  that s a     there s no way to tell  but many of them depend on logic and or history that contradicts or ruins their claims  granted there are a few cases of we re yet to be able to know but many of it can   the problem of induction is a grand way of humbling yourself about scientific findings when you re younger  it brings into question if what we know is what we could call true rubix cubes pantheism makes no sense  i d advise otherwise  atheism and abrahamic theism are the only two rational choices you  motherfucker what is the meaning of everything  the universe exists  we are to learn to love in it disappointed 24 year old reporting in   good luck  op this is exceedingly naive  the early church  before scripture  applied their teaching to better society  after scripture  it was held in high esteem as a basis to properly better society  most work   from the catholic catechism  list of official teaching  here is how we are to read the bible   iii  the holy spirit  interpreter of scripture   109 in sacred scripture  god speaks to man in a   i never liked people pointing to the scandinavian model for the success of their economic system and not their incredible oil and natural resource supply compared to their small populations while shit just got stupid for a moment  lets try to get back on track you re pretty smart  you know that   look at this fucker  she thinks i m smart  pfft exceedingly poor i ve just been told i m bright  but i m sure most everyone else says the same to the kids and what of you the most efficient way to remove self doubt is to stop doubting yourself so much  faith and trust  nigga you suspect wrongly  i like the chatter and i m being friendly with you  i seriously do hope you have a good day too indeed you do  feel free to ask argue chat or bullshit with me if you want  have a good one  man i d say that s a stretch to say  catholics believe the bible was inspired by god but written by men  orthodox do too  as they assembled the biblical canon i d have to say they have the greatest say   edit  welp i see the arguments for inconsistencies  sometimes they aren t actually inconsistencies  sometimes they are  i find the simplest example of a true one being the rabbit that is apparently chewing   sorry to take so long to get back to you  my internet has been screwing up horribly   as for the answer  there was a considerable amount of things that got me off the atheist train but if i were to   the believing portion was a long and arduous process for me  i researched culture as a hobby and eventually i rolled around to religion  it was an interesting topic for me and i eventually began to   to your first statement    just    what  where did that even come from  of course they can know love  though with god they can know it fully  i d argue   as for hell  it s taken a variety of   i m very mixed on him  his criticism of christianity  and envy  now that i ve seen the video  is  while popular  piss poor and max scheler did a wonderful job making an argument otherwise on his   people believing in something as incontrovertibly true is what gets people into a murderous rage  why just the incontrovertibly true  why not the empirically true  why not just majority opinion  to   sure thing  sounds sorta similar to the epicurean paradox   suffering free will exists to strengthen the good  if you create a people so they may know love they cannot sincerely know love if they   yo  christian intp here   anything you want it s not we can make healthy children  it s we only let the healthy babies live  which is the issue  it s a moral issue about the innate value of life 249210\"\n        ],\n        \"semantic_type\": \"\",\n        \"description\": \"\"\n      }\n    }\n  ]\n}"
            }
          },
          "metadata": {},
          "execution_count": 20
        }
      ],
      "source": [
        "df"
      ]
    },
    {
      "cell_type": "code",
      "execution_count": 21,
      "metadata": {
        "colab": {
          "base_uri": "https://localhost:8080/",
          "height": 423
        },
        "id": "GBcdVmszol-j",
        "outputId": "b78f7f52-62d9-44fa-8288-9a60306b7c0d"
      },
      "outputs": [
        {
          "output_type": "execute_result",
          "data": {
            "text/plain": [
              "      type                                              tweet\n",
              "0     INFJ  url and intj moments  url  sportscenter not to...\n",
              "1     ENTP  i m finding the lack of me in these posts very...\n",
              "2     INTP  good one          url course  to which i say i...\n",
              "3     INTJ  dear intp    i enjoyed our conversation the ot...\n",
              "4     ENTJ  you re fired that s another silly misconceptio...\n",
              "...    ...                                                ...\n",
              "8670  ISFP  url just because i always think of cats as fi ...\n",
              "8671  ENFP  so   if this thread already exists someplace e...\n",
              "8672  INTP  so many questions when i do these things   i w...\n",
              "8673  INFP  i am very conflicted right now when it comes t...\n",
              "8674  INFP  it has been too long since i have been on pers...\n",
              "\n",
              "[8675 rows x 2 columns]"
            ],
            "text/html": [
              "\n",
              "  <div id=\"df-5b056833-7002-425c-ba54-2409a33b581e\" class=\"colab-df-container\">\n",
              "    <div>\n",
              "<style scoped>\n",
              "    .dataframe tbody tr th:only-of-type {\n",
              "        vertical-align: middle;\n",
              "    }\n",
              "\n",
              "    .dataframe tbody tr th {\n",
              "        vertical-align: top;\n",
              "    }\n",
              "\n",
              "    .dataframe thead th {\n",
              "        text-align: right;\n",
              "    }\n",
              "</style>\n",
              "<table border=\"1\" class=\"dataframe\">\n",
              "  <thead>\n",
              "    <tr style=\"text-align: right;\">\n",
              "      <th></th>\n",
              "      <th>type</th>\n",
              "      <th>tweet</th>\n",
              "    </tr>\n",
              "  </thead>\n",
              "  <tbody>\n",
              "    <tr>\n",
              "      <th>0</th>\n",
              "      <td>INFJ</td>\n",
              "      <td>url and intj moments  url  sportscenter not to...</td>\n",
              "    </tr>\n",
              "    <tr>\n",
              "      <th>1</th>\n",
              "      <td>ENTP</td>\n",
              "      <td>i m finding the lack of me in these posts very...</td>\n",
              "    </tr>\n",
              "    <tr>\n",
              "      <th>2</th>\n",
              "      <td>INTP</td>\n",
              "      <td>good one          url course  to which i say i...</td>\n",
              "    </tr>\n",
              "    <tr>\n",
              "      <th>3</th>\n",
              "      <td>INTJ</td>\n",
              "      <td>dear intp    i enjoyed our conversation the ot...</td>\n",
              "    </tr>\n",
              "    <tr>\n",
              "      <th>4</th>\n",
              "      <td>ENTJ</td>\n",
              "      <td>you re fired that s another silly misconceptio...</td>\n",
              "    </tr>\n",
              "    <tr>\n",
              "      <th>...</th>\n",
              "      <td>...</td>\n",
              "      <td>...</td>\n",
              "    </tr>\n",
              "    <tr>\n",
              "      <th>8670</th>\n",
              "      <td>ISFP</td>\n",
              "      <td>url just because i always think of cats as fi ...</td>\n",
              "    </tr>\n",
              "    <tr>\n",
              "      <th>8671</th>\n",
              "      <td>ENFP</td>\n",
              "      <td>so   if this thread already exists someplace e...</td>\n",
              "    </tr>\n",
              "    <tr>\n",
              "      <th>8672</th>\n",
              "      <td>INTP</td>\n",
              "      <td>so many questions when i do these things   i w...</td>\n",
              "    </tr>\n",
              "    <tr>\n",
              "      <th>8673</th>\n",
              "      <td>INFP</td>\n",
              "      <td>i am very conflicted right now when it comes t...</td>\n",
              "    </tr>\n",
              "    <tr>\n",
              "      <th>8674</th>\n",
              "      <td>INFP</td>\n",
              "      <td>it has been too long since i have been on pers...</td>\n",
              "    </tr>\n",
              "  </tbody>\n",
              "</table>\n",
              "<p>8675 rows × 2 columns</p>\n",
              "</div>\n",
              "    <div class=\"colab-df-buttons\">\n",
              "\n",
              "  <div class=\"colab-df-container\">\n",
              "    <button class=\"colab-df-convert\" onclick=\"convertToInteractive('df-5b056833-7002-425c-ba54-2409a33b581e')\"\n",
              "            title=\"Convert this dataframe to an interactive table.\"\n",
              "            style=\"display:none;\">\n",
              "\n",
              "  <svg xmlns=\"http://www.w3.org/2000/svg\" height=\"24px\" viewBox=\"0 -960 960 960\">\n",
              "    <path d=\"M120-120v-720h720v720H120Zm60-500h600v-160H180v160Zm220 220h160v-160H400v160Zm0 220h160v-160H400v160ZM180-400h160v-160H180v160Zm440 0h160v-160H620v160ZM180-180h160v-160H180v160Zm440 0h160v-160H620v160Z\"/>\n",
              "  </svg>\n",
              "    </button>\n",
              "\n",
              "  <style>\n",
              "    .colab-df-container {\n",
              "      display:flex;\n",
              "      gap: 12px;\n",
              "    }\n",
              "\n",
              "    .colab-df-convert {\n",
              "      background-color: #E8F0FE;\n",
              "      border: none;\n",
              "      border-radius: 50%;\n",
              "      cursor: pointer;\n",
              "      display: none;\n",
              "      fill: #1967D2;\n",
              "      height: 32px;\n",
              "      padding: 0 0 0 0;\n",
              "      width: 32px;\n",
              "    }\n",
              "\n",
              "    .colab-df-convert:hover {\n",
              "      background-color: #E2EBFA;\n",
              "      box-shadow: 0px 1px 2px rgba(60, 64, 67, 0.3), 0px 1px 3px 1px rgba(60, 64, 67, 0.15);\n",
              "      fill: #174EA6;\n",
              "    }\n",
              "\n",
              "    .colab-df-buttons div {\n",
              "      margin-bottom: 4px;\n",
              "    }\n",
              "\n",
              "    [theme=dark] .colab-df-convert {\n",
              "      background-color: #3B4455;\n",
              "      fill: #D2E3FC;\n",
              "    }\n",
              "\n",
              "    [theme=dark] .colab-df-convert:hover {\n",
              "      background-color: #434B5C;\n",
              "      box-shadow: 0px 1px 3px 1px rgba(0, 0, 0, 0.15);\n",
              "      filter: drop-shadow(0px 1px 2px rgba(0, 0, 0, 0.3));\n",
              "      fill: #FFFFFF;\n",
              "    }\n",
              "  </style>\n",
              "\n",
              "    <script>\n",
              "      const buttonEl =\n",
              "        document.querySelector('#df-5b056833-7002-425c-ba54-2409a33b581e button.colab-df-convert');\n",
              "      buttonEl.style.display =\n",
              "        google.colab.kernel.accessAllowed ? 'block' : 'none';\n",
              "\n",
              "      async function convertToInteractive(key) {\n",
              "        const element = document.querySelector('#df-5b056833-7002-425c-ba54-2409a33b581e');\n",
              "        const dataTable =\n",
              "          await google.colab.kernel.invokeFunction('convertToInteractive',\n",
              "                                                    [key], {});\n",
              "        if (!dataTable) return;\n",
              "\n",
              "        const docLinkHtml = 'Like what you see? Visit the ' +\n",
              "          '<a target=\"_blank\" href=https://colab.research.google.com/notebooks/data_table.ipynb>data table notebook</a>'\n",
              "          + ' to learn more about interactive tables.';\n",
              "        element.innerHTML = '';\n",
              "        dataTable['output_type'] = 'display_data';\n",
              "        await google.colab.output.renderOutput(dataTable, element);\n",
              "        const docLink = document.createElement('div');\n",
              "        docLink.innerHTML = docLinkHtml;\n",
              "        element.appendChild(docLink);\n",
              "      }\n",
              "    </script>\n",
              "  </div>\n",
              "\n",
              "\n",
              "<div id=\"df-54b2b2bc-e1eb-4669-81fb-d173b3f2b39b\">\n",
              "  <button class=\"colab-df-quickchart\" onclick=\"quickchart('df-54b2b2bc-e1eb-4669-81fb-d173b3f2b39b')\"\n",
              "            title=\"Suggest charts\"\n",
              "            style=\"display:none;\">\n",
              "\n",
              "<svg xmlns=\"http://www.w3.org/2000/svg\" height=\"24px\"viewBox=\"0 0 24 24\"\n",
              "     width=\"24px\">\n",
              "    <g>\n",
              "        <path d=\"M19 3H5c-1.1 0-2 .9-2 2v14c0 1.1.9 2 2 2h14c1.1 0 2-.9 2-2V5c0-1.1-.9-2-2-2zM9 17H7v-7h2v7zm4 0h-2V7h2v10zm4 0h-2v-4h2v4z\"/>\n",
              "    </g>\n",
              "</svg>\n",
              "  </button>\n",
              "\n",
              "<style>\n",
              "  .colab-df-quickchart {\n",
              "      --bg-color: #E8F0FE;\n",
              "      --fill-color: #1967D2;\n",
              "      --hover-bg-color: #E2EBFA;\n",
              "      --hover-fill-color: #174EA6;\n",
              "      --disabled-fill-color: #AAA;\n",
              "      --disabled-bg-color: #DDD;\n",
              "  }\n",
              "\n",
              "  [theme=dark] .colab-df-quickchart {\n",
              "      --bg-color: #3B4455;\n",
              "      --fill-color: #D2E3FC;\n",
              "      --hover-bg-color: #434B5C;\n",
              "      --hover-fill-color: #FFFFFF;\n",
              "      --disabled-bg-color: #3B4455;\n",
              "      --disabled-fill-color: #666;\n",
              "  }\n",
              "\n",
              "  .colab-df-quickchart {\n",
              "    background-color: var(--bg-color);\n",
              "    border: none;\n",
              "    border-radius: 50%;\n",
              "    cursor: pointer;\n",
              "    display: none;\n",
              "    fill: var(--fill-color);\n",
              "    height: 32px;\n",
              "    padding: 0;\n",
              "    width: 32px;\n",
              "  }\n",
              "\n",
              "  .colab-df-quickchart:hover {\n",
              "    background-color: var(--hover-bg-color);\n",
              "    box-shadow: 0 1px 2px rgba(60, 64, 67, 0.3), 0 1px 3px 1px rgba(60, 64, 67, 0.15);\n",
              "    fill: var(--button-hover-fill-color);\n",
              "  }\n",
              "\n",
              "  .colab-df-quickchart-complete:disabled,\n",
              "  .colab-df-quickchart-complete:disabled:hover {\n",
              "    background-color: var(--disabled-bg-color);\n",
              "    fill: var(--disabled-fill-color);\n",
              "    box-shadow: none;\n",
              "  }\n",
              "\n",
              "  .colab-df-spinner {\n",
              "    border: 2px solid var(--fill-color);\n",
              "    border-color: transparent;\n",
              "    border-bottom-color: var(--fill-color);\n",
              "    animation:\n",
              "      spin 1s steps(1) infinite;\n",
              "  }\n",
              "\n",
              "  @keyframes spin {\n",
              "    0% {\n",
              "      border-color: transparent;\n",
              "      border-bottom-color: var(--fill-color);\n",
              "      border-left-color: var(--fill-color);\n",
              "    }\n",
              "    20% {\n",
              "      border-color: transparent;\n",
              "      border-left-color: var(--fill-color);\n",
              "      border-top-color: var(--fill-color);\n",
              "    }\n",
              "    30% {\n",
              "      border-color: transparent;\n",
              "      border-left-color: var(--fill-color);\n",
              "      border-top-color: var(--fill-color);\n",
              "      border-right-color: var(--fill-color);\n",
              "    }\n",
              "    40% {\n",
              "      border-color: transparent;\n",
              "      border-right-color: var(--fill-color);\n",
              "      border-top-color: var(--fill-color);\n",
              "    }\n",
              "    60% {\n",
              "      border-color: transparent;\n",
              "      border-right-color: var(--fill-color);\n",
              "    }\n",
              "    80% {\n",
              "      border-color: transparent;\n",
              "      border-right-color: var(--fill-color);\n",
              "      border-bottom-color: var(--fill-color);\n",
              "    }\n",
              "    90% {\n",
              "      border-color: transparent;\n",
              "      border-bottom-color: var(--fill-color);\n",
              "    }\n",
              "  }\n",
              "</style>\n",
              "\n",
              "  <script>\n",
              "    async function quickchart(key) {\n",
              "      const quickchartButtonEl =\n",
              "        document.querySelector('#' + key + ' button');\n",
              "      quickchartButtonEl.disabled = true;  // To prevent multiple clicks.\n",
              "      quickchartButtonEl.classList.add('colab-df-spinner');\n",
              "      try {\n",
              "        const charts = await google.colab.kernel.invokeFunction(\n",
              "            'suggestCharts', [key], {});\n",
              "      } catch (error) {\n",
              "        console.error('Error during call to suggestCharts:', error);\n",
              "      }\n",
              "      quickchartButtonEl.classList.remove('colab-df-spinner');\n",
              "      quickchartButtonEl.classList.add('colab-df-quickchart-complete');\n",
              "    }\n",
              "    (() => {\n",
              "      let quickchartButtonEl =\n",
              "        document.querySelector('#df-54b2b2bc-e1eb-4669-81fb-d173b3f2b39b button');\n",
              "      quickchartButtonEl.style.display =\n",
              "        google.colab.kernel.accessAllowed ? 'block' : 'none';\n",
              "    })();\n",
              "  </script>\n",
              "</div>\n",
              "\n",
              "  <div id=\"id_9bf62e83-986e-4db4-a4d2-e36206f2bc3c\">\n",
              "    <style>\n",
              "      .colab-df-generate {\n",
              "        background-color: #E8F0FE;\n",
              "        border: none;\n",
              "        border-radius: 50%;\n",
              "        cursor: pointer;\n",
              "        display: none;\n",
              "        fill: #1967D2;\n",
              "        height: 32px;\n",
              "        padding: 0 0 0 0;\n",
              "        width: 32px;\n",
              "      }\n",
              "\n",
              "      .colab-df-generate:hover {\n",
              "        background-color: #E2EBFA;\n",
              "        box-shadow: 0px 1px 2px rgba(60, 64, 67, 0.3), 0px 1px 3px 1px rgba(60, 64, 67, 0.15);\n",
              "        fill: #174EA6;\n",
              "      }\n",
              "\n",
              "      [theme=dark] .colab-df-generate {\n",
              "        background-color: #3B4455;\n",
              "        fill: #D2E3FC;\n",
              "      }\n",
              "\n",
              "      [theme=dark] .colab-df-generate:hover {\n",
              "        background-color: #434B5C;\n",
              "        box-shadow: 0px 1px 3px 1px rgba(0, 0, 0, 0.15);\n",
              "        filter: drop-shadow(0px 1px 2px rgba(0, 0, 0, 0.3));\n",
              "        fill: #FFFFFF;\n",
              "      }\n",
              "    </style>\n",
              "    <button class=\"colab-df-generate\" onclick=\"generateWithVariable('df')\"\n",
              "            title=\"Generate code using this dataframe.\"\n",
              "            style=\"display:none;\">\n",
              "\n",
              "  <svg xmlns=\"http://www.w3.org/2000/svg\" height=\"24px\"viewBox=\"0 0 24 24\"\n",
              "       width=\"24px\">\n",
              "    <path d=\"M7,19H8.4L18.45,9,17,7.55,7,17.6ZM5,21V16.75L18.45,3.32a2,2,0,0,1,2.83,0l1.4,1.43a1.91,1.91,0,0,1,.58,1.4,1.91,1.91,0,0,1-.58,1.4L9.25,21ZM18.45,9,17,7.55Zm-12,3A5.31,5.31,0,0,0,4.9,8.1,5.31,5.31,0,0,0,1,6.5,5.31,5.31,0,0,0,4.9,4.9,5.31,5.31,0,0,0,6.5,1,5.31,5.31,0,0,0,8.1,4.9,5.31,5.31,0,0,0,12,6.5,5.46,5.46,0,0,0,6.5,12Z\"/>\n",
              "  </svg>\n",
              "    </button>\n",
              "    <script>\n",
              "      (() => {\n",
              "      const buttonEl =\n",
              "        document.querySelector('#id_9bf62e83-986e-4db4-a4d2-e36206f2bc3c button.colab-df-generate');\n",
              "      buttonEl.style.display =\n",
              "        google.colab.kernel.accessAllowed ? 'block' : 'none';\n",
              "\n",
              "      buttonEl.onclick = () => {\n",
              "        google.colab.notebook.generateWithVariable('df');\n",
              "      }\n",
              "      })();\n",
              "    </script>\n",
              "  </div>\n",
              "\n",
              "    </div>\n",
              "  </div>\n"
            ],
            "application/vnd.google.colaboratory.intrinsic+json": {
              "type": "dataframe",
              "variable_name": "df",
              "summary": "{\n  \"name\": \"df\",\n  \"rows\": 8675,\n  \"fields\": [\n    {\n      \"column\": \"type\",\n      \"properties\": {\n        \"dtype\": \"category\",\n        \"num_unique_values\": 16,\n        \"samples\": [\n          \"INFJ\",\n          \"ENTP\",\n          \"ENFJ\"\n        ],\n        \"semantic_type\": \"\",\n        \"description\": \"\"\n      }\n    },\n    {\n      \"column\": \"tweet\",\n      \"properties\": {\n        \"dtype\": \"string\",\n        \"num_unique_values\": 8675,\n        \"samples\": [\n          \"this  when i lie it s to avoid an unreasonable response for something i did that was completely justifiable to me but if i was to try to justify to someone else they d be too hung up on what i did  i   your iq  sd15   128i typically have very difficult times maintaining friends i ve come to realize  i ve had people i talk to for years and i still don t want to talk to them    i did  but then i just got bored of them    an intj friend of mine told me she really hates eating because it s so repetitive  as an intp i don t really feel bothered  i don t really register eating i just do it while i m thinking about   similar minds advanced testintp 9 sx so i have a lot of friends but i only have one i speak about how i actually feel with and only 1 other that i talk about what i am actually thinking about   with regards to   getting close to someone and end up wanting to be infinitely close to them and end up merging every damn time interesting topic  i know two enfp s  1 is strange  as an intp i view some of the stuff she does as  coming onto me      sort of  she gets really close and is very open to me  just what enfp s do    as far as i m aware this is normal in all people  it s not so much your pessimistic self but just that humans are social creatures and you will feel better after socializing for that reason  being   vajrayaksa  how dare you use lelouch as an intp  he is an intj i say i normally think about doing this stuff but don t actually do it you ll probably find that commenting on their nihilistic thoughts logically would make them more open  dismissing ideas will merely make them agree with that idea more as they ll feel a need to   don t worry  calling me thinker is the same intj   winter   coldest entj   summer   actually doing things entp   spring   bringing out the fun in people intp   autumn   no one ever notices this seasoni ve known a couple entp s  one entj and an intj and it kind of went entp entj entp intj i love being able to constantly talk with entp s but also they need to know when to stop talking  if an entp   if you mean actually 1v1ing yourself i also have done this  maybe i m wrong but i find it pretty easy to think about the most logical move the player i am playing should make with the information   gender  female age  19 29 intelligence  gifted idea adoption  early adopter mbti personality profile  esfp closest alternative we found  esfj  i think i killed it when it told me to write   i m fine with them  i m more on shortage of people i d ever want to do them with but that s on the grounds that any socialising that could be done could just as well be done over skype without the   i used to use pencils then i was told that my teachers wanted me to use pens only   so i used pens only  i haven t used a pencil   excluding my games of naughts and crosses earlier   in a couple   i d love to own either a calm house out somewhere distant with a porch and a log cabin aesthetic   fuck it  i want a log cabin  or i d actually really like the idea of being in one of those smokey   yeah i enjoy listening to lyrics but it doesn t make much of a difference if they re present or not  if they are there they re just another part of the instrumental i don t necessarily listen to   more often then not someone is only going to be fully entering my world if they invite me into theirs first and it s similar or we re friends on the internet   because then there are few   what did you get me today   my head   shit  shit  shit what did i miss  is it your birthday  was i supposed to get you something  are we that good friends that i should be buying you stuff  i   i frequently say it as an off hand thing  someone does something really awesome and i say fuck yeah i love you man or something like that  if i was to say it in a genuine way then it d feel really   so something strange has been happening recently  my interest was drawn to naughts and crosses and how i could make it more enjoyable to play  i started by increasing the grid size and tried   you could tell them your thoughts  you could not tell them your thoughts and continue to brew over it  i think that there s no reason to be ashamed or annoyed about anything and if you don t   loudly  whilst he drew hisand the baby platypi quiveredparticularly in the higher regionsstarting with a lingering feelingwhat s the point of stopping  why does it matter what they re called  guilty pleasures are pleasures for a reason  does it matter that much their own god dam storypost multiple times to doit s impressive how people wouldmaximum of five words per line  feel free to say other stuff in the most but make sure it s clear which is the five words      once upon a time insomeone who appreciates c c  fuck yeah yeezus can t we come to a reasonable conclusion without you picking a fight  it s not being open minded more often then not i judge them purely by how they judge me  i have a dark sense of humor that i m not exactly secretive about  i get along with most people on the grounds that i m just friendly to   i chose my avatar as it s an awesome art work of kaneki from tokyo ghoul and by god i loved the manga  love tragedies  name is a slightly altered version of my name  george   georgius  liked the halo   violence in this situation would probably be a faster way to get things done for both parties involved and especially on the receiving end  trying to talk sense into someone who just said something   but surely the point that everyone would be worse off initially isn t relevant  rebuilding a system would obviously have it s issues here and there   i m not crying revolution and i m not being   we d call it diagon alley i m with you  i make a pretty big point of not being a person for people to expect feelings from  i want to be that person but i just feel wrong  someones crying their eyes out and here i am lying   good call but that s just how i read it    what about a four dimensional plane why airplane why not aeroplane hit them for having the expectation that you should live up to their expectations which is infuriating in and of itself probably it s just because hitting a women is politically incorrect and some women will use that to their advantage what he s saying is that they should assume that if they say something worthy of being hit for  that they should be grateful when they re not hit for it  not expect not to be hit just on the basis   is it particularly common amongst intp s and other types to just acknowledge another sides point of view even though socially you shouldn t  what i mean by this is i can t have conversation with\",\n          \"i said zero flexibility and little time for dating  going around sifting through dates to find one that clicks isn t going to be as viable   that has nothing to do with maintaining a relationship i   how you ve come to the conclusion i have nothing to offer  merely because i am busy is beyond me        no not really  again  more made up stuff okay  this isn t cool   you re specifically looking to get into a relationship because you re about to enter a life phase where you will not have any resources to give to a relationship    that is   i do take it slow  that s why i m still single   but i m not interested in making friends  i  have friends  enough for my liking  i m interested in going on dates with the intent of entering a   absolutely not for me  i find the idea repugnant  actually people could have been polite  maybe average is a more conservative bet  and i m not claiming i m a social butterfly  i m just a normal guy who is introverted but not a social doofus   i don t   i m probably giving up the online thing here when my next subscription runs out  after that i really don t know where to look  bars are a definite no  i don t understand where people meet their   i ve tried both ways  actually  the last few women i have gone out with have gotten really weird and or ignored my backhanded compliments  i don t know what to do anymore  seems i get screwed either   i m actually pretty healthy      sorry you feel that way  not sure which ones you met  but assholes exist everywhere  the number isn t anywhere near 99  though if anything i err on the side of being indifferent  definitely not overeager yeah my close friends don t live near me anymore   the issue is that i have been meeting people  a good amount  and nothing works  i want to know why it is that deformed  infirm  mentally unstable    my friends are in worse positions than i am  asking them isn t going to help    as far as feedback  not really because that seems like an extraordinarily awkward thing to ask someone you barely   so  i m a 26 year old male who has been striking out time and time again when it comes to relationships  i ve been in one relationship my entire life that lasted like 1 5 years and ended when i was   i don t think this sort of dating method is very reasonable  and at best  it is counterproductive  being friends first just throws a wrench in what is normally a smooth dating process  when you fear   never was a kiss i appreciate the feedback  i think i m just going to tell her we shouldn t hang out unless she can dedicate a decent amount of time to it  what is happening right now is dragging things out and   i don t know  after thinking more  i m on the verge of giving up  it has nothing to do with seeing her infrequently  or not making it official or what have you  it s that she keeps things   i don t know  i m not a model or anything but i m decent looking  she s drop dead gorgeous and nice and smart  guys are always after her it seems  but i m also smarter and have better career   i like your answer  but maybe i m just being optimistic  it is basically  what i ve been doing  i can t shake the feeling that she wouldn t be giving me any of her time if she weren t interested and   how am i supposed to know if an infj just wants to be friends  things have been very weird with an infj i ve been seeing  i ve been very upfront about my intentions and she essentially told me she   interesting  i find it unusual infjs are known for taking forever to open up and trust people yet all the responses so far have indicated kissing in 3 or fewer dates    my infj friend has been with an intj  and i don t want to bust your confidence but even though she liked him at first  she soon found out that he was putting her down and felt caged  i can see that   enlighten us infjs  also indicate your gender and if you initiated well there was more than that  she also said she was basically trying to figure out if i m trustworthy and decent those two things seem at odds  how can you be simultaneously not saying things that need to be said but also being proactively aggressive pretty much yeah  women just do not enjoy my company on any level  i m in the same situation  never had any female friends  dated one person in my life and it lasted a little less than two years  the   i don t think that is going to help me dig myself out of the very clingy seeming hole i dug myself  i basically asked her if she knew i was romantically interested and she responded of course lol   i should have just let things proceed at a natural pace  pretty pissed at myself  about zero chance she speaks to me again i read through most of that thread  from what i can tell i never did anything egregious  good chance she lost interest after my bluntness though lol i broke that off shortly after my post  i felt like a slime ball  i only did it because people were telling me she s a lost cause and i should see other people  btw i have a very well developed   update on this  told her i liked her and got no reassurance she liked me or even that she wasn t interested  those who said she was ambivalent were right  i m pretty much calling it off at this point   yeah so i told her and didn t get an affirmation she liked me nor that she didn t  she basically said she had known for a while i like her  pretty much what i expected  probably going to call it   is the crystal ball reference supposed to mean your guess is as good as mine or what  edit  guess not  pso i ve gone on six or so dates with an infj over a 3 month period  she s pretty busy  and me too  and recently i feel like progress has been a little glacial  for a bit i thought she was warming up   she hates texting   and yeah  she told me how picky she was about people recently and that normally she wouldn t give anyone the time of day you would literally have to have an autism spectrum disorder  i would know   not to mention you don t tell someone who is just friends how much you like them  that would be more than bizarre it s kind of hard to get to the point of officially dating when you have no idea what is going on in her head  for all i know an attempt to kiss her would result in abject horror and assault   spoke to her last night  she essentially said she likes me a lot and would normally never make any time for people unless she was obligated to  but she also indirectly used the word friend but it   so i met an infj female a while back  and we ve been out like five or so times on a date  they go well  we get along  everything seems nice  i find her very attractive and we have quite a bit in      i don t know  i kind of have a rule that i don t compliment a female on her appearance until she trusts me  i did compliment her personality a few times   she is extremely cautious from what i   well  now i have a new question  went on a second date a few days ago and it went well and she said she wanted to meet up again  the problem is  there hasn t been an ounce of flirting or touching   she started initiating with me and asked if i m free soon         if there is anything to be learned it is don t play the analysis game  you will lose expectations of     i don t know  i can t really fault a strong introvert for being wary about someone she doesn t really know  number 2 is cruel  but it is how modern dating works     pretty sure this isn t the   i don t know  i can t really fault a strong introvert for being wary about someone she doesn t really know  number 2 is cruel  but it is how modern dating works     pretty sure this isn t the   thanks  option 1 seems most likely  it seems whenever i finally get her to open up there is like a cascade of good conversation that finally ensues  but it is like pulling teeth initially  then i   i m socially retarded and would know that if a random stranger asked for my contact info then asked me out for drinks or lunch then the person probably isn t interested in just being friends so i shouldn t be deterred by the fact she doesn t really ever reach out to me  i don t enjoy appearing like someone who can t take a hint or who puts someone else in an awkward situation  i worry   no this seems to fit her pretty well thanks for the advice everyone  i appreciate your taking the time to respond\",\n          \"this has to be written with bias or something  i m not sure how you could even say that truthfully  for some reason you put subjectivity for both god and man  it says nothing     that makes no       how   the main priority of the church is written throughout it s texts for the past nearly 2000 years and reverberated throughout the church s dialogues both before and after the incident about   that s an annoying phrasing  as it s just obtuse and confusing to newcomers  i don t blame you for your response there     why must the revealed knowledge not speak truth but contain a bias   there are no priestly desk jobs  the closest thing you have to being a priest that gets you away from people is being a monk and that in itself is very different   i am telling you they did it out   no  you really won t  you can t just go to an intp and assume their intelligence level  that would end in failure  don t be afraid to ask big questions when musing with the intp and just try to   heresy is  like  the core reason most all christian in fighting occurs  everything else is minor disputes about theological opinions that s exceedingly subjective  see what they re interested in  strike up a conversation about it  definitely ask them their thoughts to dismiss my concept of it is to dismiss all history on the topic  dismiss what the apostles taught  and literally all sects of christianity  but fine  whatever do cool shit  discuss ideas  have patience  don t try to judge personally too quickly or control them  also  make the first move to show you re interested in talking with them i used to feel about the same until i read the book self made man  where a lesbian  butch  woman dressed like a man and tried to live as one  she noticed herself being considered a feminine man quite   i m not sure what the hell is going on in this thread but i would like to say i know no entjs personally  i don t think  it d be neat  though all churches are forms of political institutions  catholic and orthodox ones have the benefit of being centralized  all sects have declared doctrine in one way or another   you re speaking against   and here is the most boring post in the whole thread what part  if it s the idea of a teaching authority  you have a problem with all church until the 13th century  if it s the idea of a group being guided by the holy spirit in their decisions on   for catholics  the church has a dual meaning  the whole of the believers  the body of christ  and the political institution  for catholicism  their teachings of christ are said to be protected by   priests were relocated to other parishes so they may quiet down the criticism of the time and handle thing themselves  again  poor decision but that was their decision   the church s first priority   well sure then  yes  the church did protect child offenders  the church s reasoning was the image of the church itself and the their leadership s own ignorance of the size of the problem  the church   edit  based double postno  it really isn t  the bible itself is the canon collection of texts  the bible was established once the theological and historical work was done to establish the canon and it was not modified   yes  nevermind it because the two claims do not contradict each other at all  i could work through how there is no contradiction if you re struggling     i wouldn t say all  no  that s a     there s no way to tell  but many of them depend on logic and or history that contradicts or ruins their claims  granted there are a few cases of we re yet to be able to know but many of it can   the problem of induction is a grand way of humbling yourself about scientific findings when you re younger  it brings into question if what we know is what we could call true rubix cubes pantheism makes no sense  i d advise otherwise  atheism and abrahamic theism are the only two rational choices you  motherfucker what is the meaning of everything  the universe exists  we are to learn to love in it disappointed 24 year old reporting in   good luck  op this is exceedingly naive  the early church  before scripture  applied their teaching to better society  after scripture  it was held in high esteem as a basis to properly better society  most work   from the catholic catechism  list of official teaching  here is how we are to read the bible   iii  the holy spirit  interpreter of scripture   109 in sacred scripture  god speaks to man in a   i never liked people pointing to the scandinavian model for the success of their economic system and not their incredible oil and natural resource supply compared to their small populations while shit just got stupid for a moment  lets try to get back on track you re pretty smart  you know that   look at this fucker  she thinks i m smart  pfft exceedingly poor i ve just been told i m bright  but i m sure most everyone else says the same to the kids and what of you the most efficient way to remove self doubt is to stop doubting yourself so much  faith and trust  nigga you suspect wrongly  i like the chatter and i m being friendly with you  i seriously do hope you have a good day too indeed you do  feel free to ask argue chat or bullshit with me if you want  have a good one  man i d say that s a stretch to say  catholics believe the bible was inspired by god but written by men  orthodox do too  as they assembled the biblical canon i d have to say they have the greatest say   edit  welp i see the arguments for inconsistencies  sometimes they aren t actually inconsistencies  sometimes they are  i find the simplest example of a true one being the rabbit that is apparently chewing   sorry to take so long to get back to you  my internet has been screwing up horribly   as for the answer  there was a considerable amount of things that got me off the atheist train but if i were to   the believing portion was a long and arduous process for me  i researched culture as a hobby and eventually i rolled around to religion  it was an interesting topic for me and i eventually began to   to your first statement    just    what  where did that even come from  of course they can know love  though with god they can know it fully  i d argue   as for hell  it s taken a variety of   i m very mixed on him  his criticism of christianity  and envy  now that i ve seen the video  is  while popular  piss poor and max scheler did a wonderful job making an argument otherwise on his   people believing in something as incontrovertibly true is what gets people into a murderous rage  why just the incontrovertibly true  why not the empirically true  why not just majority opinion  to   sure thing  sounds sorta similar to the epicurean paradox   suffering free will exists to strengthen the good  if you create a people so they may know love they cannot sincerely know love if they   yo  christian intp here   anything you want it s not we can make healthy children  it s we only let the healthy babies live  which is the issue  it s a moral issue about the innate value of life 249210\"\n        ],\n        \"semantic_type\": \"\",\n        \"description\": \"\"\n      }\n    }\n  ]\n}"
            }
          },
          "metadata": {},
          "execution_count": 21
        }
      ],
      "source": [
        "df = df.loc[:, ~df.columns.str.contains('^posts')]\n",
        "df"
      ]
    },
    {
      "cell_type": "code",
      "execution_count": 22,
      "metadata": {
        "colab": {
          "base_uri": "https://localhost:8080/",
          "height": 542
        },
        "id": "OqJEo9-dol-j",
        "outputId": "92a86c90-5c04-4006-8ef0-95dbbb661386"
      },
      "outputs": [
        {
          "output_type": "display_data",
          "data": {
            "text/html": [
              "<html>\n",
              "<head><meta charset=\"utf-8\" /></head>\n",
              "<body>\n",
              "    <div>            <script src=\"https://cdnjs.cloudflare.com/ajax/libs/mathjax/2.7.5/MathJax.js?config=TeX-AMS-MML_SVG\"></script><script type=\"text/javascript\">if (window.MathJax && window.MathJax.Hub && window.MathJax.Hub.Config) {window.MathJax.Hub.Config({SVG: {font: \"STIX-Web\"}});}</script>                <script type=\"text/javascript\">window.PlotlyConfig = {MathJaxConfig: 'local'};</script>\n",
              "        <script charset=\"utf-8\" src=\"https://cdn.plot.ly/plotly-2.24.1.min.js\"></script>                <div id=\"fe173335-9a9e-4842-b872-8dfb8e930a43\" class=\"plotly-graph-div\" style=\"height:525px; width:100%;\"></div>            <script type=\"text/javascript\">                                    window.PLOTLYENV=window.PLOTLYENV || {};                                    if (document.getElementById(\"fe173335-9a9e-4842-b872-8dfb8e930a43\")) {                    Plotly.newPlot(                        \"fe173335-9a9e-4842-b872-8dfb8e930a43\",                        [{\"domain\":{\"x\":[0.0,1.0],\"y\":[0.0,1.0]},\"hovertemplate\":\"type=%{label}\\u003cextra\\u003e\\u003c\\u002fextra\\u003e\",\"labels\":[\"INFJ\",\"ENTP\",\"INTP\",\"INTJ\",\"ENTJ\",\"INTJ\",\"INFJ\",\"INTJ\",\"INFJ\",\"INTP\",\"INFJ\",\"ENFJ\",\"INFJ\",\"INTJ\",\"INTP\",\"INTP\",\"INFJ\",\"INFP\",\"INFJ\",\"INFP\",\"INTP\",\"INFJ\",\"ENTJ\",\"INFP\",\"ENTJ\",\"INFP\",\"ENFP\",\"ISFP\",\"INFP\",\"INFJ\",\"INFP\",\"INFJ\",\"INTP\",\"INFJ\",\"ENFJ\",\"INFJ\",\"INTJ\",\"INFP\",\"ENFP\",\"ENTJ\",\"ISTP\",\"INFJ\",\"INTP\",\"INFP\",\"INTJ\",\"INTP\",\"ENTJ\",\"INFP\",\"ISFJ\",\"INTJ\",\"INTP\",\"INFP\",\"ISFJ\",\"INTP\",\"INFP\",\"INFP\",\"INFP\",\"ENFJ\",\"INTP\",\"INTJ\",\"INFJ\",\"INTP\",\"INFP\",\"INFP\",\"ENTP\",\"INTP\",\"ISFP\",\"ENFJ\",\"INFJ\",\"ENFJ\",\"INFJ\",\"INFP\",\"ENFP\",\"ISTP\",\"INFJ\",\"INTP\",\"INTJ\",\"INTJ\",\"INTJ\",\"INFP\",\"INFP\",\"INFJ\",\"ENTP\",\"ENTJ\",\"INFP\",\"INTP\",\"INFP\",\"ISFJ\",\"ISTJ\",\"INTP\",\"ENTP\",\"INTP\",\"ISFP\",\"ENFJ\",\"INFJ\",\"INFP\",\"INFJ\",\"INTJ\",\"INFJ\",\"ENFP\",\"INFP\",\"INFP\",\"ENFP\",\"INFJ\",\"ISTP\",\"INFJ\",\"ISTJ\",\"ENFJ\",\"INTP\",\"INTJ\",\"ENTP\",\"INFP\",\"INFP\",\"ESTP\",\"ISTP\",\"ENFP\",\"ENTP\",\"INTP\",\"INFJ\",\"ENFP\",\"ENTP\",\"INTP\",\"INFJ\",\"ISTP\",\"INTP\",\"INTJ\",\"ENTP\",\"INFJ\",\"INFJ\",\"INFJ\",\"ENTJ\",\"ISFJ\",\"INFP\",\"INFJ\",\"INTP\",\"INFJ\",\"INFP\",\"INTP\",\"INFP\",\"ISFP\",\"INTP\",\"INFP\",\"ENFP\",\"ENFP\",\"ENTP\",\"INFJ\",\"INFJ\",\"ENTP\",\"INFP\",\"INFP\",\"INTP\",\"INFJ\",\"ENFP\",\"ENFP\",\"INTP\",\"ENTP\",\"INTJ\",\"INTP\",\"ENTP\",\"ENFP\",\"ESTP\",\"INTJ\",\"INTP\",\"ENTP\",\"INFP\",\"INFJ\",\"INFJ\",\"INTJ\",\"ENFP\",\"INTJ\",\"INTJ\",\"INTP\",\"ISFJ\",\"INTP\",\"ISTP\",\"INTP\",\"INTP\",\"INTP\",\"INTP\",\"INFP\",\"ENTP\",\"INFP\",\"INTP\",\"INTJ\",\"ENTP\",\"INFJ\",\"INTJ\",\"INTP\",\"ISTP\",\"ISTJ\",\"INFP\",\"INTJ\",\"ENFP\",\"INFP\",\"INTP\",\"INTJ\",\"INTJ\",\"INFP\",\"INTP\",\"INTP\",\"ESFP\",\"INTJ\",\"ISFP\",\"INFJ\",\"INTJ\",\"INTJ\",\"INTP\",\"INTP\",\"INFP\",\"ENFP\",\"INFP\",\"INFP\",\"INFP\",\"INFP\",\"INTP\",\"INTP\",\"INFP\",\"INFP\",\"INFP\",\"INFJ\",\"ENFP\",\"INTJ\",\"INFJ\",\"INFJ\",\"ENTP\",\"INTP\",\"INTP\",\"INFP\",\"INFP\",\"INFJ\",\"INTP\",\"INFP\",\"INTP\",\"INFP\",\"INFJ\",\"ENFJ\",\"ISTP\",\"INTJ\",\"INFP\",\"ISFP\",\"ENTJ\",\"ENTP\",\"ISFP\",\"ENFP\",\"INFP\",\"ENFP\",\"ENTP\",\"INFP\",\"INFP\",\"ISFP\",\"INFP\",\"INFJ\",\"ENTP\",\"INFP\",\"ISTP\",\"INTJ\",\"INTP\",\"INFJ\",\"ISTJ\",\"INTJ\",\"INFP\",\"INFJ\",\"INTJ\",\"ENFJ\",\"INFP\",\"INFP\",\"ISTJ\",\"ISTJ\",\"ISFP\",\"INFP\",\"INFJ\",\"INFP\",\"INTP\",\"INFP\",\"INTP\",\"INTJ\",\"INTJ\",\"INFJ\",\"INFP\",\"INTP\",\"INTJ\",\"ENFP\",\"INFP\",\"INTP\",\"ENTJ\",\"INTJ\",\"INFJ\",\"INFP\",\"ENTJ\",\"INTP\",\"INTP\",\"INFP\",\"INTP\",\"ENTP\",\"INTJ\",\"INTP\",\"INTJ\",\"INFP\",\"INFJ\",\"INFJ\",\"INFP\",\"ENFP\",\"INTP\",\"ISTP\",\"INTJ\",\"ENFP\",\"ENFP\",\"ENTP\",\"INTP\",\"INFJ\",\"INTJ\",\"INFP\",\"ENFP\",\"ENFJ\",\"ENTP\",\"ISFP\",\"INFP\",\"INFP\",\"INFP\",\"INTJ\",\"ENTP\",\"ENTP\",\"INTP\",\"INTP\",\"INFJ\",\"INFJ\",\"INTP\",\"ENFP\",\"INFP\",\"INTJ\",\"INTJ\",\"INFP\",\"INFP\",\"INFP\",\"ISFP\",\"ISFJ\",\"INFP\",\"INTP\",\"INFP\",\"INTJ\",\"INTJ\",\"ENTP\",\"ENFJ\",\"ISFJ\",\"INTP\",\"ISFP\",\"ESTP\",\"INFP\",\"INTP\",\"INTJ\",\"INFP\",\"INTJ\",\"INFP\",\"INFP\",\"INFJ\",\"INFP\",\"ENTP\",\"INTP\",\"INTP\",\"INFJ\",\"ENFP\",\"INTJ\",\"ENTP\",\"ENFP\",\"INFJ\",\"ISTJ\",\"INFP\",\"INFP\",\"INFP\",\"INTJ\",\"INTJ\",\"INFP\",\"INFJ\",\"INFP\",\"INFP\",\"ENTP\",\"INTJ\",\"INFP\",\"INTJ\",\"INTJ\",\"INFP\",\"ENFP\",\"ISTP\",\"INFP\",\"ISFP\",\"INFP\",\"ENFP\",\"ENTJ\",\"ENFP\",\"INFJ\",\"INFJ\",\"ISFP\",\"INFP\",\"INTP\",\"ESTP\",\"ENTP\",\"ENFP\",\"INFP\",\"INFP\",\"INFJ\",\"INTJ\",\"ISFP\",\"INFJ\",\"ISFP\",\"INFP\",\"ENFP\",\"INTP\",\"INFP\",\"INFJ\",\"ENFP\",\"INFP\",\"INFJ\",\"INTP\",\"INFJ\",\"INFJ\",\"ISFJ\",\"INFJ\",\"INFP\",\"INFJ\",\"INFP\",\"INTP\",\"ENTP\",\"INTP\",\"INFJ\",\"INFJ\",\"INTJ\",\"INFP\",\"INFP\",\"ENFP\",\"INFP\",\"ESFP\",\"ISTP\",\"INFP\",\"INTP\",\"INFJ\",\"ENFJ\",\"INFP\",\"ENTP\",\"INTJ\",\"INFJ\",\"INFJ\",\"INTP\",\"ISTP\",\"ENFP\",\"ENFP\",\"ENFP\",\"ENFJ\",\"ESTP\",\"INFJ\",\"INTJ\",\"ENTP\",\"INFP\",\"INFP\",\"INTP\",\"INFP\",\"INTJ\",\"ENTP\",\"INTP\",\"ISTJ\",\"INTJ\",\"INTJ\",\"INTJ\",\"ENFP\",\"ISTP\",\"INTJ\",\"INFJ\",\"INFJ\",\"INFP\",\"INFJ\",\"INFP\",\"ENFP\",\"ENTP\",\"INFJ\",\"INFP\",\"ISTP\",\"INFJ\",\"ESTP\",\"ENFP\",\"ISTP\",\"INFP\",\"INFJ\",\"INFP\",\"INTJ\",\"ENFP\",\"INFJ\",\"INTP\",\"INTJ\",\"INTP\",\"ENFP\",\"INFP\",\"ENTJ\",\"INTP\",\"INFP\",\"INTP\",\"INTP\",\"INFP\",\"INFJ\",\"ENTP\",\"INFJ\",\"INTJ\",\"INTJ\",\"INFJ\",\"ENTP\",\"INTJ\",\"INFP\",\"INTP\",\"INFP\",\"ISFP\",\"ISFP\",\"ISTP\",\"INTP\",\"INTJ\",\"INFJ\",\"ENTJ\",\"INTJ\",\"INFJ\",\"ENFJ\",\"INTJ\",\"INFJ\",\"ENTJ\",\"INTP\",\"INTJ\",\"INTJ\",\"ISTP\",\"INFJ\",\"INFP\",\"INFP\",\"INTP\",\"INTP\",\"ESFP\",\"INFJ\",\"INTP\",\"INFJ\",\"ISFJ\",\"ENTJ\",\"INFP\",\"ENTP\",\"INFP\",\"ENFJ\",\"INFP\",\"INFP\",\"ENFP\",\"INFP\",\"ISFJ\",\"INTJ\",\"INFJ\",\"ESTJ\",\"INFJ\",\"INTP\",\"INFP\",\"ISFJ\",\"INFJ\",\"ENTP\",\"ENTJ\",\"ENTP\",\"INTJ\",\"INFP\",\"INFP\",\"INFJ\",\"INTJ\",\"INTJ\",\"INTP\",\"INTJ\",\"INFJ\",\"INFP\",\"ENTP\",\"ENTJ\",\"ISTP\",\"INFP\",\"ENFP\",\"ISTP\",\"INTP\",\"INFP\",\"INFJ\",\"INFJ\",\"ENTP\",\"INFJ\",\"INTP\",\"INTJ\",\"INFP\",\"INFP\",\"INFJ\",\"ENFP\",\"ISFP\",\"INFJ\",\"INTJ\",\"INTP\",\"ENTP\",\"ENFJ\",\"ENTP\",\"INTJ\",\"INFP\",\"ENFP\",\"ESTP\",\"INFP\",\"ESTJ\",\"INFP\",\"ENFP\",\"INFJ\",\"INFP\",\"INFP\",\"INTJ\",\"INFJ\",\"INFP\",\"INTP\",\"INFP\",\"INTJ\",\"ISTP\",\"INFP\",\"INFJ\",\"INFP\",\"INTP\",\"INTP\",\"ENFJ\",\"INFP\",\"INFJ\",\"ENTP\",\"ESFP\",\"INTP\",\"INFP\",\"INFJ\",\"ISTP\",\"INTJ\",\"INFJ\",\"ENFP\",\"INFJ\",\"INFP\",\"ESFJ\",\"INFP\",\"INFJ\",\"ISTJ\",\"INTP\",\"INFP\",\"ISFJ\",\"ESFP\",\"ISTP\",\"ENFP\",\"INTJ\",\"ISTP\",\"ENTP\",\"ENTP\",\"INFP\",\"INTJ\",\"ENFP\",\"INFP\",\"INTJ\",\"INTJ\",\"ENTP\",\"INFP\",\"INFP\",\"ENFP\",\"ENFP\",\"INTP\",\"INFJ\",\"INTP\",\"INFP\",\"INFJ\",\"INTJ\",\"ENTP\",\"INFJ\",\"INTP\",\"INTP\",\"INFJ\",\"INFP\",\"INTP\",\"ISTP\",\"ENTP\",\"INFP\",\"INFP\",\"INTP\",\"ISTP\",\"INTP\",\"INFP\",\"INFP\",\"ENTP\",\"INFP\",\"INFJ\",\"ENTP\",\"ISTP\",\"INFP\",\"INFP\",\"INTJ\",\"ENTJ\",\"ESFJ\",\"ENFP\",\"INFP\",\"INFJ\",\"INFP\",\"INFJ\",\"INFJ\",\"ESFP\",\"INFP\",\"INTJ\",\"ENTP\",\"ENTP\",\"INFP\",\"INTP\",\"INFP\",\"ISTJ\",\"INFP\",\"ENTP\",\"INFJ\",\"ENFP\",\"ENFJ\",\"INTJ\",\"ENTP\",\"INTP\",\"INFP\",\"INFP\",\"ENFP\",\"INFJ\",\"INTJ\",\"INTJ\",\"INFP\",\"INFJ\",\"INFJ\",\"INTJ\",\"INTJ\",\"INTP\",\"INFJ\",\"INFJ\",\"INFP\",\"INFJ\",\"INTJ\",\"INTP\",\"INFJ\",\"INFP\",\"INTJ\",\"INTJ\",\"INTP\",\"INTP\",\"ISFP\",\"ESFP\",\"INFJ\",\"ISFP\",\"INTP\",\"ISTP\",\"ENTJ\",\"ENFP\",\"ENTP\",\"INTJ\",\"INFP\",\"ISFP\",\"ESTP\",\"ISTP\",\"INFP\",\"INFJ\",\"ENFJ\",\"INTP\",\"ENFP\",\"INTP\",\"ISTP\",\"INFJ\",\"INFP\",\"INTP\",\"INFJ\",\"INTJ\",\"INFJ\",\"INFJ\",\"INFJ\",\"ENTJ\",\"ISTP\",\"INFP\",\"INFJ\",\"ESTJ\",\"INFJ\",\"INTP\",\"INFP\",\"INFP\",\"INFP\",\"INTP\",\"ENFP\",\"INFP\",\"ENTP\",\"ENFP\",\"ENFJ\",\"ISTP\",\"INFP\",\"INTJ\",\"INTP\",\"ISTP\",\"INTJ\",\"INFP\",\"ISFJ\",\"INFP\",\"INTP\",\"ENFJ\",\"INFJ\",\"ENFP\",\"INTP\",\"INTJ\",\"INFJ\",\"ENTP\",\"ENFP\",\"INFP\",\"INTJ\",\"INFP\",\"INTJ\",\"INTP\",\"ENTJ\",\"INTP\",\"INTP\",\"INFJ\",\"INFJ\",\"INFJ\",\"INTP\",\"ENTP\",\"INFJ\",\"ISTP\",\"INFP\",\"ESTP\",\"INTJ\",\"ENTP\",\"INFP\",\"ESFJ\",\"INFJ\",\"INTP\",\"INFJ\",\"INTJ\",\"ENTJ\",\"ISTP\",\"INFJ\",\"INFJ\",\"ISTP\",\"INTP\",\"ENTP\",\"INFP\",\"ENFP\",\"ENTJ\",\"INTP\",\"ENTJ\",\"INTP\",\"ISTP\",\"INFP\",\"ENTJ\",\"INTJ\",\"INFP\",\"INFP\",\"ENTP\",\"ENFJ\",\"INTJ\",\"INTP\",\"INTP\",\"INTP\",\"INTP\",\"INFP\",\"ENTJ\",\"INTP\",\"INTP\",\"INTJ\",\"INTJ\",\"INTJ\",\"INTJ\",\"INFP\",\"ESTP\",\"INTP\",\"INFP\",\"INFJ\",\"ISTP\",\"INTP\",\"INFP\",\"INFP\",\"INFJ\",\"INTJ\",\"INTP\",\"INFJ\",\"ENFP\",\"ENTJ\",\"INTP\",\"INTJ\",\"INTP\",\"ISTP\",\"INFP\",\"INFP\",\"INFP\",\"ENTP\",\"INFP\",\"INTJ\",\"INFP\",\"INTJ\",\"INFJ\",\"INFP\",\"INTJ\",\"INFP\",\"ENFP\",\"ESTP\",\"ISFP\",\"INTP\",\"ENFP\",\"INTJ\",\"INFP\",\"INTP\",\"INFP\",\"INTP\",\"INFJ\",\"INTP\",\"INFJ\",\"INFP\",\"ISTP\",\"INTJ\",\"INFJ\",\"INTP\",\"INTP\",\"INTP\",\"INTJ\",\"INFP\",\"INFJ\",\"INTP\",\"ENTP\",\"INFP\",\"INFP\",\"INFJ\",\"INFP\",\"INFP\",\"ESFJ\",\"INFP\",\"INTJ\",\"INFP\",\"ENFP\",\"INFP\",\"INFP\",\"INFP\",\"ENTP\",\"ISTP\",\"INFJ\",\"INFP\",\"ISFP\",\"INFP\",\"ISTP\",\"INFJ\",\"ENFJ\",\"INTJ\",\"INFJ\",\"INFP\",\"INFP\",\"ENTP\",\"INFJ\",\"INFP\",\"INFP\",\"INTP\",\"ISTP\",\"INTJ\",\"INFP\",\"ISTJ\",\"INFJ\",\"INTJ\",\"INFP\",\"ISFJ\",\"INFJ\",\"INTP\",\"INFP\",\"INTJ\",\"INFP\",\"ISFP\",\"INFP\",\"ENTJ\",\"INFP\",\"INTJ\",\"INFJ\",\"ISFP\",\"ENFP\",\"INFJ\",\"ISFJ\",\"INFJ\",\"INTP\",\"INFP\",\"ENFP\",\"INFP\",\"INFP\",\"ENFP\",\"INFP\",\"INTP\",\"INFP\",\"ENFP\",\"ENFP\",\"INTP\",\"INFP\",\"INTP\",\"INTJ\",\"INTJ\",\"ENTP\",\"ENTP\",\"INFP\",\"ENTP\",\"INTP\",\"ENTP\",\"ENFJ\",\"ISFP\",\"INFP\",\"ENTP\",\"INFJ\",\"INTP\",\"ISTP\",\"INTJ\",\"INFP\",\"ENFP\",\"ENTP\",\"INFP\",\"ENTJ\",\"ISTJ\",\"ISFJ\",\"INTJ\",\"INFJ\",\"INTJ\",\"INFP\",\"INTJ\",\"INTJ\",\"ISTP\",\"INFJ\",\"INFJ\",\"INFP\",\"INTJ\",\"INFP\",\"ENFP\",\"INFP\",\"INFP\",\"INFP\",\"ENFJ\",\"INTJ\",\"INFJ\",\"INFP\",\"INFP\",\"ENTP\",\"ENTP\",\"INFP\",\"INTP\",\"ISTP\",\"INFP\",\"ENTP\",\"ENFP\",\"INTJ\",\"ISFP\",\"ENTP\",\"INFP\",\"INFP\",\"INFJ\",\"INTJ\",\"ENFP\",\"INTP\",\"ENFP\",\"INTP\",\"INTJ\",\"INTP\",\"INTJ\",\"INFJ\",\"INFP\",\"INTJ\",\"ENFP\",\"ENTP\",\"ISTJ\",\"ISFP\",\"INFJ\",\"ISFJ\",\"ENFJ\",\"INFP\",\"ISTP\",\"INFJ\",\"ENTP\",\"ENTP\",\"ISTP\",\"ISFP\",\"ISFJ\",\"ISFP\",\"ISTJ\",\"INFP\",\"INFP\",\"ENFP\",\"ISFP\",\"INFP\",\"INFP\",\"ISTP\",\"INTP\",\"INFP\",\"INTJ\",\"INFJ\",\"ENFP\",\"INTP\",\"ENFJ\",\"INFP\",\"INFP\",\"INFP\",\"INFP\",\"ENTP\",\"ENTP\",\"INFJ\",\"INFP\",\"INFP\",\"INTJ\",\"ISFP\",\"ISTJ\",\"ENFP\",\"INFP\",\"ENTP\",\"ENFJ\",\"INFP\",\"INFP\",\"INFP\",\"INFP\",\"INFJ\",\"INTJ\",\"INFP\",\"INFJ\",\"INTP\",\"ISTP\",\"INFP\",\"INFJ\",\"INTP\",\"INFJ\",\"INFP\",\"INTP\",\"INFJ\",\"INTP\",\"ESTJ\",\"ENTP\",\"INFJ\",\"ENTJ\",\"INTJ\",\"INTJ\",\"ISTP\",\"ISTP\",\"ENTP\",\"INFJ\",\"INFP\",\"ENFP\",\"INTP\",\"INTP\",\"INFJ\",\"ISFJ\",\"ISTJ\",\"INFJ\",\"INFJ\",\"INFP\",\"INFP\",\"ENTP\",\"ESFP\",\"INTJ\",\"INTJ\",\"INFJ\",\"INTP\",\"ISFP\",\"INFJ\",\"ISTJ\",\"INTJ\",\"INFP\",\"ENTP\",\"INTP\",\"INTJ\",\"INFP\",\"ENFP\",\"INTP\",\"INFP\",\"INFP\",\"INFP\",\"INFJ\",\"ISFJ\",\"ISFJ\",\"INFP\",\"INFP\",\"INTJ\",\"ENFP\",\"ISFP\",\"ENTJ\",\"INTP\",\"ENTP\",\"INTJ\",\"INFP\",\"ISTJ\",\"INFP\",\"INFP\",\"INFP\",\"INTJ\",\"INTP\",\"ISTP\",\"ENFP\",\"INTJ\",\"INTJ\",\"ISFP\",\"ENTP\",\"INFJ\",\"INFP\",\"INTP\",\"ENTP\",\"INFP\",\"INFP\",\"ISFP\",\"ENFP\",\"INTP\",\"ENFP\",\"INFP\",\"INFP\",\"INTJ\",\"INFP\",\"ESTP\",\"INTJ\",\"INFP\",\"INFJ\",\"INTJ\",\"INFJ\",\"INFP\",\"ENTP\",\"INTP\",\"ISTJ\",\"INFP\",\"ENFP\",\"ENTP\",\"INFJ\",\"ISTJ\",\"ESTP\",\"INTJ\",\"ENTP\",\"INFJ\",\"ESTP\",\"ENFP\",\"INTJ\",\"ENTP\",\"ENTP\",\"ISTJ\",\"ENTP\",\"ESFP\",\"INFP\",\"ENTP\",\"ENFJ\",\"INFJ\",\"INFP\",\"ENFP\",\"INTJ\",\"INFP\",\"ESFJ\",\"INFP\",\"INTJ\",\"INFJ\",\"INTJ\",\"INTJ\",\"INFP\",\"ENTP\",\"INTJ\",\"ENFP\",\"INFJ\",\"INFP\",\"ISFP\",\"ESTJ\",\"INFP\",\"ENFP\",\"INTP\",\"INTJ\",\"INTJ\",\"INFP\",\"ENTJ\",\"ENFP\",\"ENFJ\",\"INFP\",\"ISFP\",\"INTP\",\"INFP\",\"INFJ\",\"ENFP\",\"INTJ\",\"INFP\",\"INFP\",\"INFJ\",\"INFJ\",\"ENTP\",\"INFJ\",\"INTP\",\"ENTP\",\"INFP\",\"ENFP\",\"ENTJ\",\"ISFJ\",\"INFJ\",\"INTP\",\"INFP\",\"INTP\",\"INFP\",\"INTJ\",\"INTJ\",\"INFJ\",\"INFJ\",\"ENTP\",\"ESTP\",\"ISTP\",\"ENTP\",\"INFJ\",\"INTP\",\"INFJ\",\"ENTP\",\"INTJ\",\"ENTP\",\"INTJ\",\"INTP\",\"ISTP\",\"INTP\",\"INFJ\",\"ENFP\",\"ISTJ\",\"INTP\",\"INFP\",\"INFJ\",\"INFJ\",\"INFJ\",\"INFP\",\"INFJ\",\"INFP\",\"ESTP\",\"INFJ\",\"INFP\",\"ISFJ\",\"INFP\",\"ENTP\",\"ENTP\",\"INFP\",\"INFP\",\"ENFP\",\"ISTJ\",\"INFP\",\"INTJ\",\"INFP\",\"INFP\",\"INFJ\",\"ISFP\",\"INFP\",\"INFJ\",\"ENTP\",\"INTP\",\"INTP\",\"ISTP\",\"ENTP\",\"INTP\",\"ISTP\",\"INFJ\",\"ISTP\",\"INFP\",\"INTP\",\"INTP\",\"ENFJ\",\"ENFP\",\"ENFJ\",\"INTP\",\"INFJ\",\"ENTJ\",\"INTP\",\"ENTJ\",\"INTJ\",\"INFP\",\"ISTP\",\"ENFP\",\"INFP\",\"ENFP\",\"INFJ\",\"ISFJ\",\"INFJ\",\"INFJ\",\"INFJ\",\"INFJ\",\"INFJ\",\"INTJ\",\"INFP\",\"INFP\",\"INFJ\",\"INFJ\",\"INFP\",\"ISTJ\",\"ENFP\",\"INFP\",\"ENTJ\",\"ENFP\",\"ENFP\",\"ENTP\",\"ESTJ\",\"INFJ\",\"INFJ\",\"INTP\",\"INFJ\",\"INTP\",\"ISTP\",\"INFP\",\"INFP\",\"INTP\",\"INFJ\",\"INTP\",\"ENFP\",\"INFJ\",\"INFJ\",\"INTP\",\"INFJ\",\"ENFJ\",\"INFJ\",\"ENFP\",\"ENTP\",\"ISTP\",\"ENTJ\",\"INFP\",\"ENFP\",\"INTP\",\"INTP\",\"INFP\",\"INFP\",\"ENTP\",\"ISFP\",\"INFJ\",\"INFJ\",\"INFP\",\"ISTP\",\"INFP\",\"INFP\",\"INFJ\",\"INFP\",\"INFP\",\"ENTP\",\"ISTP\",\"INTP\",\"INTJ\",\"ISTJ\",\"INFP\",\"INFJ\",\"ENFJ\",\"INFP\",\"INFP\",\"ENTP\",\"INTP\",\"INTP\",\"ISFP\",\"INFJ\",\"INFP\",\"INFJ\",\"INFP\",\"INTP\",\"INFJ\",\"ENTP\",\"ESFP\",\"INTP\",\"ENTP\",\"ENTP\",\"ENFP\",\"INFP\",\"ENFP\",\"INFP\",\"INFJ\",\"INFP\",\"INFP\",\"INFP\",\"ENFJ\",\"INTP\",\"INFP\",\"INTJ\",\"INFJ\",\"ISFJ\",\"ENFJ\",\"INFP\",\"INTP\",\"ESTJ\",\"INTP\",\"ENFP\",\"INFJ\",\"ENTP\",\"ENFP\",\"INTJ\",\"INFP\",\"INFJ\",\"INTJ\",\"INFP\",\"ENTP\",\"ENFP\",\"INFJ\",\"INTP\",\"INFJ\",\"INFJ\",\"INTP\",\"ISTJ\",\"INFP\",\"INFP\",\"ISTP\",\"INFP\",\"INFP\",\"INFJ\",\"INFJ\",\"INFJ\",\"INTJ\",\"INTJ\",\"ENTJ\",\"ISTJ\",\"ESTP\",\"INFP\",\"INTP\",\"INFP\",\"ISTP\",\"INFJ\",\"INFP\",\"INTP\",\"INFP\",\"INFP\",\"INTP\",\"INFP\",\"INFP\",\"INFJ\",\"ENFP\",\"INFJ\",\"ENTP\",\"ISFP\",\"ISTJ\",\"ISFJ\",\"INFP\",\"ENFP\",\"ISTJ\",\"INFP\",\"INFJ\",\"INTJ\",\"ISFJ\",\"ISFJ\",\"ESFJ\",\"INTJ\",\"INFP\",\"INTJ\",\"ISTP\",\"INFP\",\"ENTP\",\"INTP\",\"INTP\",\"ENFP\",\"INFP\",\"INFP\",\"ENTP\",\"INFJ\",\"INTJ\",\"ENFP\",\"INTJ\",\"INFJ\",\"INTJ\",\"ESFP\",\"INTP\",\"INTJ\",\"INFJ\",\"INFJ\",\"ESTP\",\"ISTP\",\"ENTP\",\"INTJ\",\"INTJ\",\"ENTP\",\"ISTJ\",\"INFP\",\"INFP\",\"INTP\",\"INTP\",\"ISTP\",\"INFP\",\"INFP\",\"INTP\",\"INFP\",\"INFJ\",\"INFP\",\"INFJ\",\"ENTP\",\"INTP\",\"INTP\",\"INTJ\",\"INTJ\",\"INFP\",\"INTJ\",\"ESTJ\",\"ISFJ\",\"INFP\",\"ENTP\",\"ISFJ\",\"ISTJ\",\"INFJ\",\"ENTP\",\"INTP\",\"INTJ\",\"INFP\",\"INFP\",\"INFP\",\"INFP\",\"INFP\",\"INTP\",\"INFJ\",\"ISTP\",\"INTP\",\"INTP\",\"ISTP\",\"INFP\",\"INFJ\",\"INTP\",\"INFJ\",\"INTP\",\"INFP\",\"ENFP\",\"ENFJ\",\"ENFP\",\"INTJ\",\"INFJ\",\"INTP\",\"INTP\",\"INFJ\",\"ENFP\",\"INFJ\",\"INTP\",\"INFP\",\"INTJ\",\"INFP\",\"INFJ\",\"INTJ\",\"INFP\",\"INFJ\",\"ENTP\",\"INTP\",\"INTP\",\"INTP\",\"INTP\",\"ENFP\",\"ENTP\",\"INFJ\",\"ENTP\",\"INFP\",\"INFP\",\"ENFP\",\"ENTP\",\"INTP\",\"INTP\",\"INFP\",\"INTP\",\"ENTP\",\"INTP\",\"INTP\",\"INTP\",\"ENFJ\",\"INFP\",\"ENFP\",\"INFP\",\"ENFP\",\"INFJ\",\"INTP\",\"INTJ\",\"ISTP\",\"INFP\",\"INTJ\",\"ISFP\",\"INFJ\",\"INTP\",\"ENFP\",\"ENFJ\",\"INFP\",\"INTJ\",\"INFJ\",\"INTP\",\"INTJ\",\"INTP\",\"ENFP\",\"INTP\",\"INTP\",\"ENFP\",\"ENFP\",\"ESFJ\",\"INFP\",\"INFJ\",\"INFP\",\"INTP\",\"INTJ\",\"INFJ\",\"ENTP\",\"ISTJ\",\"INFP\",\"INFP\",\"INFP\",\"INFP\",\"INTJ\",\"INTJ\",\"ENFP\",\"INTP\",\"INFJ\",\"INTJ\",\"INTP\",\"INTJ\",\"INTP\",\"INTJ\",\"INFP\",\"INTP\",\"INTP\",\"ENTP\",\"ENFJ\",\"INFP\",\"INTJ\",\"ISFP\",\"INTJ\",\"INFJ\",\"ENTP\",\"INTJ\",\"INFJ\",\"ISTJ\",\"ENFP\",\"INFJ\",\"INFJ\",\"INFP\",\"ISFP\",\"ESTJ\",\"INFJ\",\"INTJ\",\"ENTP\",\"INTJ\",\"INTP\",\"INTP\",\"INTP\",\"INFJ\",\"INTJ\",\"INTP\",\"ISFJ\",\"INFP\",\"INTP\",\"INFP\",\"INFJ\",\"INFP\",\"ENFP\",\"ISTP\",\"ENFJ\",\"INFJ\",\"ENTP\",\"ENFP\",\"INFP\",\"INFP\",\"ESTP\",\"ENTP\",\"ENTP\",\"INTP\",\"INFP\",\"INFJ\",\"INTJ\",\"INFP\",\"ENTJ\",\"ISFJ\",\"INTJ\",\"INFP\",\"INTJ\",\"INFP\",\"ENFJ\",\"INTJ\",\"INFJ\",\"INTJ\",\"INFJ\",\"INTJ\",\"INFP\",\"ISTJ\",\"INTJ\",\"INTJ\",\"INTJ\",\"INFJ\",\"INTP\",\"INTP\",\"ENTP\",\"ENTP\",\"INTP\",\"INTP\",\"INFJ\",\"INFJ\",\"INTP\",\"INTJ\",\"INTP\",\"INTP\",\"ENTJ\",\"ISTJ\",\"ISFP\",\"INTJ\",\"INFP\",\"ENTP\",\"ISTJ\",\"INTJ\",\"ISTP\",\"INFJ\",\"ISTJ\",\"ISTJ\",\"INTP\",\"ENFP\",\"INTJ\",\"INFJ\",\"INTP\",\"ENTP\",\"ISFJ\",\"INFP\",\"INFJ\",\"ISFP\",\"INTJ\",\"ENFP\",\"INFP\",\"INTJ\",\"ENTP\",\"ENFP\",\"ENTJ\",\"INFJ\",\"INFP\",\"INTJ\",\"ENFP\",\"INFJ\",\"ENTJ\",\"INFP\",\"INFJ\",\"INTJ\",\"INFP\",\"INTJ\",\"INFJ\",\"INTP\",\"INTP\",\"INTJ\",\"INFP\",\"INFP\",\"ISTP\",\"ISTP\",\"INFP\",\"INTP\",\"ISTJ\",\"ESFJ\",\"ISTJ\",\"INFJ\",\"ISTJ\",\"INTP\",\"INFJ\",\"ISFJ\",\"INTP\",\"ISTP\",\"ENTP\",\"INTP\",\"ENTJ\",\"ENTP\",\"ENTP\",\"INFP\",\"INTJ\",\"ENTP\",\"INFJ\",\"INFJ\",\"INFP\",\"INFP\",\"INTP\",\"INFJ\",\"INTJ\",\"INFP\",\"ISFP\",\"INFP\",\"INFJ\",\"INFP\",\"INTP\",\"INFJ\",\"INFP\",\"INFP\",\"INTJ\",\"INTJ\",\"INTP\",\"ENFP\",\"ENTP\",\"ENTP\",\"ENTP\",\"INTJ\",\"INFP\",\"INFP\",\"INFP\",\"INTJ\",\"ENFP\",\"ISFP\",\"INFJ\",\"ENFP\",\"ISTJ\",\"INFJ\",\"ISTP\",\"ISFP\",\"INFP\",\"INFJ\",\"INTJ\",\"INFP\",\"INFP\",\"INFJ\",\"ISTJ\",\"ENTP\",\"INFP\",\"INFJ\",\"INFP\",\"ISFJ\",\"INTJ\",\"ISFP\",\"INTJ\",\"ENTP\",\"INTP\",\"INFP\",\"ENTP\",\"ENFP\",\"ENTP\",\"INFJ\",\"INTP\",\"ENTP\",\"INTJ\",\"INTJ\",\"INTJ\",\"INTP\",\"INFP\",\"ISTJ\",\"INTP\",\"INTP\",\"INTP\",\"ISTP\",\"INTP\",\"ENTP\",\"INTP\",\"INTJ\",\"ISTJ\",\"ENTP\",\"ISTJ\",\"INFP\",\"ENTP\",\"ISFP\",\"ENFJ\",\"ISFP\",\"INFJ\",\"INTJ\",\"INTJ\",\"INFP\",\"ENTP\",\"INFJ\",\"ENTP\",\"INFP\",\"ENTJ\",\"ESTJ\",\"ENTP\",\"INFJ\",\"INTP\",\"INFP\",\"INFJ\",\"INFP\",\"ESFP\",\"INFJ\",\"ENFP\",\"INTJ\",\"INTP\",\"ENTP\",\"ISTJ\",\"ESFP\",\"ISFP\",\"INTJ\",\"ISTP\",\"ENFP\",\"INTJ\",\"INFJ\",\"INFJ\",\"INTJ\",\"ENFP\",\"ISTP\",\"ENTP\",\"INFP\",\"INFP\",\"INTJ\",\"INTP\",\"ESTP\",\"INFJ\",\"ENFP\",\"INTP\",\"ENTP\",\"ENTP\",\"INTJ\",\"INFJ\",\"INFJ\",\"ISTP\",\"INFP\",\"INTP\",\"INFJ\",\"INFJ\",\"INTJ\",\"INFP\",\"ENTP\",\"INTJ\",\"INFP\",\"INFJ\",\"ENTP\",\"INTJ\",\"INTP\",\"ISFP\",\"ISFP\",\"INTJ\",\"ENFP\",\"INFJ\",\"INTP\",\"INFP\",\"ISFP\",\"ISTP\",\"ENTP\",\"ENFP\",\"INFJ\",\"ISTJ\",\"ENFJ\",\"INTJ\",\"INTP\",\"ISTJ\",\"ISTP\",\"ENTP\",\"INFP\",\"ENFJ\",\"INTJ\",\"ENTP\",\"INFJ\",\"INFP\",\"INTP\",\"INTP\",\"INTJ\",\"INTP\",\"INTP\",\"INTJ\",\"ENTP\",\"INFP\",\"INFJ\",\"INTP\",\"INFJ\",\"INFP\",\"INTJ\",\"ISFJ\",\"ESFP\",\"INTJ\",\"INFP\",\"ENTP\",\"INFP\",\"ISTJ\",\"INTP\",\"INTJ\",\"INTJ\",\"INTP\",\"INTP\",\"INTJ\",\"ESFP\",\"ENFP\",\"INFJ\",\"ISTP\",\"INTJ\",\"INFP\",\"INTJ\",\"ENTP\",\"ISFP\",\"INTP\",\"ENFP\",\"INTJ\",\"INTJ\",\"INFJ\",\"INTP\",\"INTP\",\"ISTP\",\"INTP\",\"ENTP\",\"INFP\",\"INTJ\",\"INFP\",\"ISTP\",\"ENTJ\",\"ESFJ\",\"INTJ\",\"INTP\",\"INTP\",\"INTJ\",\"INFJ\",\"INFJ\",\"INFP\",\"INFP\",\"INFP\",\"INFP\",\"INFP\",\"INFP\",\"ENFP\",\"INTP\",\"ENFP\",\"INFP\",\"INFJ\",\"INFJ\",\"INFJ\",\"INFP\",\"INFP\",\"INFP\",\"INFJ\",\"INFP\",\"ENFP\",\"INTJ\",\"INFJ\",\"INFP\",\"INTP\",\"INFJ\",\"ISTP\",\"ENFP\",\"INTP\",\"INFJ\",\"ENFJ\",\"INFP\",\"ISTJ\",\"ISTJ\",\"ENTJ\",\"INTP\",\"INFJ\",\"INTJ\",\"ENFP\",\"INTP\",\"ENFP\",\"INFJ\",\"INFP\",\"ENTP\",\"INTP\",\"ENFP\",\"INFJ\",\"INTP\",\"INFJ\",\"INFJ\",\"INTJ\",\"ENTJ\",\"INTP\",\"ISTP\",\"ISFP\",\"INFP\",\"ESTP\",\"INTP\",\"ISTP\",\"INFP\",\"ENTP\",\"INFP\",\"INFJ\",\"ENTJ\",\"ENFP\",\"ESTP\",\"INTP\",\"INFJ\",\"INFP\",\"INFJ\",\"INFJ\",\"INTP\",\"INTJ\",\"ISTP\",\"INFP\",\"ISFP\",\"INTP\",\"INFJ\",\"INFP\",\"INFP\",\"ISFJ\",\"INTP\",\"ISFJ\",\"INFP\",\"ENTP\",\"INFJ\",\"ENTJ\",\"INFJ\",\"INTJ\",\"INFP\",\"ENFP\",\"ENTP\",\"ENFJ\",\"ENFP\",\"INFJ\",\"ISFJ\",\"INTP\",\"ENTP\",\"ISTP\",\"INTJ\",\"INTJ\",\"INFP\",\"INTJ\",\"INTJ\",\"INFJ\",\"ISFP\",\"ENTJ\",\"INFP\",\"INFP\",\"INTJ\",\"ENFJ\",\"INTJ\",\"ENFP\",\"ENFJ\",\"INFJ\",\"INFP\",\"ENFJ\",\"INTJ\",\"INTJ\",\"INFP\",\"ISFP\",\"INTP\",\"ISTP\",\"INFJ\",\"ENTJ\",\"INTJ\",\"INTP\",\"ESTJ\",\"INFJ\",\"ENFP\",\"INTP\",\"INTJ\",\"ESTP\",\"INFJ\",\"INFP\",\"INTP\",\"ENFP\",\"INFP\",\"INFP\",\"INFP\",\"INFP\",\"INTP\",\"ENFP\",\"INFP\",\"ENTP\",\"ENTP\",\"INFJ\",\"INTP\",\"INFJ\",\"INFJ\",\"INFJ\",\"INFP\",\"INFP\",\"INTP\",\"ENTP\",\"ISTP\",\"ENTP\",\"ENTP\",\"INTP\",\"INFJ\",\"INTP\",\"INFJ\",\"INTJ\",\"ENTJ\",\"ENTJ\",\"INTJ\",\"ENFP\",\"ENFP\",\"ENFP\",\"INFP\",\"INFP\",\"INFJ\",\"INTJ\",\"ENTP\",\"INTJ\",\"INFP\",\"ISTP\",\"INTJ\",\"ENFP\",\"ISFP\",\"INTP\",\"INFJ\",\"ENTP\",\"ISFJ\",\"ENFJ\",\"ISFJ\",\"ISFP\",\"INTP\",\"ENTP\",\"INFJ\",\"ESTP\",\"INFJ\",\"INTP\",\"INTJ\",\"ENTP\",\"ISTJ\",\"ENFP\",\"INTJ\",\"INFJ\",\"INFP\",\"INFP\",\"INTP\",\"INFJ\",\"INFJ\",\"ENFP\",\"INFJ\",\"INTJ\",\"INTP\",\"INTJ\",\"ENFP\",\"INTP\",\"ENFP\",\"ISFJ\",\"INFP\",\"ISFJ\",\"ENFJ\",\"INFP\",\"ESTJ\",\"ESTP\",\"ENTJ\",\"ENTP\",\"INFJ\",\"ESFJ\",\"INFJ\",\"INFJ\",\"ENFP\",\"ENTP\",\"INTP\",\"INFP\",\"INTP\",\"ENTP\",\"INFJ\",\"INFP\",\"INTP\",\"ENTP\",\"INFJ\",\"INFP\",\"ENFJ\",\"INFP\",\"INTP\",\"INTP\",\"ENFP\",\"INFP\",\"ENTP\",\"ENFP\",\"ENFJ\",\"INFJ\",\"ENFP\",\"ENFP\",\"ENFP\",\"ENFP\",\"ENFP\",\"ENFP\",\"ENFP\",\"ENFP\",\"ENTP\",\"INFJ\",\"ENFJ\",\"ESTP\",\"INFJ\",\"INTP\",\"INFP\",\"ENFP\",\"INFP\",\"INFP\",\"INTP\",\"ENTJ\",\"ENTP\",\"ENTP\",\"ENTP\",\"ENTP\",\"ENTP\",\"ENTP\",\"ENTP\",\"ENTP\",\"ENTP\",\"ENTP\",\"ENTP\",\"INTJ\",\"ENTP\",\"INFJ\",\"INFP\",\"INFJ\",\"INFP\",\"INFP\",\"INFP\",\"ENTJ\",\"INFP\",\"INTJ\",\"ISFP\",\"INTP\",\"ISTP\",\"INFJ\",\"INTP\",\"ENTP\",\"ESTJ\",\"INFJ\",\"INTP\",\"INTJ\",\"INTP\",\"INTJ\",\"INFJ\",\"ENFJ\",\"INFP\",\"ISTP\",\"INTP\",\"INTJ\",\"INTP\",\"INTJ\",\"ENFP\",\"INTP\",\"INTJ\",\"ENTP\",\"INTJ\",\"INFP\",\"INTP\",\"INFP\",\"INFP\",\"INTP\",\"INFP\",\"INTP\",\"INTP\",\"ISFJ\",\"ENTP\",\"INTP\",\"INFP\",\"ENFP\",\"INFP\",\"ENTP\",\"INFP\",\"INTJ\",\"INFP\",\"INFJ\",\"INTP\",\"INFP\",\"ISTP\",\"ENFP\",\"INFJ\",\"INTJ\",\"INFP\",\"INFP\",\"ENFJ\",\"INTJ\",\"INFP\",\"INFJ\",\"INFP\",\"INFJ\",\"INTP\",\"INFP\",\"ENTP\",\"ENFP\",\"ISTP\",\"INTP\",\"INFP\",\"ISFP\",\"INTP\",\"INTJ\",\"INFJ\",\"ENTP\",\"INTP\",\"INFJ\",\"INFJ\",\"ENFP\",\"INFP\",\"INFP\",\"INTJ\",\"INTP\",\"INFP\",\"ENTP\",\"INFP\",\"INFJ\",\"INFP\",\"ENTJ\",\"INTJ\",\"INTP\",\"INFP\",\"ENFP\",\"ENFJ\",\"ENTP\",\"INFP\",\"INTJ\",\"INFJ\",\"ESFJ\",\"ENTP\",\"INFJ\",\"ENTP\",\"INTP\",\"INTJ\",\"INFJ\",\"ENTP\",\"INTJ\",\"INTP\",\"INTJ\",\"INTP\",\"ENTP\",\"ENTP\",\"INFP\",\"INTJ\",\"ISFJ\",\"INTJ\",\"INTJ\",\"ENTJ\",\"INFJ\",\"INFJ\",\"ISTP\",\"ESTP\",\"INFJ\",\"ISTP\",\"ISFP\",\"INFP\",\"INFJ\",\"ENFP\",\"INFP\",\"INFJ\",\"INFJ\",\"INTJ\",\"ENFP\",\"INFP\",\"INFP\",\"INFP\",\"ENFP\",\"INFP\",\"INFP\",\"ISTP\",\"INFJ\",\"INTJ\",\"INTJ\",\"ESTP\",\"INFJ\",\"INFP\",\"ISTP\",\"ENFP\",\"INTJ\",\"INFJ\",\"INTJ\",\"ISTP\",\"INTJ\",\"ENFP\",\"INFP\",\"ENTP\",\"INFJ\",\"INTJ\",\"INFJ\",\"ESTP\",\"ESFP\",\"INFJ\",\"INTP\",\"INTJ\",\"ENFJ\",\"INFJ\",\"INFJ\",\"INFP\",\"ENTP\",\"INFP\",\"INFP\",\"ISFP\",\"INTJ\",\"INTP\",\"ISFP\",\"ISTP\",\"INFJ\",\"ENFP\",\"INFJ\",\"INTP\",\"INTP\",\"INTP\",\"ISTP\",\"INFJ\",\"ENTP\",\"INTJ\",\"ISTP\",\"INFJ\",\"INFP\",\"INTJ\",\"ENTP\",\"INFJ\",\"INTJ\",\"INTP\",\"INFP\",\"ENFP\",\"INFJ\",\"ENTP\",\"INFJ\",\"INFJ\",\"ENFJ\",\"ENTJ\",\"ENFP\",\"ENFJ\",\"ESFP\",\"ISTP\",\"INTJ\",\"INFJ\",\"INFJ\",\"INTP\",\"INFJ\",\"INTP\",\"INTP\",\"INFJ\",\"ISFP\",\"INFJ\",\"INTP\",\"INFJ\",\"INFJ\",\"INTJ\",\"INTP\",\"INTP\",\"ENFP\",\"INTJ\",\"ISTJ\",\"INFP\",\"INTP\",\"INTJ\",\"ENFP\",\"INFJ\",\"INTP\",\"INFP\",\"INTJ\",\"INTP\",\"INTP\",\"INTP\",\"INFJ\",\"INFP\",\"INTP\",\"INFJ\",\"INFP\",\"INFJ\",\"INFJ\",\"ENFP\",\"INFJ\",\"ISTJ\",\"ISFP\",\"INFP\",\"ISFP\",\"INFP\",\"INFJ\",\"INFJ\",\"ENTP\",\"INTJ\",\"INFJ\",\"INFJ\",\"ISFJ\",\"INTJ\",\"INTP\",\"INFP\",\"INTP\",\"INTP\",\"ISTJ\",\"INTJ\",\"ENFP\",\"INTP\",\"INTP\",\"INFP\",\"ENTP\",\"INTJ\",\"INTJ\",\"INTJ\",\"INTJ\",\"INFP\",\"INFP\",\"ESTP\",\"INFP\",\"ENFJ\",\"INTP\",\"ENFJ\",\"ISFJ\",\"ENFP\",\"ISTJ\",\"INFP\",\"INFP\",\"ISTP\",\"INFP\",\"ENTP\",\"INFP\",\"INFJ\",\"INFP\",\"INFP\",\"INTJ\",\"INFP\",\"INFP\",\"ENFP\",\"INTP\",\"ENTP\",\"INFJ\",\"INFJ\",\"ISTP\",\"ISTP\",\"INFP\",\"INFP\",\"INTP\",\"INFJ\",\"ENFP\",\"INFJ\",\"INFJ\",\"ESTP\",\"INFJ\",\"INTP\",\"ENTP\",\"INFP\",\"INFJ\",\"INFJ\",\"INTJ\",\"ISFP\",\"INFP\",\"INFP\",\"ENTP\",\"INTJ\",\"ENTP\",\"INTP\",\"INTJ\",\"INTP\",\"ENFJ\",\"ISTP\",\"ENTP\",\"INFJ\",\"INFJ\",\"INTJ\",\"ISFP\",\"INFP\",\"ENTP\",\"INTJ\",\"INFP\",\"INTP\",\"INTJ\",\"ENFP\",\"INTP\",\"ISTP\",\"INTP\",\"INTP\",\"INTP\",\"INTP\",\"INTJ\",\"INFP\",\"INFJ\",\"INTJ\",\"INFJ\",\"INFP\",\"INFP\",\"ESFP\",\"ENFJ\",\"INTJ\",\"INFJ\",\"INTP\",\"ENTP\",\"ISTP\",\"INTJ\",\"ESTJ\",\"INTJ\",\"ENTP\",\"INFJ\",\"INFP\",\"ENFJ\",\"INFP\",\"INFJ\",\"INTJ\",\"ENFJ\",\"INFJ\",\"INFJ\",\"ENFP\",\"INFJ\",\"ISTP\",\"INFJ\",\"ISTP\",\"INTP\",\"INFP\",\"INTP\",\"INTJ\",\"ENTP\",\"ENTJ\",\"INTJ\",\"INFJ\",\"INFP\",\"ENTP\",\"ENTJ\",\"INFJ\",\"ENFP\",\"ISTP\",\"ENFP\",\"INFP\",\"ENFP\",\"ISFP\",\"ENTJ\",\"INTJ\",\"ENTP\",\"ENTP\",\"ENFP\",\"ISFP\",\"INFP\",\"ENTP\",\"ISFJ\",\"ISFJ\",\"INFJ\",\"INTP\",\"INFJ\",\"INFP\",\"ESTP\",\"INFP\",\"INFJ\",\"INTP\",\"INFP\",\"INTP\",\"ENFP\",\"INFP\",\"ISFP\",\"ISTP\",\"INFJ\",\"INTJ\",\"INFJ\",\"INFJ\",\"INFJ\",\"ENTJ\",\"INTP\",\"ISFP\",\"ISFP\",\"INFJ\",\"INFP\",\"INFP\",\"ISTJ\",\"INFJ\",\"ENFP\",\"INTJ\",\"ENTP\",\"INFP\",\"ISTJ\",\"INFP\",\"INTJ\",\"INFP\",\"INTJ\",\"INFP\",\"ISTP\",\"ENFP\",\"ISTJ\",\"INFP\",\"ISTJ\",\"ISFJ\",\"INFJ\",\"INFP\",\"ENTP\",\"INFJ\",\"INTP\",\"INFJ\",\"ENFP\",\"ISTJ\",\"ENTP\",\"ENTP\",\"ENTP\",\"INTP\",\"INFJ\",\"INFJ\",\"INTP\",\"INFJ\",\"ENTP\",\"ISTJ\",\"ENTP\",\"INTP\",\"INTJ\",\"ENTP\",\"INFJ\",\"INTP\",\"INFP\",\"INFP\",\"INFP\",\"INFJ\",\"INTP\",\"INFJ\",\"ENFP\",\"INFJ\",\"INFP\",\"INFJ\",\"INFP\",\"INTJ\",\"INFP\",\"ENTP\",\"ENFJ\",\"INTJ\",\"INFP\",\"INFJ\",\"INFJ\",\"INFJ\",\"INTP\",\"INFJ\",\"ISFP\",\"INTJ\",\"INTJ\",\"INTP\",\"ENTP\",\"INFP\",\"INTP\",\"ENFP\",\"ISTP\",\"INTP\",\"ENFP\",\"ISFJ\",\"INFP\",\"INFP\",\"ENTP\",\"INFP\",\"ESFP\",\"ENTP\",\"INFP\",\"INFJ\",\"ENTP\",\"INFJ\",\"ENFJ\",\"INFP\",\"ENTP\",\"INFJ\",\"INFJ\",\"INTJ\",\"INFP\",\"INFJ\",\"INTP\",\"INTP\",\"INFP\",\"ENFJ\",\"INFJ\",\"ENTP\",\"ISTP\",\"INTP\",\"ISFP\",\"ENTP\",\"INFP\",\"INFP\",\"ENTP\",\"ENTP\",\"INTJ\",\"ENTP\",\"INFJ\",\"INTJ\",\"ENTP\",\"INFJ\",\"ESTJ\",\"ENTP\",\"ENFP\",\"INFJ\",\"INTP\",\"INFP\",\"ENFP\",\"ISFP\",\"INTJ\",\"ISTP\",\"ISFP\",\"INFJ\",\"INFP\",\"INFJ\",\"INFP\",\"ISFJ\",\"INTP\",\"INTP\",\"ISFP\",\"INTP\",\"INFJ\",\"ISTP\",\"INTJ\",\"INTJ\",\"ESFP\",\"ENTP\",\"ENFP\",\"INFJ\",\"INFJ\",\"INFJ\",\"INFJ\",\"INTP\",\"ISFJ\",\"INFP\",\"INFP\",\"INTP\",\"INFP\",\"ISFP\",\"INFP\",\"INTJ\",\"INFJ\",\"ENTP\",\"INFJ\",\"INFP\",\"ISFJ\",\"INFJ\",\"INFJ\",\"ENFP\",\"INFP\",\"ISFJ\",\"ENFP\",\"INTJ\",\"INTJ\",\"INTJ\",\"INFJ\",\"INFP\",\"INFP\",\"INFP\",\"INFJ\",\"INTP\",\"INFP\",\"INTJ\",\"ENTP\",\"ENFP\",\"ENTP\",\"INTJ\",\"INFJ\",\"INFJ\",\"ISTP\",\"INTJ\",\"INTP\",\"INTJ\",\"INTP\",\"INFJ\",\"ISFJ\",\"ENFP\",\"ISTJ\",\"ESFP\",\"INTP\",\"INTP\",\"INFJ\",\"ISTP\",\"ENFJ\",\"ENTP\",\"INFJ\",\"INFJ\",\"INFP\",\"ENFP\",\"INFP\",\"INTP\",\"INFP\",\"ENFP\",\"ESTP\",\"INFJ\",\"INFP\",\"INFJ\",\"ESTP\",\"INFJ\",\"INTP\",\"INTP\",\"INTP\",\"INFP\",\"INTP\",\"ENFP\",\"INTJ\",\"ISTJ\",\"INFJ\",\"INFJ\",\"INTJ\",\"ISFJ\",\"INFP\",\"INFJ\",\"INFP\",\"ISFJ\",\"ENTJ\",\"ENTP\",\"INFP\",\"ISTP\",\"INFJ\",\"ISTP\",\"INTP\",\"INTP\",\"INFJ\",\"ISFP\",\"INFJ\",\"ENTP\",\"INFJ\",\"INFJ\",\"INTP\",\"INFJ\",\"ESTP\",\"INFJ\",\"INFJ\",\"INFJ\",\"INTJ\",\"INFP\",\"INFJ\",\"INFP\",\"ENFP\",\"INTP\",\"INFJ\",\"ENTJ\",\"INTJ\",\"INTJ\",\"ESTP\",\"ENFP\",\"INFP\",\"ESFJ\",\"ENTP\",\"ENFJ\",\"INFP\",\"ENFP\",\"INTP\",\"INTP\",\"INTJ\",\"INFJ\",\"INFP\",\"ISFJ\",\"INFP\",\"INFP\",\"INFP\",\"INTP\",\"INTJ\",\"ISFP\",\"ENFP\",\"ISTJ\",\"ISTP\",\"INTJ\",\"INFP\",\"INFJ\",\"ISFP\",\"ISTP\",\"INFJ\",\"ESTP\",\"INFP\",\"INFP\",\"INTP\",\"INFP\",\"INFP\",\"INFP\",\"INFP\",\"INFJ\",\"INTJ\",\"INFP\",\"INFP\",\"ENFP\",\"INFJ\",\"ISFP\",\"ENTP\",\"ENFP\",\"INFP\",\"ENFP\",\"INTJ\",\"INTJ\",\"INTP\",\"INTP\",\"ENTJ\",\"INFJ\",\"INFP\",\"INFJ\",\"ISTP\",\"ENTJ\",\"ESTP\",\"ENFP\",\"INTP\",\"INFP\",\"INFJ\",\"INTP\",\"INFP\",\"ENTP\",\"INTP\",\"ENTJ\",\"ENTP\",\"INTJ\",\"ENTJ\",\"INTP\",\"INTJ\",\"INFJ\",\"INTJ\",\"INFP\",\"INFJ\",\"INFP\",\"ENTJ\",\"ISTJ\",\"ENTP\",\"INTJ\",\"INFJ\",\"INFJ\",\"INTP\",\"ESTP\",\"INTJ\",\"ISFJ\",\"ISTP\",\"INFP\",\"INFP\",\"INTJ\",\"ESFP\",\"INFP\",\"ISFP\",\"INTJ\",\"INFJ\",\"ENTP\",\"ENFP\",\"ESFP\",\"INTP\",\"INFP\",\"INTJ\",\"ESFP\",\"INTP\",\"ENTJ\",\"INTP\",\"INFJ\",\"INTJ\",\"ENFP\",\"INTP\",\"INFP\",\"INTP\",\"INFP\",\"INTJ\",\"INFJ\",\"ENTJ\",\"INTP\",\"INTP\",\"ENFP\",\"INTJ\",\"INFJ\",\"ISFJ\",\"ISFP\",\"ENFJ\",\"ISTJ\",\"INTP\",\"INFP\",\"INFP\",\"INFP\",\"INFJ\",\"INTP\",\"ISTJ\",\"INFP\",\"ISFJ\",\"INTJ\",\"INFJ\",\"ESTP\",\"INFP\",\"INFP\",\"INFJ\",\"ISTJ\",\"INTJ\",\"INTP\",\"INFP\",\"INFP\",\"INFJ\",\"INFP\",\"INTJ\",\"INFJ\",\"INFJ\",\"ENFJ\",\"INTP\",\"INFJ\",\"INTP\",\"ENFP\",\"ISTJ\",\"INTP\",\"INFP\",\"ISFP\",\"INFJ\",\"INTP\",\"ENTJ\",\"INTJ\",\"INTJ\",\"INFP\",\"INFJ\",\"INTJ\",\"ENTP\",\"INFP\",\"INTP\",\"INTP\",\"ENTJ\",\"INTP\",\"INTJ\",\"ISTJ\",\"INTJ\",\"ISTP\",\"INTJ\",\"ENFP\",\"ESTP\",\"INFJ\",\"INTJ\",\"ISFP\",\"INTP\",\"INFJ\",\"INTJ\",\"INFP\",\"INTP\",\"INFJ\",\"INFP\",\"INFJ\",\"ENFP\",\"INTJ\",\"ENFJ\",\"ISTP\",\"INFP\",\"INTP\",\"INTP\",\"INTJ\",\"INTP\",\"INTP\",\"INFJ\",\"ESTP\",\"ISFJ\",\"INTP\",\"ESTP\",\"INTJ\",\"INTP\",\"ISTP\",\"ENTP\",\"ENTP\",\"ENTP\",\"ENTP\",\"ENFP\",\"INTP\",\"INFJ\",\"INFJ\",\"INTJ\",\"INTP\",\"INFP\",\"INTP\",\"ENFJ\",\"INTJ\",\"INTJ\",\"INFP\",\"ENFJ\",\"INFP\",\"ENTP\",\"ISTJ\",\"INTP\",\"ISTP\",\"INFP\",\"INFJ\",\"INFP\",\"ENFJ\",\"INTJ\",\"INFJ\",\"INFJ\",\"ISTP\",\"INFP\",\"ENFJ\",\"ENTJ\",\"INFP\",\"INTP\",\"INTP\",\"INFJ\",\"INFP\",\"ISTJ\",\"INFP\",\"INTP\",\"INFJ\",\"ISFP\",\"INFP\",\"INFJ\",\"INFP\",\"INFP\",\"INFP\",\"INFP\",\"ESTJ\",\"INTP\",\"INTP\",\"ISTP\",\"INFJ\",\"ENTP\",\"INFJ\",\"INTP\",\"INTP\",\"ENFP\",\"INFP\",\"ENFP\",\"INFJ\",\"INFP\",\"ESTP\",\"INTJ\",\"INFP\",\"INFP\",\"INTJ\",\"ISTP\",\"INFP\",\"INFP\",\"INTP\",\"ENTP\",\"INFJ\",\"ENTJ\",\"INFJ\",\"INFP\",\"INTJ\",\"INTJ\",\"ENFP\",\"INFP\",\"INFJ\",\"ENFP\",\"INTJ\",\"INFP\",\"INFP\",\"INFJ\",\"ISFP\",\"INFJ\",\"ISFP\",\"INFJ\",\"INFJ\",\"INTP\",\"INFJ\",\"INTP\",\"INFP\",\"ENTJ\",\"ISTP\",\"ISTP\",\"INTJ\",\"INFP\",\"INFJ\",\"INFP\",\"ISTP\",\"INTJ\",\"INFP\",\"ISFJ\",\"INFP\",\"INTJ\",\"INFP\",\"INFP\",\"ENFP\",\"ENTJ\",\"INFP\",\"INTP\",\"INTP\",\"ISFJ\",\"INFJ\",\"INTP\",\"ISTP\",\"ESTP\",\"ENTP\",\"INFJ\",\"ISTP\",\"INFP\",\"INFP\",\"INFP\",\"INFJ\",\"INFP\",\"ISTJ\",\"INFJ\",\"INTJ\",\"ENTP\",\"ISFP\",\"INFP\",\"INFP\",\"INTJ\",\"INTJ\",\"INTJ\",\"INTP\",\"INTP\",\"INFJ\",\"INFJ\",\"ISFJ\",\"INFJ\",\"INFP\",\"INFP\",\"INTP\",\"INTP\",\"INFJ\",\"INFJ\",\"INFJ\",\"INFJ\",\"INFJ\",\"INFJ\",\"INTJ\",\"INFJ\",\"INFJ\",\"INFJ\",\"INFJ\",\"INFJ\",\"INFJ\",\"INFJ\",\"INFJ\",\"INFJ\",\"INFJ\",\"INFJ\",\"ENTP\",\"INFJ\",\"INFP\",\"INFP\",\"INFP\",\"INFP\",\"INFP\",\"INFP\",\"INFJ\",\"INFP\",\"INFP\",\"INFP\",\"INFP\",\"INFP\",\"INFP\",\"INFP\",\"INFP\",\"INFJ\",\"INTJ\",\"INFP\",\"INTJ\",\"INFP\",\"INTJ\",\"INTP\",\"ENTP\",\"INFP\",\"INFJ\",\"INFJ\",\"INFP\",\"INFP\",\"INFJ\",\"ENTP\",\"INTJ\",\"INTJ\",\"INFP\",\"ENTP\",\"INFP\",\"ISFP\",\"INFJ\",\"INFJ\",\"ISTP\",\"INFP\",\"INTJ\",\"INFP\",\"ENFJ\",\"INFP\",\"ENFP\",\"ENFP\",\"INFJ\",\"INTJ\",\"INTP\",\"INTP\",\"INTP\",\"INFP\",\"ENTJ\",\"INFP\",\"INTP\",\"INFP\",\"INFJ\",\"ENTP\",\"INTJ\",\"INTJ\",\"INTJ\",\"INTJ\",\"INTJ\",\"INTJ\",\"ISTP\",\"INTP\",\"INTP\",\"INTP\",\"INTP\",\"INTP\",\"INTP\",\"INTP\",\"INTP\",\"INTP\",\"INFP\",\"INFJ\",\"INFJ\",\"INTJ\",\"INFJ\",\"ISFJ\",\"INFJ\",\"ENFP\",\"ENTP\",\"INFP\",\"INFP\",\"ENTP\",\"INTP\",\"ENFP\",\"INFP\",\"INTJ\",\"INTJ\",\"INTP\",\"INFP\",\"ESFJ\",\"INFJ\",\"INFJ\",\"ENFJ\",\"INTP\",\"INFJ\",\"INTP\",\"INFJ\",\"ENTP\",\"INTP\",\"ISFP\",\"INTJ\",\"INFJ\",\"INFJ\",\"INFJ\",\"INFP\",\"INFP\",\"INFJ\",\"INFP\",\"INTJ\",\"ISFJ\",\"INFP\",\"INTJ\",\"INTP\",\"INTJ\",\"INFP\",\"ISTJ\",\"ISTP\",\"ISTP\",\"ISTP\",\"ISTP\",\"INFJ\",\"ISTP\",\"ENTP\",\"ESFJ\",\"INFJ\",\"INFJ\",\"INTP\",\"INFJ\",\"INFP\",\"INFP\",\"ISFP\",\"ENTP\",\"ESTP\",\"INFP\",\"INFP\",\"INFJ\",\"INFP\",\"INTP\",\"INFJ\",\"INFP\",\"INTP\",\"INFJ\",\"ENFP\",\"ISFP\",\"ENFP\",\"INFP\",\"INFP\",\"INTJ\",\"INTJ\",\"INTP\",\"INTP\",\"INTJ\",\"INTP\",\"INFP\",\"ENTP\",\"ENFP\",\"ISFP\",\"INFP\",\"INTJ\",\"INTP\",\"ISFP\",\"INFJ\",\"INTP\",\"INTJ\",\"ENFP\",\"ISTP\",\"INFJ\",\"ESTP\",\"INTP\",\"INFJ\",\"INFJ\",\"INTP\",\"INFJ\",\"ISTP\",\"INFP\",\"ISFJ\",\"ISTP\",\"INFP\",\"INFJ\",\"INTJ\",\"INTP\",\"INFP\",\"INFJ\",\"ENTP\",\"ENTP\",\"INTP\",\"ENTJ\",\"ISTP\",\"INTP\",\"ENTP\",\"INFJ\",\"ENFJ\",\"ISTP\",\"INFP\",\"ENTP\",\"ENFP\",\"INTP\",\"ISFJ\",\"INTP\",\"INFP\",\"INTP\",\"INFP\",\"INFJ\",\"ISTP\",\"INFP\",\"INFJ\",\"INFJ\",\"INFJ\",\"INTP\",\"INTP\",\"INTJ\",\"INTJ\",\"INTJ\",\"ISTP\",\"ENTP\",\"INTP\",\"INTJ\",\"INTP\",\"ISFP\",\"ENTJ\",\"ENFP\",\"ENTJ\",\"ENTP\",\"INFJ\",\"INFP\",\"ENTP\",\"ISTP\",\"ENFP\",\"INFJ\",\"ISTJ\",\"INFP\",\"ENFP\",\"ENTP\",\"INFJ\",\"ENFJ\",\"ISTJ\",\"INTJ\",\"INFJ\",\"INTP\",\"INFP\",\"INTP\",\"ENTJ\",\"ISFJ\",\"ISFP\",\"ISFJ\",\"INTJ\",\"INFJ\",\"ENTP\",\"INFJ\",\"INFJ\",\"ENTP\",\"INFJ\",\"ENFJ\",\"INTP\",\"ENFP\",\"ISFJ\",\"ENFP\",\"INFP\",\"ISTP\",\"ENTP\",\"INTJ\",\"INTJ\",\"INFP\",\"INTP\",\"INFP\",\"INTJ\",\"INFJ\",\"ENFP\",\"ENFP\",\"ENTJ\",\"ENFP\",\"ENFP\",\"INFP\",\"ENTJ\",\"ENTP\",\"ESTP\",\"INTP\",\"INFP\",\"ISFP\",\"INFP\",\"INFP\",\"INFP\",\"INFJ\",\"ENFP\",\"INFJ\",\"INFP\",\"INTP\",\"INTP\",\"ENFP\",\"INTJ\",\"ISTP\",\"INTP\",\"ENTJ\",\"INFJ\",\"ENFP\",\"ISFJ\",\"ISFP\",\"INFP\",\"INTP\",\"INTP\",\"INFP\",\"INFP\",\"ISFP\",\"ISTJ\",\"ENFP\",\"INTJ\",\"ENFJ\",\"INTP\",\"INTP\",\"ISFP\",\"INFJ\",\"INFP\",\"ENTP\",\"INTP\",\"INTP\",\"INTJ\",\"INTP\",\"INFP\",\"INFJ\",\"ENTP\",\"ISTJ\",\"INFJ\",\"INTJ\",\"INTJ\",\"INTP\",\"INFJ\",\"INFP\",\"ENTP\",\"INFP\",\"ENTP\",\"INFP\",\"ISTJ\",\"ENFP\",\"INFJ\",\"INTJ\",\"ENFP\",\"INFJ\",\"ENTP\",\"ENFJ\",\"ISTJ\",\"ENTP\",\"INFP\",\"INFJ\",\"INTP\",\"INTJ\",\"ISTP\",\"INFP\",\"ESFP\",\"INTP\",\"INTP\",\"INFP\",\"INFP\",\"ENTP\",\"INTP\",\"INTP\",\"ENTP\",\"ENTJ\",\"INFJ\",\"INFJ\",\"INFP\",\"ENTJ\",\"ESTP\",\"ENFP\",\"INTP\",\"INTJ\",\"INFP\",\"INTJ\",\"ENFJ\",\"ENFP\",\"INFJ\",\"INFJ\",\"ENFJ\",\"ISTP\",\"ISTJ\",\"INTP\",\"ENTP\",\"ISTP\",\"INTP\",\"INTJ\",\"INTP\",\"INFP\",\"INTJ\",\"INTP\",\"INFP\",\"ENFP\",\"INTP\",\"INFJ\",\"INTJ\",\"INFP\",\"ENTP\",\"INTP\",\"INFJ\",\"ENTP\",\"INFJ\",\"INFJ\",\"ENFP\",\"ENTP\",\"INTJ\",\"INFP\",\"INTP\",\"ISFJ\",\"INFP\",\"ENFJ\",\"INTJ\",\"INFJ\",\"INFJ\",\"ESFP\",\"INTP\",\"ENTP\",\"INTP\",\"ISTP\",\"INFP\",\"ENTP\",\"INTJ\",\"ENFP\",\"INFP\",\"INFP\",\"INTP\",\"ESTJ\",\"INFP\",\"ENFP\",\"INFP\",\"ESFP\",\"INTP\",\"ENFP\",\"INFP\",\"ENFP\",\"INFP\",\"ENFP\",\"INFP\",\"INFJ\",\"ENTJ\",\"INTJ\",\"INTJ\",\"INTP\",\"INFJ\",\"INFJ\",\"ENTP\",\"INTP\",\"INFJ\",\"INFJ\",\"INFJ\",\"INFP\",\"INTP\",\"INTJ\",\"INTP\",\"ENTP\",\"INFP\",\"ENTP\",\"ISFJ\",\"INFP\",\"INTP\",\"ENFP\",\"ENFP\",\"INFP\",\"ENTP\",\"INTJ\",\"INTP\",\"INFP\",\"ENFJ\",\"ISTP\",\"INTJ\",\"ENFJ\",\"INTJ\",\"ISFJ\",\"INFP\",\"INFJ\",\"ISFP\",\"ISTJ\",\"INFJ\",\"ISTJ\",\"INTJ\",\"INTP\",\"INTJ\",\"ENFJ\",\"INFP\",\"INTP\",\"ENFP\",\"ISTJ\",\"INFJ\",\"ISFP\",\"ENFJ\",\"ISTP\",\"INTJ\",\"ENTJ\",\"INTJ\",\"INFP\",\"INFP\",\"INFP\",\"INFP\",\"INTJ\",\"INFP\",\"INFJ\",\"INFP\",\"INTJ\",\"ENFP\",\"ENFP\",\"ENTP\",\"INFP\",\"INFJ\",\"INFP\",\"INFJ\",\"ENTJ\",\"INTJ\",\"INFP\",\"INTJ\",\"ISFJ\",\"INTP\",\"ENTP\",\"INTP\",\"ISFP\",\"ENTP\",\"ISTP\",\"ENTP\",\"ENFJ\",\"ENFP\",\"ENFP\",\"ENTP\",\"ISTJ\",\"ENTJ\",\"ENTP\",\"INTP\",\"INFP\",\"ENFJ\",\"INFJ\",\"INFP\",\"ENFP\",\"ENFP\",\"INFJ\",\"ENFP\",\"ISTJ\",\"INFJ\",\"ISTP\",\"ESFJ\",\"INFJ\",\"INFJ\",\"INFJ\",\"INTJ\",\"ISTP\",\"INFJ\",\"ENFP\",\"INFJ\",\"INFP\",\"ENFP\",\"INFP\",\"INTP\",\"INFP\",\"INTJ\",\"INTP\",\"ISFP\",\"ISFJ\",\"INFP\",\"INFJ\",\"INTJ\",\"INFP\",\"ENFP\",\"ESTJ\",\"ISFJ\",\"ENFP\",\"INTJ\",\"ISFP\",\"INFJ\",\"INTP\",\"ENTJ\",\"INTP\",\"ISFJ\",\"INTJ\",\"ENTJ\",\"INFP\",\"INFJ\",\"INFJ\",\"INFP\",\"INTJ\",\"INFJ\",\"INFP\",\"INFJ\",\"INFJ\",\"ENFP\",\"ENTJ\",\"INTP\",\"ENTP\",\"INTJ\",\"INFP\",\"INTP\",\"INFJ\",\"INFJ\",\"INFJ\",\"ENFP\",\"INTP\",\"ISTP\",\"INTJ\",\"ISTP\",\"INTJ\",\"INTJ\",\"INFP\",\"ESFP\",\"INTP\",\"ESTP\",\"INTJ\",\"INTJ\",\"INFP\",\"INFJ\",\"INFP\",\"INFP\",\"INTP\",\"ISTJ\",\"ENTP\",\"ENTP\",\"INFP\",\"ENTP\",\"ISTJ\",\"INTP\",\"INFJ\",\"ESFJ\",\"INTJ\",\"INTP\",\"ENFP\",\"INFP\",\"INTP\",\"INTP\",\"INTP\",\"ENTP\",\"INFJ\",\"ENFP\",\"INFP\",\"INFJ\",\"INFP\",\"ENTJ\",\"INFP\",\"ENTP\",\"ISTP\",\"INFP\",\"ENTP\",\"INFP\",\"ENFP\",\"ISFP\",\"ENFP\",\"INFP\",\"ENFP\",\"INFP\",\"INFP\",\"ENFP\",\"ISTJ\",\"ISFJ\",\"INTJ\",\"INTJ\",\"INFP\",\"ENTP\",\"INTP\",\"INFP\",\"INTJ\",\"ENFJ\",\"INTP\",\"ISFP\",\"ISTJ\",\"ENFP\",\"ESTJ\",\"INFJ\",\"INFP\",\"INFJ\",\"INTP\",\"ISTJ\",\"INTP\",\"ENTP\",\"INTP\",\"INFJ\",\"ENFP\",\"INFJ\",\"INFP\",\"ENTJ\",\"INTP\",\"ENTP\",\"ENTP\",\"INTP\",\"INFJ\",\"ISTP\",\"INFJ\",\"INFP\",\"ENFP\",\"INFP\",\"INFP\",\"INTP\",\"INTJ\",\"INTP\",\"INFP\",\"INFJ\",\"INFP\",\"INTP\",\"ISFP\",\"INFJ\",\"ENFP\",\"INFJ\",\"INTP\",\"ENFP\",\"INTJ\",\"ENFP\",\"INFP\",\"INFP\",\"INFP\",\"ISTJ\",\"INFJ\",\"ISTP\",\"INFJ\",\"INFP\",\"INTJ\",\"INFJ\",\"ENTJ\",\"ISFP\",\"INTP\",\"ISFJ\",\"INTJ\",\"ESTJ\",\"INFJ\",\"INFJ\",\"INFJ\",\"INTP\",\"INTP\",\"ISTJ\",\"INTP\",\"INTP\",\"INFJ\",\"ISTJ\",\"ENTP\",\"ESTJ\",\"ENFP\",\"ISFJ\",\"ENFP\",\"ENTP\",\"INFJ\",\"ENTP\",\"INTJ\",\"INFP\",\"INFP\",\"INFJ\",\"INTP\",\"ENTP\",\"INTJ\",\"INFJ\",\"INTJ\",\"INTP\",\"INFJ\",\"INTP\",\"ESTJ\",\"ENFJ\",\"INFJ\",\"INTP\",\"ENTJ\",\"INFP\",\"INFP\",\"INTP\",\"INFP\",\"ISFJ\",\"INFJ\",\"INFP\",\"INTJ\",\"INTJ\",\"ENFJ\",\"INFJ\",\"ENFP\",\"ESTP\",\"INFJ\",\"ENFJ\",\"ENTP\",\"INFJ\",\"INFP\",\"ENTP\",\"ENTP\",\"ENFJ\",\"INTP\",\"INTJ\",\"INFP\",\"ENTP\",\"INFP\",\"INFP\",\"INTP\",\"ENTP\",\"ESTJ\",\"ENFP\",\"INTP\",\"INFP\",\"ENTJ\",\"INTP\",\"INFP\",\"INFJ\",\"INFJ\",\"ESTJ\",\"INFP\",\"INTJ\",\"ISTJ\",\"ENFP\",\"ISFJ\",\"INFJ\",\"INTP\",\"INTP\",\"INFP\",\"INTP\",\"INTP\",\"ENFP\",\"INTP\",\"INTP\",\"ENFJ\",\"INTP\",\"ENFJ\",\"ENTP\",\"ENFP\",\"INTP\",\"INTP\",\"INFP\",\"ISFP\",\"INFJ\",\"INFJ\",\"INFP\",\"INFP\",\"INFP\",\"INFJ\",\"INTP\",\"INFP\",\"INTP\",\"INFJ\",\"INTJ\",\"ENTP\",\"INTJ\",\"INFJ\",\"ESTP\",\"INTP\",\"INTP\",\"INFP\",\"ISTP\",\"ENFJ\",\"INFJ\",\"ENFJ\",\"INFJ\",\"INFP\",\"INTP\",\"INFP\",\"INFP\",\"INFJ\",\"INTP\",\"INFJ\",\"ENFP\",\"ISTJ\",\"ENFP\",\"INFP\",\"ISTJ\",\"ENTP\",\"INFJ\",\"ENTJ\",\"ENFP\",\"INTP\",\"ENTP\",\"ISFP\",\"INFP\",\"INFP\",\"INFP\",\"ENTP\",\"INTJ\",\"INFP\",\"ENFP\",\"INFJ\",\"ISTP\",\"INFP\",\"INFJ\",\"INFP\",\"ENTJ\",\"INTP\",\"INFJ\",\"INFP\",\"INFP\",\"INFP\",\"INTP\",\"INFJ\",\"ESFJ\",\"ENFP\",\"ENFJ\",\"INFP\",\"INTJ\",\"ENTP\",\"ISFP\",\"INFP\",\"INFJ\",\"INTJ\",\"INFP\",\"INTP\",\"INFP\",\"INFP\",\"INFJ\",\"INFJ\",\"INTJ\",\"ENTJ\",\"ESFJ\",\"INTJ\",\"INTP\",\"INTP\",\"INTP\",\"ENFP\",\"ENTP\",\"INTP\",\"ISFJ\",\"ENTP\",\"INTP\",\"ENTJ\",\"INTJ\",\"ENFP\",\"INTP\",\"INFP\",\"INTP\",\"ENTP\",\"INFJ\",\"INTP\",\"INFJ\",\"ISFP\",\"ENTP\",\"INFP\",\"INTP\",\"INFP\",\"INFP\",\"INTJ\",\"INTJ\",\"INTP\",\"INTP\",\"INFJ\",\"INTP\",\"ISTP\",\"INTJ\",\"ISFP\",\"INTJ\",\"INTP\",\"INFJ\",\"ENFP\",\"INTJ\",\"ISTP\",\"INFJ\",\"ENFP\",\"ENFP\",\"INFP\",\"ENFP\",\"INFP\",\"INFJ\",\"ENTP\",\"INTJ\",\"ENTP\",\"ENFP\",\"INTP\",\"INFP\",\"INFJ\",\"ENFP\",\"INFJ\",\"INFP\",\"INFP\",\"ISFP\",\"INTJ\",\"INTP\",\"INFP\",\"ISFJ\",\"INFP\",\"INFJ\",\"INFJ\",\"ENFP\",\"INFJ\",\"ESFJ\",\"INTJ\",\"INFJ\",\"INFJ\",\"INFP\",\"INTJ\",\"ISFP\",\"INTP\",\"INFP\",\"INFP\",\"INTJ\",\"ENFJ\",\"INFJ\",\"ESFJ\",\"INFP\",\"ENTJ\",\"INFP\",\"INFP\",\"INFP\",\"ENTP\",\"INFP\",\"INFJ\",\"INTP\",\"ISFP\",\"INTJ\",\"INFJ\",\"ISFP\",\"INFJ\",\"INFJ\",\"INFP\",\"INFP\",\"ENTJ\",\"INTP\",\"ENFP\",\"ENFP\",\"INFJ\",\"ENFP\",\"INFJ\",\"ENFP\",\"ENFP\",\"INTJ\",\"ENTP\",\"INFJ\",\"INFJ\",\"ENFJ\",\"INFJ\",\"INFJ\",\"INFJ\",\"INFJ\",\"INTJ\",\"INTP\",\"ENTP\",\"INFP\",\"INTJ\",\"ISTP\",\"INFP\",\"INFJ\",\"ENFP\",\"ENTJ\",\"INTJ\",\"INFP\",\"ENTP\",\"ISTP\",\"INFP\",\"ENFP\",\"ISFP\",\"ISFP\",\"INTP\",\"ENTP\",\"INFP\",\"INFJ\",\"INFJ\",\"INTP\",\"INFJ\",\"INTP\",\"INFP\",\"INFP\",\"INTP\",\"INFJ\",\"ENFP\",\"INFJ\",\"INFP\",\"INFJ\",\"INFP\",\"INFJ\",\"INTP\",\"ISFP\",\"INTP\",\"INTP\",\"ISTP\",\"INFP\",\"ENFP\",\"INFJ\",\"INFP\",\"ENTP\",\"ENTJ\",\"ENFP\",\"INFP\",\"INFJ\",\"ISTP\",\"INFP\",\"INFP\",\"INFP\",\"INFJ\",\"INTP\",\"INFJ\",\"INTP\",\"INFP\",\"INFJ\",\"ENFP\",\"INFJ\",\"INFP\",\"ISFP\",\"INTP\",\"INFP\",\"INFJ\",\"INFJ\",\"ENFP\",\"INFJ\",\"INFP\",\"INFP\",\"INFJ\",\"ENTP\",\"INFP\",\"INFP\",\"INTJ\",\"ENFP\",\"ENTP\",\"ENFP\",\"ENFP\",\"INFJ\",\"INTP\",\"INFP\",\"ISFJ\",\"INTJ\",\"INFP\",\"INTJ\",\"INTJ\",\"INTP\",\"INFP\",\"ENFP\",\"ENTP\",\"INFP\",\"ISTP\",\"INTP\",\"ESTP\",\"ENTJ\",\"ENTP\",\"INFP\",\"INTJ\",\"ISTP\",\"ENFP\",\"INFP\",\"ENFP\",\"ENFP\",\"INFP\",\"INFP\",\"ENTP\",\"ISFP\",\"INTP\",\"INFJ\",\"ENTP\",\"INFJ\",\"INFP\",\"INFP\",\"INFP\",\"ENTP\",\"INTP\",\"INFJ\",\"INTP\",\"INTP\",\"INFP\",\"ISFP\",\"INFP\",\"INTP\",\"INFP\",\"INTJ\",\"ISFP\",\"INFJ\",\"INFP\",\"INTP\",\"INFJ\",\"INFJ\",\"INFP\",\"INTP\",\"ISFP\",\"INFJ\",\"ISFP\",\"INTP\",\"INFJ\",\"ENFP\",\"INFP\",\"ENTJ\",\"INFP\",\"INFP\",\"ENTP\",\"ENFP\",\"INFJ\",\"INFP\",\"INFP\",\"INFJ\",\"INFP\",\"INTP\",\"ISFP\",\"INFJ\",\"ESFJ\",\"INFJ\",\"INTJ\",\"ENTJ\",\"INTP\",\"INFP\",\"INTJ\",\"INFJ\",\"INFP\",\"INTP\",\"ENTP\",\"INTP\",\"INTJ\",\"INTJ\",\"INTJ\",\"INTP\",\"ENFP\",\"ISFP\",\"INTJ\",\"ISFP\",\"INTP\",\"ISTP\",\"INTP\",\"INFP\",\"INFP\",\"INFP\",\"INTP\",\"INTP\",\"ISTP\",\"ESTP\",\"INTJ\",\"INFP\",\"ENTJ\",\"INFJ\",\"INFP\",\"INTJ\",\"INTP\",\"ENFP\",\"INFJ\",\"INFP\",\"INTP\",\"INTJ\",\"ENTP\",\"INFP\",\"INFP\",\"INTJ\",\"INFJ\",\"INTP\",\"ENTP\",\"INTP\",\"INFJ\",\"INFP\",\"INTP\",\"ENFP\",\"INFJ\",\"INTJ\",\"INTP\",\"INTJ\",\"INFP\",\"INTP\",\"ENFP\",\"ENFP\",\"INFJ\",\"INFJ\",\"INFP\",\"ENFJ\",\"INTP\",\"INTP\",\"ESTP\",\"INTP\",\"ISTJ\",\"INFP\",\"ENTP\",\"INFJ\",\"ENTP\",\"ENFP\",\"ISFJ\",\"ENTP\",\"INFP\",\"INFJ\",\"ISTP\",\"ENFJ\",\"INFJ\",\"INFP\",\"INFP\",\"INTP\",\"INTJ\",\"INTP\",\"ENFP\",\"INFP\",\"INTP\",\"INFJ\",\"INTJ\",\"INFJ\",\"ENTP\",\"ENTP\",\"INTP\",\"INTP\",\"INFJ\",\"INTP\",\"ISTJ\",\"ENFP\",\"ENTP\",\"INFJ\",\"INFJ\",\"ENTP\",\"INFJ\",\"INFP\",\"ENFP\",\"INFJ\",\"INTJ\",\"ISFP\",\"INTJ\",\"ISTJ\",\"INFJ\",\"INTJ\",\"INTP\",\"INFJ\",\"INFP\",\"ENFP\",\"INFP\",\"INFP\",\"INFP\",\"INTP\",\"INFP\",\"INTP\",\"INTP\",\"ENTP\",\"INTP\",\"INFP\",\"INTP\",\"ENTP\",\"INFP\",\"INFP\",\"INFJ\",\"ISTJ\",\"INTP\",\"INFP\",\"ENFP\",\"ENTJ\",\"INTJ\",\"INFP\",\"ENFP\",\"INTP\",\"INFJ\",\"INFJ\",\"INFP\",\"INTJ\",\"ISFJ\",\"INTP\",\"ISFJ\",\"INTP\",\"INFP\",\"INFP\",\"INFJ\",\"INTP\",\"ISTJ\",\"INTJ\",\"ISTP\",\"INTP\",\"INTJ\",\"INTJ\",\"INFJ\",\"INTP\",\"ISTP\",\"INTP\",\"INTP\",\"INFJ\",\"INFP\",\"INFP\",\"INTP\",\"INTJ\",\"INFP\",\"INTJ\",\"INFP\",\"ISFP\",\"INTJ\",\"INFP\",\"ENTP\",\"INFP\",\"ENFP\",\"ENTJ\",\"ENTJ\",\"INFP\",\"INTP\",\"INFJ\",\"INTP\",\"INFP\",\"INTP\",\"INFP\",\"ENFP\",\"INTJ\",\"ENFP\",\"INFP\",\"INFP\",\"INTP\",\"ENTJ\",\"INFP\",\"INFP\",\"INTP\",\"INFP\",\"INTJ\",\"ENTP\",\"ISTP\",\"INTJ\",\"INFP\",\"INFJ\",\"INTJ\",\"ENFP\",\"INTJ\",\"ISTJ\",\"ENTJ\",\"INTP\",\"INFJ\",\"ENTJ\",\"ISTP\",\"INTP\",\"ENTP\",\"ESFJ\",\"ISFJ\",\"INTJ\",\"INTJ\",\"ENTJ\",\"INTJ\",\"INTJ\",\"ENTP\",\"INFJ\",\"ISTP\",\"INFP\",\"ENTP\",\"INFP\",\"ESTP\",\"INFP\",\"ENFJ\",\"INFP\",\"INFJ\",\"INFJ\",\"ESTP\",\"INFJ\",\"INFP\",\"INFP\",\"INTJ\",\"INFJ\",\"ENTP\",\"ENFP\",\"INTP\",\"INFJ\",\"INFJ\",\"INTJ\",\"INTJ\",\"INFP\",\"ISFP\",\"INFJ\",\"ISFJ\",\"INFP\",\"INFP\",\"ENTP\",\"INTJ\",\"INTP\",\"INTP\",\"ENFP\",\"INFP\",\"ESFP\",\"INFP\",\"INTJ\",\"INTP\",\"ISFJ\",\"INTP\",\"INTJ\",\"INTJ\",\"INFJ\",\"INFP\",\"ENTP\",\"ENTP\",\"INFP\",\"INFP\",\"INFP\",\"ENTP\",\"INTJ\",\"INFP\",\"INFJ\",\"INFJ\",\"INTP\",\"INTJ\",\"INTJ\",\"ISTP\",\"INTJ\",\"INFP\",\"ISTJ\",\"INTP\",\"INTP\",\"ISFJ\",\"ISTP\",\"INTJ\",\"INTP\",\"INFJ\",\"INTP\",\"INTJ\",\"ISTJ\",\"ENFJ\",\"INFJ\",\"INTJ\",\"ENFP\",\"INFP\",\"INFJ\",\"ISTP\",\"INTP\",\"ESTP\",\"ENTP\",\"ISTJ\",\"INTP\",\"INFJ\",\"INFJ\",\"ENFP\",\"INTJ\",\"INFP\",\"INTJ\",\"INFP\",\"ENFP\",\"ENFP\",\"INFP\",\"INTJ\",\"ENFP\",\"ENTP\",\"INTP\",\"ENFP\",\"INFJ\",\"INFP\",\"INTJ\",\"ENTP\",\"ENTP\",\"ISTP\",\"INFJ\",\"INTJ\",\"ENTP\",\"INFJ\",\"INFP\",\"ESTJ\",\"INTJ\",\"ENFP\",\"INTJ\",\"INTJ\",\"ISFP\",\"INFP\",\"ENTP\",\"INFJ\",\"INFP\",\"INFJ\",\"INTJ\",\"INFJ\",\"ISFJ\",\"INTJ\",\"ISFP\",\"INFP\",\"INFP\",\"INFJ\",\"ENFP\",\"INFP\",\"ENFP\",\"INFP\",\"INTJ\",\"INFJ\",\"INFP\",\"INFP\",\"INTP\",\"ISFP\",\"INFJ\",\"INTP\",\"INTP\",\"INTP\",\"INTJ\",\"INTJ\",\"INTP\",\"ISTJ\",\"INTP\",\"INFJ\",\"INFP\",\"INFJ\",\"ENFP\",\"ISFP\",\"ENFP\",\"ESTP\",\"INTJ\",\"INTJ\",\"INTJ\",\"INFP\",\"INTP\",\"INFP\",\"ENFJ\",\"INTP\",\"ENTP\",\"INFP\",\"INFJ\",\"INFJ\",\"INTJ\",\"INFJ\",\"ENFP\",\"INFP\",\"INFP\",\"INTJ\",\"INFJ\",\"INFP\",\"INFP\",\"INFJ\",\"INTP\",\"INTJ\",\"INFP\",\"INTJ\",\"INTJ\",\"INFJ\",\"INFJ\",\"ENTJ\",\"ENTJ\",\"ISFJ\",\"INTJ\",\"INFJ\",\"INFP\",\"INFJ\",\"INFP\",\"INFJ\",\"ISTP\",\"INTJ\",\"INTP\",\"INTP\",\"INFP\",\"INFJ\",\"INFJ\",\"ENFP\",\"ENFP\",\"ENFJ\",\"INFJ\",\"ENFP\",\"INTP\",\"INFP\",\"ENFP\",\"ENFJ\",\"INTP\",\"ISTJ\",\"INTP\",\"INFJ\",\"INTJ\",\"INFJ\",\"ENFP\",\"INFJ\",\"INTJ\",\"INFJ\",\"ENTJ\",\"ENTP\",\"INTJ\",\"ISFP\",\"INFP\",\"INTJ\",\"INTP\",\"INFJ\",\"INFJ\",\"INFP\",\"ENFP\",\"ISFJ\",\"INTP\",\"INFJ\",\"INTP\",\"INTP\",\"ENTP\",\"ESFJ\",\"INFJ\",\"ISTP\",\"ENFP\",\"INFJ\",\"INTJ\",\"INTJ\",\"ENFP\",\"INFP\",\"INFJ\",\"ENTP\",\"INFJ\",\"ENFJ\",\"INFP\",\"ENTP\",\"INFJ\",\"ENFP\",\"ISFP\",\"INTJ\",\"INFJ\",\"ENFP\",\"ENTJ\",\"ESFJ\",\"INFJ\",\"INFP\",\"INTJ\",\"INTP\",\"INTP\",\"ENFJ\",\"INFP\",\"ENTP\",\"INFP\",\"ENTP\",\"ESTP\",\"ISTJ\",\"INTP\",\"INTJ\",\"INFJ\",\"INFJ\",\"ENFP\",\"ISTP\",\"ENFP\",\"INFP\",\"ENTP\",\"INTJ\",\"INFJ\",\"INTP\",\"INFP\",\"INFJ\",\"INFP\",\"INFP\",\"INTP\",\"INFJ\",\"INTP\",\"INFJ\",\"INFJ\",\"INFJ\",\"INFP\",\"INFJ\",\"INFP\",\"INFP\",\"ISFP\",\"ISFP\",\"ENFP\",\"INFJ\",\"INFP\",\"INFJ\",\"ENTP\",\"INTJ\",\"INTJ\",\"INFP\",\"INFJ\",\"INTJ\",\"ENTP\",\"ISTJ\",\"INFP\",\"ENTJ\",\"INFP\",\"INFP\",\"INFP\",\"ISFP\",\"INFP\",\"INFJ\",\"ENFJ\",\"ENTP\",\"ENFP\",\"ENFP\",\"ENTJ\",\"INTP\",\"INTJ\",\"ENTJ\",\"INFP\",\"INFP\",\"INFJ\",\"ENTP\",\"ENFJ\",\"INFP\",\"INFJ\",\"INTJ\",\"INTJ\",\"INTP\",\"INTJ\",\"INTP\",\"INTJ\",\"INTJ\",\"INTJ\",\"ENFJ\",\"ENTJ\",\"ENFP\",\"ENFP\",\"INFJ\",\"ENFP\",\"INTJ\",\"ENTP\",\"INTJ\",\"INFP\",\"INFP\",\"INFJ\",\"INFP\",\"INFJ\",\"INTP\",\"INTP\",\"ENFJ\",\"INTJ\",\"INTP\",\"ISFJ\",\"INTJ\",\"INFP\",\"ISTP\",\"ESTJ\",\"INFJ\",\"ENTJ\",\"ENFJ\",\"INFJ\",\"INTP\",\"ESTJ\",\"INFP\",\"INTP\",\"ENTP\",\"INFP\",\"INFJ\",\"INTJ\",\"INTP\",\"ESFJ\",\"ENTP\",\"INFP\",\"ENTJ\",\"INFJ\",\"ENTJ\",\"INTJ\",\"INTP\",\"INFJ\",\"ENFP\",\"INFJ\",\"ENFP\",\"INFJ\",\"INFP\",\"ISTP\",\"INFP\",\"ENFP\",\"INFJ\",\"ESFP\",\"INFJ\",\"ENTP\",\"ENTP\",\"INTP\",\"INTP\",\"INFP\",\"ESTP\",\"INFP\",\"ISFJ\",\"ENTP\",\"ENFP\",\"ENFP\",\"INFP\",\"ENFP\",\"ENTJ\",\"ENTP\",\"INTP\",\"ENTP\",\"INTP\",\"ENTJ\",\"INFJ\",\"INFJ\",\"INFP\",\"INTJ\",\"INFJ\",\"INFP\",\"INFP\",\"ISFJ\",\"INFJ\",\"INFP\",\"INFJ\",\"ENTP\",\"ISFP\",\"INFP\",\"INFP\",\"INFJ\",\"INFP\",\"INTJ\",\"INFP\",\"INFP\",\"INTJ\",\"INTP\",\"ENTJ\",\"INTJ\",\"INTP\",\"ENTP\",\"INFJ\",\"INFJ\",\"INFP\",\"ENFJ\",\"INFP\",\"ENFP\",\"INTP\",\"INTJ\",\"INTJ\",\"INFJ\",\"INFJ\",\"ISTP\",\"INTJ\",\"ENFP\",\"INFP\",\"INTP\",\"INFP\",\"ENTP\",\"INFJ\",\"INFP\",\"INTP\",\"INTP\",\"INFP\",\"ESTJ\",\"ISTJ\",\"ISTP\",\"ENFP\",\"INFP\",\"INTP\",\"INFP\",\"INTP\",\"ENTJ\",\"INFP\",\"INFP\",\"ENFP\",\"INFJ\",\"ENTP\",\"ENFP\",\"INTP\",\"ENFP\",\"INFP\",\"ESFJ\",\"INFJ\",\"INTP\",\"ENFP\",\"INTJ\",\"ENTP\",\"ESTP\",\"INFJ\",\"ENFP\",\"INFJ\",\"INFP\",\"ISFP\",\"ISTP\",\"INTP\",\"ENTP\",\"INTP\",\"INTJ\",\"INTJ\",\"INFP\",\"INTP\",\"ENTP\",\"INTJ\",\"ENTP\",\"INFJ\",\"INTP\",\"INFP\",\"ENTP\",\"INTP\",\"ENTP\",\"INFJ\",\"ENFP\",\"INFP\",\"INTJ\",\"INFJ\",\"ISFP\",\"INFP\",\"ISFP\",\"INFJ\",\"INFJ\",\"ENTP\",\"ISTJ\",\"INFJ\",\"INFP\",\"INTP\",\"INFJ\",\"ENFP\",\"INFP\",\"INFP\",\"INFP\",\"INTP\",\"ENTP\",\"ENFP\",\"INTP\",\"INFP\",\"INTJ\",\"INFP\",\"INFP\",\"INTJ\",\"INTJ\",\"INFP\",\"ENTP\",\"INFP\",\"INTJ\",\"ISFJ\",\"ESTP\",\"INFP\",\"ISTP\",\"INTP\",\"ENFP\",\"INFJ\",\"INTJ\",\"INFP\",\"INTP\",\"INTJ\",\"ENFP\",\"ENTP\",\"INFJ\",\"INFJ\",\"ISTJ\",\"INFP\",\"INTJ\",\"INTP\",\"INFP\",\"INFJ\",\"ENTP\",\"ISTP\",\"INFP\",\"INTJ\",\"INFP\",\"INTP\",\"INFJ\",\"INFP\",\"INFJ\",\"ENFP\",\"ENTJ\",\"ENFP\",\"INFP\",\"ESTP\",\"INFP\",\"INFJ\",\"INFJ\",\"INFP\",\"ENFJ\",\"INFJ\",\"ENTJ\",\"INFP\",\"INFJ\",\"INFJ\",\"INFJ\",\"INFP\",\"INFP\",\"INFP\",\"INTJ\",\"INFJ\",\"ENFP\",\"INFJ\",\"ENFP\",\"ENTP\",\"ENFJ\",\"ENFP\",\"ENTJ\",\"INFP\",\"INTJ\",\"INFJ\",\"ENTP\",\"ENFP\",\"INFP\",\"ISFP\",\"INFJ\",\"INFJ\",\"INTJ\",\"ISTP\",\"ENTP\",\"INFJ\",\"ISFP\",\"ENTP\",\"INFP\",\"INFP\",\"INTP\",\"INFJ\",\"ENTP\",\"INTP\",\"ISTJ\",\"INTP\",\"INTJ\",\"INFP\",\"INFP\",\"INTP\",\"INFP\",\"INFJ\",\"ESTP\",\"INFP\",\"ISTP\",\"ENTP\",\"INFP\",\"INTJ\",\"INFJ\",\"INFP\",\"INTP\",\"INTJ\",\"INFJ\",\"INFJ\",\"ENTP\",\"INFP\",\"INFP\",\"INTP\",\"INTJ\",\"INFJ\",\"ISTJ\",\"ENTP\",\"INFJ\",\"ISTP\",\"INTP\",\"INTJ\",\"INTP\",\"INTJ\",\"ENTJ\",\"INFP\",\"INFP\",\"INFJ\",\"ISTP\",\"ENFP\",\"INFJ\",\"ISTP\",\"ENFJ\",\"INTJ\",\"INTP\",\"ESFJ\",\"INTP\",\"ISFP\",\"ESFJ\",\"INFJ\",\"ISTP\",\"ISFJ\",\"ISTP\",\"ISTJ\",\"INTP\",\"INTP\",\"INTP\",\"INFJ\",\"INFP\",\"INFJ\",\"ISTP\",\"INFP\",\"INFJ\",\"ENFP\",\"INTJ\",\"INTP\",\"INFP\",\"INFJ\",\"INFP\",\"ENFP\",\"INFP\",\"ISFP\",\"INTP\",\"ISFP\",\"ISFP\",\"INFP\",\"INTP\",\"INFP\",\"INFJ\",\"INFP\",\"INTJ\",\"INTJ\",\"ENTP\",\"INFP\",\"ENTP\",\"INTJ\",\"INTJ\",\"ENFP\",\"INTP\",\"INTP\",\"ENTP\",\"INFP\",\"INFP\",\"INTP\",\"ENTP\",\"INTP\",\"ENTP\",\"INFJ\",\"INFP\",\"ENFP\",\"INFJ\",\"INFJ\",\"INFP\",\"INTJ\",\"INFP\",\"INFP\",\"ENFJ\",\"INFP\",\"ESTP\",\"INFP\",\"INFP\",\"INTP\",\"INTJ\",\"ENTP\",\"ENFJ\",\"INTJ\",\"INTP\",\"ISFP\",\"INTP\",\"INTP\",\"ENFP\",\"INFJ\",\"INFP\",\"INTJ\",\"INTP\",\"INTP\",\"INTP\",\"INTJ\",\"ISTJ\",\"INTJ\",\"ENTP\",\"INFP\",\"INFJ\",\"INTP\",\"INTP\",\"INFP\",\"INFP\",\"INFP\",\"INTJ\",\"INTJ\",\"INTJ\",\"ENFP\",\"ENTP\",\"ENFP\",\"INFP\",\"ENTP\",\"INFJ\",\"INFP\",\"INFP\",\"INFJ\",\"ENFP\",\"ISTP\",\"INFJ\",\"ENTP\",\"INTP\",\"ESFP\",\"ENFP\",\"ENTJ\",\"ESFJ\",\"INTJ\",\"INTJ\",\"INFJ\",\"INTP\",\"ENTP\",\"ISTP\",\"ISTP\",\"INFJ\",\"ENTP\",\"INFP\",\"ENFP\",\"INFJ\",\"INFP\",\"INFP\",\"ENTP\",\"INFP\",\"ENTJ\",\"ENTP\",\"ISTP\",\"INTJ\",\"ENTP\",\"INTJ\",\"INFP\",\"INFJ\",\"ISTJ\",\"INTJ\",\"INTJ\",\"ISTJ\",\"ENFP\",\"ENTP\",\"INFJ\",\"INFP\",\"INTJ\",\"INTP\",\"INFP\",\"INTP\",\"INFP\",\"INTJ\",\"INTJ\",\"ENTP\",\"INTP\",\"INFJ\",\"INFJ\",\"ENFP\",\"ISFP\",\"ENTP\",\"ENFP\",\"INFP\",\"INTP\",\"INFP\",\"ISFJ\",\"ENTP\",\"INTJ\",\"INTP\",\"INFP\",\"ENTP\",\"ENFJ\",\"INFJ\",\"INTP\",\"ISFP\",\"INFP\",\"INTP\",\"ENTP\",\"ISTJ\",\"INTP\",\"INFJ\",\"ISFP\",\"INTP\",\"INFJ\",\"ENTP\",\"INTP\",\"INFJ\",\"INFJ\",\"ENTJ\",\"INTP\",\"INFJ\",\"INFP\",\"ESTJ\",\"ENFJ\",\"INFJ\",\"INFP\",\"INFP\",\"INFP\",\"INFP\",\"INFJ\",\"INFP\",\"INTP\",\"INTP\",\"ENTP\",\"ISTJ\",\"INFP\",\"INFJ\",\"ISTJ\",\"INFJ\",\"INFJ\",\"INFP\",\"INTJ\",\"INTJ\",\"INTP\",\"INTJ\",\"INTJ\",\"INFP\",\"INTJ\",\"ENTP\",\"INTP\",\"INFJ\",\"INFP\",\"INTJ\",\"INTJ\",\"INTP\",\"INTP\",\"ENFJ\",\"INTP\",\"INTP\",\"ENTP\",\"INTP\",\"ISTJ\",\"INTJ\",\"ISFP\",\"INTP\",\"INFJ\",\"INFP\",\"ISFJ\",\"INTJ\",\"INFJ\",\"ENFP\",\"ENTJ\",\"ISFP\",\"INFJ\",\"INFP\",\"ENFJ\",\"ISTJ\",\"ENTP\",\"ISTJ\",\"INTP\",\"INTJ\",\"ISFP\",\"INFP\",\"INTJ\",\"INTJ\",\"INFJ\",\"ENFJ\",\"ENTP\",\"ENTJ\",\"ENTJ\",\"INFJ\",\"INFP\",\"INTJ\",\"ENFP\",\"INFP\",\"ENTP\",\"INFP\",\"INFJ\",\"ISTP\",\"INFJ\",\"INTP\",\"INFP\",\"INTP\",\"ENFP\",\"INTJ\",\"INFP\",\"INTP\",\"INFJ\",\"INFP\",\"ENTP\",\"INTP\",\"INTJ\",\"INFJ\",\"INFP\",\"INFP\",\"INTP\",\"ESFP\",\"INTP\",\"INFP\",\"ENTP\",\"INTJ\",\"ISFP\",\"INFJ\",\"INFP\",\"ENFP\",\"INFJ\",\"INFP\",\"INFP\",\"INTJ\",\"INFP\",\"INTJ\",\"ENFP\",\"ISTJ\",\"INFP\",\"INTJ\",\"INFP\",\"INTJ\",\"ENFP\",\"ENFP\",\"ENFJ\",\"INTJ\",\"INTJ\",\"INTJ\",\"ENFP\",\"INTP\",\"INTJ\",\"INFJ\",\"ISTP\",\"INFP\",\"ENTP\",\"INTP\",\"ENTP\",\"INFP\",\"ENFP\",\"ENFP\",\"INTP\",\"ISFJ\",\"INFP\",\"ENFP\",\"INTP\",\"INTJ\",\"INTJ\",\"INTP\",\"INFP\",\"INFP\",\"ENTP\",\"ENFP\",\"INTJ\",\"INTP\",\"INTJ\",\"ISFP\",\"INTP\",\"ENFJ\",\"INFP\",\"ISFJ\",\"INFP\",\"INFJ\",\"INTP\",\"INFP\",\"ESFP\",\"ENTP\",\"INFP\",\"INFJ\",\"INTP\",\"INTP\",\"INFJ\",\"INTJ\",\"INTP\",\"ENTP\",\"INFJ\",\"ENTJ\",\"INFP\",\"ENTP\",\"ISFJ\",\"INFP\",\"INFJ\",\"ENTJ\",\"ENFP\",\"ENFJ\",\"ISTP\",\"INFJ\",\"ISFJ\",\"ISFJ\",\"INFJ\",\"ISFP\",\"INTP\",\"ENTJ\",\"ENFP\",\"INFJ\",\"INFJ\",\"ESTP\",\"INFP\",\"INTP\",\"INFJ\",\"INTP\",\"INTP\",\"ENFJ\",\"ISFP\",\"INTJ\",\"INTJ\",\"ENTP\",\"INFP\",\"ENFP\",\"ISFP\",\"ENTP\",\"INFJ\",\"ENTP\",\"ISTP\",\"ISTP\",\"INFP\",\"INFJ\",\"INFP\",\"INTJ\",\"INTP\",\"INTJ\",\"INTJ\",\"INFP\",\"INTP\",\"INFP\",\"ENFP\",\"ISTP\",\"INTP\",\"INTJ\",\"INFP\",\"ISTP\",\"INTJ\",\"INFJ\",\"INFP\",\"INFP\",\"INFP\",\"ENTP\",\"INFJ\",\"INFJ\",\"INFP\",\"INTJ\",\"INFP\",\"INTP\",\"INFP\",\"ENTJ\",\"INTP\",\"INTJ\",\"INFP\",\"INTJ\",\"INTJ\",\"INTJ\",\"INFJ\",\"ENFP\",\"ENTP\",\"ENTP\",\"ENTP\",\"INFJ\",\"ENFP\",\"INFP\",\"ISTJ\",\"INFP\",\"ISTP\",\"INFJ\",\"INTJ\",\"INFP\",\"ISFP\",\"INTJ\",\"ENFP\",\"INTP\",\"ISFJ\",\"ESTP\",\"INFP\",\"INTP\",\"INFP\",\"ENFP\",\"INFJ\",\"INTP\",\"INFJ\",\"ISTJ\",\"ISTP\",\"INFP\",\"INFP\",\"INTJ\",\"INFP\",\"INTJ\",\"ENTJ\",\"ISTJ\",\"ENFP\",\"INTJ\",\"INFP\",\"INFP\",\"ENFP\",\"INFJ\",\"INFJ\",\"INFP\",\"INFP\",\"ISFP\",\"INFP\",\"ENTP\",\"INFJ\",\"INFP\",\"INFP\",\"INFJ\",\"INTJ\",\"ISTP\",\"ISFP\",\"ENTJ\",\"INFP\",\"INFP\",\"ENFP\",\"INFP\",\"INFP\",\"ENFP\",\"ISTJ\",\"ISTJ\",\"INTP\",\"INTJ\",\"INTJ\",\"INTP\",\"ENTJ\",\"ISFP\",\"INTP\",\"INTP\",\"INTP\",\"INTP\",\"INFP\",\"ENTP\",\"INFJ\",\"INTJ\",\"ENTP\",\"INFP\",\"INFJ\",\"INFP\",\"INFJ\",\"INFJ\",\"INFJ\",\"INFJ\",\"INFP\",\"INFP\",\"ESFJ\",\"INFP\",\"INFJ\",\"ENFP\",\"INFP\",\"INTP\",\"INTP\",\"INFP\",\"ISTP\",\"INFP\",\"INFJ\",\"INTP\",\"ENTP\",\"INTP\",\"INFJ\",\"INFP\",\"INTJ\",\"INFJ\",\"INFP\",\"INTP\",\"ENTP\",\"INTP\",\"INTP\",\"ISTJ\",\"INFP\",\"ENFP\",\"INFP\",\"ENTJ\",\"INTJ\",\"INFP\",\"INFJ\",\"ENFP\",\"ISFP\",\"INFJ\",\"INFJ\",\"INTP\",\"INTJ\",\"ISFP\",\"INFP\",\"ISTP\",\"INFJ\",\"ISFP\",\"INTJ\",\"ESTJ\",\"INFP\",\"ENTP\",\"INFP\",\"INFP\",\"INTP\",\"INTP\",\"ISFJ\",\"ENTJ\",\"INFP\",\"INTJ\",\"ISTJ\",\"ESFJ\",\"INTJ\",\"ISTJ\",\"ENTP\",\"INTP\",\"ENFP\",\"ENTJ\",\"INFJ\",\"INFJ\",\"INFP\",\"ISFP\",\"INFP\",\"INTP\",\"INFJ\",\"INTJ\",\"INFJ\",\"ENFP\",\"INTP\",\"INFP\",\"INFP\",\"ENTP\",\"INFP\",\"INTJ\",\"ENTP\",\"ISFP\",\"INTJ\",\"INFP\",\"INTJ\",\"INTJ\",\"ENFP\",\"ISFJ\",\"ENTJ\",\"ENFP\",\"INTJ\",\"INFP\",\"INTP\",\"ISFJ\",\"INFP\",\"ENFP\",\"INTJ\",\"INFP\",\"ENTJ\",\"INTJ\",\"INFJ\",\"INTP\",\"ENTP\",\"ISFP\",\"INTP\",\"ENFP\",\"INFP\",\"INTP\",\"INTJ\",\"ENFP\",\"INFP\",\"INFP\",\"ISTP\",\"INTP\",\"INFP\",\"INTP\",\"INFP\",\"ISFP\",\"INFP\",\"INFJ\",\"ENFP\",\"INTJ\",\"ISTP\",\"ENFP\",\"INTP\",\"INFP\",\"INTP\",\"INTP\",\"ENTP\",\"INTP\",\"INFJ\",\"ENTP\",\"INTP\",\"INFJ\",\"ENTP\",\"ENFJ\",\"ISTJ\",\"INFP\",\"INTP\",\"INFJ\",\"ISFP\",\"INFP\",\"INTP\",\"INTJ\",\"INTP\",\"ENTP\",\"INTJ\",\"INFJ\",\"ISFP\",\"INTP\",\"ENTP\",\"ENTJ\",\"ENFP\",\"ISFJ\",\"INTJ\",\"ISFJ\",\"ENFP\",\"INTP\",\"INFP\",\"INFP\",\"INTP\",\"ENFP\",\"ISTP\",\"INFJ\",\"INFJ\",\"INFP\",\"INTJ\",\"INFJ\",\"INFP\",\"ENTJ\",\"INTJ\",\"ISTP\",\"INFP\",\"INFP\",\"ISTJ\",\"INFJ\",\"INTJ\",\"ISFP\",\"INTJ\",\"ISTP\",\"INFJ\",\"ISTP\",\"ENTP\",\"ENTJ\",\"ESTP\",\"INTJ\",\"ISFJ\",\"INTP\",\"INFP\",\"INFJ\",\"INFJ\",\"INTP\",\"INFP\",\"ENTP\",\"ENFP\",\"INFP\",\"ENFP\",\"INTJ\",\"INTJ\",\"INTP\",\"INFP\",\"INFP\",\"INFP\",\"INFP\",\"INFJ\",\"ENFP\",\"INFJ\",\"ISFJ\",\"ENTP\",\"INFP\",\"INFJ\",\"ENFP\",\"ENTP\",\"INFJ\",\"INFJ\",\"ESFP\",\"INFP\",\"INTJ\",\"ENFP\",\"INFP\",\"INFP\",\"ENFP\",\"ISTP\",\"ESFP\",\"ISTP\",\"INTP\",\"INTJ\",\"ENTJ\",\"INFP\",\"ISTP\",\"ENFJ\",\"INFP\",\"ENFJ\",\"INTJ\",\"ISTP\",\"INTP\",\"INTJ\",\"INTP\",\"INTJ\",\"INFJ\",\"INTJ\",\"INTP\",\"ENFP\",\"INFP\",\"ENTP\",\"INFP\",\"INFP\",\"INTP\",\"ISFP\",\"ISFP\",\"INTJ\",\"ENFP\",\"ENTP\",\"INFP\",\"INFP\",\"ENTP\",\"ENFP\",\"ENFP\",\"ENTP\",\"INFJ\",\"INTJ\",\"INTP\",\"INTP\",\"ISTP\",\"ISFJ\",\"INFJ\",\"INFJ\",\"INFP\",\"ENTJ\",\"INFJ\",\"INFP\",\"INTJ\",\"INFJ\",\"ENTJ\",\"INTP\",\"ISFJ\",\"ENTP\",\"INFP\",\"INTP\",\"INTP\",\"ENFP\",\"INFJ\",\"ESTP\",\"INFJ\",\"INTP\",\"INFP\",\"ENTJ\",\"ENTP\",\"ISTP\",\"INTP\",\"INFJ\",\"ISFP\",\"ISFJ\",\"ENTP\",\"INTJ\",\"ENTP\",\"INTP\",\"INFP\",\"INTJ\",\"ISTP\",\"INFJ\",\"INTP\",\"INFJ\",\"INTP\",\"INFP\",\"INTJ\",\"INFJ\",\"INTJ\",\"ENTP\",\"INFP\",\"INTJ\",\"INTP\",\"INFP\",\"INTJ\",\"INFP\",\"INFP\",\"INTP\",\"INFJ\",\"INTJ\",\"INFP\",\"INFP\",\"ISTP\",\"INFP\",\"ISTJ\",\"INTJ\",\"ESFJ\",\"INTP\",\"INFJ\",\"ISTP\",\"ENTJ\",\"INFP\",\"ENFP\",\"INTJ\",\"INTP\",\"INTJ\",\"INTJ\",\"INFP\",\"INFJ\",\"INTJ\",\"ESTP\",\"INFJ\",\"INTJ\",\"INTP\",\"INTP\",\"ISFP\",\"INTP\",\"ISFP\",\"INFP\",\"INFP\",\"INFJ\",\"INTP\",\"INTP\",\"INTJ\",\"ENTP\",\"ENTP\",\"ISTJ\",\"ISTP\",\"INFP\",\"ESFJ\",\"INFP\",\"ISTP\",\"ENFP\",\"INTP\",\"INFJ\",\"INTP\",\"INTJ\",\"ENTJ\",\"ENFP\",\"INFP\",\"INFJ\",\"ISTP\",\"INFP\",\"ENTP\",\"INTP\",\"INTJ\",\"ESFJ\",\"INFJ\",\"INFP\",\"ENFP\",\"INTJ\",\"ENTP\",\"INFJ\",\"INTJ\",\"ESFP\",\"INFP\",\"INTP\",\"INFP\",\"ISTP\",\"ENFP\",\"ENFJ\",\"INFJ\",\"INFJ\",\"INTP\",\"ENFP\",\"INTP\",\"INFJ\",\"ISTP\",\"INFP\",\"INFP\",\"INFJ\",\"INTP\",\"ISFP\",\"INTJ\",\"ISTP\",\"INFP\",\"INTP\",\"INFJ\",\"ISFJ\",\"INTJ\",\"INFJ\",\"INTP\",\"INFJ\",\"INTP\",\"INTP\",\"INTJ\",\"INTP\",\"INFP\",\"INFJ\",\"ISFJ\",\"INFP\",\"ISFP\",\"ISFP\",\"INTJ\",\"INFJ\",\"ISTJ\",\"ENFP\",\"INTJ\",\"ENTP\",\"INFP\",\"INTJ\",\"ISTJ\",\"INTJ\",\"ENTP\",\"INFP\",\"ISTJ\",\"INFP\",\"ENTJ\",\"INFJ\",\"INFP\",\"INFP\",\"INTP\",\"INFP\",\"ISTP\",\"ENTP\",\"INTP\",\"INTJ\",\"INFP\",\"INTJ\",\"ISTJ\",\"INFP\",\"INTJ\",\"INTP\",\"ESFJ\",\"INTJ\",\"INFJ\",\"ENFJ\",\"ENFP\",\"ENFP\",\"INFP\",\"INFJ\",\"ENFJ\",\"ENTP\",\"ISTJ\",\"INFP\",\"INTJ\",\"INFP\",\"ISTP\",\"INTP\",\"INTJ\",\"INFP\",\"ENTP\",\"ENFP\",\"INTJ\",\"ISFP\",\"INFP\",\"INTJ\",\"ENFP\",\"INFP\",\"INTP\",\"ENTP\",\"INFJ\",\"ENFP\",\"ENFP\",\"INFP\",\"ENFJ\",\"INTJ\",\"INFP\",\"INTP\",\"INTP\",\"INFP\",\"INTJ\",\"INFJ\",\"ISFP\",\"ISTP\",\"ENTP\",\"INTP\",\"INFP\",\"INFP\",\"INTJ\",\"INTJ\",\"INTJ\",\"ISTP\",\"INFJ\",\"INTJ\",\"ENTJ\",\"INFP\",\"ENFP\",\"INFP\",\"ENTP\",\"INFP\",\"ISTP\",\"INFJ\",\"INFP\",\"INTJ\",\"INFP\",\"INFP\",\"INFP\",\"INFP\",\"INFP\",\"INFJ\",\"INFP\",\"INFJ\",\"ENFP\",\"INFJ\",\"INFP\",\"INFP\",\"INTP\",\"INFP\",\"ENFP\",\"ENTP\",\"INFP\",\"INTP\",\"INTJ\",\"INFP\",\"INFJ\",\"INFP\",\"ISFJ\",\"INFJ\",\"ENFJ\",\"ESFP\",\"INTP\",\"INFP\",\"INTJ\",\"INFP\",\"ESFP\",\"ENFP\",\"INFJ\",\"INFJ\",\"ENFP\",\"ENFP\",\"ENTP\",\"INFJ\",\"INFP\",\"INFP\",\"INFP\",\"INTJ\",\"ISFJ\",\"ENTP\",\"ISTP\",\"INFP\",\"INFP\",\"ISTP\",\"INFP\",\"INFP\",\"INFP\",\"ENTP\",\"INTP\",\"INFJ\",\"INFP\",\"INFJ\",\"ISFP\",\"INFP\",\"ISTJ\",\"INTJ\",\"INFP\",\"ISFJ\",\"ISTJ\",\"INTJ\",\"ENFP\",\"INTP\",\"INTJ\",\"INFJ\",\"INTJ\",\"INTP\",\"INTP\",\"ISFP\",\"INTP\",\"INFJ\",\"INFJ\",\"INTP\",\"INTP\",\"INFJ\",\"INTP\",\"INTP\",\"INTP\",\"ENFJ\",\"INFP\",\"ENFP\",\"INFP\",\"INFJ\",\"INFJ\",\"ISTP\",\"INFJ\",\"INFP\",\"INFJ\",\"INFJ\",\"INFP\",\"INFP\",\"ENFP\",\"ENFP\",\"INTP\",\"INTP\",\"ENTP\",\"INFP\",\"INTJ\",\"INFJ\",\"INFP\",\"ENTP\",\"INTP\",\"ISTP\",\"INTP\",\"ENTP\",\"ENTP\",\"INTJ\",\"INFP\",\"INFP\",\"INFP\",\"ISTJ\",\"ENTP\",\"INTP\",\"INFP\",\"ENFP\",\"ISTP\",\"INTP\",\"INTP\",\"ISFJ\",\"INTP\",\"ISTP\",\"ISTP\",\"INFJ\",\"INTP\",\"INFP\",\"INTP\",\"INTJ\",\"ISTP\",\"INFP\",\"INTJ\",\"INTP\",\"INTJ\",\"ENFP\",\"ENTJ\",\"INTP\",\"INFJ\",\"ENFJ\",\"ENFP\",\"ENTP\",\"INFJ\",\"INTP\",\"INTJ\",\"ENTP\",\"ENFP\",\"INFP\",\"INFP\",\"INTP\",\"ENFP\",\"INTJ\",\"INFJ\",\"INFP\",\"INTJ\",\"ISTJ\",\"INTJ\",\"INTP\",\"INFP\",\"INFP\",\"INFJ\",\"INFP\",\"INFJ\",\"INFP\",\"INTP\",\"ISFP\",\"INTJ\",\"ISTJ\",\"ISFP\",\"INTJ\",\"ENTP\",\"ENTJ\",\"INFP\",\"INTJ\",\"INTJ\",\"INTJ\",\"ENTP\",\"INFP\",\"INTP\",\"ENTP\",\"INFP\",\"INFJ\",\"ENTJ\",\"INTP\",\"INTJ\",\"INFP\",\"ESTP\",\"INFP\",\"INTP\",\"INTJ\",\"INFP\",\"ENTP\",\"ENTP\",\"INTP\",\"INTJ\",\"INFJ\",\"ISFP\",\"INFJ\",\"ESFP\",\"INFP\",\"ENTP\",\"INTP\",\"ISTP\",\"INTP\",\"ISFP\",\"ENTP\",\"INFP\",\"ESFJ\",\"INTJ\",\"ISFP\",\"INFP\",\"INTP\",\"INTP\",\"INFP\",\"INTP\",\"INFJ\",\"INTJ\",\"INFP\",\"ENFJ\",\"INTP\",\"INFP\",\"INTP\",\"ENFP\",\"INFP\",\"INTJ\",\"ENTP\",\"INTJ\",\"INTP\",\"INFJ\",\"INTP\",\"INFP\",\"ISTP\",\"ISTJ\",\"ESTP\",\"INFP\",\"INFJ\",\"INFP\",\"ENFP\",\"INTJ\",\"ISTJ\",\"INFJ\",\"INFP\",\"INTJ\",\"INFJ\",\"ENTP\",\"INFP\",\"ESTP\",\"ENTP\",\"INTP\",\"INFJ\",\"INFJ\",\"ENTJ\",\"ISTJ\",\"ENFJ\",\"INTP\",\"ISTJ\",\"ESTP\",\"INFP\",\"INFJ\",\"INFJ\",\"INFP\",\"INFJ\",\"INFJ\",\"INFP\",\"INFJ\",\"INFJ\",\"INFJ\",\"INTJ\",\"ISTP\",\"INFJ\",\"INTP\",\"INFJ\",\"INTJ\",\"INFJ\",\"ENFP\",\"INFP\",\"INTJ\",\"INFP\",\"ENFP\",\"ENFP\",\"INFP\",\"ENTP\",\"INFJ\",\"ENTJ\",\"INTJ\",\"INFP\",\"INFJ\",\"ENTJ\",\"INFJ\",\"INTP\",\"INTJ\",\"INFP\",\"INFJ\",\"INTP\",\"INTJ\",\"INTJ\",\"ENFJ\",\"ENTP\",\"INFP\",\"INFJ\",\"INFP\",\"ISFP\",\"ISFP\",\"INFJ\",\"INFP\",\"INTP\",\"INFP\",\"INTJ\",\"INTP\",\"INFP\",\"ENFJ\",\"ISTJ\",\"ISFJ\",\"INFJ\",\"INTJ\",\"INTP\",\"INFP\",\"INFP\",\"ENFJ\",\"INFP\",\"INFP\",\"INFP\",\"ENTJ\",\"INFJ\",\"INTP\",\"INFP\",\"INFJ\",\"ENTP\",\"INTP\",\"INFP\",\"INTJ\",\"INFJ\",\"ISFP\",\"INTJ\",\"ENFP\",\"INFJ\",\"INFJ\",\"INFP\",\"INTJ\",\"ENFP\",\"ENTP\",\"INFJ\",\"INFP\",\"ENFP\",\"INFJ\",\"ENFP\",\"INFJ\",\"ENFJ\",\"INTP\",\"INFJ\",\"ISTP\",\"ENFP\",\"INFJ\",\"INTJ\",\"ENFP\",\"INTJ\",\"ENFP\",\"INFJ\",\"INFP\",\"ENFJ\",\"INFJ\",\"INFJ\",\"ENFP\",\"ISTP\",\"ENTP\",\"INTJ\",\"ENFJ\",\"INTJ\",\"INFJ\",\"INFP\",\"INFP\",\"INTJ\",\"INFJ\",\"ISFP\",\"INFJ\",\"INTP\",\"INFJ\",\"INFP\",\"ENFP\",\"INTP\",\"INFP\",\"INTP\",\"INFP\",\"ISTJ\",\"INFJ\",\"INFJ\",\"ISTP\",\"ISFP\",\"INFP\",\"ISFP\",\"ENFP\",\"ENFJ\",\"INFJ\",\"ENTJ\",\"ENTP\",\"ISTP\",\"ENFP\",\"ENFJ\",\"INFP\",\"INTP\",\"INFJ\",\"INFP\",\"INFP\",\"INFJ\",\"INFP\",\"INTJ\",\"ENFP\",\"INFJ\",\"INTP\",\"ENFP\",\"ISTJ\",\"INFP\",\"ENFP\",\"INTP\",\"INTJ\",\"INTJ\",\"INFP\",\"INTP\",\"INTJ\",\"ENFP\",\"INTP\",\"INFP\",\"INFP\",\"INFP\",\"ESFP\",\"INFP\",\"ENFP\",\"ISTJ\",\"INTP\",\"INFP\",\"ISFJ\",\"INTP\",\"INTP\",\"ISTP\",\"INTJ\",\"INTJ\",\"INTJ\",\"INFP\",\"INTJ\",\"ENTP\",\"INTP\",\"INFJ\",\"ENTP\",\"ENTJ\",\"INTP\",\"INFJ\",\"INTP\",\"ENFP\",\"ENTJ\",\"ENTP\",\"ISTJ\",\"INFJ\",\"ENTJ\",\"INTJ\",\"INTJ\",\"INTJ\",\"ENFP\",\"ISFP\",\"INFJ\",\"INFP\",\"INFP\",\"INTP\",\"ENTP\",\"ISTP\",\"ISTJ\",\"INFP\",\"INTP\",\"ENFP\",\"INFP\",\"INTP\",\"INFP\",\"ISTP\",\"INTJ\",\"INFP\",\"INTJ\",\"ENTJ\",\"INFJ\",\"INTP\",\"INTP\",\"INTP\",\"INFJ\",\"INTP\",\"INFJ\",\"ENFJ\",\"INFP\",\"INFP\",\"ENFP\",\"INFJ\",\"ENFP\",\"INFP\",\"INTP\",\"INFP\",\"INTP\",\"ISFP\",\"INFP\",\"ISFP\",\"ISTJ\",\"INFJ\",\"ISTP\",\"INFP\",\"INFJ\",\"INFJ\",\"INTJ\",\"INFJ\",\"INTP\",\"INFP\",\"INFP\",\"INFP\",\"INFP\",\"INFJ\",\"ISFP\",\"INFP\",\"INFP\",\"INFP\",\"INTP\",\"INFP\",\"INTP\",\"INTP\",\"INTJ\",\"ENFP\",\"ISFJ\",\"INFP\",\"ISFP\",\"INTJ\",\"INTJ\",\"ENFP\",\"ENTP\",\"INFP\",\"ENTJ\",\"INFP\",\"INFJ\",\"ENTP\",\"INTP\",\"ENFP\",\"INFJ\",\"INTJ\",\"INTP\",\"INFP\",\"ISFP\",\"INFP\",\"INTJ\",\"ESFP\",\"INTP\",\"INTJ\",\"INFP\",\"ISFP\",\"ISTP\",\"ENTP\",\"INTP\",\"ISTJ\",\"ENTP\",\"ENTP\",\"INFP\",\"INFJ\",\"ISTJ\",\"INTP\",\"ISFP\",\"ENFJ\",\"ENFP\",\"INFP\",\"INFJ\",\"INFJ\",\"INFJ\",\"INTP\",\"INTJ\",\"INFP\",\"ENTP\",\"ENFP\",\"INFJ\",\"ENTP\",\"INFP\",\"INTP\",\"INFJ\",\"INTJ\",\"ENTJ\",\"INTP\",\"ENTP\",\"ISTP\",\"INFP\",\"ISTJ\",\"INFP\",\"ISTP\",\"INFP\",\"INTJ\",\"INFJ\",\"ENTJ\",\"ENTJ\",\"INFP\",\"INTP\",\"ISTJ\",\"ISTJ\",\"INFP\",\"INFJ\",\"INTJ\",\"INTP\",\"ENFP\",\"INFJ\",\"INTP\",\"INTJ\",\"ISFP\",\"INFJ\",\"ENFP\",\"INTP\",\"INFJ\",\"INFP\",\"ENTP\",\"ENTP\",\"INFP\",\"INTP\",\"INFP\",\"INTP\",\"INTP\",\"INFP\",\"INTP\",\"INFP\",\"ENTJ\",\"INFJ\",\"INFJ\",\"INFP\",\"INFJ\",\"INFP\",\"ENTP\",\"INFP\",\"ISFJ\",\"ENTJ\",\"INFJ\",\"ISFP\",\"INFJ\",\"ENFP\",\"ISTP\",\"INFP\",\"INFJ\",\"ENTP\",\"INTP\",\"ISTJ\",\"INFP\",\"ENTP\",\"INFJ\",\"INFP\",\"INFP\",\"INTP\",\"INFJ\",\"ENTP\",\"INFJ\",\"ISFP\",\"INFP\",\"INFP\",\"INFP\",\"ISFP\",\"INTJ\",\"INTP\",\"ENFP\",\"ENFP\",\"INTJ\",\"INTJ\",\"INFJ\",\"INTJ\",\"INTP\",\"ISFP\",\"ISFP\",\"ESTJ\",\"ISFJ\",\"INTP\",\"INFJ\",\"ENFP\",\"ENFJ\",\"INTJ\",\"INTP\",\"INTJ\",\"INTJ\",\"INTP\",\"ISTP\",\"INFJ\",\"ISTP\",\"ISTP\",\"INFJ\",\"INTJ\",\"ENTJ\",\"INFJ\",\"ENFP\",\"ENTP\",\"ENTP\",\"ESFP\",\"ENTP\",\"INTP\",\"INTJ\",\"INTP\",\"ENFP\",\"INFJ\",\"INTP\",\"ISTP\",\"INTJ\",\"ENFP\",\"ENTJ\",\"INFJ\",\"ISFP\",\"INFJ\",\"INTP\",\"INTP\",\"ENTP\",\"ENTP\",\"INTP\",\"INFJ\",\"INFJ\",\"ENFJ\",\"ENFP\",\"INTJ\",\"INTP\",\"ISTJ\",\"INTP\",\"INFP\",\"INTP\",\"INFP\",\"INFP\",\"INFJ\",\"INTJ\",\"ISFJ\",\"INTJ\",\"ENTP\",\"INTP\",\"INFJ\",\"INFJ\",\"INTP\",\"ISFP\",\"INTJ\",\"ENFJ\",\"INFJ\",\"INFJ\",\"INFP\",\"INFJ\",\"INFP\",\"ENFP\",\"INFP\",\"INTJ\",\"ESTP\",\"ISTP\",\"ESTP\",\"INFP\",\"ENTP\",\"INFP\",\"INFJ\",\"INTJ\",\"ENFP\",\"INFJ\",\"INFJ\",\"ENFP\",\"INFP\",\"INFP\",\"ENFP\",\"ESTJ\",\"INFJ\",\"ISTJ\",\"INTP\",\"ISFP\",\"ENFP\",\"INFP\",\"INTJ\",\"INFJ\",\"INFJ\",\"INFP\",\"INTJ\",\"INFJ\",\"ENTP\",\"INTP\",\"INFJ\",\"ISFP\",\"ISFJ\",\"INTJ\",\"INTJ\",\"INTP\",\"INTJ\",\"ENTP\",\"ENTJ\",\"ISTP\",\"ESTP\",\"INFJ\",\"ENTJ\",\"INFJ\",\"INTP\",\"INTJ\",\"ISFJ\",\"ENTP\",\"INFP\",\"INFP\",\"ENFP\",\"INTP\",\"ENFP\",\"INTJ\",\"INFP\",\"INFP\",\"INFJ\",\"ESTP\",\"INFP\",\"INTJ\",\"INFJ\",\"INTP\",\"INTP\",\"ENFJ\",\"ISFJ\",\"ISTP\",\"INFJ\",\"ISFP\",\"INTJ\",\"ENFP\",\"ISTJ\",\"ENTP\",\"INTP\",\"ESFJ\",\"INTP\",\"ENTJ\",\"ISFP\",\"INFJ\",\"ENFJ\",\"ENFP\",\"INTP\",\"ISTJ\",\"ISFJ\",\"INFP\",\"INFP\",\"INFJ\",\"INTP\",\"INFJ\",\"INFJ\",\"INFJ\",\"ENFP\",\"INFJ\",\"ESFP\",\"INTP\",\"INTP\",\"INFJ\",\"INFJ\",\"INTP\",\"INTJ\",\"INFJ\",\"ENFP\",\"ENFP\",\"INFP\",\"ISFJ\",\"INFJ\",\"ENTJ\",\"INFP\",\"INTP\",\"INTP\",\"ISFP\",\"ISTP\",\"INFP\",\"INTP\",\"ENTP\",\"ISFJ\",\"INTP\",\"INFP\",\"ENFJ\",\"INTP\",\"ENTP\",\"INFP\",\"ENFP\",\"INTP\",\"INFP\",\"INTP\",\"INFP\",\"INTJ\",\"ENFP\",\"INFJ\",\"ESFP\",\"INTP\",\"ENFJ\",\"INFP\",\"INFP\",\"INFJ\",\"ENTJ\",\"INTP\",\"INFP\",\"ISTP\",\"ESFP\",\"INTP\",\"INFP\",\"ENFJ\",\"ENFP\",\"ENFJ\",\"INFP\",\"INFP\",\"INFJ\",\"INFJ\",\"INFJ\",\"ENFP\",\"INFP\",\"INFP\",\"INFP\",\"ENFP\",\"ENTJ\",\"ISTJ\",\"INFJ\",\"ISFP\",\"INTP\",\"INTJ\",\"ISFJ\",\"INFJ\",\"ENFP\",\"INFP\",\"INFJ\",\"ESFJ\",\"ISFJ\",\"INTJ\",\"INTP\",\"INFP\",\"INFP\",\"ENTP\",\"ENFP\",\"INTJ\",\"ISTP\",\"ENTP\",\"INFJ\",\"ISFJ\",\"ENTP\",\"ISFP\",\"INFP\",\"INTP\",\"ISTP\",\"INTP\",\"INTJ\",\"ENFP\",\"INFP\",\"INFJ\",\"INFJ\",\"ENTJ\",\"INTP\",\"INFP\",\"INTP\",\"INFP\",\"INFP\",\"INFJ\",\"INFJ\",\"ENTJ\",\"ISFP\",\"INFP\",\"INTP\",\"INFP\",\"ENTP\",\"INTJ\",\"INTJ\",\"ENTP\",\"INFP\",\"ENTP\",\"INFP\",\"INFP\",\"ISFJ\",\"INFP\",\"INFJ\",\"INTP\",\"ENTP\",\"INFP\",\"INFP\",\"INFP\",\"INTP\",\"ISTP\",\"INTP\",\"INTJ\",\"INTP\",\"INFJ\",\"ISTP\",\"INTJ\",\"INFJ\",\"INFP\",\"ENFP\",\"INFJ\",\"INTP\",\"INTP\",\"INFJ\",\"INTJ\",\"ENFP\",\"INTJ\",\"INFJ\",\"INTJ\",\"ENTP\",\"INFP\",\"INFJ\",\"INTP\",\"ESTJ\",\"ISTP\",\"ENTP\",\"INTJ\",\"INTJ\",\"INFP\",\"INFP\",\"INTP\",\"INFP\",\"INFJ\",\"ENTP\",\"ENTJ\",\"INTJ\",\"ISFJ\",\"INFP\",\"INFP\",\"ENFP\",\"INFP\",\"ENFP\",\"INFP\",\"INTJ\",\"INTJ\",\"INFP\",\"ENFP\",\"INFJ\",\"ISTP\",\"INFP\",\"INFJ\",\"ISTP\",\"INTP\",\"INFJ\",\"INTJ\",\"INFP\",\"INTJ\",\"INFJ\",\"INTP\",\"ISFJ\",\"ENTP\",\"INFP\",\"INTP\",\"INTP\",\"INTJ\",\"ENTP\",\"INFJ\",\"INTJ\",\"INTP\",\"INTP\",\"ENFP\",\"ENTP\",\"ENFP\",\"ESFP\",\"ENFP\",\"INTP\",\"INTP\",\"INTJ\",\"INFJ\",\"ISTP\",\"ISFP\",\"INTP\",\"ENTP\",\"INTJ\",\"INFJ\",\"ENTJ\",\"ISTP\",\"INFP\",\"ENFJ\",\"ISTJ\",\"INTP\",\"INFP\",\"ISFP\",\"ISTJ\",\"INFJ\",\"INTJ\",\"ESTP\",\"ISFP\",\"ENTP\",\"INTP\",\"INTJ\",\"ENFJ\",\"ISFJ\",\"INFP\",\"INFJ\",\"INFJ\",\"INFJ\",\"INFP\",\"INTP\",\"ISFP\",\"ENFP\",\"INFJ\",\"INFP\",\"ENTJ\",\"INFP\",\"INFP\",\"INFP\",\"ISFJ\",\"INTJ\",\"ISTP\",\"ENFJ\",\"INTJ\",\"ENTJ\",\"INTP\",\"ISFJ\",\"INFP\",\"INFP\",\"INTP\",\"INFP\",\"INFJ\",\"INTP\",\"INTJ\",\"ENFP\",\"INTJ\",\"INFP\",\"INTJ\",\"INFJ\",\"INFJ\",\"ISTP\",\"INFP\",\"INFP\",\"INTJ\",\"INTP\",\"INFJ\",\"INFJ\",\"INTJ\",\"INTP\",\"ENTP\",\"ENTP\",\"ENFJ\",\"INFP\",\"INTP\",\"INTJ\",\"INTP\",\"INFJ\",\"ISFJ\",\"INFJ\",\"INFP\",\"INFJ\",\"INFP\",\"INTP\",\"INFP\",\"ISTJ\",\"ENTP\",\"INTP\",\"INFJ\",\"INFJ\",\"ISTJ\",\"ENTP\",\"ENFP\",\"ENFP\",\"INFJ\",\"INFP\",\"INFP\",\"INTJ\",\"ENFP\",\"ISTP\",\"ENTP\",\"INFP\",\"INFP\",\"INTJ\",\"ENTP\",\"ENFP\",\"ESTJ\",\"INTP\",\"ISFJ\",\"INFP\",\"ISTP\",\"INFP\",\"INTP\",\"INTP\",\"ENFP\",\"INFP\",\"INTP\",\"ENTP\",\"INTP\",\"ENFP\",\"INTP\",\"ISTP\",\"ISTP\",\"ENTP\",\"INFP\",\"ENTP\",\"ENFP\",\"ENTP\",\"INFJ\",\"INFJ\",\"INFJ\",\"INTP\",\"ENTJ\",\"INTJ\",\"INTP\",\"INFP\",\"INFP\",\"INTP\",\"ENTP\",\"INTJ\",\"INFJ\",\"ENTP\",\"ISFP\",\"INTJ\",\"INFP\",\"ENFP\",\"INFJ\",\"INFP\",\"INFJ\",\"INTP\",\"ISTJ\",\"INTP\",\"INTJ\",\"ENTJ\",\"INFJ\",\"INTJ\",\"INFP\",\"ESTP\",\"INTP\",\"ENFP\",\"INFJ\",\"INFJ\",\"ISTJ\",\"INTP\",\"INTP\",\"ENTP\",\"ISFJ\",\"ENTJ\",\"INFP\",\"INTP\",\"INTP\",\"INFJ\",\"ENFP\",\"ISFP\",\"INTJ\",\"INFP\",\"ENTP\",\"ESTP\",\"ENFP\",\"INTP\",\"INFJ\",\"ISFP\",\"INFP\",\"INTP\",\"INFP\",\"INFP\",\"ENFP\",\"INFP\",\"INFJ\",\"ENTP\",\"INTJ\",\"INFP\",\"ENFP\",\"INTP\",\"INFP\",\"ENFJ\",\"INFJ\",\"INTP\",\"ENTJ\",\"ISFP\",\"INTP\",\"ESTP\",\"INFP\",\"INTJ\",\"ESTJ\",\"ENTP\",\"INTJ\",\"INFJ\",\"INTP\",\"INFP\",\"ISTP\",\"INFJ\",\"INTP\",\"ENFP\",\"INTJ\",\"INTP\",\"INFJ\",\"INFJ\",\"INFP\",\"ENFP\",\"INTJ\",\"INTP\",\"INTP\",\"INFP\",\"INFP\",\"INFP\",\"INTP\",\"INTP\",\"INFJ\",\"INTP\",\"INTJ\",\"INFJ\",\"ENTP\",\"ISTJ\",\"ENTP\",\"ENFJ\",\"ENFJ\",\"INTJ\",\"ISTJ\",\"ESTP\",\"INFP\",\"INFJ\",\"INTJ\",\"ENTP\",\"ISTJ\",\"ISTJ\",\"INFP\",\"INFP\",\"ISTP\",\"INTJ\",\"INTJ\",\"ENFJ\",\"INFP\",\"INFP\",\"INTJ\",\"ENFP\",\"ENFP\",\"INTP\",\"INFJ\",\"INFJ\",\"INFJ\",\"ENFP\",\"ENTP\",\"INTJ\",\"INFJ\",\"INTJ\",\"ISFP\",\"INTP\",\"INTJ\",\"INTP\",\"ESFP\",\"INFP\",\"INTP\",\"INFJ\",\"ISTP\",\"INTJ\",\"ENFJ\",\"INFJ\",\"INTP\",\"INTJ\",\"INFP\",\"ENFP\",\"INTJ\",\"ENTP\",\"INFJ\",\"INFJ\",\"ENFP\",\"INFP\",\"INTJ\",\"INFP\",\"ENTJ\",\"INFJ\",\"INFP\",\"INTJ\",\"INTJ\",\"INFP\",\"ISTJ\",\"INFP\",\"INFP\",\"ISTP\",\"INTJ\",\"INFP\",\"ENTP\",\"INFP\",\"INFJ\",\"ISTP\",\"INTJ\",\"INTJ\",\"INTJ\",\"ENTJ\",\"INTP\",\"ENFP\",\"INFP\",\"INFJ\",\"ENFP\",\"INFJ\",\"INTJ\",\"ISTJ\",\"ENFP\",\"ENTJ\",\"INFJ\",\"ENTP\",\"INFJ\",\"ENFJ\",\"INFJ\",\"INTP\",\"INTP\",\"ISFP\",\"ISFJ\",\"INFJ\",\"INFJ\",\"INFP\",\"ENTP\",\"INTP\",\"INFJ\",\"INTP\",\"INFJ\",\"INFP\",\"INTJ\",\"INTP\",\"INFP\",\"INFP\",\"INFJ\",\"INTP\",\"INFP\",\"INFP\",\"INTP\",\"INFJ\",\"INTJ\",\"ISTJ\",\"ENTJ\",\"ENFP\",\"INTP\",\"INTJ\",\"INFJ\",\"ENTP\",\"INTP\",\"INFJ\",\"ISFP\",\"INTP\",\"ENFP\",\"ENTJ\",\"ENTP\",\"INFJ\",\"INFJ\",\"INFP\",\"INFP\",\"INFJ\",\"ESTP\",\"INFJ\",\"ISTP\",\"INFJ\",\"INFP\",\"INTP\",\"INFJ\",\"ENTP\",\"INFJ\",\"INTP\",\"INTJ\",\"ENFP\",\"INTJ\",\"INTP\",\"INTP\",\"INTP\",\"ENTP\",\"ENFP\",\"INFP\",\"INFJ\",\"INTP\",\"INFJ\",\"ENFP\",\"ENTJ\",\"INTJ\",\"INFJ\",\"ENTJ\",\"ENTJ\",\"INFJ\",\"ENFP\",\"INTP\",\"INFJ\",\"INTJ\",\"INFP\",\"ENTJ\",\"ISFP\",\"ISTJ\",\"ISTP\",\"INFJ\",\"INTP\",\"INFP\",\"ESTP\",\"INTJ\",\"ISTP\",\"INFJ\",\"INFJ\",\"INFJ\",\"INFP\",\"INFP\",\"INTP\",\"INFJ\",\"INTP\",\"INFP\",\"INTJ\",\"ISFJ\",\"INTP\",\"INFJ\",\"ENTJ\",\"INFP\",\"INTP\",\"INFP\",\"ISTJ\",\"INFP\",\"INTJ\",\"ISTJ\",\"ENTP\",\"INFJ\",\"ESTJ\",\"ENTJ\",\"ISTJ\",\"INTP\",\"ISTP\",\"INFP\",\"ENFP\",\"ENFJ\",\"INTP\",\"INFJ\",\"INTP\",\"ISFJ\",\"INFJ\",\"INFP\",\"ENFJ\",\"ENTJ\",\"INTJ\",\"ISFJ\",\"INTJ\",\"INFP\",\"INFJ\",\"ESTJ\",\"INFP\",\"INTP\",\"INFJ\",\"INTP\",\"ISTP\",\"INFP\",\"ENFP\",\"INTJ\",\"INTJ\",\"ENFP\",\"INFP\",\"INFJ\",\"ESTJ\",\"INTP\",\"INFP\",\"ENFP\",\"ENTP\",\"INFJ\",\"ENTP\",\"INFP\",\"INTP\",\"ISFJ\",\"ENFP\",\"ENTP\",\"INFJ\",\"ENFP\",\"INFJ\",\"INFP\",\"INFP\",\"ENTP\",\"INTP\",\"INTJ\",\"INTJ\",\"ENFP\",\"INTJ\",\"INFP\",\"INFP\",\"INTP\",\"INTP\",\"INFP\",\"ENFP\",\"INFP\",\"INFJ\",\"INFP\",\"INTJ\",\"INTP\",\"ENFP\",\"INFJ\",\"INTP\",\"ISTP\",\"INFP\",\"INFP\",\"ISFJ\",\"ENFP\",\"INTJ\",\"INFJ\",\"INTJ\",\"INFJ\",\"INFP\",\"INTP\",\"INTJ\",\"ENTP\",\"INFJ\",\"ENFP\",\"ISFP\",\"ISFP\",\"INTJ\",\"INTP\",\"INFP\",\"ENTJ\",\"INFJ\",\"INTJ\",\"ISTJ\",\"INFP\",\"ENFP\",\"INFJ\",\"ENFP\",\"ENFP\",\"INFP\",\"INTP\",\"ENTJ\",\"ENTP\",\"ENFP\",\"ISFP\",\"INFP\",\"ENTJ\",\"INFP\",\"INTJ\",\"INFJ\",\"INFJ\",\"INTJ\",\"ENFP\",\"INTJ\",\"INFP\",\"INFP\",\"INFJ\",\"INFP\",\"ISFP\",\"INTP\",\"INFP\",\"INTJ\",\"ISTJ\",\"INFJ\",\"ENTP\",\"ENFP\",\"ENTJ\",\"INFP\",\"INTP\",\"INFP\",\"INFJ\",\"INFJ\",\"INFP\",\"INFP\",\"INTP\",\"ENFP\",\"INTP\",\"INFP\",\"INFP\",\"INFP\",\"INFJ\",\"INTJ\",\"INFJ\",\"ISFP\",\"INFJ\",\"INFP\",\"INTP\",\"INTP\",\"INFP\",\"INTJ\",\"INFJ\",\"INTP\",\"ENFJ\",\"INTJ\",\"INFJ\",\"INTJ\",\"INTP\",\"INFJ\",\"INTJ\",\"INFP\",\"ESFJ\",\"INTJ\",\"ENFJ\",\"ENFP\",\"INFJ\",\"ENTP\",\"INTJ\",\"INTP\",\"INFJ\",\"ISTP\",\"INTJ\",\"INFP\",\"INFP\",\"INTP\",\"INFJ\",\"INTP\",\"INFJ\",\"ISFJ\",\"INFJ\",\"INTJ\",\"INTP\",\"INTJ\",\"INFP\",\"INTP\",\"INTP\",\"INFJ\",\"INFJ\",\"INFJ\",\"INTP\",\"INTP\",\"INFJ\",\"INFJ\",\"INTP\",\"ISFP\",\"INTP\",\"INFP\",\"ENFP\",\"INFP\",\"INFJ\",\"INFJ\",\"ENTJ\",\"INFJ\",\"INTP\",\"ENFP\",\"ENFP\",\"INTJ\",\"INTJ\",\"INTJ\",\"INFP\",\"INFP\",\"INFJ\",\"INTP\",\"ISTJ\",\"INFJ\",\"ENFP\",\"INFJ\",\"INFP\",\"ENFP\",\"ISFP\",\"ENFJ\",\"INFP\",\"ENTP\",\"ISTP\",\"INFJ\",\"INFJ\",\"INFJ\",\"INFJ\",\"INFP\",\"INFJ\",\"INTP\",\"ENTP\",\"INTJ\",\"INTJ\",\"ENFP\",\"INTP\",\"INTJ\",\"INFP\",\"INTP\",\"INFJ\",\"INFP\",\"ENTP\",\"INTJ\",\"ENTP\",\"INFP\",\"INFP\",\"INTP\",\"ENTP\",\"ENTP\",\"INFP\",\"INTJ\",\"INFJ\",\"INFP\",\"INFJ\",\"ISTP\",\"INFJ\",\"INFJ\",\"INTP\",\"INTP\",\"ISTP\",\"ISTJ\",\"ENFP\",\"INTJ\",\"INFJ\",\"ENFP\",\"ENTP\",\"INFP\",\"INTJ\",\"INFJ\",\"INTJ\",\"INTJ\",\"ENFP\",\"INFJ\",\"INTJ\",\"ENFP\",\"INTP\",\"INFP\",\"INFP\",\"ENFJ\",\"INFP\",\"INFP\",\"INTP\",\"INTP\",\"ENTJ\",\"INTP\",\"ISFJ\",\"INTJ\",\"ENFJ\",\"INFP\",\"INFJ\",\"INTP\",\"INTP\",\"INFP\",\"INTP\",\"INFJ\",\"INTJ\",\"INFJ\",\"INFJ\",\"ENTP\",\"INTP\",\"ENFP\",\"ENTJ\",\"ENFP\",\"INFP\",\"ISFP\",\"ENFJ\",\"INTJ\",\"ENFP\",\"INFP\",\"INFJ\",\"INFP\",\"INTJ\",\"ISTJ\",\"ENFP\",\"INFJ\",\"ENTP\",\"INTP\",\"INTJ\",\"ESTP\",\"ENTP\",\"ISTJ\",\"INFJ\",\"INTP\",\"INTP\",\"INTP\",\"ENTP\",\"ISTP\",\"INFJ\",\"INTP\",\"ISTP\",\"ISTP\",\"ISTP\",\"ISTP\",\"INFJ\",\"INTJ\",\"ENTJ\",\"INTP\",\"INTP\",\"ENTP\",\"ISTP\",\"ENTP\",\"INFJ\",\"INFP\",\"INFJ\",\"ENFP\",\"ENFP\",\"INFP\",\"ENTP\",\"INFJ\",\"INFP\",\"ENFP\",\"ENTP\",\"INFJ\",\"INFP\",\"INFJ\",\"ISTP\",\"INTP\",\"ISTP\",\"INFP\",\"INFJ\",\"INFJ\",\"INFP\",\"INFP\",\"INFP\",\"INFP\",\"INFP\",\"INFP\",\"INFP\",\"ESTP\",\"INFJ\",\"INFP\",\"ENTP\",\"ENFP\",\"INFP\",\"ISTJ\",\"ENTP\",\"INFP\",\"INFP\",\"INFP\",\"INTJ\",\"INTJ\",\"INTP\",\"ISFP\",\"INTP\",\"INTP\",\"INTP\",\"INFJ\",\"INFP\",\"INTJ\",\"ESTJ\",\"INFJ\",\"ENTP\",\"INFJ\",\"INFP\",\"INTJ\",\"INFJ\",\"INFP\",\"INFP\",\"ENFP\",\"INFJ\",\"INTP\",\"ISFP\",\"INFP\",\"ISTJ\",\"ISTP\",\"ENFP\",\"INFP\",\"INTP\",\"ISFP\",\"ISFP\",\"INTP\",\"ENTP\",\"ENFJ\",\"INFJ\",\"ENTP\",\"ISFP\",\"INFP\",\"INFP\",\"INFP\",\"ENTJ\",\"INFP\",\"INTP\",\"INTP\",\"ENFP\",\"INFP\",\"INFP\",\"ISFP\",\"INFP\",\"INFP\",\"ENTP\",\"INFJ\",\"INTJ\",\"INTJ\",\"ENFJ\",\"INFJ\",\"INTJ\",\"ENTP\",\"ESFJ\",\"INTP\",\"INFP\",\"INFJ\",\"ENTP\",\"INTJ\",\"INTP\",\"INFP\",\"INFP\",\"ENTP\",\"ISTP\",\"ENTJ\",\"ENTP\",\"ISTP\",\"INFP\",\"INFP\",\"INTJ\",\"INTJ\",\"INTP\",\"ENFJ\",\"ESFP\",\"ENTJ\",\"INFP\",\"ENFP\",\"ISFJ\",\"ENTP\",\"ENFP\",\"ENFP\",\"ENTP\",\"INTP\",\"INFP\",\"INFJ\",\"INFP\",\"ISTP\",\"ISFP\",\"INFP\",\"ENTP\",\"INFJ\",\"INFJ\",\"ENFP\",\"ESFJ\",\"INTJ\",\"INTP\",\"ENTJ\",\"INFP\",\"INFJ\",\"INFJ\",\"INFP\",\"ENFP\",\"ISTJ\",\"INFJ\",\"INFJ\",\"ISFJ\",\"INTJ\",\"INFP\",\"INFP\",\"INFP\",\"ISFP\",\"INTJ\",\"INTP\",\"INFP\",\"INTP\",\"INTJ\",\"INFP\",\"ESTP\",\"INFP\",\"INTJ\",\"INTJ\",\"INTP\",\"INTP\",\"INTP\",\"INFJ\",\"INFP\",\"ISFP\",\"INFP\",\"ENTP\",\"INFJ\",\"ENTP\",\"INFJ\",\"INFP\",\"ISTJ\",\"INTP\",\"INTP\",\"ENFP\",\"INTP\",\"INTP\",\"ENTP\",\"ENFP\",\"ENFP\",\"INFP\",\"ISTP\",\"INFP\",\"INFP\",\"INTP\",\"INTP\",\"INTJ\",\"ENFP\",\"INFJ\",\"INTJ\",\"INFP\",\"INTP\",\"INTJ\",\"INFJ\",\"INTJ\",\"INTP\",\"INTP\",\"ENTP\",\"ENFP\",\"INTJ\",\"INFJ\",\"INTJ\",\"ENTJ\",\"INTJ\",\"ISTP\",\"INFP\",\"ISFJ\",\"ISFP\",\"ISTJ\",\"INTJ\",\"INFP\",\"INTP\",\"INFJ\",\"INFP\",\"INTJ\",\"INTJ\",\"INFP\",\"INFJ\",\"ISTP\",\"ENFP\",\"INFJ\",\"ENFP\",\"ENTP\",\"INTP\",\"INFP\",\"INFP\",\"ISTP\",\"INFJ\",\"INTJ\",\"ENFJ\",\"INTP\",\"INFP\",\"ENFJ\",\"INTP\",\"INTP\",\"INTP\",\"INFJ\",\"INTJ\",\"INFP\",\"INFP\",\"ISTP\",\"ENFP\",\"INTP\",\"INTP\",\"INTP\",\"ISTJ\",\"INTJ\",\"INTJ\",\"INFP\",\"INFP\",\"INFJ\",\"INTP\",\"INFP\",\"INFJ\",\"ISFJ\",\"INFP\",\"INTP\",\"INTJ\",\"ENTP\",\"INTP\",\"ENTP\",\"INTJ\",\"INTJ\",\"INFJ\",\"INTP\",\"INTP\",\"ENTP\",\"ISFP\",\"ISTP\",\"INFP\",\"ISTJ\",\"ENFP\",\"ENFP\",\"ISFP\",\"INTP\",\"ENFP\",\"INFJ\",\"INFP\",\"ENTP\",\"INTP\",\"ENTP\",\"ENFP\",\"ISTJ\",\"INTP\",\"ENTP\",\"INFJ\",\"INFP\",\"ENFP\",\"INFP\",\"INFP\",\"INTJ\",\"ENFP\",\"ENTJ\",\"ENFP\",\"INFP\",\"ISFP\",\"INTP\",\"ENTJ\",\"INTP\",\"INTJ\",\"INFP\",\"ISFP\",\"ENFP\",\"ENTJ\",\"INTP\",\"ENFP\",\"INTP\",\"ISFJ\",\"INFP\",\"INFJ\",\"INTP\",\"INTJ\",\"ENFP\",\"ISTP\",\"INTP\",\"ISFP\",\"INFP\",\"ISTJ\",\"ENTP\",\"INFP\",\"INFJ\",\"INFP\",\"INTJ\",\"INFP\",\"ENTP\",\"INTP\",\"INFP\",\"INFJ\",\"ENTP\",\"INFJ\",\"INFJ\",\"INFP\",\"INTP\",\"INFP\",\"INFP\",\"INFJ\",\"ISTP\",\"ISFJ\",\"INFP\",\"ISTJ\",\"INFJ\",\"INFJ\",\"INTJ\",\"ESFJ\",\"ENFP\",\"INFP\",\"ENTP\",\"INTJ\",\"INTP\",\"INTP\",\"ENTP\",\"INTJ\",\"ENTP\",\"INTJ\",\"INFJ\",\"ISFP\",\"ENFP\",\"INTP\",\"INFP\",\"INFP\"],\"legendgroup\":\"\",\"name\":\"\",\"showlegend\":true,\"type\":\"pie\"}],                        {\"template\":{\"data\":{\"histogram2dcontour\":[{\"type\":\"histogram2dcontour\",\"colorbar\":{\"outlinewidth\":0,\"ticks\":\"\"},\"colorscale\":[[0.0,\"#0d0887\"],[0.1111111111111111,\"#46039f\"],[0.2222222222222222,\"#7201a8\"],[0.3333333333333333,\"#9c179e\"],[0.4444444444444444,\"#bd3786\"],[0.5555555555555556,\"#d8576b\"],[0.6666666666666666,\"#ed7953\"],[0.7777777777777778,\"#fb9f3a\"],[0.8888888888888888,\"#fdca26\"],[1.0,\"#f0f921\"]]}],\"choropleth\":[{\"type\":\"choropleth\",\"colorbar\":{\"outlinewidth\":0,\"ticks\":\"\"}}],\"histogram2d\":[{\"type\":\"histogram2d\",\"colorbar\":{\"outlinewidth\":0,\"ticks\":\"\"},\"colorscale\":[[0.0,\"#0d0887\"],[0.1111111111111111,\"#46039f\"],[0.2222222222222222,\"#7201a8\"],[0.3333333333333333,\"#9c179e\"],[0.4444444444444444,\"#bd3786\"],[0.5555555555555556,\"#d8576b\"],[0.6666666666666666,\"#ed7953\"],[0.7777777777777778,\"#fb9f3a\"],[0.8888888888888888,\"#fdca26\"],[1.0,\"#f0f921\"]]}],\"heatmap\":[{\"type\":\"heatmap\",\"colorbar\":{\"outlinewidth\":0,\"ticks\":\"\"},\"colorscale\":[[0.0,\"#0d0887\"],[0.1111111111111111,\"#46039f\"],[0.2222222222222222,\"#7201a8\"],[0.3333333333333333,\"#9c179e\"],[0.4444444444444444,\"#bd3786\"],[0.5555555555555556,\"#d8576b\"],[0.6666666666666666,\"#ed7953\"],[0.7777777777777778,\"#fb9f3a\"],[0.8888888888888888,\"#fdca26\"],[1.0,\"#f0f921\"]]}],\"heatmapgl\":[{\"type\":\"heatmapgl\",\"colorbar\":{\"outlinewidth\":0,\"ticks\":\"\"},\"colorscale\":[[0.0,\"#0d0887\"],[0.1111111111111111,\"#46039f\"],[0.2222222222222222,\"#7201a8\"],[0.3333333333333333,\"#9c179e\"],[0.4444444444444444,\"#bd3786\"],[0.5555555555555556,\"#d8576b\"],[0.6666666666666666,\"#ed7953\"],[0.7777777777777778,\"#fb9f3a\"],[0.8888888888888888,\"#fdca26\"],[1.0,\"#f0f921\"]]}],\"contourcarpet\":[{\"type\":\"contourcarpet\",\"colorbar\":{\"outlinewidth\":0,\"ticks\":\"\"}}],\"contour\":[{\"type\":\"contour\",\"colorbar\":{\"outlinewidth\":0,\"ticks\":\"\"},\"colorscale\":[[0.0,\"#0d0887\"],[0.1111111111111111,\"#46039f\"],[0.2222222222222222,\"#7201a8\"],[0.3333333333333333,\"#9c179e\"],[0.4444444444444444,\"#bd3786\"],[0.5555555555555556,\"#d8576b\"],[0.6666666666666666,\"#ed7953\"],[0.7777777777777778,\"#fb9f3a\"],[0.8888888888888888,\"#fdca26\"],[1.0,\"#f0f921\"]]}],\"surface\":[{\"type\":\"surface\",\"colorbar\":{\"outlinewidth\":0,\"ticks\":\"\"},\"colorscale\":[[0.0,\"#0d0887\"],[0.1111111111111111,\"#46039f\"],[0.2222222222222222,\"#7201a8\"],[0.3333333333333333,\"#9c179e\"],[0.4444444444444444,\"#bd3786\"],[0.5555555555555556,\"#d8576b\"],[0.6666666666666666,\"#ed7953\"],[0.7777777777777778,\"#fb9f3a\"],[0.8888888888888888,\"#fdca26\"],[1.0,\"#f0f921\"]]}],\"mesh3d\":[{\"type\":\"mesh3d\",\"colorbar\":{\"outlinewidth\":0,\"ticks\":\"\"}}],\"scatter\":[{\"fillpattern\":{\"fillmode\":\"overlay\",\"size\":10,\"solidity\":0.2},\"type\":\"scatter\"}],\"parcoords\":[{\"type\":\"parcoords\",\"line\":{\"colorbar\":{\"outlinewidth\":0,\"ticks\":\"\"}}}],\"scatterpolargl\":[{\"type\":\"scatterpolargl\",\"marker\":{\"colorbar\":{\"outlinewidth\":0,\"ticks\":\"\"}}}],\"bar\":[{\"error_x\":{\"color\":\"#2a3f5f\"},\"error_y\":{\"color\":\"#2a3f5f\"},\"marker\":{\"line\":{\"color\":\"#E5ECF6\",\"width\":0.5},\"pattern\":{\"fillmode\":\"overlay\",\"size\":10,\"solidity\":0.2}},\"type\":\"bar\"}],\"scattergeo\":[{\"type\":\"scattergeo\",\"marker\":{\"colorbar\":{\"outlinewidth\":0,\"ticks\":\"\"}}}],\"scatterpolar\":[{\"type\":\"scatterpolar\",\"marker\":{\"colorbar\":{\"outlinewidth\":0,\"ticks\":\"\"}}}],\"histogram\":[{\"marker\":{\"pattern\":{\"fillmode\":\"overlay\",\"size\":10,\"solidity\":0.2}},\"type\":\"histogram\"}],\"scattergl\":[{\"type\":\"scattergl\",\"marker\":{\"colorbar\":{\"outlinewidth\":0,\"ticks\":\"\"}}}],\"scatter3d\":[{\"type\":\"scatter3d\",\"line\":{\"colorbar\":{\"outlinewidth\":0,\"ticks\":\"\"}},\"marker\":{\"colorbar\":{\"outlinewidth\":0,\"ticks\":\"\"}}}],\"scattermapbox\":[{\"type\":\"scattermapbox\",\"marker\":{\"colorbar\":{\"outlinewidth\":0,\"ticks\":\"\"}}}],\"scatterternary\":[{\"type\":\"scatterternary\",\"marker\":{\"colorbar\":{\"outlinewidth\":0,\"ticks\":\"\"}}}],\"scattercarpet\":[{\"type\":\"scattercarpet\",\"marker\":{\"colorbar\":{\"outlinewidth\":0,\"ticks\":\"\"}}}],\"carpet\":[{\"aaxis\":{\"endlinecolor\":\"#2a3f5f\",\"gridcolor\":\"white\",\"linecolor\":\"white\",\"minorgridcolor\":\"white\",\"startlinecolor\":\"#2a3f5f\"},\"baxis\":{\"endlinecolor\":\"#2a3f5f\",\"gridcolor\":\"white\",\"linecolor\":\"white\",\"minorgridcolor\":\"white\",\"startlinecolor\":\"#2a3f5f\"},\"type\":\"carpet\"}],\"table\":[{\"cells\":{\"fill\":{\"color\":\"#EBF0F8\"},\"line\":{\"color\":\"white\"}},\"header\":{\"fill\":{\"color\":\"#C8D4E3\"},\"line\":{\"color\":\"white\"}},\"type\":\"table\"}],\"barpolar\":[{\"marker\":{\"line\":{\"color\":\"#E5ECF6\",\"width\":0.5},\"pattern\":{\"fillmode\":\"overlay\",\"size\":10,\"solidity\":0.2}},\"type\":\"barpolar\"}],\"pie\":[{\"automargin\":true,\"type\":\"pie\"}]},\"layout\":{\"autotypenumbers\":\"strict\",\"colorway\":[\"#636efa\",\"#EF553B\",\"#00cc96\",\"#ab63fa\",\"#FFA15A\",\"#19d3f3\",\"#FF6692\",\"#B6E880\",\"#FF97FF\",\"#FECB52\"],\"font\":{\"color\":\"#2a3f5f\"},\"hovermode\":\"closest\",\"hoverlabel\":{\"align\":\"left\"},\"paper_bgcolor\":\"white\",\"plot_bgcolor\":\"#E5ECF6\",\"polar\":{\"bgcolor\":\"#E5ECF6\",\"angularaxis\":{\"gridcolor\":\"white\",\"linecolor\":\"white\",\"ticks\":\"\"},\"radialaxis\":{\"gridcolor\":\"white\",\"linecolor\":\"white\",\"ticks\":\"\"}},\"ternary\":{\"bgcolor\":\"#E5ECF6\",\"aaxis\":{\"gridcolor\":\"white\",\"linecolor\":\"white\",\"ticks\":\"\"},\"baxis\":{\"gridcolor\":\"white\",\"linecolor\":\"white\",\"ticks\":\"\"},\"caxis\":{\"gridcolor\":\"white\",\"linecolor\":\"white\",\"ticks\":\"\"}},\"coloraxis\":{\"colorbar\":{\"outlinewidth\":0,\"ticks\":\"\"}},\"colorscale\":{\"sequential\":[[0.0,\"#0d0887\"],[0.1111111111111111,\"#46039f\"],[0.2222222222222222,\"#7201a8\"],[0.3333333333333333,\"#9c179e\"],[0.4444444444444444,\"#bd3786\"],[0.5555555555555556,\"#d8576b\"],[0.6666666666666666,\"#ed7953\"],[0.7777777777777778,\"#fb9f3a\"],[0.8888888888888888,\"#fdca26\"],[1.0,\"#f0f921\"]],\"sequentialminus\":[[0.0,\"#0d0887\"],[0.1111111111111111,\"#46039f\"],[0.2222222222222222,\"#7201a8\"],[0.3333333333333333,\"#9c179e\"],[0.4444444444444444,\"#bd3786\"],[0.5555555555555556,\"#d8576b\"],[0.6666666666666666,\"#ed7953\"],[0.7777777777777778,\"#fb9f3a\"],[0.8888888888888888,\"#fdca26\"],[1.0,\"#f0f921\"]],\"diverging\":[[0,\"#8e0152\"],[0.1,\"#c51b7d\"],[0.2,\"#de77ae\"],[0.3,\"#f1b6da\"],[0.4,\"#fde0ef\"],[0.5,\"#f7f7f7\"],[0.6,\"#e6f5d0\"],[0.7,\"#b8e186\"],[0.8,\"#7fbc41\"],[0.9,\"#4d9221\"],[1,\"#276419\"]]},\"xaxis\":{\"gridcolor\":\"white\",\"linecolor\":\"white\",\"ticks\":\"\",\"title\":{\"standoff\":15},\"zerolinecolor\":\"white\",\"automargin\":true,\"zerolinewidth\":2},\"yaxis\":{\"gridcolor\":\"white\",\"linecolor\":\"white\",\"ticks\":\"\",\"title\":{\"standoff\":15},\"zerolinecolor\":\"white\",\"automargin\":true,\"zerolinewidth\":2},\"scene\":{\"xaxis\":{\"backgroundcolor\":\"#E5ECF6\",\"gridcolor\":\"white\",\"linecolor\":\"white\",\"showbackground\":true,\"ticks\":\"\",\"zerolinecolor\":\"white\",\"gridwidth\":2},\"yaxis\":{\"backgroundcolor\":\"#E5ECF6\",\"gridcolor\":\"white\",\"linecolor\":\"white\",\"showbackground\":true,\"ticks\":\"\",\"zerolinecolor\":\"white\",\"gridwidth\":2},\"zaxis\":{\"backgroundcolor\":\"#E5ECF6\",\"gridcolor\":\"white\",\"linecolor\":\"white\",\"showbackground\":true,\"ticks\":\"\",\"zerolinecolor\":\"white\",\"gridwidth\":2}},\"shapedefaults\":{\"line\":{\"color\":\"#2a3f5f\"}},\"annotationdefaults\":{\"arrowcolor\":\"#2a3f5f\",\"arrowhead\":0,\"arrowwidth\":1},\"geo\":{\"bgcolor\":\"white\",\"landcolor\":\"#E5ECF6\",\"subunitcolor\":\"white\",\"showland\":true,\"showlakes\":true,\"lakecolor\":\"white\"},\"title\":{\"x\":0.05},\"mapbox\":{\"style\":\"light\"}}},\"legend\":{\"tracegroupgap\":0},\"title\":{\"text\":\"Distribution of Classes\"}},                        {\"responsive\": true}                    ).then(function(){\n",
              "                            \n",
              "var gd = document.getElementById('fe173335-9a9e-4842-b872-8dfb8e930a43');\n",
              "var x = new MutationObserver(function (mutations, observer) {{\n",
              "        var display = window.getComputedStyle(gd).display;\n",
              "        if (!display || display === 'none') {{\n",
              "            console.log([gd, 'removed!']);\n",
              "            Plotly.purge(gd);\n",
              "            observer.disconnect();\n",
              "        }}\n",
              "}});\n",
              "\n",
              "// Listen for the removal of the full notebook cells\n",
              "var notebookContainer = gd.closest('#notebook-container');\n",
              "if (notebookContainer) {{\n",
              "    x.observe(notebookContainer, {childList: true});\n",
              "}}\n",
              "\n",
              "// Listen for the clearing of the current output cell\n",
              "var outputEl = gd.closest('.output');\n",
              "if (outputEl) {{\n",
              "    x.observe(outputEl, {childList: true});\n",
              "}}\n",
              "\n",
              "                        })                };                            </script>        </div>\n",
              "</body>\n",
              "</html>"
            ]
          },
          "metadata": {}
        }
      ],
      "source": [
        "fig = px.pie(df, names='type', title='Distribution of Classes')\n",
        "fig.show()"
      ]
    },
    {
      "cell_type": "code",
      "execution_count": 23,
      "metadata": {
        "colab": {
          "base_uri": "https://localhost:8080/",
          "height": 542
        },
        "id": "KE0eyT_Iol-k",
        "outputId": "31df2ee9-57d7-4576-d4d4-d68c1728c954"
      },
      "outputs": [
        {
          "output_type": "display_data",
          "data": {
            "text/html": [
              "<html>\n",
              "<head><meta charset=\"utf-8\" /></head>\n",
              "<body>\n",
              "    <div>            <script src=\"https://cdnjs.cloudflare.com/ajax/libs/mathjax/2.7.5/MathJax.js?config=TeX-AMS-MML_SVG\"></script><script type=\"text/javascript\">if (window.MathJax && window.MathJax.Hub && window.MathJax.Hub.Config) {window.MathJax.Hub.Config({SVG: {font: \"STIX-Web\"}});}</script>                <script type=\"text/javascript\">window.PlotlyConfig = {MathJaxConfig: 'local'};</script>\n",
              "        <script charset=\"utf-8\" src=\"https://cdn.plot.ly/plotly-2.24.1.min.js\"></script>                <div id=\"4a6b6dbb-e4ce-49e0-b91e-5770e9fdf6d6\" class=\"plotly-graph-div\" style=\"height:525px; width:100%;\"></div>            <script type=\"text/javascript\">                                    window.PLOTLYENV=window.PLOTLYENV || {};                                    if (document.getElementById(\"4a6b6dbb-e4ce-49e0-b91e-5770e9fdf6d6\")) {                    Plotly.newPlot(                        \"4a6b6dbb-e4ce-49e0-b91e-5770e9fdf6d6\",                        [{\"labels\":[\"extroversion\",\"introvertion\"],\"values\":[6676,1999],\"type\":\"pie\"}],                        {\"template\":{\"data\":{\"histogram2dcontour\":[{\"type\":\"histogram2dcontour\",\"colorbar\":{\"outlinewidth\":0,\"ticks\":\"\"},\"colorscale\":[[0.0,\"#0d0887\"],[0.1111111111111111,\"#46039f\"],[0.2222222222222222,\"#7201a8\"],[0.3333333333333333,\"#9c179e\"],[0.4444444444444444,\"#bd3786\"],[0.5555555555555556,\"#d8576b\"],[0.6666666666666666,\"#ed7953\"],[0.7777777777777778,\"#fb9f3a\"],[0.8888888888888888,\"#fdca26\"],[1.0,\"#f0f921\"]]}],\"choropleth\":[{\"type\":\"choropleth\",\"colorbar\":{\"outlinewidth\":0,\"ticks\":\"\"}}],\"histogram2d\":[{\"type\":\"histogram2d\",\"colorbar\":{\"outlinewidth\":0,\"ticks\":\"\"},\"colorscale\":[[0.0,\"#0d0887\"],[0.1111111111111111,\"#46039f\"],[0.2222222222222222,\"#7201a8\"],[0.3333333333333333,\"#9c179e\"],[0.4444444444444444,\"#bd3786\"],[0.5555555555555556,\"#d8576b\"],[0.6666666666666666,\"#ed7953\"],[0.7777777777777778,\"#fb9f3a\"],[0.8888888888888888,\"#fdca26\"],[1.0,\"#f0f921\"]]}],\"heatmap\":[{\"type\":\"heatmap\",\"colorbar\":{\"outlinewidth\":0,\"ticks\":\"\"},\"colorscale\":[[0.0,\"#0d0887\"],[0.1111111111111111,\"#46039f\"],[0.2222222222222222,\"#7201a8\"],[0.3333333333333333,\"#9c179e\"],[0.4444444444444444,\"#bd3786\"],[0.5555555555555556,\"#d8576b\"],[0.6666666666666666,\"#ed7953\"],[0.7777777777777778,\"#fb9f3a\"],[0.8888888888888888,\"#fdca26\"],[1.0,\"#f0f921\"]]}],\"heatmapgl\":[{\"type\":\"heatmapgl\",\"colorbar\":{\"outlinewidth\":0,\"ticks\":\"\"},\"colorscale\":[[0.0,\"#0d0887\"],[0.1111111111111111,\"#46039f\"],[0.2222222222222222,\"#7201a8\"],[0.3333333333333333,\"#9c179e\"],[0.4444444444444444,\"#bd3786\"],[0.5555555555555556,\"#d8576b\"],[0.6666666666666666,\"#ed7953\"],[0.7777777777777778,\"#fb9f3a\"],[0.8888888888888888,\"#fdca26\"],[1.0,\"#f0f921\"]]}],\"contourcarpet\":[{\"type\":\"contourcarpet\",\"colorbar\":{\"outlinewidth\":0,\"ticks\":\"\"}}],\"contour\":[{\"type\":\"contour\",\"colorbar\":{\"outlinewidth\":0,\"ticks\":\"\"},\"colorscale\":[[0.0,\"#0d0887\"],[0.1111111111111111,\"#46039f\"],[0.2222222222222222,\"#7201a8\"],[0.3333333333333333,\"#9c179e\"],[0.4444444444444444,\"#bd3786\"],[0.5555555555555556,\"#d8576b\"],[0.6666666666666666,\"#ed7953\"],[0.7777777777777778,\"#fb9f3a\"],[0.8888888888888888,\"#fdca26\"],[1.0,\"#f0f921\"]]}],\"surface\":[{\"type\":\"surface\",\"colorbar\":{\"outlinewidth\":0,\"ticks\":\"\"},\"colorscale\":[[0.0,\"#0d0887\"],[0.1111111111111111,\"#46039f\"],[0.2222222222222222,\"#7201a8\"],[0.3333333333333333,\"#9c179e\"],[0.4444444444444444,\"#bd3786\"],[0.5555555555555556,\"#d8576b\"],[0.6666666666666666,\"#ed7953\"],[0.7777777777777778,\"#fb9f3a\"],[0.8888888888888888,\"#fdca26\"],[1.0,\"#f0f921\"]]}],\"mesh3d\":[{\"type\":\"mesh3d\",\"colorbar\":{\"outlinewidth\":0,\"ticks\":\"\"}}],\"scatter\":[{\"fillpattern\":{\"fillmode\":\"overlay\",\"size\":10,\"solidity\":0.2},\"type\":\"scatter\"}],\"parcoords\":[{\"type\":\"parcoords\",\"line\":{\"colorbar\":{\"outlinewidth\":0,\"ticks\":\"\"}}}],\"scatterpolargl\":[{\"type\":\"scatterpolargl\",\"marker\":{\"colorbar\":{\"outlinewidth\":0,\"ticks\":\"\"}}}],\"bar\":[{\"error_x\":{\"color\":\"#2a3f5f\"},\"error_y\":{\"color\":\"#2a3f5f\"},\"marker\":{\"line\":{\"color\":\"#E5ECF6\",\"width\":0.5},\"pattern\":{\"fillmode\":\"overlay\",\"size\":10,\"solidity\":0.2}},\"type\":\"bar\"}],\"scattergeo\":[{\"type\":\"scattergeo\",\"marker\":{\"colorbar\":{\"outlinewidth\":0,\"ticks\":\"\"}}}],\"scatterpolar\":[{\"type\":\"scatterpolar\",\"marker\":{\"colorbar\":{\"outlinewidth\":0,\"ticks\":\"\"}}}],\"histogram\":[{\"marker\":{\"pattern\":{\"fillmode\":\"overlay\",\"size\":10,\"solidity\":0.2}},\"type\":\"histogram\"}],\"scattergl\":[{\"type\":\"scattergl\",\"marker\":{\"colorbar\":{\"outlinewidth\":0,\"ticks\":\"\"}}}],\"scatter3d\":[{\"type\":\"scatter3d\",\"line\":{\"colorbar\":{\"outlinewidth\":0,\"ticks\":\"\"}},\"marker\":{\"colorbar\":{\"outlinewidth\":0,\"ticks\":\"\"}}}],\"scattermapbox\":[{\"type\":\"scattermapbox\",\"marker\":{\"colorbar\":{\"outlinewidth\":0,\"ticks\":\"\"}}}],\"scatterternary\":[{\"type\":\"scatterternary\",\"marker\":{\"colorbar\":{\"outlinewidth\":0,\"ticks\":\"\"}}}],\"scattercarpet\":[{\"type\":\"scattercarpet\",\"marker\":{\"colorbar\":{\"outlinewidth\":0,\"ticks\":\"\"}}}],\"carpet\":[{\"aaxis\":{\"endlinecolor\":\"#2a3f5f\",\"gridcolor\":\"white\",\"linecolor\":\"white\",\"minorgridcolor\":\"white\",\"startlinecolor\":\"#2a3f5f\"},\"baxis\":{\"endlinecolor\":\"#2a3f5f\",\"gridcolor\":\"white\",\"linecolor\":\"white\",\"minorgridcolor\":\"white\",\"startlinecolor\":\"#2a3f5f\"},\"type\":\"carpet\"}],\"table\":[{\"cells\":{\"fill\":{\"color\":\"#EBF0F8\"},\"line\":{\"color\":\"white\"}},\"header\":{\"fill\":{\"color\":\"#C8D4E3\"},\"line\":{\"color\":\"white\"}},\"type\":\"table\"}],\"barpolar\":[{\"marker\":{\"line\":{\"color\":\"#E5ECF6\",\"width\":0.5},\"pattern\":{\"fillmode\":\"overlay\",\"size\":10,\"solidity\":0.2}},\"type\":\"barpolar\"}],\"pie\":[{\"automargin\":true,\"type\":\"pie\"}]},\"layout\":{\"autotypenumbers\":\"strict\",\"colorway\":[\"#636efa\",\"#EF553B\",\"#00cc96\",\"#ab63fa\",\"#FFA15A\",\"#19d3f3\",\"#FF6692\",\"#B6E880\",\"#FF97FF\",\"#FECB52\"],\"font\":{\"color\":\"#2a3f5f\"},\"hovermode\":\"closest\",\"hoverlabel\":{\"align\":\"left\"},\"paper_bgcolor\":\"white\",\"plot_bgcolor\":\"#E5ECF6\",\"polar\":{\"bgcolor\":\"#E5ECF6\",\"angularaxis\":{\"gridcolor\":\"white\",\"linecolor\":\"white\",\"ticks\":\"\"},\"radialaxis\":{\"gridcolor\":\"white\",\"linecolor\":\"white\",\"ticks\":\"\"}},\"ternary\":{\"bgcolor\":\"#E5ECF6\",\"aaxis\":{\"gridcolor\":\"white\",\"linecolor\":\"white\",\"ticks\":\"\"},\"baxis\":{\"gridcolor\":\"white\",\"linecolor\":\"white\",\"ticks\":\"\"},\"caxis\":{\"gridcolor\":\"white\",\"linecolor\":\"white\",\"ticks\":\"\"}},\"coloraxis\":{\"colorbar\":{\"outlinewidth\":0,\"ticks\":\"\"}},\"colorscale\":{\"sequential\":[[0.0,\"#0d0887\"],[0.1111111111111111,\"#46039f\"],[0.2222222222222222,\"#7201a8\"],[0.3333333333333333,\"#9c179e\"],[0.4444444444444444,\"#bd3786\"],[0.5555555555555556,\"#d8576b\"],[0.6666666666666666,\"#ed7953\"],[0.7777777777777778,\"#fb9f3a\"],[0.8888888888888888,\"#fdca26\"],[1.0,\"#f0f921\"]],\"sequentialminus\":[[0.0,\"#0d0887\"],[0.1111111111111111,\"#46039f\"],[0.2222222222222222,\"#7201a8\"],[0.3333333333333333,\"#9c179e\"],[0.4444444444444444,\"#bd3786\"],[0.5555555555555556,\"#d8576b\"],[0.6666666666666666,\"#ed7953\"],[0.7777777777777778,\"#fb9f3a\"],[0.8888888888888888,\"#fdca26\"],[1.0,\"#f0f921\"]],\"diverging\":[[0,\"#8e0152\"],[0.1,\"#c51b7d\"],[0.2,\"#de77ae\"],[0.3,\"#f1b6da\"],[0.4,\"#fde0ef\"],[0.5,\"#f7f7f7\"],[0.6,\"#e6f5d0\"],[0.7,\"#b8e186\"],[0.8,\"#7fbc41\"],[0.9,\"#4d9221\"],[1,\"#276419\"]]},\"xaxis\":{\"gridcolor\":\"white\",\"linecolor\":\"white\",\"ticks\":\"\",\"title\":{\"standoff\":15},\"zerolinecolor\":\"white\",\"automargin\":true,\"zerolinewidth\":2},\"yaxis\":{\"gridcolor\":\"white\",\"linecolor\":\"white\",\"ticks\":\"\",\"title\":{\"standoff\":15},\"zerolinecolor\":\"white\",\"automargin\":true,\"zerolinewidth\":2},\"scene\":{\"xaxis\":{\"backgroundcolor\":\"#E5ECF6\",\"gridcolor\":\"white\",\"linecolor\":\"white\",\"showbackground\":true,\"ticks\":\"\",\"zerolinecolor\":\"white\",\"gridwidth\":2},\"yaxis\":{\"backgroundcolor\":\"#E5ECF6\",\"gridcolor\":\"white\",\"linecolor\":\"white\",\"showbackground\":true,\"ticks\":\"\",\"zerolinecolor\":\"white\",\"gridwidth\":2},\"zaxis\":{\"backgroundcolor\":\"#E5ECF6\",\"gridcolor\":\"white\",\"linecolor\":\"white\",\"showbackground\":true,\"ticks\":\"\",\"zerolinecolor\":\"white\",\"gridwidth\":2}},\"shapedefaults\":{\"line\":{\"color\":\"#2a3f5f\"}},\"annotationdefaults\":{\"arrowcolor\":\"#2a3f5f\",\"arrowhead\":0,\"arrowwidth\":1},\"geo\":{\"bgcolor\":\"white\",\"landcolor\":\"#E5ECF6\",\"subunitcolor\":\"white\",\"showland\":true,\"showlakes\":true,\"lakecolor\":\"white\"},\"title\":{\"x\":0.05},\"mapbox\":{\"style\":\"light\"}}},\"title\":{\"text\":\"introvertion (0) \\u2013 extroversion (1)\"}},                        {\"responsive\": true}                    ).then(function(){\n",
              "                            \n",
              "var gd = document.getElementById('4a6b6dbb-e4ce-49e0-b91e-5770e9fdf6d6');\n",
              "var x = new MutationObserver(function (mutations, observer) {{\n",
              "        var display = window.getComputedStyle(gd).display;\n",
              "        if (!display || display === 'none') {{\n",
              "            console.log([gd, 'removed!']);\n",
              "            Plotly.purge(gd);\n",
              "            observer.disconnect();\n",
              "        }}\n",
              "}});\n",
              "\n",
              "// Listen for the removal of the full notebook cells\n",
              "var notebookContainer = gd.closest('#notebook-container');\n",
              "if (notebookContainer) {{\n",
              "    x.observe(notebookContainer, {childList: true});\n",
              "}}\n",
              "\n",
              "// Listen for the clearing of the current output cell\n",
              "var outputEl = gd.closest('.output');\n",
              "if (outputEl) {{\n",
              "    x.observe(outputEl, {childList: true});\n",
              "}}\n",
              "\n",
              "                        })                };                            </script>        </div>\n",
              "</body>\n",
              "</html>"
            ]
          },
          "metadata": {}
        }
      ],
      "source": [
        "distribute_plot(df, 'introvertion', 'extroversion', 'E')"
      ]
    },
    {
      "cell_type": "code",
      "execution_count": 24,
      "metadata": {
        "colab": {
          "base_uri": "https://localhost:8080/",
          "height": 542
        },
        "id": "M3V92hxdol-k",
        "outputId": "e7dc314f-9dd3-408e-c58c-3d69a469165a"
      },
      "outputs": [
        {
          "output_type": "display_data",
          "data": {
            "text/html": [
              "<html>\n",
              "<head><meta charset=\"utf-8\" /></head>\n",
              "<body>\n",
              "    <div>            <script src=\"https://cdnjs.cloudflare.com/ajax/libs/mathjax/2.7.5/MathJax.js?config=TeX-AMS-MML_SVG\"></script><script type=\"text/javascript\">if (window.MathJax && window.MathJax.Hub && window.MathJax.Hub.Config) {window.MathJax.Hub.Config({SVG: {font: \"STIX-Web\"}});}</script>                <script type=\"text/javascript\">window.PlotlyConfig = {MathJaxConfig: 'local'};</script>\n",
              "        <script charset=\"utf-8\" src=\"https://cdn.plot.ly/plotly-2.24.1.min.js\"></script>                <div id=\"6a634889-0053-4497-90ff-f22c923ee9d7\" class=\"plotly-graph-div\" style=\"height:525px; width:100%;\"></div>            <script type=\"text/javascript\">                                    window.PLOTLYENV=window.PLOTLYENV || {};                                    if (document.getElementById(\"6a634889-0053-4497-90ff-f22c923ee9d7\")) {                    Plotly.newPlot(                        \"6a634889-0053-4497-90ff-f22c923ee9d7\",                        [{\"labels\":[\"sensing\",\"intuition\"],\"values\":[7478,1197],\"type\":\"pie\"}],                        {\"template\":{\"data\":{\"histogram2dcontour\":[{\"type\":\"histogram2dcontour\",\"colorbar\":{\"outlinewidth\":0,\"ticks\":\"\"},\"colorscale\":[[0.0,\"#0d0887\"],[0.1111111111111111,\"#46039f\"],[0.2222222222222222,\"#7201a8\"],[0.3333333333333333,\"#9c179e\"],[0.4444444444444444,\"#bd3786\"],[0.5555555555555556,\"#d8576b\"],[0.6666666666666666,\"#ed7953\"],[0.7777777777777778,\"#fb9f3a\"],[0.8888888888888888,\"#fdca26\"],[1.0,\"#f0f921\"]]}],\"choropleth\":[{\"type\":\"choropleth\",\"colorbar\":{\"outlinewidth\":0,\"ticks\":\"\"}}],\"histogram2d\":[{\"type\":\"histogram2d\",\"colorbar\":{\"outlinewidth\":0,\"ticks\":\"\"},\"colorscale\":[[0.0,\"#0d0887\"],[0.1111111111111111,\"#46039f\"],[0.2222222222222222,\"#7201a8\"],[0.3333333333333333,\"#9c179e\"],[0.4444444444444444,\"#bd3786\"],[0.5555555555555556,\"#d8576b\"],[0.6666666666666666,\"#ed7953\"],[0.7777777777777778,\"#fb9f3a\"],[0.8888888888888888,\"#fdca26\"],[1.0,\"#f0f921\"]]}],\"heatmap\":[{\"type\":\"heatmap\",\"colorbar\":{\"outlinewidth\":0,\"ticks\":\"\"},\"colorscale\":[[0.0,\"#0d0887\"],[0.1111111111111111,\"#46039f\"],[0.2222222222222222,\"#7201a8\"],[0.3333333333333333,\"#9c179e\"],[0.4444444444444444,\"#bd3786\"],[0.5555555555555556,\"#d8576b\"],[0.6666666666666666,\"#ed7953\"],[0.7777777777777778,\"#fb9f3a\"],[0.8888888888888888,\"#fdca26\"],[1.0,\"#f0f921\"]]}],\"heatmapgl\":[{\"type\":\"heatmapgl\",\"colorbar\":{\"outlinewidth\":0,\"ticks\":\"\"},\"colorscale\":[[0.0,\"#0d0887\"],[0.1111111111111111,\"#46039f\"],[0.2222222222222222,\"#7201a8\"],[0.3333333333333333,\"#9c179e\"],[0.4444444444444444,\"#bd3786\"],[0.5555555555555556,\"#d8576b\"],[0.6666666666666666,\"#ed7953\"],[0.7777777777777778,\"#fb9f3a\"],[0.8888888888888888,\"#fdca26\"],[1.0,\"#f0f921\"]]}],\"contourcarpet\":[{\"type\":\"contourcarpet\",\"colorbar\":{\"outlinewidth\":0,\"ticks\":\"\"}}],\"contour\":[{\"type\":\"contour\",\"colorbar\":{\"outlinewidth\":0,\"ticks\":\"\"},\"colorscale\":[[0.0,\"#0d0887\"],[0.1111111111111111,\"#46039f\"],[0.2222222222222222,\"#7201a8\"],[0.3333333333333333,\"#9c179e\"],[0.4444444444444444,\"#bd3786\"],[0.5555555555555556,\"#d8576b\"],[0.6666666666666666,\"#ed7953\"],[0.7777777777777778,\"#fb9f3a\"],[0.8888888888888888,\"#fdca26\"],[1.0,\"#f0f921\"]]}],\"surface\":[{\"type\":\"surface\",\"colorbar\":{\"outlinewidth\":0,\"ticks\":\"\"},\"colorscale\":[[0.0,\"#0d0887\"],[0.1111111111111111,\"#46039f\"],[0.2222222222222222,\"#7201a8\"],[0.3333333333333333,\"#9c179e\"],[0.4444444444444444,\"#bd3786\"],[0.5555555555555556,\"#d8576b\"],[0.6666666666666666,\"#ed7953\"],[0.7777777777777778,\"#fb9f3a\"],[0.8888888888888888,\"#fdca26\"],[1.0,\"#f0f921\"]]}],\"mesh3d\":[{\"type\":\"mesh3d\",\"colorbar\":{\"outlinewidth\":0,\"ticks\":\"\"}}],\"scatter\":[{\"fillpattern\":{\"fillmode\":\"overlay\",\"size\":10,\"solidity\":0.2},\"type\":\"scatter\"}],\"parcoords\":[{\"type\":\"parcoords\",\"line\":{\"colorbar\":{\"outlinewidth\":0,\"ticks\":\"\"}}}],\"scatterpolargl\":[{\"type\":\"scatterpolargl\",\"marker\":{\"colorbar\":{\"outlinewidth\":0,\"ticks\":\"\"}}}],\"bar\":[{\"error_x\":{\"color\":\"#2a3f5f\"},\"error_y\":{\"color\":\"#2a3f5f\"},\"marker\":{\"line\":{\"color\":\"#E5ECF6\",\"width\":0.5},\"pattern\":{\"fillmode\":\"overlay\",\"size\":10,\"solidity\":0.2}},\"type\":\"bar\"}],\"scattergeo\":[{\"type\":\"scattergeo\",\"marker\":{\"colorbar\":{\"outlinewidth\":0,\"ticks\":\"\"}}}],\"scatterpolar\":[{\"type\":\"scatterpolar\",\"marker\":{\"colorbar\":{\"outlinewidth\":0,\"ticks\":\"\"}}}],\"histogram\":[{\"marker\":{\"pattern\":{\"fillmode\":\"overlay\",\"size\":10,\"solidity\":0.2}},\"type\":\"histogram\"}],\"scattergl\":[{\"type\":\"scattergl\",\"marker\":{\"colorbar\":{\"outlinewidth\":0,\"ticks\":\"\"}}}],\"scatter3d\":[{\"type\":\"scatter3d\",\"line\":{\"colorbar\":{\"outlinewidth\":0,\"ticks\":\"\"}},\"marker\":{\"colorbar\":{\"outlinewidth\":0,\"ticks\":\"\"}}}],\"scattermapbox\":[{\"type\":\"scattermapbox\",\"marker\":{\"colorbar\":{\"outlinewidth\":0,\"ticks\":\"\"}}}],\"scatterternary\":[{\"type\":\"scatterternary\",\"marker\":{\"colorbar\":{\"outlinewidth\":0,\"ticks\":\"\"}}}],\"scattercarpet\":[{\"type\":\"scattercarpet\",\"marker\":{\"colorbar\":{\"outlinewidth\":0,\"ticks\":\"\"}}}],\"carpet\":[{\"aaxis\":{\"endlinecolor\":\"#2a3f5f\",\"gridcolor\":\"white\",\"linecolor\":\"white\",\"minorgridcolor\":\"white\",\"startlinecolor\":\"#2a3f5f\"},\"baxis\":{\"endlinecolor\":\"#2a3f5f\",\"gridcolor\":\"white\",\"linecolor\":\"white\",\"minorgridcolor\":\"white\",\"startlinecolor\":\"#2a3f5f\"},\"type\":\"carpet\"}],\"table\":[{\"cells\":{\"fill\":{\"color\":\"#EBF0F8\"},\"line\":{\"color\":\"white\"}},\"header\":{\"fill\":{\"color\":\"#C8D4E3\"},\"line\":{\"color\":\"white\"}},\"type\":\"table\"}],\"barpolar\":[{\"marker\":{\"line\":{\"color\":\"#E5ECF6\",\"width\":0.5},\"pattern\":{\"fillmode\":\"overlay\",\"size\":10,\"solidity\":0.2}},\"type\":\"barpolar\"}],\"pie\":[{\"automargin\":true,\"type\":\"pie\"}]},\"layout\":{\"autotypenumbers\":\"strict\",\"colorway\":[\"#636efa\",\"#EF553B\",\"#00cc96\",\"#ab63fa\",\"#FFA15A\",\"#19d3f3\",\"#FF6692\",\"#B6E880\",\"#FF97FF\",\"#FECB52\"],\"font\":{\"color\":\"#2a3f5f\"},\"hovermode\":\"closest\",\"hoverlabel\":{\"align\":\"left\"},\"paper_bgcolor\":\"white\",\"plot_bgcolor\":\"#E5ECF6\",\"polar\":{\"bgcolor\":\"#E5ECF6\",\"angularaxis\":{\"gridcolor\":\"white\",\"linecolor\":\"white\",\"ticks\":\"\"},\"radialaxis\":{\"gridcolor\":\"white\",\"linecolor\":\"white\",\"ticks\":\"\"}},\"ternary\":{\"bgcolor\":\"#E5ECF6\",\"aaxis\":{\"gridcolor\":\"white\",\"linecolor\":\"white\",\"ticks\":\"\"},\"baxis\":{\"gridcolor\":\"white\",\"linecolor\":\"white\",\"ticks\":\"\"},\"caxis\":{\"gridcolor\":\"white\",\"linecolor\":\"white\",\"ticks\":\"\"}},\"coloraxis\":{\"colorbar\":{\"outlinewidth\":0,\"ticks\":\"\"}},\"colorscale\":{\"sequential\":[[0.0,\"#0d0887\"],[0.1111111111111111,\"#46039f\"],[0.2222222222222222,\"#7201a8\"],[0.3333333333333333,\"#9c179e\"],[0.4444444444444444,\"#bd3786\"],[0.5555555555555556,\"#d8576b\"],[0.6666666666666666,\"#ed7953\"],[0.7777777777777778,\"#fb9f3a\"],[0.8888888888888888,\"#fdca26\"],[1.0,\"#f0f921\"]],\"sequentialminus\":[[0.0,\"#0d0887\"],[0.1111111111111111,\"#46039f\"],[0.2222222222222222,\"#7201a8\"],[0.3333333333333333,\"#9c179e\"],[0.4444444444444444,\"#bd3786\"],[0.5555555555555556,\"#d8576b\"],[0.6666666666666666,\"#ed7953\"],[0.7777777777777778,\"#fb9f3a\"],[0.8888888888888888,\"#fdca26\"],[1.0,\"#f0f921\"]],\"diverging\":[[0,\"#8e0152\"],[0.1,\"#c51b7d\"],[0.2,\"#de77ae\"],[0.3,\"#f1b6da\"],[0.4,\"#fde0ef\"],[0.5,\"#f7f7f7\"],[0.6,\"#e6f5d0\"],[0.7,\"#b8e186\"],[0.8,\"#7fbc41\"],[0.9,\"#4d9221\"],[1,\"#276419\"]]},\"xaxis\":{\"gridcolor\":\"white\",\"linecolor\":\"white\",\"ticks\":\"\",\"title\":{\"standoff\":15},\"zerolinecolor\":\"white\",\"automargin\":true,\"zerolinewidth\":2},\"yaxis\":{\"gridcolor\":\"white\",\"linecolor\":\"white\",\"ticks\":\"\",\"title\":{\"standoff\":15},\"zerolinecolor\":\"white\",\"automargin\":true,\"zerolinewidth\":2},\"scene\":{\"xaxis\":{\"backgroundcolor\":\"#E5ECF6\",\"gridcolor\":\"white\",\"linecolor\":\"white\",\"showbackground\":true,\"ticks\":\"\",\"zerolinecolor\":\"white\",\"gridwidth\":2},\"yaxis\":{\"backgroundcolor\":\"#E5ECF6\",\"gridcolor\":\"white\",\"linecolor\":\"white\",\"showbackground\":true,\"ticks\":\"\",\"zerolinecolor\":\"white\",\"gridwidth\":2},\"zaxis\":{\"backgroundcolor\":\"#E5ECF6\",\"gridcolor\":\"white\",\"linecolor\":\"white\",\"showbackground\":true,\"ticks\":\"\",\"zerolinecolor\":\"white\",\"gridwidth\":2}},\"shapedefaults\":{\"line\":{\"color\":\"#2a3f5f\"}},\"annotationdefaults\":{\"arrowcolor\":\"#2a3f5f\",\"arrowhead\":0,\"arrowwidth\":1},\"geo\":{\"bgcolor\":\"white\",\"landcolor\":\"#E5ECF6\",\"subunitcolor\":\"white\",\"showland\":true,\"showlakes\":true,\"lakecolor\":\"white\"},\"title\":{\"x\":0.05},\"mapbox\":{\"style\":\"light\"}}},\"title\":{\"text\":\"intuition (0) \\u2013 sensing (1)\"}},                        {\"responsive\": true}                    ).then(function(){\n",
              "                            \n",
              "var gd = document.getElementById('6a634889-0053-4497-90ff-f22c923ee9d7');\n",
              "var x = new MutationObserver(function (mutations, observer) {{\n",
              "        var display = window.getComputedStyle(gd).display;\n",
              "        if (!display || display === 'none') {{\n",
              "            console.log([gd, 'removed!']);\n",
              "            Plotly.purge(gd);\n",
              "            observer.disconnect();\n",
              "        }}\n",
              "}});\n",
              "\n",
              "// Listen for the removal of the full notebook cells\n",
              "var notebookContainer = gd.closest('#notebook-container');\n",
              "if (notebookContainer) {{\n",
              "    x.observe(notebookContainer, {childList: true});\n",
              "}}\n",
              "\n",
              "// Listen for the clearing of the current output cell\n",
              "var outputEl = gd.closest('.output');\n",
              "if (outputEl) {{\n",
              "    x.observe(outputEl, {childList: true});\n",
              "}}\n",
              "\n",
              "                        })                };                            </script>        </div>\n",
              "</body>\n",
              "</html>"
            ]
          },
          "metadata": {}
        }
      ],
      "source": [
        "distribute_plot(df, 'intuition', 'sensing', 'S')"
      ]
    },
    {
      "cell_type": "code",
      "execution_count": 25,
      "metadata": {
        "colab": {
          "base_uri": "https://localhost:8080/",
          "height": 542
        },
        "id": "PWdmSx_zol-l",
        "outputId": "f61d7b9f-9a71-4805-ad9e-4e86507679de"
      },
      "outputs": [
        {
          "output_type": "display_data",
          "data": {
            "text/html": [
              "<html>\n",
              "<head><meta charset=\"utf-8\" /></head>\n",
              "<body>\n",
              "    <div>            <script src=\"https://cdnjs.cloudflare.com/ajax/libs/mathjax/2.7.5/MathJax.js?config=TeX-AMS-MML_SVG\"></script><script type=\"text/javascript\">if (window.MathJax && window.MathJax.Hub && window.MathJax.Hub.Config) {window.MathJax.Hub.Config({SVG: {font: \"STIX-Web\"}});}</script>                <script type=\"text/javascript\">window.PlotlyConfig = {MathJaxConfig: 'local'};</script>\n",
              "        <script charset=\"utf-8\" src=\"https://cdn.plot.ly/plotly-2.24.1.min.js\"></script>                <div id=\"950f66ce-4720-43bc-99af-6505076c2812\" class=\"plotly-graph-div\" style=\"height:525px; width:100%;\"></div>            <script type=\"text/javascript\">                                    window.PLOTLYENV=window.PLOTLYENV || {};                                    if (document.getElementById(\"950f66ce-4720-43bc-99af-6505076c2812\")) {                    Plotly.newPlot(                        \"950f66ce-4720-43bc-99af-6505076c2812\",                        [{\"labels\":[\"feeling\",\"thinking\"],\"values\":[4694,3981],\"type\":\"pie\"}],                        {\"template\":{\"data\":{\"histogram2dcontour\":[{\"type\":\"histogram2dcontour\",\"colorbar\":{\"outlinewidth\":0,\"ticks\":\"\"},\"colorscale\":[[0.0,\"#0d0887\"],[0.1111111111111111,\"#46039f\"],[0.2222222222222222,\"#7201a8\"],[0.3333333333333333,\"#9c179e\"],[0.4444444444444444,\"#bd3786\"],[0.5555555555555556,\"#d8576b\"],[0.6666666666666666,\"#ed7953\"],[0.7777777777777778,\"#fb9f3a\"],[0.8888888888888888,\"#fdca26\"],[1.0,\"#f0f921\"]]}],\"choropleth\":[{\"type\":\"choropleth\",\"colorbar\":{\"outlinewidth\":0,\"ticks\":\"\"}}],\"histogram2d\":[{\"type\":\"histogram2d\",\"colorbar\":{\"outlinewidth\":0,\"ticks\":\"\"},\"colorscale\":[[0.0,\"#0d0887\"],[0.1111111111111111,\"#46039f\"],[0.2222222222222222,\"#7201a8\"],[0.3333333333333333,\"#9c179e\"],[0.4444444444444444,\"#bd3786\"],[0.5555555555555556,\"#d8576b\"],[0.6666666666666666,\"#ed7953\"],[0.7777777777777778,\"#fb9f3a\"],[0.8888888888888888,\"#fdca26\"],[1.0,\"#f0f921\"]]}],\"heatmap\":[{\"type\":\"heatmap\",\"colorbar\":{\"outlinewidth\":0,\"ticks\":\"\"},\"colorscale\":[[0.0,\"#0d0887\"],[0.1111111111111111,\"#46039f\"],[0.2222222222222222,\"#7201a8\"],[0.3333333333333333,\"#9c179e\"],[0.4444444444444444,\"#bd3786\"],[0.5555555555555556,\"#d8576b\"],[0.6666666666666666,\"#ed7953\"],[0.7777777777777778,\"#fb9f3a\"],[0.8888888888888888,\"#fdca26\"],[1.0,\"#f0f921\"]]}],\"heatmapgl\":[{\"type\":\"heatmapgl\",\"colorbar\":{\"outlinewidth\":0,\"ticks\":\"\"},\"colorscale\":[[0.0,\"#0d0887\"],[0.1111111111111111,\"#46039f\"],[0.2222222222222222,\"#7201a8\"],[0.3333333333333333,\"#9c179e\"],[0.4444444444444444,\"#bd3786\"],[0.5555555555555556,\"#d8576b\"],[0.6666666666666666,\"#ed7953\"],[0.7777777777777778,\"#fb9f3a\"],[0.8888888888888888,\"#fdca26\"],[1.0,\"#f0f921\"]]}],\"contourcarpet\":[{\"type\":\"contourcarpet\",\"colorbar\":{\"outlinewidth\":0,\"ticks\":\"\"}}],\"contour\":[{\"type\":\"contour\",\"colorbar\":{\"outlinewidth\":0,\"ticks\":\"\"},\"colorscale\":[[0.0,\"#0d0887\"],[0.1111111111111111,\"#46039f\"],[0.2222222222222222,\"#7201a8\"],[0.3333333333333333,\"#9c179e\"],[0.4444444444444444,\"#bd3786\"],[0.5555555555555556,\"#d8576b\"],[0.6666666666666666,\"#ed7953\"],[0.7777777777777778,\"#fb9f3a\"],[0.8888888888888888,\"#fdca26\"],[1.0,\"#f0f921\"]]}],\"surface\":[{\"type\":\"surface\",\"colorbar\":{\"outlinewidth\":0,\"ticks\":\"\"},\"colorscale\":[[0.0,\"#0d0887\"],[0.1111111111111111,\"#46039f\"],[0.2222222222222222,\"#7201a8\"],[0.3333333333333333,\"#9c179e\"],[0.4444444444444444,\"#bd3786\"],[0.5555555555555556,\"#d8576b\"],[0.6666666666666666,\"#ed7953\"],[0.7777777777777778,\"#fb9f3a\"],[0.8888888888888888,\"#fdca26\"],[1.0,\"#f0f921\"]]}],\"mesh3d\":[{\"type\":\"mesh3d\",\"colorbar\":{\"outlinewidth\":0,\"ticks\":\"\"}}],\"scatter\":[{\"fillpattern\":{\"fillmode\":\"overlay\",\"size\":10,\"solidity\":0.2},\"type\":\"scatter\"}],\"parcoords\":[{\"type\":\"parcoords\",\"line\":{\"colorbar\":{\"outlinewidth\":0,\"ticks\":\"\"}}}],\"scatterpolargl\":[{\"type\":\"scatterpolargl\",\"marker\":{\"colorbar\":{\"outlinewidth\":0,\"ticks\":\"\"}}}],\"bar\":[{\"error_x\":{\"color\":\"#2a3f5f\"},\"error_y\":{\"color\":\"#2a3f5f\"},\"marker\":{\"line\":{\"color\":\"#E5ECF6\",\"width\":0.5},\"pattern\":{\"fillmode\":\"overlay\",\"size\":10,\"solidity\":0.2}},\"type\":\"bar\"}],\"scattergeo\":[{\"type\":\"scattergeo\",\"marker\":{\"colorbar\":{\"outlinewidth\":0,\"ticks\":\"\"}}}],\"scatterpolar\":[{\"type\":\"scatterpolar\",\"marker\":{\"colorbar\":{\"outlinewidth\":0,\"ticks\":\"\"}}}],\"histogram\":[{\"marker\":{\"pattern\":{\"fillmode\":\"overlay\",\"size\":10,\"solidity\":0.2}},\"type\":\"histogram\"}],\"scattergl\":[{\"type\":\"scattergl\",\"marker\":{\"colorbar\":{\"outlinewidth\":0,\"ticks\":\"\"}}}],\"scatter3d\":[{\"type\":\"scatter3d\",\"line\":{\"colorbar\":{\"outlinewidth\":0,\"ticks\":\"\"}},\"marker\":{\"colorbar\":{\"outlinewidth\":0,\"ticks\":\"\"}}}],\"scattermapbox\":[{\"type\":\"scattermapbox\",\"marker\":{\"colorbar\":{\"outlinewidth\":0,\"ticks\":\"\"}}}],\"scatterternary\":[{\"type\":\"scatterternary\",\"marker\":{\"colorbar\":{\"outlinewidth\":0,\"ticks\":\"\"}}}],\"scattercarpet\":[{\"type\":\"scattercarpet\",\"marker\":{\"colorbar\":{\"outlinewidth\":0,\"ticks\":\"\"}}}],\"carpet\":[{\"aaxis\":{\"endlinecolor\":\"#2a3f5f\",\"gridcolor\":\"white\",\"linecolor\":\"white\",\"minorgridcolor\":\"white\",\"startlinecolor\":\"#2a3f5f\"},\"baxis\":{\"endlinecolor\":\"#2a3f5f\",\"gridcolor\":\"white\",\"linecolor\":\"white\",\"minorgridcolor\":\"white\",\"startlinecolor\":\"#2a3f5f\"},\"type\":\"carpet\"}],\"table\":[{\"cells\":{\"fill\":{\"color\":\"#EBF0F8\"},\"line\":{\"color\":\"white\"}},\"header\":{\"fill\":{\"color\":\"#C8D4E3\"},\"line\":{\"color\":\"white\"}},\"type\":\"table\"}],\"barpolar\":[{\"marker\":{\"line\":{\"color\":\"#E5ECF6\",\"width\":0.5},\"pattern\":{\"fillmode\":\"overlay\",\"size\":10,\"solidity\":0.2}},\"type\":\"barpolar\"}],\"pie\":[{\"automargin\":true,\"type\":\"pie\"}]},\"layout\":{\"autotypenumbers\":\"strict\",\"colorway\":[\"#636efa\",\"#EF553B\",\"#00cc96\",\"#ab63fa\",\"#FFA15A\",\"#19d3f3\",\"#FF6692\",\"#B6E880\",\"#FF97FF\",\"#FECB52\"],\"font\":{\"color\":\"#2a3f5f\"},\"hovermode\":\"closest\",\"hoverlabel\":{\"align\":\"left\"},\"paper_bgcolor\":\"white\",\"plot_bgcolor\":\"#E5ECF6\",\"polar\":{\"bgcolor\":\"#E5ECF6\",\"angularaxis\":{\"gridcolor\":\"white\",\"linecolor\":\"white\",\"ticks\":\"\"},\"radialaxis\":{\"gridcolor\":\"white\",\"linecolor\":\"white\",\"ticks\":\"\"}},\"ternary\":{\"bgcolor\":\"#E5ECF6\",\"aaxis\":{\"gridcolor\":\"white\",\"linecolor\":\"white\",\"ticks\":\"\"},\"baxis\":{\"gridcolor\":\"white\",\"linecolor\":\"white\",\"ticks\":\"\"},\"caxis\":{\"gridcolor\":\"white\",\"linecolor\":\"white\",\"ticks\":\"\"}},\"coloraxis\":{\"colorbar\":{\"outlinewidth\":0,\"ticks\":\"\"}},\"colorscale\":{\"sequential\":[[0.0,\"#0d0887\"],[0.1111111111111111,\"#46039f\"],[0.2222222222222222,\"#7201a8\"],[0.3333333333333333,\"#9c179e\"],[0.4444444444444444,\"#bd3786\"],[0.5555555555555556,\"#d8576b\"],[0.6666666666666666,\"#ed7953\"],[0.7777777777777778,\"#fb9f3a\"],[0.8888888888888888,\"#fdca26\"],[1.0,\"#f0f921\"]],\"sequentialminus\":[[0.0,\"#0d0887\"],[0.1111111111111111,\"#46039f\"],[0.2222222222222222,\"#7201a8\"],[0.3333333333333333,\"#9c179e\"],[0.4444444444444444,\"#bd3786\"],[0.5555555555555556,\"#d8576b\"],[0.6666666666666666,\"#ed7953\"],[0.7777777777777778,\"#fb9f3a\"],[0.8888888888888888,\"#fdca26\"],[1.0,\"#f0f921\"]],\"diverging\":[[0,\"#8e0152\"],[0.1,\"#c51b7d\"],[0.2,\"#de77ae\"],[0.3,\"#f1b6da\"],[0.4,\"#fde0ef\"],[0.5,\"#f7f7f7\"],[0.6,\"#e6f5d0\"],[0.7,\"#b8e186\"],[0.8,\"#7fbc41\"],[0.9,\"#4d9221\"],[1,\"#276419\"]]},\"xaxis\":{\"gridcolor\":\"white\",\"linecolor\":\"white\",\"ticks\":\"\",\"title\":{\"standoff\":15},\"zerolinecolor\":\"white\",\"automargin\":true,\"zerolinewidth\":2},\"yaxis\":{\"gridcolor\":\"white\",\"linecolor\":\"white\",\"ticks\":\"\",\"title\":{\"standoff\":15},\"zerolinecolor\":\"white\",\"automargin\":true,\"zerolinewidth\":2},\"scene\":{\"xaxis\":{\"backgroundcolor\":\"#E5ECF6\",\"gridcolor\":\"white\",\"linecolor\":\"white\",\"showbackground\":true,\"ticks\":\"\",\"zerolinecolor\":\"white\",\"gridwidth\":2},\"yaxis\":{\"backgroundcolor\":\"#E5ECF6\",\"gridcolor\":\"white\",\"linecolor\":\"white\",\"showbackground\":true,\"ticks\":\"\",\"zerolinecolor\":\"white\",\"gridwidth\":2},\"zaxis\":{\"backgroundcolor\":\"#E5ECF6\",\"gridcolor\":\"white\",\"linecolor\":\"white\",\"showbackground\":true,\"ticks\":\"\",\"zerolinecolor\":\"white\",\"gridwidth\":2}},\"shapedefaults\":{\"line\":{\"color\":\"#2a3f5f\"}},\"annotationdefaults\":{\"arrowcolor\":\"#2a3f5f\",\"arrowhead\":0,\"arrowwidth\":1},\"geo\":{\"bgcolor\":\"white\",\"landcolor\":\"#E5ECF6\",\"subunitcolor\":\"white\",\"showland\":true,\"showlakes\":true,\"lakecolor\":\"white\"},\"title\":{\"x\":0.05},\"mapbox\":{\"style\":\"light\"}}},\"title\":{\"text\":\"thinking (0) \\u2013 feeling (1)\"}},                        {\"responsive\": true}                    ).then(function(){\n",
              "                            \n",
              "var gd = document.getElementById('950f66ce-4720-43bc-99af-6505076c2812');\n",
              "var x = new MutationObserver(function (mutations, observer) {{\n",
              "        var display = window.getComputedStyle(gd).display;\n",
              "        if (!display || display === 'none') {{\n",
              "            console.log([gd, 'removed!']);\n",
              "            Plotly.purge(gd);\n",
              "            observer.disconnect();\n",
              "        }}\n",
              "}});\n",
              "\n",
              "// Listen for the removal of the full notebook cells\n",
              "var notebookContainer = gd.closest('#notebook-container');\n",
              "if (notebookContainer) {{\n",
              "    x.observe(notebookContainer, {childList: true});\n",
              "}}\n",
              "\n",
              "// Listen for the clearing of the current output cell\n",
              "var outputEl = gd.closest('.output');\n",
              "if (outputEl) {{\n",
              "    x.observe(outputEl, {childList: true});\n",
              "}}\n",
              "\n",
              "                        })                };                            </script>        </div>\n",
              "</body>\n",
              "</html>"
            ]
          },
          "metadata": {}
        }
      ],
      "source": [
        "distribute_plot(df, \"thinking\", \"feeling\", \"F\")"
      ]
    },
    {
      "cell_type": "code",
      "execution_count": 26,
      "metadata": {
        "colab": {
          "base_uri": "https://localhost:8080/",
          "height": 542
        },
        "id": "1Ucex52mol-l",
        "outputId": "3d580a65-e35c-4a42-c8c8-14691ecd74e1"
      },
      "outputs": [
        {
          "output_type": "display_data",
          "data": {
            "text/html": [
              "<html>\n",
              "<head><meta charset=\"utf-8\" /></head>\n",
              "<body>\n",
              "    <div>            <script src=\"https://cdnjs.cloudflare.com/ajax/libs/mathjax/2.7.5/MathJax.js?config=TeX-AMS-MML_SVG\"></script><script type=\"text/javascript\">if (window.MathJax && window.MathJax.Hub && window.MathJax.Hub.Config) {window.MathJax.Hub.Config({SVG: {font: \"STIX-Web\"}});}</script>                <script type=\"text/javascript\">window.PlotlyConfig = {MathJaxConfig: 'local'};</script>\n",
              "        <script charset=\"utf-8\" src=\"https://cdn.plot.ly/plotly-2.24.1.min.js\"></script>                <div id=\"1afe69d8-102e-4c13-95c8-c662134c6087\" class=\"plotly-graph-div\" style=\"height:525px; width:100%;\"></div>            <script type=\"text/javascript\">                                    window.PLOTLYENV=window.PLOTLYENV || {};                                    if (document.getElementById(\"1afe69d8-102e-4c13-95c8-c662134c6087\")) {                    Plotly.newPlot(                        \"1afe69d8-102e-4c13-95c8-c662134c6087\",                        [{\"labels\":[\"perceiving\",\"judging\"],\"values\":[5241,3434],\"type\":\"pie\"}],                        {\"template\":{\"data\":{\"histogram2dcontour\":[{\"type\":\"histogram2dcontour\",\"colorbar\":{\"outlinewidth\":0,\"ticks\":\"\"},\"colorscale\":[[0.0,\"#0d0887\"],[0.1111111111111111,\"#46039f\"],[0.2222222222222222,\"#7201a8\"],[0.3333333333333333,\"#9c179e\"],[0.4444444444444444,\"#bd3786\"],[0.5555555555555556,\"#d8576b\"],[0.6666666666666666,\"#ed7953\"],[0.7777777777777778,\"#fb9f3a\"],[0.8888888888888888,\"#fdca26\"],[1.0,\"#f0f921\"]]}],\"choropleth\":[{\"type\":\"choropleth\",\"colorbar\":{\"outlinewidth\":0,\"ticks\":\"\"}}],\"histogram2d\":[{\"type\":\"histogram2d\",\"colorbar\":{\"outlinewidth\":0,\"ticks\":\"\"},\"colorscale\":[[0.0,\"#0d0887\"],[0.1111111111111111,\"#46039f\"],[0.2222222222222222,\"#7201a8\"],[0.3333333333333333,\"#9c179e\"],[0.4444444444444444,\"#bd3786\"],[0.5555555555555556,\"#d8576b\"],[0.6666666666666666,\"#ed7953\"],[0.7777777777777778,\"#fb9f3a\"],[0.8888888888888888,\"#fdca26\"],[1.0,\"#f0f921\"]]}],\"heatmap\":[{\"type\":\"heatmap\",\"colorbar\":{\"outlinewidth\":0,\"ticks\":\"\"},\"colorscale\":[[0.0,\"#0d0887\"],[0.1111111111111111,\"#46039f\"],[0.2222222222222222,\"#7201a8\"],[0.3333333333333333,\"#9c179e\"],[0.4444444444444444,\"#bd3786\"],[0.5555555555555556,\"#d8576b\"],[0.6666666666666666,\"#ed7953\"],[0.7777777777777778,\"#fb9f3a\"],[0.8888888888888888,\"#fdca26\"],[1.0,\"#f0f921\"]]}],\"heatmapgl\":[{\"type\":\"heatmapgl\",\"colorbar\":{\"outlinewidth\":0,\"ticks\":\"\"},\"colorscale\":[[0.0,\"#0d0887\"],[0.1111111111111111,\"#46039f\"],[0.2222222222222222,\"#7201a8\"],[0.3333333333333333,\"#9c179e\"],[0.4444444444444444,\"#bd3786\"],[0.5555555555555556,\"#d8576b\"],[0.6666666666666666,\"#ed7953\"],[0.7777777777777778,\"#fb9f3a\"],[0.8888888888888888,\"#fdca26\"],[1.0,\"#f0f921\"]]}],\"contourcarpet\":[{\"type\":\"contourcarpet\",\"colorbar\":{\"outlinewidth\":0,\"ticks\":\"\"}}],\"contour\":[{\"type\":\"contour\",\"colorbar\":{\"outlinewidth\":0,\"ticks\":\"\"},\"colorscale\":[[0.0,\"#0d0887\"],[0.1111111111111111,\"#46039f\"],[0.2222222222222222,\"#7201a8\"],[0.3333333333333333,\"#9c179e\"],[0.4444444444444444,\"#bd3786\"],[0.5555555555555556,\"#d8576b\"],[0.6666666666666666,\"#ed7953\"],[0.7777777777777778,\"#fb9f3a\"],[0.8888888888888888,\"#fdca26\"],[1.0,\"#f0f921\"]]}],\"surface\":[{\"type\":\"surface\",\"colorbar\":{\"outlinewidth\":0,\"ticks\":\"\"},\"colorscale\":[[0.0,\"#0d0887\"],[0.1111111111111111,\"#46039f\"],[0.2222222222222222,\"#7201a8\"],[0.3333333333333333,\"#9c179e\"],[0.4444444444444444,\"#bd3786\"],[0.5555555555555556,\"#d8576b\"],[0.6666666666666666,\"#ed7953\"],[0.7777777777777778,\"#fb9f3a\"],[0.8888888888888888,\"#fdca26\"],[1.0,\"#f0f921\"]]}],\"mesh3d\":[{\"type\":\"mesh3d\",\"colorbar\":{\"outlinewidth\":0,\"ticks\":\"\"}}],\"scatter\":[{\"fillpattern\":{\"fillmode\":\"overlay\",\"size\":10,\"solidity\":0.2},\"type\":\"scatter\"}],\"parcoords\":[{\"type\":\"parcoords\",\"line\":{\"colorbar\":{\"outlinewidth\":0,\"ticks\":\"\"}}}],\"scatterpolargl\":[{\"type\":\"scatterpolargl\",\"marker\":{\"colorbar\":{\"outlinewidth\":0,\"ticks\":\"\"}}}],\"bar\":[{\"error_x\":{\"color\":\"#2a3f5f\"},\"error_y\":{\"color\":\"#2a3f5f\"},\"marker\":{\"line\":{\"color\":\"#E5ECF6\",\"width\":0.5},\"pattern\":{\"fillmode\":\"overlay\",\"size\":10,\"solidity\":0.2}},\"type\":\"bar\"}],\"scattergeo\":[{\"type\":\"scattergeo\",\"marker\":{\"colorbar\":{\"outlinewidth\":0,\"ticks\":\"\"}}}],\"scatterpolar\":[{\"type\":\"scatterpolar\",\"marker\":{\"colorbar\":{\"outlinewidth\":0,\"ticks\":\"\"}}}],\"histogram\":[{\"marker\":{\"pattern\":{\"fillmode\":\"overlay\",\"size\":10,\"solidity\":0.2}},\"type\":\"histogram\"}],\"scattergl\":[{\"type\":\"scattergl\",\"marker\":{\"colorbar\":{\"outlinewidth\":0,\"ticks\":\"\"}}}],\"scatter3d\":[{\"type\":\"scatter3d\",\"line\":{\"colorbar\":{\"outlinewidth\":0,\"ticks\":\"\"}},\"marker\":{\"colorbar\":{\"outlinewidth\":0,\"ticks\":\"\"}}}],\"scattermapbox\":[{\"type\":\"scattermapbox\",\"marker\":{\"colorbar\":{\"outlinewidth\":0,\"ticks\":\"\"}}}],\"scatterternary\":[{\"type\":\"scatterternary\",\"marker\":{\"colorbar\":{\"outlinewidth\":0,\"ticks\":\"\"}}}],\"scattercarpet\":[{\"type\":\"scattercarpet\",\"marker\":{\"colorbar\":{\"outlinewidth\":0,\"ticks\":\"\"}}}],\"carpet\":[{\"aaxis\":{\"endlinecolor\":\"#2a3f5f\",\"gridcolor\":\"white\",\"linecolor\":\"white\",\"minorgridcolor\":\"white\",\"startlinecolor\":\"#2a3f5f\"},\"baxis\":{\"endlinecolor\":\"#2a3f5f\",\"gridcolor\":\"white\",\"linecolor\":\"white\",\"minorgridcolor\":\"white\",\"startlinecolor\":\"#2a3f5f\"},\"type\":\"carpet\"}],\"table\":[{\"cells\":{\"fill\":{\"color\":\"#EBF0F8\"},\"line\":{\"color\":\"white\"}},\"header\":{\"fill\":{\"color\":\"#C8D4E3\"},\"line\":{\"color\":\"white\"}},\"type\":\"table\"}],\"barpolar\":[{\"marker\":{\"line\":{\"color\":\"#E5ECF6\",\"width\":0.5},\"pattern\":{\"fillmode\":\"overlay\",\"size\":10,\"solidity\":0.2}},\"type\":\"barpolar\"}],\"pie\":[{\"automargin\":true,\"type\":\"pie\"}]},\"layout\":{\"autotypenumbers\":\"strict\",\"colorway\":[\"#636efa\",\"#EF553B\",\"#00cc96\",\"#ab63fa\",\"#FFA15A\",\"#19d3f3\",\"#FF6692\",\"#B6E880\",\"#FF97FF\",\"#FECB52\"],\"font\":{\"color\":\"#2a3f5f\"},\"hovermode\":\"closest\",\"hoverlabel\":{\"align\":\"left\"},\"paper_bgcolor\":\"white\",\"plot_bgcolor\":\"#E5ECF6\",\"polar\":{\"bgcolor\":\"#E5ECF6\",\"angularaxis\":{\"gridcolor\":\"white\",\"linecolor\":\"white\",\"ticks\":\"\"},\"radialaxis\":{\"gridcolor\":\"white\",\"linecolor\":\"white\",\"ticks\":\"\"}},\"ternary\":{\"bgcolor\":\"#E5ECF6\",\"aaxis\":{\"gridcolor\":\"white\",\"linecolor\":\"white\",\"ticks\":\"\"},\"baxis\":{\"gridcolor\":\"white\",\"linecolor\":\"white\",\"ticks\":\"\"},\"caxis\":{\"gridcolor\":\"white\",\"linecolor\":\"white\",\"ticks\":\"\"}},\"coloraxis\":{\"colorbar\":{\"outlinewidth\":0,\"ticks\":\"\"}},\"colorscale\":{\"sequential\":[[0.0,\"#0d0887\"],[0.1111111111111111,\"#46039f\"],[0.2222222222222222,\"#7201a8\"],[0.3333333333333333,\"#9c179e\"],[0.4444444444444444,\"#bd3786\"],[0.5555555555555556,\"#d8576b\"],[0.6666666666666666,\"#ed7953\"],[0.7777777777777778,\"#fb9f3a\"],[0.8888888888888888,\"#fdca26\"],[1.0,\"#f0f921\"]],\"sequentialminus\":[[0.0,\"#0d0887\"],[0.1111111111111111,\"#46039f\"],[0.2222222222222222,\"#7201a8\"],[0.3333333333333333,\"#9c179e\"],[0.4444444444444444,\"#bd3786\"],[0.5555555555555556,\"#d8576b\"],[0.6666666666666666,\"#ed7953\"],[0.7777777777777778,\"#fb9f3a\"],[0.8888888888888888,\"#fdca26\"],[1.0,\"#f0f921\"]],\"diverging\":[[0,\"#8e0152\"],[0.1,\"#c51b7d\"],[0.2,\"#de77ae\"],[0.3,\"#f1b6da\"],[0.4,\"#fde0ef\"],[0.5,\"#f7f7f7\"],[0.6,\"#e6f5d0\"],[0.7,\"#b8e186\"],[0.8,\"#7fbc41\"],[0.9,\"#4d9221\"],[1,\"#276419\"]]},\"xaxis\":{\"gridcolor\":\"white\",\"linecolor\":\"white\",\"ticks\":\"\",\"title\":{\"standoff\":15},\"zerolinecolor\":\"white\",\"automargin\":true,\"zerolinewidth\":2},\"yaxis\":{\"gridcolor\":\"white\",\"linecolor\":\"white\",\"ticks\":\"\",\"title\":{\"standoff\":15},\"zerolinecolor\":\"white\",\"automargin\":true,\"zerolinewidth\":2},\"scene\":{\"xaxis\":{\"backgroundcolor\":\"#E5ECF6\",\"gridcolor\":\"white\",\"linecolor\":\"white\",\"showbackground\":true,\"ticks\":\"\",\"zerolinecolor\":\"white\",\"gridwidth\":2},\"yaxis\":{\"backgroundcolor\":\"#E5ECF6\",\"gridcolor\":\"white\",\"linecolor\":\"white\",\"showbackground\":true,\"ticks\":\"\",\"zerolinecolor\":\"white\",\"gridwidth\":2},\"zaxis\":{\"backgroundcolor\":\"#E5ECF6\",\"gridcolor\":\"white\",\"linecolor\":\"white\",\"showbackground\":true,\"ticks\":\"\",\"zerolinecolor\":\"white\",\"gridwidth\":2}},\"shapedefaults\":{\"line\":{\"color\":\"#2a3f5f\"}},\"annotationdefaults\":{\"arrowcolor\":\"#2a3f5f\",\"arrowhead\":0,\"arrowwidth\":1},\"geo\":{\"bgcolor\":\"white\",\"landcolor\":\"#E5ECF6\",\"subunitcolor\":\"white\",\"showland\":true,\"showlakes\":true,\"lakecolor\":\"white\"},\"title\":{\"x\":0.05},\"mapbox\":{\"style\":\"light\"}}},\"title\":{\"text\":\"judging (0) \\u2013 perceiving (1)\"}},                        {\"responsive\": true}                    ).then(function(){\n",
              "                            \n",
              "var gd = document.getElementById('1afe69d8-102e-4c13-95c8-c662134c6087');\n",
              "var x = new MutationObserver(function (mutations, observer) {{\n",
              "        var display = window.getComputedStyle(gd).display;\n",
              "        if (!display || display === 'none') {{\n",
              "            console.log([gd, 'removed!']);\n",
              "            Plotly.purge(gd);\n",
              "            observer.disconnect();\n",
              "        }}\n",
              "}});\n",
              "\n",
              "// Listen for the removal of the full notebook cells\n",
              "var notebookContainer = gd.closest('#notebook-container');\n",
              "if (notebookContainer) {{\n",
              "    x.observe(notebookContainer, {childList: true});\n",
              "}}\n",
              "\n",
              "// Listen for the clearing of the current output cell\n",
              "var outputEl = gd.closest('.output');\n",
              "if (outputEl) {{\n",
              "    x.observe(outputEl, {childList: true});\n",
              "}}\n",
              "\n",
              "                        })                };                            </script>        </div>\n",
              "</body>\n",
              "</html>"
            ]
          },
          "metadata": {}
        }
      ],
      "source": [
        "distribute_plot(df, \"judging\", \"perceiving\", \"P\")"
      ]
    },
    {
      "cell_type": "code",
      "execution_count": 27,
      "metadata": {
        "colab": {
          "base_uri": "https://localhost:8080/",
          "height": 822
        },
        "id": "RaPHhKo_ol-o",
        "outputId": "deb8d7c6-5220-4f11-f039-b1aaec6a25d9"
      },
      "outputs": [
        {
          "output_type": "execute_result",
          "data": {
            "text/plain": [
              "      type                                              tweet  extroversion  \\\n",
              "0     INFJ  url and intj moments  url  sportscenter not to...             0   \n",
              "1     ENTP  i m finding the lack of me in these posts very...             1   \n",
              "2     INTP  good one          url course  to which i say i...             0   \n",
              "3     INTJ  dear intp    i enjoyed our conversation the ot...             0   \n",
              "4     ENTJ  you re fired that s another silly misconceptio...             1   \n",
              "...    ...                                                ...           ...   \n",
              "8670  ISFP  url just because i always think of cats as fi ...             0   \n",
              "8671  ENFP  so   if this thread already exists someplace e...             1   \n",
              "8672  INTP  so many questions when i do these things   i w...             0   \n",
              "8673  INFP  i am very conflicted right now when it comes t...             0   \n",
              "8674  INFP  it has been too long since i have been on pers...             0   \n",
              "\n",
              "      sensing  feeling  perceiving  \n",
              "0           0        1           0  \n",
              "1           0        0           1  \n",
              "2           0        0           1  \n",
              "3           0        0           0  \n",
              "4           0        0           0  \n",
              "...       ...      ...         ...  \n",
              "8670        1        1           1  \n",
              "8671        0        1           1  \n",
              "8672        0        0           1  \n",
              "8673        0        1           1  \n",
              "8674        0        1           1  \n",
              "\n",
              "[8675 rows x 6 columns]"
            ],
            "text/html": [
              "\n",
              "  <div id=\"df-fb523c52-5fe6-4cdc-ad48-380f4c6277f7\" class=\"colab-df-container\">\n",
              "    <div>\n",
              "<style scoped>\n",
              "    .dataframe tbody tr th:only-of-type {\n",
              "        vertical-align: middle;\n",
              "    }\n",
              "\n",
              "    .dataframe tbody tr th {\n",
              "        vertical-align: top;\n",
              "    }\n",
              "\n",
              "    .dataframe thead th {\n",
              "        text-align: right;\n",
              "    }\n",
              "</style>\n",
              "<table border=\"1\" class=\"dataframe\">\n",
              "  <thead>\n",
              "    <tr style=\"text-align: right;\">\n",
              "      <th></th>\n",
              "      <th>type</th>\n",
              "      <th>tweet</th>\n",
              "      <th>extroversion</th>\n",
              "      <th>sensing</th>\n",
              "      <th>feeling</th>\n",
              "      <th>perceiving</th>\n",
              "    </tr>\n",
              "  </thead>\n",
              "  <tbody>\n",
              "    <tr>\n",
              "      <th>0</th>\n",
              "      <td>INFJ</td>\n",
              "      <td>url and intj moments  url  sportscenter not to...</td>\n",
              "      <td>0</td>\n",
              "      <td>0</td>\n",
              "      <td>1</td>\n",
              "      <td>0</td>\n",
              "    </tr>\n",
              "    <tr>\n",
              "      <th>1</th>\n",
              "      <td>ENTP</td>\n",
              "      <td>i m finding the lack of me in these posts very...</td>\n",
              "      <td>1</td>\n",
              "      <td>0</td>\n",
              "      <td>0</td>\n",
              "      <td>1</td>\n",
              "    </tr>\n",
              "    <tr>\n",
              "      <th>2</th>\n",
              "      <td>INTP</td>\n",
              "      <td>good one          url course  to which i say i...</td>\n",
              "      <td>0</td>\n",
              "      <td>0</td>\n",
              "      <td>0</td>\n",
              "      <td>1</td>\n",
              "    </tr>\n",
              "    <tr>\n",
              "      <th>3</th>\n",
              "      <td>INTJ</td>\n",
              "      <td>dear intp    i enjoyed our conversation the ot...</td>\n",
              "      <td>0</td>\n",
              "      <td>0</td>\n",
              "      <td>0</td>\n",
              "      <td>0</td>\n",
              "    </tr>\n",
              "    <tr>\n",
              "      <th>4</th>\n",
              "      <td>ENTJ</td>\n",
              "      <td>you re fired that s another silly misconceptio...</td>\n",
              "      <td>1</td>\n",
              "      <td>0</td>\n",
              "      <td>0</td>\n",
              "      <td>0</td>\n",
              "    </tr>\n",
              "    <tr>\n",
              "      <th>...</th>\n",
              "      <td>...</td>\n",
              "      <td>...</td>\n",
              "      <td>...</td>\n",
              "      <td>...</td>\n",
              "      <td>...</td>\n",
              "      <td>...</td>\n",
              "    </tr>\n",
              "    <tr>\n",
              "      <th>8670</th>\n",
              "      <td>ISFP</td>\n",
              "      <td>url just because i always think of cats as fi ...</td>\n",
              "      <td>0</td>\n",
              "      <td>1</td>\n",
              "      <td>1</td>\n",
              "      <td>1</td>\n",
              "    </tr>\n",
              "    <tr>\n",
              "      <th>8671</th>\n",
              "      <td>ENFP</td>\n",
              "      <td>so   if this thread already exists someplace e...</td>\n",
              "      <td>1</td>\n",
              "      <td>0</td>\n",
              "      <td>1</td>\n",
              "      <td>1</td>\n",
              "    </tr>\n",
              "    <tr>\n",
              "      <th>8672</th>\n",
              "      <td>INTP</td>\n",
              "      <td>so many questions when i do these things   i w...</td>\n",
              "      <td>0</td>\n",
              "      <td>0</td>\n",
              "      <td>0</td>\n",
              "      <td>1</td>\n",
              "    </tr>\n",
              "    <tr>\n",
              "      <th>8673</th>\n",
              "      <td>INFP</td>\n",
              "      <td>i am very conflicted right now when it comes t...</td>\n",
              "      <td>0</td>\n",
              "      <td>0</td>\n",
              "      <td>1</td>\n",
              "      <td>1</td>\n",
              "    </tr>\n",
              "    <tr>\n",
              "      <th>8674</th>\n",
              "      <td>INFP</td>\n",
              "      <td>it has been too long since i have been on pers...</td>\n",
              "      <td>0</td>\n",
              "      <td>0</td>\n",
              "      <td>1</td>\n",
              "      <td>1</td>\n",
              "    </tr>\n",
              "  </tbody>\n",
              "</table>\n",
              "<p>8675 rows × 6 columns</p>\n",
              "</div>\n",
              "    <div class=\"colab-df-buttons\">\n",
              "\n",
              "  <div class=\"colab-df-container\">\n",
              "    <button class=\"colab-df-convert\" onclick=\"convertToInteractive('df-fb523c52-5fe6-4cdc-ad48-380f4c6277f7')\"\n",
              "            title=\"Convert this dataframe to an interactive table.\"\n",
              "            style=\"display:none;\">\n",
              "\n",
              "  <svg xmlns=\"http://www.w3.org/2000/svg\" height=\"24px\" viewBox=\"0 -960 960 960\">\n",
              "    <path d=\"M120-120v-720h720v720H120Zm60-500h600v-160H180v160Zm220 220h160v-160H400v160Zm0 220h160v-160H400v160ZM180-400h160v-160H180v160Zm440 0h160v-160H620v160ZM180-180h160v-160H180v160Zm440 0h160v-160H620v160Z\"/>\n",
              "  </svg>\n",
              "    </button>\n",
              "\n",
              "  <style>\n",
              "    .colab-df-container {\n",
              "      display:flex;\n",
              "      gap: 12px;\n",
              "    }\n",
              "\n",
              "    .colab-df-convert {\n",
              "      background-color: #E8F0FE;\n",
              "      border: none;\n",
              "      border-radius: 50%;\n",
              "      cursor: pointer;\n",
              "      display: none;\n",
              "      fill: #1967D2;\n",
              "      height: 32px;\n",
              "      padding: 0 0 0 0;\n",
              "      width: 32px;\n",
              "    }\n",
              "\n",
              "    .colab-df-convert:hover {\n",
              "      background-color: #E2EBFA;\n",
              "      box-shadow: 0px 1px 2px rgba(60, 64, 67, 0.3), 0px 1px 3px 1px rgba(60, 64, 67, 0.15);\n",
              "      fill: #174EA6;\n",
              "    }\n",
              "\n",
              "    .colab-df-buttons div {\n",
              "      margin-bottom: 4px;\n",
              "    }\n",
              "\n",
              "    [theme=dark] .colab-df-convert {\n",
              "      background-color: #3B4455;\n",
              "      fill: #D2E3FC;\n",
              "    }\n",
              "\n",
              "    [theme=dark] .colab-df-convert:hover {\n",
              "      background-color: #434B5C;\n",
              "      box-shadow: 0px 1px 3px 1px rgba(0, 0, 0, 0.15);\n",
              "      filter: drop-shadow(0px 1px 2px rgba(0, 0, 0, 0.3));\n",
              "      fill: #FFFFFF;\n",
              "    }\n",
              "  </style>\n",
              "\n",
              "    <script>\n",
              "      const buttonEl =\n",
              "        document.querySelector('#df-fb523c52-5fe6-4cdc-ad48-380f4c6277f7 button.colab-df-convert');\n",
              "      buttonEl.style.display =\n",
              "        google.colab.kernel.accessAllowed ? 'block' : 'none';\n",
              "\n",
              "      async function convertToInteractive(key) {\n",
              "        const element = document.querySelector('#df-fb523c52-5fe6-4cdc-ad48-380f4c6277f7');\n",
              "        const dataTable =\n",
              "          await google.colab.kernel.invokeFunction('convertToInteractive',\n",
              "                                                    [key], {});\n",
              "        if (!dataTable) return;\n",
              "\n",
              "        const docLinkHtml = 'Like what you see? Visit the ' +\n",
              "          '<a target=\"_blank\" href=https://colab.research.google.com/notebooks/data_table.ipynb>data table notebook</a>'\n",
              "          + ' to learn more about interactive tables.';\n",
              "        element.innerHTML = '';\n",
              "        dataTable['output_type'] = 'display_data';\n",
              "        await google.colab.output.renderOutput(dataTable, element);\n",
              "        const docLink = document.createElement('div');\n",
              "        docLink.innerHTML = docLinkHtml;\n",
              "        element.appendChild(docLink);\n",
              "      }\n",
              "    </script>\n",
              "  </div>\n",
              "\n",
              "\n",
              "<div id=\"df-819881c6-ce0e-4e8e-92f4-f6a13ca65e81\">\n",
              "  <button class=\"colab-df-quickchart\" onclick=\"quickchart('df-819881c6-ce0e-4e8e-92f4-f6a13ca65e81')\"\n",
              "            title=\"Suggest charts\"\n",
              "            style=\"display:none;\">\n",
              "\n",
              "<svg xmlns=\"http://www.w3.org/2000/svg\" height=\"24px\"viewBox=\"0 0 24 24\"\n",
              "     width=\"24px\">\n",
              "    <g>\n",
              "        <path d=\"M19 3H5c-1.1 0-2 .9-2 2v14c0 1.1.9 2 2 2h14c1.1 0 2-.9 2-2V5c0-1.1-.9-2-2-2zM9 17H7v-7h2v7zm4 0h-2V7h2v10zm4 0h-2v-4h2v4z\"/>\n",
              "    </g>\n",
              "</svg>\n",
              "  </button>\n",
              "\n",
              "<style>\n",
              "  .colab-df-quickchart {\n",
              "      --bg-color: #E8F0FE;\n",
              "      --fill-color: #1967D2;\n",
              "      --hover-bg-color: #E2EBFA;\n",
              "      --hover-fill-color: #174EA6;\n",
              "      --disabled-fill-color: #AAA;\n",
              "      --disabled-bg-color: #DDD;\n",
              "  }\n",
              "\n",
              "  [theme=dark] .colab-df-quickchart {\n",
              "      --bg-color: #3B4455;\n",
              "      --fill-color: #D2E3FC;\n",
              "      --hover-bg-color: #434B5C;\n",
              "      --hover-fill-color: #FFFFFF;\n",
              "      --disabled-bg-color: #3B4455;\n",
              "      --disabled-fill-color: #666;\n",
              "  }\n",
              "\n",
              "  .colab-df-quickchart {\n",
              "    background-color: var(--bg-color);\n",
              "    border: none;\n",
              "    border-radius: 50%;\n",
              "    cursor: pointer;\n",
              "    display: none;\n",
              "    fill: var(--fill-color);\n",
              "    height: 32px;\n",
              "    padding: 0;\n",
              "    width: 32px;\n",
              "  }\n",
              "\n",
              "  .colab-df-quickchart:hover {\n",
              "    background-color: var(--hover-bg-color);\n",
              "    box-shadow: 0 1px 2px rgba(60, 64, 67, 0.3), 0 1px 3px 1px rgba(60, 64, 67, 0.15);\n",
              "    fill: var(--button-hover-fill-color);\n",
              "  }\n",
              "\n",
              "  .colab-df-quickchart-complete:disabled,\n",
              "  .colab-df-quickchart-complete:disabled:hover {\n",
              "    background-color: var(--disabled-bg-color);\n",
              "    fill: var(--disabled-fill-color);\n",
              "    box-shadow: none;\n",
              "  }\n",
              "\n",
              "  .colab-df-spinner {\n",
              "    border: 2px solid var(--fill-color);\n",
              "    border-color: transparent;\n",
              "    border-bottom-color: var(--fill-color);\n",
              "    animation:\n",
              "      spin 1s steps(1) infinite;\n",
              "  }\n",
              "\n",
              "  @keyframes spin {\n",
              "    0% {\n",
              "      border-color: transparent;\n",
              "      border-bottom-color: var(--fill-color);\n",
              "      border-left-color: var(--fill-color);\n",
              "    }\n",
              "    20% {\n",
              "      border-color: transparent;\n",
              "      border-left-color: var(--fill-color);\n",
              "      border-top-color: var(--fill-color);\n",
              "    }\n",
              "    30% {\n",
              "      border-color: transparent;\n",
              "      border-left-color: var(--fill-color);\n",
              "      border-top-color: var(--fill-color);\n",
              "      border-right-color: var(--fill-color);\n",
              "    }\n",
              "    40% {\n",
              "      border-color: transparent;\n",
              "      border-right-color: var(--fill-color);\n",
              "      border-top-color: var(--fill-color);\n",
              "    }\n",
              "    60% {\n",
              "      border-color: transparent;\n",
              "      border-right-color: var(--fill-color);\n",
              "    }\n",
              "    80% {\n",
              "      border-color: transparent;\n",
              "      border-right-color: var(--fill-color);\n",
              "      border-bottom-color: var(--fill-color);\n",
              "    }\n",
              "    90% {\n",
              "      border-color: transparent;\n",
              "      border-bottom-color: var(--fill-color);\n",
              "    }\n",
              "  }\n",
              "</style>\n",
              "\n",
              "  <script>\n",
              "    async function quickchart(key) {\n",
              "      const quickchartButtonEl =\n",
              "        document.querySelector('#' + key + ' button');\n",
              "      quickchartButtonEl.disabled = true;  // To prevent multiple clicks.\n",
              "      quickchartButtonEl.classList.add('colab-df-spinner');\n",
              "      try {\n",
              "        const charts = await google.colab.kernel.invokeFunction(\n",
              "            'suggestCharts', [key], {});\n",
              "      } catch (error) {\n",
              "        console.error('Error during call to suggestCharts:', error);\n",
              "      }\n",
              "      quickchartButtonEl.classList.remove('colab-df-spinner');\n",
              "      quickchartButtonEl.classList.add('colab-df-quickchart-complete');\n",
              "    }\n",
              "    (() => {\n",
              "      let quickchartButtonEl =\n",
              "        document.querySelector('#df-819881c6-ce0e-4e8e-92f4-f6a13ca65e81 button');\n",
              "      quickchartButtonEl.style.display =\n",
              "        google.colab.kernel.accessAllowed ? 'block' : 'none';\n",
              "    })();\n",
              "  </script>\n",
              "</div>\n",
              "\n",
              "  <div id=\"id_1d8f3b4f-011e-4b07-9d47-6f097c65efbb\">\n",
              "    <style>\n",
              "      .colab-df-generate {\n",
              "        background-color: #E8F0FE;\n",
              "        border: none;\n",
              "        border-radius: 50%;\n",
              "        cursor: pointer;\n",
              "        display: none;\n",
              "        fill: #1967D2;\n",
              "        height: 32px;\n",
              "        padding: 0 0 0 0;\n",
              "        width: 32px;\n",
              "      }\n",
              "\n",
              "      .colab-df-generate:hover {\n",
              "        background-color: #E2EBFA;\n",
              "        box-shadow: 0px 1px 2px rgba(60, 64, 67, 0.3), 0px 1px 3px 1px rgba(60, 64, 67, 0.15);\n",
              "        fill: #174EA6;\n",
              "      }\n",
              "\n",
              "      [theme=dark] .colab-df-generate {\n",
              "        background-color: #3B4455;\n",
              "        fill: #D2E3FC;\n",
              "      }\n",
              "\n",
              "      [theme=dark] .colab-df-generate:hover {\n",
              "        background-color: #434B5C;\n",
              "        box-shadow: 0px 1px 3px 1px rgba(0, 0, 0, 0.15);\n",
              "        filter: drop-shadow(0px 1px 2px rgba(0, 0, 0, 0.3));\n",
              "        fill: #FFFFFF;\n",
              "      }\n",
              "    </style>\n",
              "    <button class=\"colab-df-generate\" onclick=\"generateWithVariable('df')\"\n",
              "            title=\"Generate code using this dataframe.\"\n",
              "            style=\"display:none;\">\n",
              "\n",
              "  <svg xmlns=\"http://www.w3.org/2000/svg\" height=\"24px\"viewBox=\"0 0 24 24\"\n",
              "       width=\"24px\">\n",
              "    <path d=\"M7,19H8.4L18.45,9,17,7.55,7,17.6ZM5,21V16.75L18.45,3.32a2,2,0,0,1,2.83,0l1.4,1.43a1.91,1.91,0,0,1,.58,1.4,1.91,1.91,0,0,1-.58,1.4L9.25,21ZM18.45,9,17,7.55Zm-12,3A5.31,5.31,0,0,0,4.9,8.1,5.31,5.31,0,0,0,1,6.5,5.31,5.31,0,0,0,4.9,4.9,5.31,5.31,0,0,0,6.5,1,5.31,5.31,0,0,0,8.1,4.9,5.31,5.31,0,0,0,12,6.5,5.46,5.46,0,0,0,6.5,12Z\"/>\n",
              "  </svg>\n",
              "    </button>\n",
              "    <script>\n",
              "      (() => {\n",
              "      const buttonEl =\n",
              "        document.querySelector('#id_1d8f3b4f-011e-4b07-9d47-6f097c65efbb button.colab-df-generate');\n",
              "      buttonEl.style.display =\n",
              "        google.colab.kernel.accessAllowed ? 'block' : 'none';\n",
              "\n",
              "      buttonEl.onclick = () => {\n",
              "        google.colab.notebook.generateWithVariable('df');\n",
              "      }\n",
              "      })();\n",
              "    </script>\n",
              "  </div>\n",
              "\n",
              "    </div>\n",
              "  </div>\n"
            ],
            "application/vnd.google.colaboratory.intrinsic+json": {
              "type": "dataframe",
              "variable_name": "df",
              "summary": "{\n  \"name\": \"df\",\n  \"rows\": 8675,\n  \"fields\": [\n    {\n      \"column\": \"type\",\n      \"properties\": {\n        \"dtype\": \"category\",\n        \"num_unique_values\": 16,\n        \"samples\": [\n          \"INFJ\",\n          \"ENTP\",\n          \"ENFJ\"\n        ],\n        \"semantic_type\": \"\",\n        \"description\": \"\"\n      }\n    },\n    {\n      \"column\": \"tweet\",\n      \"properties\": {\n        \"dtype\": \"string\",\n        \"num_unique_values\": 8675,\n        \"samples\": [\n          \"this  when i lie it s to avoid an unreasonable response for something i did that was completely justifiable to me but if i was to try to justify to someone else they d be too hung up on what i did  i   your iq  sd15   128i typically have very difficult times maintaining friends i ve come to realize  i ve had people i talk to for years and i still don t want to talk to them    i did  but then i just got bored of them    an intj friend of mine told me she really hates eating because it s so repetitive  as an intp i don t really feel bothered  i don t really register eating i just do it while i m thinking about   similar minds advanced testintp 9 sx so i have a lot of friends but i only have one i speak about how i actually feel with and only 1 other that i talk about what i am actually thinking about   with regards to   getting close to someone and end up wanting to be infinitely close to them and end up merging every damn time interesting topic  i know two enfp s  1 is strange  as an intp i view some of the stuff she does as  coming onto me      sort of  she gets really close and is very open to me  just what enfp s do    as far as i m aware this is normal in all people  it s not so much your pessimistic self but just that humans are social creatures and you will feel better after socializing for that reason  being   vajrayaksa  how dare you use lelouch as an intp  he is an intj i say i normally think about doing this stuff but don t actually do it you ll probably find that commenting on their nihilistic thoughts logically would make them more open  dismissing ideas will merely make them agree with that idea more as they ll feel a need to   don t worry  calling me thinker is the same intj   winter   coldest entj   summer   actually doing things entp   spring   bringing out the fun in people intp   autumn   no one ever notices this seasoni ve known a couple entp s  one entj and an intj and it kind of went entp entj entp intj i love being able to constantly talk with entp s but also they need to know when to stop talking  if an entp   if you mean actually 1v1ing yourself i also have done this  maybe i m wrong but i find it pretty easy to think about the most logical move the player i am playing should make with the information   gender  female age  19 29 intelligence  gifted idea adoption  early adopter mbti personality profile  esfp closest alternative we found  esfj  i think i killed it when it told me to write   i m fine with them  i m more on shortage of people i d ever want to do them with but that s on the grounds that any socialising that could be done could just as well be done over skype without the   i used to use pencils then i was told that my teachers wanted me to use pens only   so i used pens only  i haven t used a pencil   excluding my games of naughts and crosses earlier   in a couple   i d love to own either a calm house out somewhere distant with a porch and a log cabin aesthetic   fuck it  i want a log cabin  or i d actually really like the idea of being in one of those smokey   yeah i enjoy listening to lyrics but it doesn t make much of a difference if they re present or not  if they are there they re just another part of the instrumental i don t necessarily listen to   more often then not someone is only going to be fully entering my world if they invite me into theirs first and it s similar or we re friends on the internet   because then there are few   what did you get me today   my head   shit  shit  shit what did i miss  is it your birthday  was i supposed to get you something  are we that good friends that i should be buying you stuff  i   i frequently say it as an off hand thing  someone does something really awesome and i say fuck yeah i love you man or something like that  if i was to say it in a genuine way then it d feel really   so something strange has been happening recently  my interest was drawn to naughts and crosses and how i could make it more enjoyable to play  i started by increasing the grid size and tried   you could tell them your thoughts  you could not tell them your thoughts and continue to brew over it  i think that there s no reason to be ashamed or annoyed about anything and if you don t   loudly  whilst he drew hisand the baby platypi quiveredparticularly in the higher regionsstarting with a lingering feelingwhat s the point of stopping  why does it matter what they re called  guilty pleasures are pleasures for a reason  does it matter that much their own god dam storypost multiple times to doit s impressive how people wouldmaximum of five words per line  feel free to say other stuff in the most but make sure it s clear which is the five words      once upon a time insomeone who appreciates c c  fuck yeah yeezus can t we come to a reasonable conclusion without you picking a fight  it s not being open minded more often then not i judge them purely by how they judge me  i have a dark sense of humor that i m not exactly secretive about  i get along with most people on the grounds that i m just friendly to   i chose my avatar as it s an awesome art work of kaneki from tokyo ghoul and by god i loved the manga  love tragedies  name is a slightly altered version of my name  george   georgius  liked the halo   violence in this situation would probably be a faster way to get things done for both parties involved and especially on the receiving end  trying to talk sense into someone who just said something   but surely the point that everyone would be worse off initially isn t relevant  rebuilding a system would obviously have it s issues here and there   i m not crying revolution and i m not being   we d call it diagon alley i m with you  i make a pretty big point of not being a person for people to expect feelings from  i want to be that person but i just feel wrong  someones crying their eyes out and here i am lying   good call but that s just how i read it    what about a four dimensional plane why airplane why not aeroplane hit them for having the expectation that you should live up to their expectations which is infuriating in and of itself probably it s just because hitting a women is politically incorrect and some women will use that to their advantage what he s saying is that they should assume that if they say something worthy of being hit for  that they should be grateful when they re not hit for it  not expect not to be hit just on the basis   is it particularly common amongst intp s and other types to just acknowledge another sides point of view even though socially you shouldn t  what i mean by this is i can t have conversation with\",\n          \"i said zero flexibility and little time for dating  going around sifting through dates to find one that clicks isn t going to be as viable   that has nothing to do with maintaining a relationship i   how you ve come to the conclusion i have nothing to offer  merely because i am busy is beyond me        no not really  again  more made up stuff okay  this isn t cool   you re specifically looking to get into a relationship because you re about to enter a life phase where you will not have any resources to give to a relationship    that is   i do take it slow  that s why i m still single   but i m not interested in making friends  i  have friends  enough for my liking  i m interested in going on dates with the intent of entering a   absolutely not for me  i find the idea repugnant  actually people could have been polite  maybe average is a more conservative bet  and i m not claiming i m a social butterfly  i m just a normal guy who is introverted but not a social doofus   i don t   i m probably giving up the online thing here when my next subscription runs out  after that i really don t know where to look  bars are a definite no  i don t understand where people meet their   i ve tried both ways  actually  the last few women i have gone out with have gotten really weird and or ignored my backhanded compliments  i don t know what to do anymore  seems i get screwed either   i m actually pretty healthy      sorry you feel that way  not sure which ones you met  but assholes exist everywhere  the number isn t anywhere near 99  though if anything i err on the side of being indifferent  definitely not overeager yeah my close friends don t live near me anymore   the issue is that i have been meeting people  a good amount  and nothing works  i want to know why it is that deformed  infirm  mentally unstable    my friends are in worse positions than i am  asking them isn t going to help    as far as feedback  not really because that seems like an extraordinarily awkward thing to ask someone you barely   so  i m a 26 year old male who has been striking out time and time again when it comes to relationships  i ve been in one relationship my entire life that lasted like 1 5 years and ended when i was   i don t think this sort of dating method is very reasonable  and at best  it is counterproductive  being friends first just throws a wrench in what is normally a smooth dating process  when you fear   never was a kiss i appreciate the feedback  i think i m just going to tell her we shouldn t hang out unless she can dedicate a decent amount of time to it  what is happening right now is dragging things out and   i don t know  after thinking more  i m on the verge of giving up  it has nothing to do with seeing her infrequently  or not making it official or what have you  it s that she keeps things   i don t know  i m not a model or anything but i m decent looking  she s drop dead gorgeous and nice and smart  guys are always after her it seems  but i m also smarter and have better career   i like your answer  but maybe i m just being optimistic  it is basically  what i ve been doing  i can t shake the feeling that she wouldn t be giving me any of her time if she weren t interested and   how am i supposed to know if an infj just wants to be friends  things have been very weird with an infj i ve been seeing  i ve been very upfront about my intentions and she essentially told me she   interesting  i find it unusual infjs are known for taking forever to open up and trust people yet all the responses so far have indicated kissing in 3 or fewer dates    my infj friend has been with an intj  and i don t want to bust your confidence but even though she liked him at first  she soon found out that he was putting her down and felt caged  i can see that   enlighten us infjs  also indicate your gender and if you initiated well there was more than that  she also said she was basically trying to figure out if i m trustworthy and decent those two things seem at odds  how can you be simultaneously not saying things that need to be said but also being proactively aggressive pretty much yeah  women just do not enjoy my company on any level  i m in the same situation  never had any female friends  dated one person in my life and it lasted a little less than two years  the   i don t think that is going to help me dig myself out of the very clingy seeming hole i dug myself  i basically asked her if she knew i was romantically interested and she responded of course lol   i should have just let things proceed at a natural pace  pretty pissed at myself  about zero chance she speaks to me again i read through most of that thread  from what i can tell i never did anything egregious  good chance she lost interest after my bluntness though lol i broke that off shortly after my post  i felt like a slime ball  i only did it because people were telling me she s a lost cause and i should see other people  btw i have a very well developed   update on this  told her i liked her and got no reassurance she liked me or even that she wasn t interested  those who said she was ambivalent were right  i m pretty much calling it off at this point   yeah so i told her and didn t get an affirmation she liked me nor that she didn t  she basically said she had known for a while i like her  pretty much what i expected  probably going to call it   is the crystal ball reference supposed to mean your guess is as good as mine or what  edit  guess not  pso i ve gone on six or so dates with an infj over a 3 month period  she s pretty busy  and me too  and recently i feel like progress has been a little glacial  for a bit i thought she was warming up   she hates texting   and yeah  she told me how picky she was about people recently and that normally she wouldn t give anyone the time of day you would literally have to have an autism spectrum disorder  i would know   not to mention you don t tell someone who is just friends how much you like them  that would be more than bizarre it s kind of hard to get to the point of officially dating when you have no idea what is going on in her head  for all i know an attempt to kiss her would result in abject horror and assault   spoke to her last night  she essentially said she likes me a lot and would normally never make any time for people unless she was obligated to  but she also indirectly used the word friend but it   so i met an infj female a while back  and we ve been out like five or so times on a date  they go well  we get along  everything seems nice  i find her very attractive and we have quite a bit in      i don t know  i kind of have a rule that i don t compliment a female on her appearance until she trusts me  i did compliment her personality a few times   she is extremely cautious from what i   well  now i have a new question  went on a second date a few days ago and it went well and she said she wanted to meet up again  the problem is  there hasn t been an ounce of flirting or touching   she started initiating with me and asked if i m free soon         if there is anything to be learned it is don t play the analysis game  you will lose expectations of     i don t know  i can t really fault a strong introvert for being wary about someone she doesn t really know  number 2 is cruel  but it is how modern dating works     pretty sure this isn t the   i don t know  i can t really fault a strong introvert for being wary about someone she doesn t really know  number 2 is cruel  but it is how modern dating works     pretty sure this isn t the   thanks  option 1 seems most likely  it seems whenever i finally get her to open up there is like a cascade of good conversation that finally ensues  but it is like pulling teeth initially  then i   i m socially retarded and would know that if a random stranger asked for my contact info then asked me out for drinks or lunch then the person probably isn t interested in just being friends so i shouldn t be deterred by the fact she doesn t really ever reach out to me  i don t enjoy appearing like someone who can t take a hint or who puts someone else in an awkward situation  i worry   no this seems to fit her pretty well thanks for the advice everyone  i appreciate your taking the time to respond\",\n          \"this has to be written with bias or something  i m not sure how you could even say that truthfully  for some reason you put subjectivity for both god and man  it says nothing     that makes no       how   the main priority of the church is written throughout it s texts for the past nearly 2000 years and reverberated throughout the church s dialogues both before and after the incident about   that s an annoying phrasing  as it s just obtuse and confusing to newcomers  i don t blame you for your response there     why must the revealed knowledge not speak truth but contain a bias   there are no priestly desk jobs  the closest thing you have to being a priest that gets you away from people is being a monk and that in itself is very different   i am telling you they did it out   no  you really won t  you can t just go to an intp and assume their intelligence level  that would end in failure  don t be afraid to ask big questions when musing with the intp and just try to   heresy is  like  the core reason most all christian in fighting occurs  everything else is minor disputes about theological opinions that s exceedingly subjective  see what they re interested in  strike up a conversation about it  definitely ask them their thoughts to dismiss my concept of it is to dismiss all history on the topic  dismiss what the apostles taught  and literally all sects of christianity  but fine  whatever do cool shit  discuss ideas  have patience  don t try to judge personally too quickly or control them  also  make the first move to show you re interested in talking with them i used to feel about the same until i read the book self made man  where a lesbian  butch  woman dressed like a man and tried to live as one  she noticed herself being considered a feminine man quite   i m not sure what the hell is going on in this thread but i would like to say i know no entjs personally  i don t think  it d be neat  though all churches are forms of political institutions  catholic and orthodox ones have the benefit of being centralized  all sects have declared doctrine in one way or another   you re speaking against   and here is the most boring post in the whole thread what part  if it s the idea of a teaching authority  you have a problem with all church until the 13th century  if it s the idea of a group being guided by the holy spirit in their decisions on   for catholics  the church has a dual meaning  the whole of the believers  the body of christ  and the political institution  for catholicism  their teachings of christ are said to be protected by   priests were relocated to other parishes so they may quiet down the criticism of the time and handle thing themselves  again  poor decision but that was their decision   the church s first priority   well sure then  yes  the church did protect child offenders  the church s reasoning was the image of the church itself and the their leadership s own ignorance of the size of the problem  the church   edit  based double postno  it really isn t  the bible itself is the canon collection of texts  the bible was established once the theological and historical work was done to establish the canon and it was not modified   yes  nevermind it because the two claims do not contradict each other at all  i could work through how there is no contradiction if you re struggling     i wouldn t say all  no  that s a     there s no way to tell  but many of them depend on logic and or history that contradicts or ruins their claims  granted there are a few cases of we re yet to be able to know but many of it can   the problem of induction is a grand way of humbling yourself about scientific findings when you re younger  it brings into question if what we know is what we could call true rubix cubes pantheism makes no sense  i d advise otherwise  atheism and abrahamic theism are the only two rational choices you  motherfucker what is the meaning of everything  the universe exists  we are to learn to love in it disappointed 24 year old reporting in   good luck  op this is exceedingly naive  the early church  before scripture  applied their teaching to better society  after scripture  it was held in high esteem as a basis to properly better society  most work   from the catholic catechism  list of official teaching  here is how we are to read the bible   iii  the holy spirit  interpreter of scripture   109 in sacred scripture  god speaks to man in a   i never liked people pointing to the scandinavian model for the success of their economic system and not their incredible oil and natural resource supply compared to their small populations while shit just got stupid for a moment  lets try to get back on track you re pretty smart  you know that   look at this fucker  she thinks i m smart  pfft exceedingly poor i ve just been told i m bright  but i m sure most everyone else says the same to the kids and what of you the most efficient way to remove self doubt is to stop doubting yourself so much  faith and trust  nigga you suspect wrongly  i like the chatter and i m being friendly with you  i seriously do hope you have a good day too indeed you do  feel free to ask argue chat or bullshit with me if you want  have a good one  man i d say that s a stretch to say  catholics believe the bible was inspired by god but written by men  orthodox do too  as they assembled the biblical canon i d have to say they have the greatest say   edit  welp i see the arguments for inconsistencies  sometimes they aren t actually inconsistencies  sometimes they are  i find the simplest example of a true one being the rabbit that is apparently chewing   sorry to take so long to get back to you  my internet has been screwing up horribly   as for the answer  there was a considerable amount of things that got me off the atheist train but if i were to   the believing portion was a long and arduous process for me  i researched culture as a hobby and eventually i rolled around to religion  it was an interesting topic for me and i eventually began to   to your first statement    just    what  where did that even come from  of course they can know love  though with god they can know it fully  i d argue   as for hell  it s taken a variety of   i m very mixed on him  his criticism of christianity  and envy  now that i ve seen the video  is  while popular  piss poor and max scheler did a wonderful job making an argument otherwise on his   people believing in something as incontrovertibly true is what gets people into a murderous rage  why just the incontrovertibly true  why not the empirically true  why not just majority opinion  to   sure thing  sounds sorta similar to the epicurean paradox   suffering free will exists to strengthen the good  if you create a people so they may know love they cannot sincerely know love if they   yo  christian intp here   anything you want it s not we can make healthy children  it s we only let the healthy babies live  which is the issue  it s a moral issue about the innate value of life 249210\"\n        ],\n        \"semantic_type\": \"\",\n        \"description\": \"\"\n      }\n    },\n    {\n      \"column\": \"extroversion\",\n      \"properties\": {\n        \"dtype\": \"number\",\n        \"std\": 0,\n        \"min\": 0,\n        \"max\": 1,\n        \"num_unique_values\": 2,\n        \"samples\": [\n          1,\n          0\n        ],\n        \"semantic_type\": \"\",\n        \"description\": \"\"\n      }\n    },\n    {\n      \"column\": \"sensing\",\n      \"properties\": {\n        \"dtype\": \"number\",\n        \"std\": 0,\n        \"min\": 0,\n        \"max\": 1,\n        \"num_unique_values\": 2,\n        \"samples\": [\n          1,\n          0\n        ],\n        \"semantic_type\": \"\",\n        \"description\": \"\"\n      }\n    },\n    {\n      \"column\": \"feeling\",\n      \"properties\": {\n        \"dtype\": \"number\",\n        \"std\": 0,\n        \"min\": 0,\n        \"max\": 1,\n        \"num_unique_values\": 2,\n        \"samples\": [\n          0,\n          1\n        ],\n        \"semantic_type\": \"\",\n        \"description\": \"\"\n      }\n    },\n    {\n      \"column\": \"perceiving\",\n      \"properties\": {\n        \"dtype\": \"number\",\n        \"std\": 0,\n        \"min\": 0,\n        \"max\": 1,\n        \"num_unique_values\": 2,\n        \"samples\": [\n          1,\n          0\n        ],\n        \"semantic_type\": \"\",\n        \"description\": \"\"\n      }\n    }\n  ]\n}"
            }
          },
          "metadata": {},
          "execution_count": 27
        }
      ],
      "source": [
        "df"
      ]
    },
    {
      "cell_type": "code",
      "execution_count": 28,
      "metadata": {
        "id": "W46mxvd8p3Lc"
      },
      "outputs": [],
      "source": [
        "df.to_csv('clean_mbti_data.csv', index=False)"
      ]
    },
    {
      "cell_type": "code",
      "execution_count": 29,
      "metadata": {
        "id": "iDeZQvpfol-p"
      },
      "outputs": [],
      "source": [
        "texts, max_seq_length, vocab_length = tokenize_pad_inputs(df)"
      ]
    },
    {
      "cell_type": "code",
      "execution_count": 30,
      "metadata": {
        "colab": {
          "base_uri": "https://localhost:8080/"
        },
        "id": "TkJrlyLGol-p",
        "outputId": "2f8e3771-c2a2-4565-b188-a048dd48f13b"
      },
      "outputs": [
        {
          "output_type": "stream",
          "name": "stdout",
          "text": [
            "Text sequences:\n",
            " (8675, 902)\n",
            "Max sequence length:\n",
            " 902\n",
            "Vocab length:\n",
            " 10000\n"
          ]
        }
      ],
      "source": [
        "print(\n",
        "    f\"Text sequences:\\n {texts.shape}\\nMax sequence length:\\n {max_seq_length}\\nVocab length:\\n {vocab_length}\"\n",
        ")"
      ]
    },
    {
      "cell_type": "markdown",
      "metadata": {
        "id": "eP1a3itF0chu"
      },
      "source": [
        "### Introversion (0) – Extroversion (1)"
      ]
    },
    {
      "cell_type": "markdown",
      "metadata": {
        "id": "b4RlFvfGosY3"
      },
      "source": [
        "#### Preparation"
      ]
    },
    {
      "cell_type": "code",
      "execution_count": 60,
      "metadata": {
        "id": "nYp-IrZpAISS"
      },
      "outputs": [],
      "source": [
        "texts_train, texts_test, labels_train, labels_test = train_test_split(\n",
        "    texts, df[\"extroversion\"], train_size=0.7, random_state=123\n",
        ")"
      ]
    },
    {
      "cell_type": "markdown",
      "metadata": {
        "id": "R-ErjgerAISS"
      },
      "source": [
        "#### Training & Testing"
      ]
    },
    {
      "cell_type": "code",
      "execution_count": 84,
      "metadata": {
        "colab": {
          "base_uri": "https://localhost:8080/"
        },
        "id": "HUbuJVfdQlxW",
        "outputId": "7d95eb9d-d46f-46b6-df9b-5d57749f3c57"
      },
      "outputs": [
        {
          "output_type": "stream",
          "name": "stdout",
          "text": [
            "Epoch 1/10\n",
            "152/152 [==============================] - 32s 193ms/step - loss: 0.4781 - accuracy: 0.7970 - auc: 0.7332 - val_loss: 0.3619 - val_accuracy: 0.8444 - val_auc: 0.8857\n",
            "Epoch 2/10\n",
            "152/152 [==============================] - 24s 157ms/step - loss: 0.1677 - accuracy: 0.9372 - auc: 0.9735 - val_loss: 0.5336 - val_accuracy: 0.8255 - val_auc: 0.8120\n",
            "Epoch 3/10\n",
            "152/152 [==============================] - 21s 137ms/step - loss: 0.0196 - accuracy: 0.9942 - auc: 0.9993 - val_loss: 0.6787 - val_accuracy: 0.8214 - val_auc: 0.8371\n",
            "Epoch 4/10\n",
            "152/152 [==============================] - 18s 119ms/step - loss: 0.0068 - accuracy: 0.9971 - auc: 1.0000 - val_loss: 0.9359 - val_accuracy: 0.8230 - val_auc: 0.7966\n",
            "Epoch 5/10\n",
            "152/152 [==============================] - 16s 107ms/step - loss: 0.0133 - accuracy: 0.9949 - auc: 0.9990 - val_loss: 0.9957 - val_accuracy: 0.8214 - val_auc: 0.7765\n",
            "Epoch 6/10\n",
            "152/152 [==============================] - 15s 101ms/step - loss: 0.0276 - accuracy: 0.9899 - auc: 0.9984 - val_loss: 1.1991 - val_accuracy: 0.8123 - val_auc: 0.7605\n",
            "Epoch 7/10\n",
            "152/152 [==============================] - 15s 96ms/step - loss: 0.0217 - accuracy: 0.9926 - auc: 0.9987 - val_loss: 1.1504 - val_accuracy: 0.8156 - val_auc: 0.7720\n",
            "Epoch 8/10\n",
            "152/152 [==============================] - 15s 97ms/step - loss: 0.0027 - accuracy: 0.9994 - auc: 1.0000 - val_loss: 1.0023 - val_accuracy: 0.8222 - val_auc: 0.8057\n",
            "Epoch 9/10\n",
            "152/152 [==============================] - 13s 87ms/step - loss: 3.5143e-04 - accuracy: 1.0000 - auc: 1.0000 - val_loss: 1.0488 - val_accuracy: 0.8272 - val_auc: 0.8057\n",
            "Epoch 10/10\n",
            "152/152 [==============================] - 15s 96ms/step - loss: 1.0796e-04 - accuracy: 1.0000 - auc: 1.0000 - val_loss: 1.1423 - val_accuracy: 0.8288 - val_auc: 0.7950\n"
          ]
        }
      ],
      "source": [
        "embedding_dim = 512\n",
        "\n",
        "inputs = tf.keras.Input(shape=(max_seq_length,))\n",
        "\n",
        "embedding = tf.keras.layers.Embedding(\n",
        "    input_dim=vocab_length, output_dim=embedding_dim, input_length=max_seq_length\n",
        ")(inputs)\n",
        "\n",
        "conv1d = tf.keras.layers.Conv1D(filters=128, kernel_size=5, activation=\"relu\")(\n",
        "    embedding\n",
        ")\n",
        "\n",
        "lstm = tf.keras.layers.LSTM(units=256, return_sequences=True)(conv1d)\n",
        "\n",
        "flatten = tf.keras.layers.Flatten()(lstm)\n",
        "\n",
        "outputs = tf.keras.layers.Dense(1, activation=\"sigmoid\")(flatten)\n",
        "\n",
        "IE_model = tf.keras.Model(inputs, outputs)\n",
        "\n",
        "IE_model.compile(\n",
        "    optimizer=\"nadam\",\n",
        "    loss=\"binary_crossentropy\",\n",
        "    metrics=[\"accuracy\", tf.keras.metrics.AUC(name=\"auc\")],\n",
        ")\n",
        "\n",
        "IE_history = IE_model.fit(\n",
        "    texts_train,\n",
        "    labels_train,\n",
        "    validation_split=0.2,\n",
        "    batch_size=32,\n",
        "    epochs=10,\n",
        "    callbacks=[\n",
        "        tf.keras.callbacks.ModelCheckpoint(\n",
        "            \"./IE_model.weights.h5\", save_best_only=True, save_weights_only=True\n",
        "        )\n",
        "    ],\n",
        ")"
      ]
    },
    {
      "cell_type": "code",
      "execution_count": 85,
      "metadata": {
        "id": "YFKAvgUhwVW5",
        "colab": {
          "base_uri": "https://localhost:8080/",
          "height": 407
        },
        "outputId": "ef219ac6-3307-4e84-edd8-4c66c0848893"
      },
      "outputs": [
        {
          "output_type": "display_data",
          "data": {
            "text/plain": [
              "<Figure size 1200x400 with 2 Axes>"
            ],
            "image/png": "[encoded data removed]"
          },
          "metadata": {}
        }
      ],
      "source": [
        "plot_history(IE_history)"
      ]
    },
    {
      "cell_type": "code",
      "execution_count": 86,
      "metadata": {
        "id": "mP-4Gup0ljj1",
        "colab": {
          "base_uri": "https://localhost:8080/",
          "height": 490
        },
        "outputId": "2a0fd111-50e8-4991-bcac-5ddd9994bae6"
      },
      "outputs": [
        {
          "output_type": "stream",
          "name": "stdout",
          "text": [
            "82/82 [==============================] - 2s 26ms/step\n"
          ]
        },
        {
          "output_type": "display_data",
          "data": {
            "text/plain": [
              "<Figure size 640x480 with 1 Axes>"
            ],
            "image/png": "[encoded data removed]"
          },
          "metadata": {}
        }
      ],
      "source": [
        "plot_auc(IE_model, 'IE_model', texts_test, labels_test)"
      ]
    },
    {
      "cell_type": "code",
      "execution_count": 87,
      "metadata": {
        "id": "02QG_dj2Osba"
      },
      "outputs": [],
      "source": [
        "IE_model.load_weights(\"./IE_model.weights.h5\")"
      ]
    },
    {
      "cell_type": "code",
      "execution_count": 88,
      "metadata": {
        "id": "DYmNu3lpdmvb",
        "colab": {
          "base_uri": "https://localhost:8080/"
        },
        "outputId": "d3400100-79c6-4e7c-bd40-a62e51b27e4c"
      },
      "outputs": [
        {
          "output_type": "stream",
          "name": "stdout",
          "text": [
            "82/82 [==============================] - 2s 28ms/step - loss: 0.3657 - accuracy: 0.8598 - auc: 0.8740\n"
          ]
        },
        {
          "output_type": "execute_result",
          "data": {
            "text/plain": [
              "[0.3657221794128418, 0.8597771525382996, 0.8739641904830933]"
            ]
          },
          "metadata": {},
          "execution_count": 88
        }
      ],
      "source": [
        "IE_model.evaluate(texts_test, labels_test)"
      ]
    },
    {
      "cell_type": "markdown",
      "metadata": {
        "id": "-Nu1WBK2rCp1"
      },
      "source": [
        " #### Saving"
      ]
    },
    {
      "cell_type": "code",
      "execution_count": 89,
      "metadata": {
        "id": "bdG3dR9VPOVd"
      },
      "outputs": [],
      "source": [
        "IE_model.save(\"./IE_model.keras\")"
      ]
    },
    {
      "cell_type": "markdown",
      "metadata": {
        "id": "YUBPCq_v1i_Z"
      },
      "source": [
        "### Intuition (0) – Sensing (1)"
      ]
    },
    {
      "cell_type": "markdown",
      "metadata": {
        "id": "sFg4sqSDqI2t"
      },
      "source": [
        "#### Preparation"
      ]
    },
    {
      "cell_type": "code",
      "execution_count": 31,
      "metadata": {
        "id": "AMG8Ippu1i_b"
      },
      "outputs": [],
      "source": [
        "texts_train, texts_test, labels_train, labels_test = train_test_split(\n",
        "    texts, df[\"sensing\"], train_size=0.7, random_state=123\n",
        ")"
      ]
    },
    {
      "cell_type": "markdown",
      "metadata": {
        "id": "FO6z_01j1i_g"
      },
      "source": [
        "#### Training & Testing"
      ]
    },
    {
      "cell_type": "code",
      "execution_count": 32,
      "metadata": {
        "id": "8a3y7z1-lLoe",
        "colab": {
          "base_uri": "https://localhost:8080/"
        },
        "outputId": "4e5e8c9b-ccf9-4afd-dbf6-ff734787fef4"
      },
      "outputs": [
        {
          "output_type": "stream",
          "name": "stdout",
          "text": [
            "Epoch 1/10\n",
            "152/152 [==============================] - 40s 205ms/step - loss: 0.3633 - accuracy: 0.8625 - auc: 0.7298 - val_loss: 0.3217 - val_accuracy: 0.8947 - val_auc: 0.8834\n",
            "Epoch 2/10\n",
            "152/152 [==============================] - 23s 153ms/step - loss: 0.1073 - accuracy: 0.9629 - auc: 0.9815 - val_loss: 0.4207 - val_accuracy: 0.8683 - val_auc: 0.8335\n",
            "Epoch 3/10\n",
            "152/152 [==============================] - 19s 126ms/step - loss: 0.0159 - accuracy: 0.9955 - auc: 0.9996 - val_loss: 0.6188 - val_accuracy: 0.8741 - val_auc: 0.7650\n",
            "Epoch 4/10\n",
            "152/152 [==============================] - 18s 118ms/step - loss: 0.0036 - accuracy: 0.9994 - auc: 1.0000 - val_loss: 0.7479 - val_accuracy: 0.8831 - val_auc: 0.7634\n",
            "Epoch 5/10\n",
            "152/152 [==============================] - 16s 104ms/step - loss: 3.6972e-04 - accuracy: 0.9998 - auc: 1.0000 - val_loss: 0.8473 - val_accuracy: 0.8790 - val_auc: 0.7451\n",
            "Epoch 6/10\n",
            "152/152 [==============================] - 15s 97ms/step - loss: 2.4461e-04 - accuracy: 1.0000 - auc: 1.0000 - val_loss: 0.8755 - val_accuracy: 0.8823 - val_auc: 0.7435\n",
            "Epoch 7/10\n",
            "152/152 [==============================] - 15s 98ms/step - loss: 1.7231e-04 - accuracy: 1.0000 - auc: 1.0000 - val_loss: 0.9392 - val_accuracy: 0.8807 - val_auc: 0.7345\n",
            "Epoch 8/10\n",
            "152/152 [==============================] - 14s 93ms/step - loss: 1.2045e-04 - accuracy: 1.0000 - auc: 1.0000 - val_loss: 0.9706 - val_accuracy: 0.8815 - val_auc: 0.7367\n",
            "Epoch 9/10\n",
            "152/152 [==============================] - 13s 87ms/step - loss: 7.1938e-05 - accuracy: 1.0000 - auc: 1.0000 - val_loss: 1.0317 - val_accuracy: 0.8798 - val_auc: 0.7231\n",
            "Epoch 10/10\n",
            "152/152 [==============================] - 14s 95ms/step - loss: 3.7888e-05 - accuracy: 1.0000 - auc: 1.0000 - val_loss: 1.1338 - val_accuracy: 0.8782 - val_auc: 0.7122\n"
          ]
        }
      ],
      "source": [
        "embedding_dim = 512\n",
        "\n",
        "inputs = tf.keras.Input(shape=(max_seq_length,))\n",
        "\n",
        "embedding = tf.keras.layers.Embedding(\n",
        "    input_dim=vocab_length, output_dim=embedding_dim, input_length=max_seq_length\n",
        ")(inputs)\n",
        "\n",
        "conv1d = tf.keras.layers.Conv1D(filters=128, kernel_size=5, activation=\"relu\")(\n",
        "    embedding\n",
        ")\n",
        "\n",
        "lstm = tf.keras.layers.LSTM(units=256, return_sequences=True)(conv1d)\n",
        "\n",
        "flatten = tf.keras.layers.Flatten()(lstm)\n",
        "\n",
        "outputs = tf.keras.layers.Dense(1, activation=\"sigmoid\")(flatten)\n",
        "\n",
        "NS_model = tf.keras.Model(inputs, outputs)\n",
        "\n",
        "NS_model.compile(\n",
        "    optimizer=\"nadam\",\n",
        "    loss=\"binary_crossentropy\",\n",
        "    metrics=[\"accuracy\", tf.keras.metrics.AUC(name=\"auc\")],\n",
        ")\n",
        "\n",
        "NS_history = NS_model.fit(\n",
        "    texts_train,\n",
        "    labels_train,\n",
        "    validation_split=0.2,\n",
        "    batch_size=32,\n",
        "    epochs=10,\n",
        "    callbacks=[\n",
        "        tf.keras.callbacks.ModelCheckpoint(\n",
        "            \"./NS_model.weights.h5\", save_best_only=True, save_weights_only=True\n",
        "        )\n",
        "    ],\n",
        ")"
      ]
    },
    {
      "cell_type": "code",
      "execution_count": 33,
      "metadata": {
        "id": "X89PYvYkweqG",
        "colab": {
          "base_uri": "https://localhost:8080/",
          "height": 223
        },
        "outputId": "346af04a-ec8f-4ecc-c133-3bc5a1912d8d"
      },
      "outputs": [
        {
          "output_type": "display_data",
          "data": {
            "text/plain": [
              "<Figure size 1200x400 with 2 Axes>"
            ],
            "image/png": "[encoded data removed]"
          },
          "metadata": {}
        }
      ],
      "source": [
        "plot_history(NS_history)"
      ]
    },
    {
      "cell_type": "code",
      "execution_count": 34,
      "metadata": {
        "id": "vBkDGiboolfS",
        "colab": {
          "base_uri": "https://localhost:8080/",
          "height": 490
        },
        "outputId": "106ec881-3b5a-4740-ddd3-b1d35bb07950"
      },
      "outputs": [
        {
          "output_type": "stream",
          "name": "stdout",
          "text": [
            "82/82 [==============================] - 3s 26ms/step\n"
          ]
        },
        {
          "output_type": "display_data",
          "data": {
            "text/plain": [
              "<Figure size 640x480 with 1 Axes>"
            ],
            "image/png": "[encoded data removed]"
          },
          "metadata": {}
        }
      ],
      "source": [
        "plot_auc(NS_model, 'NS_model', texts_test, labels_test)"
      ]
    },
    {
      "cell_type": "code",
      "execution_count": 35,
      "metadata": {
        "id": "4CVz3kEn1i_i"
      },
      "outputs": [],
      "source": [
        "NS_model.load_weights(\"./NS_model.weights.h5\")"
      ]
    },
    {
      "cell_type": "code",
      "execution_count": 36,
      "metadata": {
        "id": "QIlgUloG1i_j",
        "colab": {
          "base_uri": "https://localhost:8080/"
        },
        "outputId": "b3c4d9f3-2775-4a92-90fa-6ace2b40a8ae"
      },
      "outputs": [
        {
          "output_type": "stream",
          "name": "stdout",
          "text": [
            "82/82 [==============================] - 2s 29ms/step - loss: 0.3116 - accuracy: 0.8894 - auc: 0.8629\n"
          ]
        },
        {
          "output_type": "execute_result",
          "data": {
            "text/plain": [
              "[0.31158605217933655, 0.8893584609031677, 0.8628564476966858]"
            ]
          },
          "metadata": {},
          "execution_count": 36
        }
      ],
      "source": [
        "NS_model.evaluate(texts_test, labels_test)"
      ]
    },
    {
      "cell_type": "markdown",
      "metadata": {
        "id": "QdgRawy9qK_f"
      },
      "source": [
        "#### Saving"
      ]
    },
    {
      "cell_type": "code",
      "execution_count": 39,
      "metadata": {
        "id": "e7RbkKPg1i_k"
      },
      "outputs": [],
      "source": [
        "NS_model.save(\"./NS_model.keras\")"
      ]
    },
    {
      "cell_type": "markdown",
      "metadata": {
        "id": "JksivdwU1jx-"
      },
      "source": [
        "### Thinking (0) – Feeling (1)"
      ]
    },
    {
      "cell_type": "markdown",
      "metadata": {
        "id": "uWd11udyqdsn"
      },
      "source": [
        "#### Preparation"
      ]
    },
    {
      "cell_type": "code",
      "execution_count": 40,
      "metadata": {
        "id": "PjQqK2z21jyr"
      },
      "outputs": [],
      "source": [
        "texts_train, texts_test, labels_train, labels_test = train_test_split(\n",
        "    texts, df[\"feeling\"], train_size=0.7, random_state=123\n",
        ")"
      ]
    },
    {
      "cell_type": "markdown",
      "metadata": {
        "id": "NjsHr27c1jys"
      },
      "source": [
        "#### Training & Testing"
      ]
    },
    {
      "cell_type": "code",
      "execution_count": 46,
      "metadata": {
        "id": "0zHJsey71jys",
        "colab": {
          "base_uri": "https://localhost:8080/"
        },
        "outputId": "3fc27f97-9397-4747-8198-9e00a5df2581"
      },
      "outputs": [
        {
          "output_type": "stream",
          "name": "stdout",
          "text": [
            "Epoch 1/10\n",
            "152/152 [==============================] - 32s 186ms/step - loss: 0.5017 - accuracy: 0.7400 - auc: 0.8305 - val_loss: 0.3581 - val_accuracy: 0.8444 - val_auc: 0.9230\n",
            "Epoch 2/10\n",
            "152/152 [==============================] - 22s 148ms/step - loss: 0.1806 - accuracy: 0.9329 - auc: 0.9798 - val_loss: 0.4540 - val_accuracy: 0.8165 - val_auc: 0.8984\n",
            "Epoch 3/10\n",
            "152/152 [==============================] - 20s 132ms/step - loss: 0.0387 - accuracy: 0.9870 - auc: 0.9989 - val_loss: 0.7266 - val_accuracy: 0.8132 - val_auc: 0.8794\n",
            "Epoch 4/10\n",
            "152/152 [==============================] - 18s 119ms/step - loss: 0.0097 - accuracy: 0.9973 - auc: 0.9999 - val_loss: 1.2767 - val_accuracy: 0.7852 - val_auc: 0.8639\n",
            "Epoch 5/10\n",
            "152/152 [==============================] - 16s 105ms/step - loss: 0.0015 - accuracy: 0.9998 - auc: 1.0000 - val_loss: 1.1025 - val_accuracy: 0.8066 - val_auc: 0.8639\n",
            "Epoch 6/10\n",
            "152/152 [==============================] - 15s 97ms/step - loss: 3.6985e-04 - accuracy: 0.9998 - auc: 1.0000 - val_loss: 1.2368 - val_accuracy: 0.8074 - val_auc: 0.8583\n",
            "Epoch 7/10\n",
            "152/152 [==============================] - 15s 96ms/step - loss: 1.7240e-04 - accuracy: 1.0000 - auc: 1.0000 - val_loss: 1.1842 - val_accuracy: 0.8115 - val_auc: 0.8638\n",
            "Epoch 8/10\n",
            "152/152 [==============================] - 14s 93ms/step - loss: 1.0215e-04 - accuracy: 1.0000 - auc: 1.0000 - val_loss: 1.2329 - val_accuracy: 0.8123 - val_auc: 0.8622\n",
            "Epoch 9/10\n",
            "152/152 [==============================] - 13s 83ms/step - loss: 6.7997e-05 - accuracy: 1.0000 - auc: 1.0000 - val_loss: 1.2821 - val_accuracy: 0.8107 - val_auc: 0.8612\n",
            "Epoch 10/10\n",
            "152/152 [==============================] - 14s 95ms/step - loss: 4.5301e-05 - accuracy: 1.0000 - auc: 1.0000 - val_loss: 1.3316 - val_accuracy: 0.8123 - val_auc: 0.8594\n"
          ]
        }
      ],
      "source": [
        "embedding_dim = 512\n",
        "\n",
        "inputs = tf.keras.Input(shape=(max_seq_length,))\n",
        "\n",
        "embedding = tf.keras.layers.Embedding(\n",
        "    input_dim=vocab_length, output_dim=embedding_dim, input_length=max_seq_length\n",
        ")(inputs)\n",
        "\n",
        "conv1d = tf.keras.layers.Conv1D(filters=128, kernel_size=5, activation=\"relu\")(\n",
        "    embedding\n",
        ")\n",
        "\n",
        "lstm = tf.keras.layers.LSTM(units=256, return_sequences=True)(conv1d)\n",
        "\n",
        "flatten = tf.keras.layers.Flatten()(lstm)\n",
        "\n",
        "outputs = tf.keras.layers.Dense(1, activation=\"sigmoid\")(flatten)\n",
        "\n",
        "TF_model = tf.keras.Model(inputs, outputs)\n",
        "\n",
        "TF_model.compile(\n",
        "    optimizer=\"nadam\",\n",
        "    loss=\"binary_crossentropy\",\n",
        "    metrics=[\"accuracy\", tf.keras.metrics.AUC(name=\"auc\")],\n",
        ")\n",
        "\n",
        "TF_history = TF_model.fit(\n",
        "    texts_train,\n",
        "    labels_train,\n",
        "    validation_split=0.2,\n",
        "    batch_size=32,\n",
        "    epochs=10,\n",
        "    callbacks=[\n",
        "        tf.keras.callbacks.ModelCheckpoint(\n",
        "            \"./TF_model.weights.h5\", save_best_only=True, save_weights_only=True\n",
        "        )\n",
        "    ],\n",
        ")"
      ]
    },
    {
      "cell_type": "code",
      "execution_count": 47,
      "metadata": {
        "id": "gdi7k9ikwmUl",
        "colab": {
          "base_uri": "https://localhost:8080/",
          "height": 223
        },
        "outputId": "1a18922f-ec0b-4e2a-b1f5-36f5e7f22079"
      },
      "outputs": [
        {
          "output_type": "display_data",
          "data": {
            "text/plain": [
              "<Figure size 1200x400 with 2 Axes>"
            ],
            "image/png": "[encoded data removed]"
          },
          "metadata": {}
        }
      ],
      "source": [
        "plot_history(TF_history)"
      ]
    },
    {
      "cell_type": "code",
      "execution_count": 48,
      "metadata": {
        "id": "6EumE3eroqtx",
        "colab": {
          "base_uri": "https://localhost:8080/",
          "height": 490
        },
        "outputId": "5a2e7580-06cf-47a4-e345-4e6382e0dc0a"
      },
      "outputs": [
        {
          "output_type": "stream",
          "name": "stdout",
          "text": [
            "82/82 [==============================] - 2s 25ms/step\n"
          ]
        },
        {
          "output_type": "display_data",
          "data": {
            "text/plain": [
              "<Figure size 640x480 with 1 Axes>"
            ],
            "image/png": "[encoded data removed]"
          },
          "metadata": {}
        }
      ],
      "source": [
        "plot_auc(TF_model, 'TF_model', texts_test, labels_test)"
      ]
    },
    {
      "cell_type": "code",
      "execution_count": 49,
      "metadata": {
        "id": "UT7jx4in1jys"
      },
      "outputs": [],
      "source": [
        "TF_model.load_weights(\"./TF_model.weights.h5\")"
      ]
    },
    {
      "cell_type": "code",
      "execution_count": 50,
      "metadata": {
        "id": "oykSl4Eo1jys",
        "colab": {
          "base_uri": "https://localhost:8080/"
        },
        "outputId": "ccad9e05-f8d4-4bf3-86a0-25e86f6a9215"
      },
      "outputs": [
        {
          "output_type": "stream",
          "name": "stdout",
          "text": [
            "82/82 [==============================] - 2s 28ms/step - loss: 0.3800 - accuracy: 0.8398 - auc: 0.9149\n"
          ]
        },
        {
          "output_type": "execute_result",
          "data": {
            "text/plain": [
              "[0.3799954652786255, 0.839800238609314, 0.9149192571640015]"
            ]
          },
          "metadata": {},
          "execution_count": 50
        }
      ],
      "source": [
        "TF_model.evaluate(texts_test, labels_test)"
      ]
    },
    {
      "cell_type": "markdown",
      "metadata": {
        "id": "wT8K1z4xqf_Q"
      },
      "source": [
        "#### Saving"
      ]
    },
    {
      "cell_type": "code",
      "execution_count": 51,
      "metadata": {
        "id": "_EW6ZPHO1jyt"
      },
      "outputs": [],
      "source": [
        "TF_model.save(\"./TF_model.keras\")"
      ]
    },
    {
      "cell_type": "markdown",
      "metadata": {
        "id": "5IvpdE7Q1kZm"
      },
      "source": [
        "### Judging (0) – Perceiving (1)"
      ]
    },
    {
      "cell_type": "markdown",
      "metadata": {
        "id": "GCrGZqqIqjSl"
      },
      "source": [
        "#### Preparation"
      ]
    },
    {
      "cell_type": "code",
      "execution_count": 52,
      "metadata": {
        "id": "vNLlcQ4S1kZo"
      },
      "outputs": [],
      "source": [
        "texts_train, texts_test, labels_train, labels_test = train_test_split(\n",
        "    texts, df[\"perceiving\"], train_size=0.7, random_state=123\n",
        ")"
      ]
    },
    {
      "cell_type": "markdown",
      "metadata": {
        "id": "5n0UQJRC1kZu"
      },
      "source": [
        "#### Training & Testing"
      ]
    },
    {
      "cell_type": "code",
      "execution_count": 61,
      "metadata": {
        "id": "8-Axq1Zb1kZv",
        "colab": {
          "base_uri": "https://localhost:8080/"
        },
        "outputId": "dac6933b-d82c-44ea-c0b4-cbd914bbf474"
      },
      "outputs": [
        {
          "output_type": "stream",
          "name": "stdout",
          "text": [
            "Epoch 1/10\n",
            "152/152 [==============================] - 32s 185ms/step - loss: 0.5926 - accuracy: 0.6803 - auc: 0.7257 - val_loss: 0.4899 - val_accuracy: 0.7695 - val_auc: 0.8444\n",
            "Epoch 2/10\n",
            "152/152 [==============================] - 22s 147ms/step - loss: 0.2581 - accuracy: 0.9004 - auc: 0.9577 - val_loss: 0.6873 - val_accuracy: 0.7416 - val_auc: 0.7972\n",
            "Epoch 3/10\n",
            "152/152 [==============================] - 20s 130ms/step - loss: 0.0475 - accuracy: 0.9821 - auc: 0.9985 - val_loss: 1.0697 - val_accuracy: 0.7333 - val_auc: 0.7663\n",
            "Epoch 4/10\n",
            "152/152 [==============================] - 17s 113ms/step - loss: 0.0125 - accuracy: 0.9979 - auc: 0.9999 - val_loss: 1.2568 - val_accuracy: 0.7399 - val_auc: 0.7743\n",
            "Epoch 5/10\n",
            "152/152 [==============================] - 16s 108ms/step - loss: 0.0036 - accuracy: 0.9994 - auc: 1.0000 - val_loss: 1.4679 - val_accuracy: 0.7358 - val_auc: 0.7735\n",
            "Epoch 6/10\n",
            "152/152 [==============================] - 15s 97ms/step - loss: 4.9633e-04 - accuracy: 0.9998 - auc: 1.0000 - val_loss: 1.7164 - val_accuracy: 0.7399 - val_auc: 0.7656\n",
            "Epoch 7/10\n",
            "152/152 [==============================] - 15s 96ms/step - loss: 2.0747e-04 - accuracy: 1.0000 - auc: 1.0000 - val_loss: 1.6469 - val_accuracy: 0.7374 - val_auc: 0.7710\n",
            "Epoch 8/10\n",
            "152/152 [==============================] - 14s 91ms/step - loss: 1.3149e-04 - accuracy: 1.0000 - auc: 1.0000 - val_loss: 1.7094 - val_accuracy: 0.7350 - val_auc: 0.7713\n",
            "Epoch 9/10\n",
            "152/152 [==============================] - 13s 83ms/step - loss: 8.9039e-05 - accuracy: 1.0000 - auc: 1.0000 - val_loss: 1.7562 - val_accuracy: 0.7399 - val_auc: 0.7711\n",
            "Epoch 10/10\n",
            "152/152 [==============================] - 14s 93ms/step - loss: 6.1792e-05 - accuracy: 1.0000 - auc: 1.0000 - val_loss: 1.8115 - val_accuracy: 0.7416 - val_auc: 0.7694\n"
          ]
        }
      ],
      "source": [
        "embedding_dim = 512\n",
        "\n",
        "inputs = tf.keras.Input(shape=(max_seq_length,))\n",
        "\n",
        "embedding = tf.keras.layers.Embedding(\n",
        "    input_dim=vocab_length, output_dim=embedding_dim, input_length=max_seq_length\n",
        ")(inputs)\n",
        "\n",
        "conv1d = tf.keras.layers.Conv1D(filters=128, kernel_size=5, activation=\"relu\")(\n",
        "    embedding\n",
        ")\n",
        "\n",
        "lstm = tf.keras.layers.LSTM(units=256, return_sequences=True)(conv1d)\n",
        "\n",
        "flatten = tf.keras.layers.Flatten()(lstm)\n",
        "\n",
        "outputs = tf.keras.layers.Dense(1, activation=\"sigmoid\")(flatten)\n",
        "\n",
        "JP_model = tf.keras.Model(inputs, outputs)\n",
        "\n",
        "JP_model.compile(\n",
        "    optimizer=\"nadam\",\n",
        "    loss=\"binary_crossentropy\",\n",
        "    metrics=[\"accuracy\", tf.keras.metrics.AUC(name=\"auc\")],\n",
        ")\n",
        "\n",
        "JP_history = JP_model.fit(\n",
        "    texts_train,\n",
        "    labels_train,\n",
        "    validation_split=0.2,\n",
        "    batch_size=32,\n",
        "    epochs=10,\n",
        "    callbacks=[\n",
        "        tf.keras.callbacks.ModelCheckpoint(\n",
        "            \"./JP_model.weights.h5\", save_best_only=True, save_weights_only=True\n",
        "        )\n",
        "    ],\n",
        ")"
      ]
    },
    {
      "cell_type": "code",
      "execution_count": 62,
      "metadata": {
        "id": "q_03P2gTwqVV",
        "colab": {
          "base_uri": "https://localhost:8080/",
          "height": 223
        },
        "outputId": "c2d885cf-0460-4116-9b0b-369f44dcfce5"
      },
      "outputs": [
        {
          "output_type": "display_data",
          "data": {
            "text/plain": [
              "<Figure size 1200x400 with 2 Axes>"
            ],
            "image/png": "[encoded data removed]"
          },
          "metadata": {}
        }
      ],
      "source": [
        "plot_history(JP_history)"
      ]
    },
    {
      "cell_type": "code",
      "execution_count": 63,
      "metadata": {
        "id": "dR6c3lGIov09",
        "colab": {
          "base_uri": "https://localhost:8080/",
          "height": 490
        },
        "outputId": "7801617f-800e-4283-9eec-7f3f61835556"
      },
      "outputs": [
        {
          "output_type": "stream",
          "name": "stdout",
          "text": [
            "82/82 [==============================] - 2s 26ms/step\n"
          ]
        },
        {
          "output_type": "display_data",
          "data": {
            "text/plain": [
              "<Figure size 640x480 with 1 Axes>"
            ],
            "image/png": "[encoded data removed]"
          },
          "metadata": {}
        }
      ],
      "source": [
        "plot_auc(JP_model, 'JP_model', texts_test, labels_test)"
      ]
    },
    {
      "cell_type": "code",
      "execution_count": 64,
      "metadata": {
        "id": "55G9lPkO1kZw"
      },
      "outputs": [],
      "source": [
        "JP_model.load_weights(\"./JP_model.weights.h5\")"
      ]
    },
    {
      "cell_type": "code",
      "execution_count": 65,
      "metadata": {
        "id": "3sAScLvc1kZx",
        "colab": {
          "base_uri": "https://localhost:8080/"
        },
        "outputId": "37ed1218-50f7-4347-f5cb-ddff381ede0c"
      },
      "outputs": [
        {
          "output_type": "stream",
          "name": "stdout",
          "text": [
            "82/82 [==============================] - 2s 29ms/step - loss: 0.4938 - accuracy: 0.7856 - auc: 0.8482\n"
          ]
        },
        {
          "output_type": "execute_result",
          "data": {
            "text/plain": [
              "[0.4938068687915802, 0.7856319546699524, 0.848229706287384]"
            ]
          },
          "metadata": {},
          "execution_count": 65
        }
      ],
      "source": [
        "JP_model.evaluate(texts_test, labels_test)"
      ]
    },
    {
      "cell_type": "markdown",
      "metadata": {
        "id": "a_5x82izqneM"
      },
      "source": [
        "#### Saving"
      ]
    },
    {
      "cell_type": "code",
      "execution_count": 66,
      "metadata": {
        "id": "cIlv7has1kZy"
      },
      "outputs": [],
      "source": [
        "JP_model.save(\"./JP_model.keras\")"
      ]
    },
    {
      "cell_type": "markdown",
      "metadata": {
        "id": "iNNOkFna1CK1"
      },
      "source": [
        "### Trying Models"
      ]
    },
    {
      "cell_type": "markdown",
      "metadata": {
        "id": "DH6nqaYgwWun"
      },
      "source": [
        "1. Loading Models & Tokenizer"
      ]
    },
    {
      "cell_type": "code",
      "execution_count": 67,
      "metadata": {
        "id": "TIb3LC6S3_6q"
      },
      "outputs": [],
      "source": [
        "ie_model = keras.models.load_model(\"./IE_model.keras\")\n",
        "ns_model = keras.models.load_model(\"./NS_model.keras\")\n",
        "tf_model = keras.models.load_model(\"./TF_model.keras\")\n",
        "jp_model = keras.models.load_model(\"./JP_model.keras\")\n",
        "\n",
        "with open(\"./tokenizer.json\") as f:\n",
        "    data = json.load(f)\n",
        "    tokenizer = tokenizer_from_json(data)"
      ]
    },
    {
      "cell_type": "markdown",
      "metadata": {
        "id": "gYsm6ioVwZWO"
      },
      "source": [
        "2. Classification Function"
      ]
    },
    {
      "cell_type": "code",
      "execution_count": 68,
      "metadata": {
        "id": "Yp46i2uBQOd0"
      },
      "outputs": [],
      "source": [
        "def classify_mbti(tweet):\n",
        "    # Prepare results variable\n",
        "    result = \"\"\n",
        "\n",
        "    # Preprocess the tweet\n",
        "    stop_words = stopwords.words(\"english\")\n",
        "    tweet = tweet.lower()\n",
        "    tweet = re.sub(r'https?://[^\\s<>\"]+|www\\.[^\\s<>\"]+', \"\", tweet)\n",
        "    tweet = re.sub(r\"@[\\w]+\", \"\", tweet)\n",
        "    tweet = re.sub(r\":[^:]+:\", \"\", tweet)\n",
        "    tweet = tweet.split()\n",
        "    tweet = [word.strip() for word in tweet]\n",
        "    tweet = [word for word in tweet if word not in stop_words]\n",
        "\n",
        "    # Tokenize the tweet\n",
        "    tweet = tokenizer.texts_to_sequences([tweet])\n",
        "\n",
        "    # Pad the sequence\n",
        "    tweet = pad_sequences(tweet, maxlen=max_seq_length, padding=\"post\")\n",
        "\n",
        "    # Make predictions\n",
        "    predictions = {\n",
        "        \"IE\": ie_model.predict(tweet),\n",
        "        \"NS\": ns_model.predict(tweet),\n",
        "        \"TF\": tf_model.predict(tweet),\n",
        "        \"JP\": jp_model.predict(tweet),\n",
        "    }\n",
        "\n",
        "    # Classify MBTI type based on predictions\n",
        "    for model_label, prediction in predictions.items():\n",
        "        if prediction < 0.5:\n",
        "            result += model_label[0]\n",
        "        else:\n",
        "            result += model_label[1]\n",
        "\n",
        "    return result"
      ]
    },
    {
      "cell_type": "markdown",
      "metadata": {
        "id": "Gt72NIPNwb6W"
      },
      "source": [
        "3. Trials"
      ]
    },
    {
      "cell_type": "code",
      "execution_count": 70,
      "metadata": {
        "id": "EVqUy7a1ol_J",
        "colab": {
          "base_uri": "https://localhost:8080/",
          "height": 110
        },
        "outputId": "635d41b7-4e5d-47da-8a76-600c2cfa70f6"
      },
      "outputs": [
        {
          "output_type": "stream",
          "name": "stdout",
          "text": [
            "1/1 [==============================] - 0s 36ms/step\n",
            "1/1 [==============================] - 0s 27ms/step\n",
            "1/1 [==============================] - 0s 28ms/step\n",
            "1/1 [==============================] - 0s 26ms/step\n"
          ]
        },
        {
          "output_type": "execute_result",
          "data": {
            "text/plain": [
              "'ISTP'"
            ],
            "application/vnd.google.colaboratory.intrinsic+json": {
              "type": "string"
            }
          },
          "metadata": {},
          "execution_count": 70
        }
      ],
      "source": [
        "text = \"I am an introverted person who enjoys spending time alone. I am also a creative and imaginative person who enjoys writing and painting.\"\n",
        "classify_mbti(text)"
      ]
    },
    {
      "cell_type": "code",
      "execution_count": 71,
      "metadata": {
        "id": "4qyzZQCuxEtx",
        "colab": {
          "base_uri": "https://localhost:8080/"
        },
        "outputId": "ca6fefe7-514c-44ee-ec53-b11abb68e496"
      },
      "outputs": [
        {
          "output_type": "stream",
          "name": "stdout",
          "text": [
            "[NbConvertApp] Converting notebook PersonAI.ipynb to html\n",
            "[NbConvertApp] Writing 1265101 bytes to PersonAI.html\n"
          ]
        }
      ],
      "source": [
        "!jupyter nbconvert --to html PersonAI.ipynb\n"
      ]
    }
  ],
  "metadata": {
    "accelerator": "GPU",
    "colab": {
      "gpuType": "T4",
      "provenance": []
    },
    "kaggle": {
      "accelerator": "nvidiaTeslaT4",
      "dataSources": [
        {
          "datasetId": 2637,
          "sourceId": 4381,
          "sourceType": "datasetVersion"
        },
        {
          "datasetId": 4913541,
          "sourceId": 8274858,
          "sourceType": "datasetVersion"
        },
        {
          "datasetId": 4934535,
          "sourceId": 8307557,
          "sourceType": "datasetVersion"
        }
      ],
      "dockerImageVersionId": 30699,
      "isGpuEnabled": true,
      "isInternetEnabled": true,
      "language": "python",
      "sourceType": "notebook"
    },
    "kernelspec": {
      "display_name": "Python 3",
      "name": "python3"
    },
    "language_info": {
      "codemirror_mode": {
        "name": "ipython",
        "version": 3
      },
      "file_extension": ".py",
      "mimetype": "text/x-python",
      "name": "python",
      "nbconvert_exporter": "python",
      "pygments_lexer": "ipython3",
      "version": "3.10.13"
    }
  },
  "nbformat": 4,
  "nbformat_minor": 0
}